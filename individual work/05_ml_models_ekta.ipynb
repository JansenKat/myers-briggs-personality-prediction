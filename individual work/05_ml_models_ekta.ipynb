{
 "cells": [
  {
   "cell_type": "markdown",
   "metadata": {},
   "source": [
    "# (MBTI) Myers-Briggs Personality Type Prediction\n",
    "\n",
    "* Extroversion vs. Introversion\n",
    "    * I - 0\n",
    "    * E - 1 \n",
    "    \n",
    "* Sensing vs. Intuition \n",
    "    * N - 0 \n",
    "    * S - 1\n",
    "    \n",
    "* Thinking vs. Feeling\n",
    "    * F - 0\n",
    "    * T - 1\n",
    "    \n",
    "* Judging vs. Perceiving\n",
    "    * P - 0\n",
    "    * J - 1 \n",
    "    \n",
    "## IMPLEMENTING DIFFERENT MODELS "
   ]
  },
  {
   "cell_type": "code",
   "execution_count": 1,
   "metadata": {},
   "outputs": [
    {
     "data": {
      "application/javascript": [
       "\n",
       "            setTimeout(function() {\n",
       "                var nbb_cell_id = 1;\n",
       "                var nbb_unformatted_code = \"# importing dependencies here\\nimport numpy as np\\nimport pandas as pd\\n\\n# visualizations\\nimport seaborn as sns\\nimport matplotlib.pyplot as plt\\n\\n# data stratifying and splitting\\nfrom sklearn.model_selection import StratifiedKFold\\nfrom sklearn.model_selection import train_test_split\\n\\n# preprocessing\\nfrom sklearn.feature_extraction.text import TfidfVectorizer\\nfrom sklearn.feature_extraction.text import CountVectorizer\\nfrom sklearn.preprocessing import MinMaxScaler\\nfrom sklearn.pipeline import make_pipeline\\nfrom sklearn.feature_selection import f_classif\\nfrom sklearn.feature_selection import SelectKBest\\nfrom sklearn.compose import ColumnTransformer\\n\\n# class imbalance\\nfrom imblearn.pipeline import make_pipeline as imb_make_pipeline\\nfrom imblearn.under_sampling import RandomUnderSampler\\n\\n# algorithms/models\\nfrom sklearn.linear_model import LogisticRegression\\nfrom sklearn.linear_model import LogisticRegressionCV\\nfrom sklearn.svm import LinearSVC\\nfrom sklearn.naive_bayes import MultinomialNB\\nfrom sklearn.ensemble import RandomForestClassifier\\n\\n# model evaluation\\nfrom sklearn.model_selection import cross_val_score\\nfrom sklearn.metrics import confusion_matrix\\nfrom sklearn.metrics import (\\n    classification_report,\\n    f1_score,\\n    accuracy_score,\\n    roc_auc_score,\\n)\\n\\n# performance check\\nimport time\\nimport warnings\\n\\nwarnings.filterwarnings(\\\"ignore\\\")\\n\\n# sparse to dense\\nfrom sklearn.base import TransformerMixin\\n\\n\\nclass DenseTransformer(TransformerMixin):\\n    def fit(self, X, y=None, **fit_params):\\n        return self\\n\\n    def transform(self, X, y=None, **fit_params):\\n        return X.todense()\\n\\n\\n# saving the model\\nfrom joblib import dump\\n\\n# code formatter\\n%load_ext nb_black\";\n",
       "                var nbb_formatted_code = \"# importing dependencies here\\nimport numpy as np\\nimport pandas as pd\\n\\n# visualizations\\nimport seaborn as sns\\nimport matplotlib.pyplot as plt\\n\\n# data stratifying and splitting\\nfrom sklearn.model_selection import StratifiedKFold\\nfrom sklearn.model_selection import train_test_split\\n\\n# preprocessing\\nfrom sklearn.feature_extraction.text import TfidfVectorizer\\nfrom sklearn.feature_extraction.text import CountVectorizer\\nfrom sklearn.preprocessing import MinMaxScaler\\nfrom sklearn.pipeline import make_pipeline\\nfrom sklearn.feature_selection import f_classif\\nfrom sklearn.feature_selection import SelectKBest\\nfrom sklearn.compose import ColumnTransformer\\n\\n# class imbalance\\nfrom imblearn.pipeline import make_pipeline as imb_make_pipeline\\nfrom imblearn.under_sampling import RandomUnderSampler\\n\\n# algorithms/models\\nfrom sklearn.linear_model import LogisticRegression\\nfrom sklearn.linear_model import LogisticRegressionCV\\nfrom sklearn.svm import LinearSVC\\nfrom sklearn.naive_bayes import MultinomialNB\\nfrom sklearn.ensemble import RandomForestClassifier\\n\\n# model evaluation\\nfrom sklearn.model_selection import cross_val_score\\nfrom sklearn.metrics import confusion_matrix\\nfrom sklearn.metrics import (\\n    classification_report,\\n    f1_score,\\n    accuracy_score,\\n    roc_auc_score,\\n)\\n\\n# performance check\\nimport time\\nimport warnings\\n\\nwarnings.filterwarnings(\\\"ignore\\\")\\n\\n# sparse to dense\\nfrom sklearn.base import TransformerMixin\\n\\n\\nclass DenseTransformer(TransformerMixin):\\n    def fit(self, X, y=None, **fit_params):\\n        return self\\n\\n    def transform(self, X, y=None, **fit_params):\\n        return X.todense()\\n\\n\\n# saving the model\\nfrom joblib import dump\\n\\n# code formatter\\n%load_ext nb_black\";\n",
       "                var nbb_cells = Jupyter.notebook.get_cells();\n",
       "                for (var i = 0; i < nbb_cells.length; ++i) {\n",
       "                    if (nbb_cells[i].input_prompt_number == nbb_cell_id) {\n",
       "                        if (nbb_cells[i].get_text() == nbb_unformatted_code) {\n",
       "                             nbb_cells[i].set_text(nbb_formatted_code);\n",
       "                        }\n",
       "                        break;\n",
       "                    }\n",
       "                }\n",
       "            }, 500);\n",
       "            "
      ],
      "text/plain": [
       "<IPython.core.display.Javascript object>"
      ]
     },
     "metadata": {},
     "output_type": "display_data"
    }
   ],
   "source": [
    "# importing dependencies here\n",
    "import numpy as np\n",
    "import pandas as pd\n",
    "\n",
    "# visualizations\n",
    "import seaborn as sns\n",
    "import matplotlib.pyplot as plt\n",
    "\n",
    "# data stratifying and splitting\n",
    "from sklearn.model_selection import StratifiedKFold\n",
    "from sklearn.model_selection import train_test_split\n",
    "\n",
    "# preprocessing\n",
    "from sklearn.feature_extraction.text import TfidfVectorizer\n",
    "from sklearn.feature_extraction.text import CountVectorizer\n",
    "from sklearn.preprocessing import MinMaxScaler\n",
    "from sklearn.pipeline import make_pipeline\n",
    "from sklearn.feature_selection import f_classif\n",
    "from sklearn.feature_selection import SelectKBest\n",
    "from sklearn.compose import ColumnTransformer\n",
    "\n",
    "# class imbalance\n",
    "from imblearn.pipeline import make_pipeline as imb_make_pipeline\n",
    "from imblearn.under_sampling import RandomUnderSampler\n",
    "\n",
    "# algorithms/models\n",
    "from sklearn.linear_model import LogisticRegression\n",
    "from sklearn.linear_model import LogisticRegressionCV\n",
    "from sklearn.svm import LinearSVC\n",
    "from sklearn.naive_bayes import MultinomialNB\n",
    "from sklearn.ensemble import RandomForestClassifier\n",
    "\n",
    "# model evaluation\n",
    "from sklearn.model_selection import cross_val_score\n",
    "from sklearn.metrics import confusion_matrix\n",
    "from sklearn.metrics import (\n",
    "    classification_report,\n",
    "    f1_score,\n",
    "    accuracy_score,\n",
    "    roc_auc_score,\n",
    ")\n",
    "\n",
    "# performance check\n",
    "import time\n",
    "import warnings\n",
    "\n",
    "warnings.filterwarnings(\"ignore\")\n",
    "\n",
    "# sparse to dense\n",
    "from sklearn.base import TransformerMixin\n",
    "\n",
    "\n",
    "class DenseTransformer(TransformerMixin):\n",
    "    def fit(self, X, y=None, **fit_params):\n",
    "        return self\n",
    "\n",
    "    def transform(self, X, y=None, **fit_params):\n",
    "        return X.todense()\n",
    "\n",
    "\n",
    "# saving the model\n",
    "from joblib import dump\n",
    "\n",
    "# code formatter\n",
    "%load_ext nb_black"
   ]
  },
  {
   "cell_type": "code",
   "execution_count": 2,
   "metadata": {},
   "outputs": [
    {
     "data": {
      "application/javascript": [
       "\n",
       "            setTimeout(function() {\n",
       "                var nbb_cell_id = 2;\n",
       "                var nbb_unformatted_code = \"# reading the final datasets\\npersonality_data = pd.read_csv(\\\"data_ekta/clean_data_3.csv\\\")\";\n",
       "                var nbb_formatted_code = \"# reading the final datasets\\npersonality_data = pd.read_csv(\\\"data_ekta/clean_data_3.csv\\\")\";\n",
       "                var nbb_cells = Jupyter.notebook.get_cells();\n",
       "                for (var i = 0; i < nbb_cells.length; ++i) {\n",
       "                    if (nbb_cells[i].input_prompt_number == nbb_cell_id) {\n",
       "                        if (nbb_cells[i].get_text() == nbb_unformatted_code) {\n",
       "                             nbb_cells[i].set_text(nbb_formatted_code);\n",
       "                        }\n",
       "                        break;\n",
       "                    }\n",
       "                }\n",
       "            }, 500);\n",
       "            "
      ],
      "text/plain": [
       "<IPython.core.display.Javascript object>"
      ]
     },
     "metadata": {},
     "output_type": "display_data"
    }
   ],
   "source": [
    "# reading the final datasets\n",
    "personality_data = pd.read_csv(\"data_ekta/clean_data_3.csv\")"
   ]
  },
  {
   "cell_type": "code",
   "execution_count": 3,
   "metadata": {},
   "outputs": [
    {
     "data": {
      "text/html": [
       "<div>\n",
       "<style scoped>\n",
       "    .dataframe tbody tr th:only-of-type {\n",
       "        vertical-align: middle;\n",
       "    }\n",
       "\n",
       "    .dataframe tbody tr th {\n",
       "        vertical-align: top;\n",
       "    }\n",
       "\n",
       "    .dataframe thead th {\n",
       "        text-align: right;\n",
       "    }\n",
       "</style>\n",
       "<table border=\"1\" class=\"dataframe\">\n",
       "  <thead>\n",
       "    <tr style=\"text-align: right;\">\n",
       "      <th></th>\n",
       "      <th>type</th>\n",
       "      <th>is_Extrovert</th>\n",
       "      <th>is_Sensing</th>\n",
       "      <th>is_Thinking</th>\n",
       "      <th>is_Judging</th>\n",
       "      <th>posts</th>\n",
       "      <th>clean_posts</th>\n",
       "      <th>compound_sentiment</th>\n",
       "      <th>pos_sentiment</th>\n",
       "      <th>neg_sentiment</th>\n",
       "      <th>...</th>\n",
       "      <th>em</th>\n",
       "      <th>colons</th>\n",
       "      <th>emojis</th>\n",
       "      <th>word_count</th>\n",
       "      <th>unique_words</th>\n",
       "      <th>post_length_var</th>\n",
       "      <th>upper</th>\n",
       "      <th>link_count</th>\n",
       "      <th>ellipses</th>\n",
       "      <th>img_count</th>\n",
       "    </tr>\n",
       "  </thead>\n",
       "  <tbody>\n",
       "    <tr>\n",
       "      <th>0</th>\n",
       "      <td>INFJ</td>\n",
       "      <td>0</td>\n",
       "      <td>0</td>\n",
       "      <td>0</td>\n",
       "      <td>1</td>\n",
       "      <td>'When asked of the things you wish you did ear...</td>\n",
       "      <td>asked thing wish earlier       find answering...</td>\n",
       "      <td>0.99980</td>\n",
       "      <td>0.414667</td>\n",
       "      <td>0.136150</td>\n",
       "      <td>...</td>\n",
       "      <td>0.22</td>\n",
       "      <td>0.32</td>\n",
       "      <td>0.08</td>\n",
       "      <td>30.98</td>\n",
       "      <td>14.92</td>\n",
       "      <td>78.414931</td>\n",
       "      <td>1.46</td>\n",
       "      <td>0.04</td>\n",
       "      <td>0.62</td>\n",
       "      <td>0.0</td>\n",
       "    </tr>\n",
       "    <tr>\n",
       "      <th>1</th>\n",
       "      <td>INFJ</td>\n",
       "      <td>0</td>\n",
       "      <td>0</td>\n",
       "      <td>0</td>\n",
       "      <td>1</td>\n",
       "      <td>'I love both and they are equally important to...</td>\n",
       "      <td>love equally important  music window soul  in...</td>\n",
       "      <td>0.99995</td>\n",
       "      <td>0.596000</td>\n",
       "      <td>0.134585</td>\n",
       "      <td>...</td>\n",
       "      <td>0.36</td>\n",
       "      <td>0.14</td>\n",
       "      <td>0.00</td>\n",
       "      <td>28.58</td>\n",
       "      <td>12.72</td>\n",
       "      <td>160.744400</td>\n",
       "      <td>1.62</td>\n",
       "      <td>0.02</td>\n",
       "      <td>0.04</td>\n",
       "      <td>0.0</td>\n",
       "    </tr>\n",
       "  </tbody>\n",
       "</table>\n",
       "<p>2 rows × 126 columns</p>\n",
       "</div>"
      ],
      "text/plain": [
       "   type  is_Extrovert  is_Sensing  is_Thinking  is_Judging  \\\n",
       "0  INFJ             0           0            0           1   \n",
       "1  INFJ             0           0            0           1   \n",
       "\n",
       "                                               posts  \\\n",
       "0  'When asked of the things you wish you did ear...   \n",
       "1  'I love both and they are equally important to...   \n",
       "\n",
       "                                         clean_posts  compound_sentiment  \\\n",
       "0   asked thing wish earlier       find answering...             0.99980   \n",
       "1   love equally important  music window soul  in...             0.99995   \n",
       "\n",
       "   pos_sentiment  neg_sentiment  ...    em colons emojis  word_count  \\\n",
       "0       0.414667       0.136150  ...  0.22   0.32   0.08       30.98   \n",
       "1       0.596000       0.134585  ...  0.36   0.14   0.00       28.58   \n",
       "\n",
       "   unique_words  post_length_var  upper  link_count  ellipses  img_count  \n",
       "0         14.92        78.414931   1.46        0.04      0.62        0.0  \n",
       "1         12.72       160.744400   1.62        0.02      0.04        0.0  \n",
       "\n",
       "[2 rows x 126 columns]"
      ]
     },
     "execution_count": 3,
     "metadata": {},
     "output_type": "execute_result"
    },
    {
     "data": {
      "application/javascript": [
       "\n",
       "            setTimeout(function() {\n",
       "                var nbb_cell_id = 3;\n",
       "                var nbb_unformatted_code = \"# checking counts dataset\\npersonality_data.head(2)\";\n",
       "                var nbb_formatted_code = \"# checking counts dataset\\npersonality_data.head(2)\";\n",
       "                var nbb_cells = Jupyter.notebook.get_cells();\n",
       "                for (var i = 0; i < nbb_cells.length; ++i) {\n",
       "                    if (nbb_cells[i].input_prompt_number == nbb_cell_id) {\n",
       "                        if (nbb_cells[i].get_text() == nbb_unformatted_code) {\n",
       "                             nbb_cells[i].set_text(nbb_formatted_code);\n",
       "                        }\n",
       "                        break;\n",
       "                    }\n",
       "                }\n",
       "            }, 500);\n",
       "            "
      ],
      "text/plain": [
       "<IPython.core.display.Javascript object>"
      ]
     },
     "metadata": {},
     "output_type": "display_data"
    }
   ],
   "source": [
    "# checking counts dataset\n",
    "personality_data.head(2)"
   ]
  },
  {
   "cell_type": "markdown",
   "metadata": {},
   "source": [
    "### Setting predictors and target variable\n"
   ]
  },
  {
   "cell_type": "code",
   "execution_count": 4,
   "metadata": {},
   "outputs": [
    {
     "name": "stdout",
     "output_type": "stream",
     "text": [
      "(8588, 22)\n",
      "(8588, 4)\n"
     ]
    },
    {
     "data": {
      "application/javascript": [
       "\n",
       "            setTimeout(function() {\n",
       "                var nbb_cell_id = 4;\n",
       "                var nbb_unformatted_code = \"# setting X to clean_posts, compound sentiment score, pos tags and various other counts\\nX = personality_data[\\n    [\\n        \\\"clean_posts\\\",\\n        \\\"compound_sentiment\\\",\\n        \\\"ADJ_avg\\\",\\n        \\\"ADP_avg\\\",\\n        \\\"ADV_avg\\\",\\n        \\\"CONJ_avg\\\",\\n        \\\"DET_avg\\\",\\n        \\\"NOUN_avg\\\",\\n        \\\"NUM_avg\\\",\\n        \\\"PRT_avg\\\",\\n        \\\"PRON_avg\\\",\\n        \\\"VERB_avg\\\",\\n        \\\"qm\\\",\\n        \\\"em\\\",\\n        \\\"colons\\\",\\n        \\\"emojis\\\",\\n        \\\"word_count\\\",\\n        \\\"unique_words\\\",\\n        \\\"upper\\\",\\n        \\\"link_count\\\",\\n        \\\"ellipses\\\",\\n        \\\"img_count\\\",\\n    ]\\n]\\n\\n# setting y to four targets is_Extrovert, is_Sensing, is_Thinking, is_Judging\\ny = personality_data.iloc[:, 1:5]\\n\\n# ensuring that X and y row count matches\\nprint(X.shape)\\nprint(y.shape)\";\n",
       "                var nbb_formatted_code = \"# setting X to clean_posts, compound sentiment score, pos tags and various other counts\\nX = personality_data[\\n    [\\n        \\\"clean_posts\\\",\\n        \\\"compound_sentiment\\\",\\n        \\\"ADJ_avg\\\",\\n        \\\"ADP_avg\\\",\\n        \\\"ADV_avg\\\",\\n        \\\"CONJ_avg\\\",\\n        \\\"DET_avg\\\",\\n        \\\"NOUN_avg\\\",\\n        \\\"NUM_avg\\\",\\n        \\\"PRT_avg\\\",\\n        \\\"PRON_avg\\\",\\n        \\\"VERB_avg\\\",\\n        \\\"qm\\\",\\n        \\\"em\\\",\\n        \\\"colons\\\",\\n        \\\"emojis\\\",\\n        \\\"word_count\\\",\\n        \\\"unique_words\\\",\\n        \\\"upper\\\",\\n        \\\"link_count\\\",\\n        \\\"ellipses\\\",\\n        \\\"img_count\\\",\\n    ]\\n]\\n\\n# setting y to four targets is_Extrovert, is_Sensing, is_Thinking, is_Judging\\ny = personality_data.iloc[:, 1:5]\\n\\n# ensuring that X and y row count matches\\nprint(X.shape)\\nprint(y.shape)\";\n",
       "                var nbb_cells = Jupyter.notebook.get_cells();\n",
       "                for (var i = 0; i < nbb_cells.length; ++i) {\n",
       "                    if (nbb_cells[i].input_prompt_number == nbb_cell_id) {\n",
       "                        if (nbb_cells[i].get_text() == nbb_unformatted_code) {\n",
       "                             nbb_cells[i].set_text(nbb_formatted_code);\n",
       "                        }\n",
       "                        break;\n",
       "                    }\n",
       "                }\n",
       "            }, 500);\n",
       "            "
      ],
      "text/plain": [
       "<IPython.core.display.Javascript object>"
      ]
     },
     "metadata": {},
     "output_type": "display_data"
    }
   ],
   "source": [
    "# setting X to clean_posts, compound sentiment score, pos tags and various other counts\n",
    "X = personality_data[\n",
    "    [\n",
    "        \"clean_posts\",\n",
    "        \"compound_sentiment\",\n",
    "        \"ADJ_avg\",\n",
    "        \"ADP_avg\",\n",
    "        \"ADV_avg\",\n",
    "        \"CONJ_avg\",\n",
    "        \"DET_avg\",\n",
    "        \"NOUN_avg\",\n",
    "        \"NUM_avg\",\n",
    "        \"PRT_avg\",\n",
    "        \"PRON_avg\",\n",
    "        \"VERB_avg\",\n",
    "        \"qm\",\n",
    "        \"em\",\n",
    "        \"colons\",\n",
    "        \"emojis\",\n",
    "        \"word_count\",\n",
    "        \"unique_words\",\n",
    "        \"upper\",\n",
    "        \"link_count\",\n",
    "        \"ellipses\",\n",
    "        \"img_count\",\n",
    "    ]\n",
    "]\n",
    "\n",
    "# setting y to four targets is_Extrovert, is_Sensing, is_Thinking, is_Judging\n",
    "y = personality_data.iloc[:, 1:5]\n",
    "\n",
    "# ensuring that X and y row count matches\n",
    "print(X.shape)\n",
    "print(y.shape)"
   ]
  },
  {
   "cell_type": "markdown",
   "metadata": {},
   "source": [
    "### Creating a list of words (other than the stop words) to be dropped to improve model performanace"
   ]
  },
  {
   "cell_type": "code",
   "execution_count": 5,
   "metadata": {},
   "outputs": [
    {
     "data": {
      "application/javascript": [
       "\n",
       "            setTimeout(function() {\n",
       "                var nbb_cell_id = 5;\n",
       "                var nbb_unformatted_code = \"additional_stopwords = [\\\"hey\\\", \\\"hello\\\", \\\"briggs\\\", \\\"cat\\\", \\\"car\\\", \\\"mbti\\\", \\\"soup\\\"]\";\n",
       "                var nbb_formatted_code = \"additional_stopwords = [\\\"hey\\\", \\\"hello\\\", \\\"briggs\\\", \\\"cat\\\", \\\"car\\\", \\\"mbti\\\", \\\"soup\\\"]\";\n",
       "                var nbb_cells = Jupyter.notebook.get_cells();\n",
       "                for (var i = 0; i < nbb_cells.length; ++i) {\n",
       "                    if (nbb_cells[i].input_prompt_number == nbb_cell_id) {\n",
       "                        if (nbb_cells[i].get_text() == nbb_unformatted_code) {\n",
       "                             nbb_cells[i].set_text(nbb_formatted_code);\n",
       "                        }\n",
       "                        break;\n",
       "                    }\n",
       "                }\n",
       "            }, 500);\n",
       "            "
      ],
      "text/plain": [
       "<IPython.core.display.Javascript object>"
      ]
     },
     "metadata": {},
     "output_type": "display_data"
    }
   ],
   "source": [
    "additional_stopwords = [\"hey\", \"hello\", \"briggs\", \"cat\", \"car\", \"mbti\", \"soup\"]"
   ]
  },
  {
   "cell_type": "markdown",
   "metadata": {},
   "source": [
    "### Setting up preprocessor for vectorization and selecting best counts and scores"
   ]
  },
  {
   "cell_type": "code",
   "execution_count": 6,
   "metadata": {},
   "outputs": [
    {
     "data": {
      "application/javascript": [
       "\n",
       "            setTimeout(function() {\n",
       "                var nbb_cell_id = 6;\n",
       "                var nbb_unformatted_code = \"# preprocessing steps for selecting best k columns/features from counts & scores and for vectorizing words\\n\\ncounts_n_scores = [\\n    \\\"compound_sentiment\\\",\\n    \\\"ADJ_avg\\\",\\n    \\\"ADP_avg\\\",\\n    \\\"ADV_avg\\\",\\n    \\\"CONJ_avg\\\",\\n    \\\"DET_avg\\\",\\n    \\\"NOUN_avg\\\",\\n    \\\"NUM_avg\\\",\\n    \\\"PRT_avg\\\",\\n    \\\"PRON_avg\\\",\\n    \\\"VERB_avg\\\",\\n    \\\"qm\\\",\\n    \\\"em\\\",\\n    \\\"colons\\\",\\n    \\\"emojis\\\",\\n    \\\"word_count\\\",\\n    \\\"unique_words\\\",\\n    \\\"upper\\\",\\n    \\\"link_count\\\",\\n    \\\"ellipses\\\",\\n    \\\"img_count\\\",\\n]\\n\\n# for selecting k best features from features other than words\\nbest_k_features = make_pipeline(MinMaxScaler(), SelectKBest(f_classif, k=10))\\n\\n# setting up preprocessing for TF-IDF vectorizer\\npreprocesser_tf = ColumnTransformer(\\n    transformers=[\\n        (\\n            \\\"tfidf\\\",\\n            TfidfVectorizer(min_df=25, max_df=0.85, stop_words=additional_stopwords),\\n            \\\"clean_posts\\\",\\n        ),\\n        (\\\"selectbest\\\", best_k_features, counts_n_scores),\\n    ],\\n    remainder=\\\"passthrough\\\",\\n)\\n\\n# setting up preprocessing for COUNT vectorizer\\npreprocesser_ct = ColumnTransformer(\\n    transformers=[\\n        (\\n            \\\"ct_vect\\\",\\n            CountVectorizer(min_df=25, max_df=0.85, stop_words=additional_stopwords),\\n            \\\"clean_posts\\\",\\n        ),\\n        (\\\"selectbest\\\", best_k_features, counts_n_scores),\\n    ],\\n    remainder=\\\"passthrough\\\",\\n)\";\n",
       "                var nbb_formatted_code = \"# preprocessing steps for selecting best k columns/features from counts & scores and for vectorizing words\\n\\ncounts_n_scores = [\\n    \\\"compound_sentiment\\\",\\n    \\\"ADJ_avg\\\",\\n    \\\"ADP_avg\\\",\\n    \\\"ADV_avg\\\",\\n    \\\"CONJ_avg\\\",\\n    \\\"DET_avg\\\",\\n    \\\"NOUN_avg\\\",\\n    \\\"NUM_avg\\\",\\n    \\\"PRT_avg\\\",\\n    \\\"PRON_avg\\\",\\n    \\\"VERB_avg\\\",\\n    \\\"qm\\\",\\n    \\\"em\\\",\\n    \\\"colons\\\",\\n    \\\"emojis\\\",\\n    \\\"word_count\\\",\\n    \\\"unique_words\\\",\\n    \\\"upper\\\",\\n    \\\"link_count\\\",\\n    \\\"ellipses\\\",\\n    \\\"img_count\\\",\\n]\\n\\n# for selecting k best features from features other than words\\nbest_k_features = make_pipeline(MinMaxScaler(), SelectKBest(f_classif, k=10))\\n\\n# setting up preprocessing for TF-IDF vectorizer\\npreprocesser_tf = ColumnTransformer(\\n    transformers=[\\n        (\\n            \\\"tfidf\\\",\\n            TfidfVectorizer(min_df=25, max_df=0.85, stop_words=additional_stopwords),\\n            \\\"clean_posts\\\",\\n        ),\\n        (\\\"selectbest\\\", best_k_features, counts_n_scores),\\n    ],\\n    remainder=\\\"passthrough\\\",\\n)\\n\\n# setting up preprocessing for COUNT vectorizer\\npreprocesser_ct = ColumnTransformer(\\n    transformers=[\\n        (\\n            \\\"ct_vect\\\",\\n            CountVectorizer(min_df=25, max_df=0.85, stop_words=additional_stopwords),\\n            \\\"clean_posts\\\",\\n        ),\\n        (\\\"selectbest\\\", best_k_features, counts_n_scores),\\n    ],\\n    remainder=\\\"passthrough\\\",\\n)\";\n",
       "                var nbb_cells = Jupyter.notebook.get_cells();\n",
       "                for (var i = 0; i < nbb_cells.length; ++i) {\n",
       "                    if (nbb_cells[i].input_prompt_number == nbb_cell_id) {\n",
       "                        if (nbb_cells[i].get_text() == nbb_unformatted_code) {\n",
       "                             nbb_cells[i].set_text(nbb_formatted_code);\n",
       "                        }\n",
       "                        break;\n",
       "                    }\n",
       "                }\n",
       "            }, 500);\n",
       "            "
      ],
      "text/plain": [
       "<IPython.core.display.Javascript object>"
      ]
     },
     "metadata": {},
     "output_type": "display_data"
    }
   ],
   "source": [
    "# preprocessing steps for selecting best k columns/features from counts & scores and for vectorizing words\n",
    "\n",
    "counts_n_scores = [\n",
    "    \"compound_sentiment\",\n",
    "    \"ADJ_avg\",\n",
    "    \"ADP_avg\",\n",
    "    \"ADV_avg\",\n",
    "    \"CONJ_avg\",\n",
    "    \"DET_avg\",\n",
    "    \"NOUN_avg\",\n",
    "    \"NUM_avg\",\n",
    "    \"PRT_avg\",\n",
    "    \"PRON_avg\",\n",
    "    \"VERB_avg\",\n",
    "    \"qm\",\n",
    "    \"em\",\n",
    "    \"colons\",\n",
    "    \"emojis\",\n",
    "    \"word_count\",\n",
    "    \"unique_words\",\n",
    "    \"upper\",\n",
    "    \"link_count\",\n",
    "    \"ellipses\",\n",
    "    \"img_count\",\n",
    "]\n",
    "\n",
    "# for selecting k best features from features other than words\n",
    "best_k_features = make_pipeline(MinMaxScaler(), SelectKBest(f_classif, k=10))\n",
    "\n",
    "# setting up preprocessing for TF-IDF vectorizer\n",
    "preprocesser_tf = ColumnTransformer(\n",
    "    transformers=[\n",
    "        (\n",
    "            \"tfidf\",\n",
    "            TfidfVectorizer(min_df=25, max_df=0.85, stop_words=additional_stopwords),\n",
    "            \"clean_posts\",\n",
    "        ),\n",
    "        (\"selectbest\", best_k_features, counts_n_scores),\n",
    "    ],\n",
    "    remainder=\"passthrough\",\n",
    ")\n",
    "\n",
    "# setting up preprocessing for COUNT vectorizer\n",
    "preprocesser_ct = ColumnTransformer(\n",
    "    transformers=[\n",
    "        (\n",
    "            \"ct_vect\",\n",
    "            CountVectorizer(min_df=25, max_df=0.85, stop_words=additional_stopwords),\n",
    "            \"clean_posts\",\n",
    "        ),\n",
    "        (\"selectbest\", best_k_features, counts_n_scores),\n",
    "    ],\n",
    "    remainder=\"passthrough\",\n",
    ")"
   ]
  },
  {
   "cell_type": "markdown",
   "metadata": {},
   "source": [
    "### Modelling"
   ]
  },
  {
   "cell_type": "code",
   "execution_count": 7,
   "metadata": {},
   "outputs": [
    {
     "data": {
      "application/javascript": [
       "\n",
       "            setTimeout(function() {\n",
       "                var nbb_cell_id = 7;\n",
       "                var nbb_unformatted_code = \"# setting up the personality dictionary for printing scores\\nmbti_type = {\\n    \\\"is_Extrovert\\\": \\\"Extrovert vs Introvert\\\",\\n    \\\"is_Sensing\\\": \\\"Sensing vs Intuition\\\",\\n    \\\"is_Thinking\\\": \\\"Thinking vs Feeling\\\",\\n    \\\"is_Judging\\\": \\\"Judging vs Perceiving\\\",\\n}\\n\\n# function to build the model for predicting each of 4 target features\\ndef build_model(model, X, y, vectorizer_name):\\n\\n    for col in y.columns:\\n\\n        print(f\\\"\\\\n{mbti_type[col]}\\\")\\n        target = y[col]\\n\\n        X_train, X_test, y_train, y_test = train_test_split(\\n            X, target, test_size=0.2, random_state=42, stratify=target\\n        )\\n        \\n        # model training\\n        model.fit(X_train, y_train)\\n\\n        # model evaluation\\n        print(f\\\"Accuracy: {model.score(X_test, y_test)} \\\\n\\\")\\n        print(classification_report(y_test, model.predict(X_test)))\";\n",
       "                var nbb_formatted_code = \"# setting up the personality dictionary for printing scores\\nmbti_type = {\\n    \\\"is_Extrovert\\\": \\\"Extrovert vs Introvert\\\",\\n    \\\"is_Sensing\\\": \\\"Sensing vs Intuition\\\",\\n    \\\"is_Thinking\\\": \\\"Thinking vs Feeling\\\",\\n    \\\"is_Judging\\\": \\\"Judging vs Perceiving\\\",\\n}\\n\\n# function to build the model for predicting each of 4 target features\\ndef build_model(model, X, y, vectorizer_name):\\n\\n    for col in y.columns:\\n\\n        print(f\\\"\\\\n{mbti_type[col]}\\\")\\n        target = y[col]\\n\\n        X_train, X_test, y_train, y_test = train_test_split(\\n            X, target, test_size=0.2, random_state=42, stratify=target\\n        )\\n\\n        # model training\\n        model.fit(X_train, y_train)\\n\\n        # model evaluation\\n        print(f\\\"Accuracy: {model.score(X_test, y_test)} \\\\n\\\")\\n        print(classification_report(y_test, model.predict(X_test)))\";\n",
       "                var nbb_cells = Jupyter.notebook.get_cells();\n",
       "                for (var i = 0; i < nbb_cells.length; ++i) {\n",
       "                    if (nbb_cells[i].input_prompt_number == nbb_cell_id) {\n",
       "                        if (nbb_cells[i].get_text() == nbb_unformatted_code) {\n",
       "                             nbb_cells[i].set_text(nbb_formatted_code);\n",
       "                        }\n",
       "                        break;\n",
       "                    }\n",
       "                }\n",
       "            }, 500);\n",
       "            "
      ],
      "text/plain": [
       "<IPython.core.display.Javascript object>"
      ]
     },
     "metadata": {},
     "output_type": "display_data"
    }
   ],
   "source": [
    "# setting up the personality dictionary for printing scores\n",
    "mbti_type = {\n",
    "    \"is_Extrovert\": \"Extrovert vs Introvert\",\n",
    "    \"is_Sensing\": \"Sensing vs Intuition\",\n",
    "    \"is_Thinking\": \"Thinking vs Feeling\",\n",
    "    \"is_Judging\": \"Judging vs Perceiving\",\n",
    "}\n",
    "\n",
    "# function to build the model for predicting each of 4 target features\n",
    "def build_model(model, X, y, vectorizer_name):\n",
    "\n",
    "    for col in y.columns:\n",
    "\n",
    "        print(f\"\\n{mbti_type[col]}\")\n",
    "        target = y[col]\n",
    "\n",
    "        X_train, X_test, y_train, y_test = train_test_split(\n",
    "            X, target, test_size=0.2, random_state=42, stratify=target\n",
    "        )\n",
    "\n",
    "        # model training\n",
    "        model.fit(X_train, y_train)\n",
    "\n",
    "        # model evaluation\n",
    "        print(f\"Accuracy: {model.score(X_test, y_test)} \\n\")\n",
    "        print(classification_report(y_test, model.predict(X_test)))"
   ]
  },
  {
   "cell_type": "markdown",
   "metadata": {},
   "source": [
    "### TF-IDF Logistic Regression"
   ]
  },
  {
   "cell_type": "code",
   "execution_count": 8,
   "metadata": {},
   "outputs": [
    {
     "name": "stdout",
     "output_type": "stream",
     "text": [
      "\n",
      "Extrovert vs Introvert\n",
      "Accuracy: 0.6880093131548312 \n",
      "\n",
      "              precision    recall  f1-score   support\n",
      "\n",
      "           0       0.87      0.69      0.77      1322\n",
      "           1       0.40      0.67      0.50       396\n",
      "\n",
      "    accuracy                           0.69      1718\n",
      "   macro avg       0.63      0.68      0.64      1718\n",
      "weighted avg       0.76      0.69      0.71      1718\n",
      "\n",
      "\n",
      "Sensing vs Intuition\n",
      "Accuracy: 0.6961583236321304 \n",
      "\n",
      "              precision    recall  f1-score   support\n",
      "\n",
      "           0       0.94      0.69      0.80      1481\n",
      "           1       0.28      0.75      0.40       237\n",
      "\n",
      "    accuracy                           0.70      1718\n",
      "   macro avg       0.61      0.72      0.60      1718\n",
      "weighted avg       0.85      0.70      0.74      1718\n",
      "\n",
      "\n",
      "Thinking vs Feeling\n",
      "Accuracy: 0.7852153667054714 \n",
      "\n",
      "              precision    recall  f1-score   support\n",
      "\n",
      "           0       0.81      0.78      0.80       929\n",
      "           1       0.75      0.79      0.77       789\n",
      "\n",
      "    accuracy                           0.79      1718\n",
      "   macro avg       0.78      0.79      0.78      1718\n",
      "weighted avg       0.79      0.79      0.79      1718\n",
      "\n",
      "\n",
      "Judging vs Perceiving\n",
      "Accuracy: 0.6350407450523865 \n",
      "\n",
      "              precision    recall  f1-score   support\n",
      "\n",
      "           0       0.73      0.63      0.68      1038\n",
      "           1       0.53      0.64      0.58       680\n",
      "\n",
      "    accuracy                           0.64      1718\n",
      "   macro avg       0.63      0.64      0.63      1718\n",
      "weighted avg       0.65      0.64      0.64      1718\n",
      "\n",
      "Wall time: 1min 28s\n"
     ]
    },
    {
     "data": {
      "application/javascript": [
       "\n",
       "            setTimeout(function() {\n",
       "                var nbb_cell_id = 8;\n",
       "                var nbb_unformatted_code = \"%%time\\ntfidf_logistic_regression = imb_make_pipeline(\\n    preprocesser_tf, RandomUnderSampler(), LogisticRegressionCV()\\n)\\nbuild_model(tfidf_logistic_regression, X, y, \\\"tfidf\\\")\";\n",
       "                var nbb_formatted_code = \"%%time\\ntfidf_logistic_regression = imb_make_pipeline(\\n    preprocesser_tf, RandomUnderSampler(), LogisticRegressionCV()\\n)\\nbuild_model(tfidf_logistic_regression, X, y, \\\"tfidf\\\")\";\n",
       "                var nbb_cells = Jupyter.notebook.get_cells();\n",
       "                for (var i = 0; i < nbb_cells.length; ++i) {\n",
       "                    if (nbb_cells[i].input_prompt_number == nbb_cell_id) {\n",
       "                        if (nbb_cells[i].get_text() == nbb_unformatted_code) {\n",
       "                             nbb_cells[i].set_text(nbb_formatted_code);\n",
       "                        }\n",
       "                        break;\n",
       "                    }\n",
       "                }\n",
       "            }, 500);\n",
       "            "
      ],
      "text/plain": [
       "<IPython.core.display.Javascript object>"
      ]
     },
     "metadata": {},
     "output_type": "display_data"
    }
   ],
   "source": [
    "%%time\n",
    "tfidf_logistic_regression = imb_make_pipeline(\n",
    "    preprocesser_tf, RandomUnderSampler(), LogisticRegressionCV()\n",
    ")\n",
    "build_model(tfidf_logistic_regression, X, y, \"tfidf\")"
   ]
  },
  {
   "cell_type": "markdown",
   "metadata": {},
   "source": [
    "### Count Vectorized Logistic Regression"
   ]
  },
  {
   "cell_type": "code",
   "execution_count": 9,
   "metadata": {},
   "outputs": [
    {
     "name": "stdout",
     "output_type": "stream",
     "text": [
      "\n",
      "Extrovert vs Introvert\n",
      "Accuracy: 0.6542491268917345 \n",
      "\n",
      "              precision    recall  f1-score   support\n",
      "\n",
      "           0       0.85      0.67      0.75      1322\n",
      "           1       0.35      0.59      0.44       396\n",
      "\n",
      "    accuracy                           0.65      1718\n",
      "   macro avg       0.60      0.63      0.60      1718\n",
      "weighted avg       0.73      0.65      0.68      1718\n",
      "\n",
      "\n",
      "Sensing vs Intuition\n",
      "Accuracy: 0.6525029103608847 \n",
      "\n",
      "              precision    recall  f1-score   support\n",
      "\n",
      "           0       0.94      0.64      0.76      1481\n",
      "           1       0.25      0.73      0.37       237\n",
      "\n",
      "    accuracy                           0.65      1718\n",
      "   macro avg       0.59      0.69      0.56      1718\n",
      "weighted avg       0.84      0.65      0.71      1718\n",
      "\n",
      "\n",
      "Thinking vs Feeling\n",
      "Accuracy: 0.7759022118742724 \n",
      "\n",
      "              precision    recall  f1-score   support\n",
      "\n",
      "           0       0.81      0.77      0.79       929\n",
      "           1       0.74      0.79      0.76       789\n",
      "\n",
      "    accuracy                           0.78      1718\n",
      "   macro avg       0.78      0.78      0.78      1718\n",
      "weighted avg       0.78      0.78      0.78      1718\n",
      "\n",
      "\n",
      "Judging vs Perceiving\n",
      "Accuracy: 0.6175785797438882 \n",
      "\n",
      "              precision    recall  f1-score   support\n",
      "\n",
      "           0       0.71      0.62      0.66      1038\n",
      "           1       0.51      0.61      0.56       680\n",
      "\n",
      "    accuracy                           0.62      1718\n",
      "   macro avg       0.61      0.62      0.61      1718\n",
      "weighted avg       0.63      0.62      0.62      1718\n",
      "\n",
      "Wall time: 1min 44s\n"
     ]
    },
    {
     "data": {
      "application/javascript": [
       "\n",
       "            setTimeout(function() {\n",
       "                var nbb_cell_id = 9;\n",
       "                var nbb_unformatted_code = \"%%time\\nct_logistic_regression = imb_make_pipeline(\\n    preprocesser_ct, RandomUnderSampler(), LogisticRegressionCV()\\n)\\nbuild_model(ct_logistic_regression, X, y, \\\"ct_vect\\\")\";\n",
       "                var nbb_formatted_code = \"%%time\\nct_logistic_regression = imb_make_pipeline(\\n    preprocesser_ct, RandomUnderSampler(), LogisticRegressionCV()\\n)\\nbuild_model(ct_logistic_regression, X, y, \\\"ct_vect\\\")\";\n",
       "                var nbb_cells = Jupyter.notebook.get_cells();\n",
       "                for (var i = 0; i < nbb_cells.length; ++i) {\n",
       "                    if (nbb_cells[i].input_prompt_number == nbb_cell_id) {\n",
       "                        if (nbb_cells[i].get_text() == nbb_unformatted_code) {\n",
       "                             nbb_cells[i].set_text(nbb_formatted_code);\n",
       "                        }\n",
       "                        break;\n",
       "                    }\n",
       "                }\n",
       "            }, 500);\n",
       "            "
      ],
      "text/plain": [
       "<IPython.core.display.Javascript object>"
      ]
     },
     "metadata": {},
     "output_type": "display_data"
    }
   ],
   "source": [
    "%%time\n",
    "ct_logistic_regression = imb_make_pipeline(\n",
    "    preprocesser_ct, RandomUnderSampler(), LogisticRegressionCV()\n",
    ")\n",
    "build_model(ct_logistic_regression, X, y, \"ct_vect\")"
   ]
  },
  {
   "cell_type": "markdown",
   "metadata": {},
   "source": [
    "### Cross Validated TF-IDF Logistic Lasso"
   ]
  },
  {
   "cell_type": "code",
   "execution_count": 10,
   "metadata": {},
   "outputs": [
    {
     "name": "stdout",
     "output_type": "stream",
     "text": [
      "\n",
      "Extrovert vs Introvert\n",
      "Accuracy: 0.6647264260768335 \n",
      "\n",
      "              precision    recall  f1-score   support\n",
      "\n",
      "           0       0.86      0.67      0.76      1322\n",
      "           1       0.37      0.63      0.46       396\n",
      "\n",
      "    accuracy                           0.66      1718\n",
      "   macro avg       0.61      0.65      0.61      1718\n",
      "weighted avg       0.75      0.66      0.69      1718\n",
      "\n",
      "\n",
      "Sensing vs Intuition\n",
      "Accuracy: 0.6786961583236322 \n",
      "\n",
      "              precision    recall  f1-score   support\n",
      "\n",
      "           0       0.94      0.67      0.78      1481\n",
      "           1       0.26      0.75      0.39       237\n",
      "\n",
      "    accuracy                           0.68      1718\n",
      "   macro avg       0.60      0.71      0.59      1718\n",
      "weighted avg       0.85      0.68      0.73      1718\n",
      "\n",
      "\n",
      "Thinking vs Feeling\n",
      "Accuracy: 0.7747380675203726 \n",
      "\n",
      "              precision    recall  f1-score   support\n",
      "\n",
      "           0       0.81      0.77      0.79       929\n",
      "           1       0.74      0.78      0.76       789\n",
      "\n",
      "    accuracy                           0.77      1718\n",
      "   macro avg       0.77      0.78      0.77      1718\n",
      "weighted avg       0.78      0.77      0.78      1718\n",
      "\n",
      "\n",
      "Judging vs Perceiving\n",
      "Accuracy: 0.6222351571594877 \n",
      "\n",
      "              precision    recall  f1-score   support\n",
      "\n",
      "           0       0.72      0.62      0.66      1038\n",
      "           1       0.52      0.63      0.57       680\n",
      "\n",
      "    accuracy                           0.62      1718\n",
      "   macro avg       0.62      0.62      0.62      1718\n",
      "weighted avg       0.64      0.62      0.63      1718\n",
      "\n",
      "Wall time: 22min 8s\n"
     ]
    },
    {
     "data": {
      "application/javascript": [
       "\n",
       "            setTimeout(function() {\n",
       "                var nbb_cell_id = 10;\n",
       "                var nbb_unformatted_code = \"%%time\\ntfidf_logistic_regression_lasso = imb_make_pipeline(\\n    preprocesser_tf, RandomUnderSampler(), LogisticRegressionCV(penalty='l1', solver='saga' )\\n)\\nbuild_model(tfidf_logistic_regression_lasso, X, y, \\\"tfidf\\\")\";\n",
       "                var nbb_formatted_code = \"%%time\\ntfidf_logistic_regression_lasso = imb_make_pipeline(\\n    preprocesser_tf, RandomUnderSampler(), LogisticRegressionCV(penalty='l1', solver='saga' )\\n)\\nbuild_model(tfidf_logistic_regression_lasso, X, y, \\\"tfidf\\\")\";\n",
       "                var nbb_cells = Jupyter.notebook.get_cells();\n",
       "                for (var i = 0; i < nbb_cells.length; ++i) {\n",
       "                    if (nbb_cells[i].input_prompt_number == nbb_cell_id) {\n",
       "                        if (nbb_cells[i].get_text() == nbb_unformatted_code) {\n",
       "                             nbb_cells[i].set_text(nbb_formatted_code);\n",
       "                        }\n",
       "                        break;\n",
       "                    }\n",
       "                }\n",
       "            }, 500);\n",
       "            "
      ],
      "text/plain": [
       "<IPython.core.display.Javascript object>"
      ]
     },
     "metadata": {},
     "output_type": "display_data"
    }
   ],
   "source": [
    "%%time\n",
    "tfidf_logistic_regression_lasso = imb_make_pipeline(\n",
    "    preprocesser_tf, RandomUnderSampler(), LogisticRegressionCV(penalty='l1', solver='saga' )\n",
    ")\n",
    "build_model(tfidf_logistic_regression_lasso, X, y, \"tfidf\")"
   ]
  },
  {
   "cell_type": "markdown",
   "metadata": {},
   "source": [
    "### Cross Validated Count Vectorized Logistic Lasso"
   ]
  },
  {
   "cell_type": "code",
   "execution_count": 11,
   "metadata": {},
   "outputs": [
    {
     "name": "stdout",
     "output_type": "stream",
     "text": [
      "\n",
      "Extrovert vs Introvert\n",
      "Accuracy: 0.6542491268917345 \n",
      "\n",
      "              precision    recall  f1-score   support\n",
      "\n",
      "           0       0.86      0.66      0.75      1322\n",
      "           1       0.36      0.64      0.46       396\n",
      "\n",
      "    accuracy                           0.65      1718\n",
      "   macro avg       0.61      0.65      0.60      1718\n",
      "weighted avg       0.74      0.65      0.68      1718\n",
      "\n",
      "\n",
      "Sensing vs Intuition\n",
      "Accuracy: 0.6431897555296857 \n",
      "\n",
      "              precision    recall  f1-score   support\n",
      "\n",
      "           0       0.92      0.64      0.76      1481\n",
      "           1       0.23      0.67      0.34       237\n",
      "\n",
      "    accuracy                           0.64      1718\n",
      "   macro avg       0.58      0.65      0.55      1718\n",
      "weighted avg       0.83      0.64      0.70      1718\n",
      "\n",
      "\n",
      "Thinking vs Feeling\n",
      "Accuracy: 0.7555296856810244 \n",
      "\n",
      "              precision    recall  f1-score   support\n",
      "\n",
      "           0       0.79      0.75      0.77       929\n",
      "           1       0.72      0.76      0.74       789\n",
      "\n",
      "    accuracy                           0.76      1718\n",
      "   macro avg       0.75      0.76      0.75      1718\n",
      "weighted avg       0.76      0.76      0.76      1718\n",
      "\n",
      "\n",
      "Judging vs Perceiving\n",
      "Accuracy: 0.6169965075669382 \n",
      "\n",
      "              precision    recall  f1-score   support\n",
      "\n",
      "           0       0.72      0.60      0.65      1038\n",
      "           1       0.51      0.64      0.57       680\n",
      "\n",
      "    accuracy                           0.62      1718\n",
      "   macro avg       0.62      0.62      0.61      1718\n",
      "weighted avg       0.64      0.62      0.62      1718\n",
      "\n",
      "Wall time: 32min 31s\n"
     ]
    },
    {
     "data": {
      "application/javascript": [
       "\n",
       "            setTimeout(function() {\n",
       "                var nbb_cell_id = 11;\n",
       "                var nbb_unformatted_code = \"%%time\\nct_logistic_regression_lasso = imb_make_pipeline(\\n    preprocesser_ct, RandomUnderSampler(), LogisticRegressionCV(penalty='l1', solver='saga' )\\n)\\nbuild_model(ct_logistic_regression_lasso, X, y, \\\"ct_vect\\\")\";\n",
       "                var nbb_formatted_code = \"%%time\\nct_logistic_regression_lasso = imb_make_pipeline(\\n    preprocesser_ct, RandomUnderSampler(), LogisticRegressionCV(penalty='l1', solver='saga' )\\n)\\nbuild_model(ct_logistic_regression_lasso, X, y, \\\"ct_vect\\\")\";\n",
       "                var nbb_cells = Jupyter.notebook.get_cells();\n",
       "                for (var i = 0; i < nbb_cells.length; ++i) {\n",
       "                    if (nbb_cells[i].input_prompt_number == nbb_cell_id) {\n",
       "                        if (nbb_cells[i].get_text() == nbb_unformatted_code) {\n",
       "                             nbb_cells[i].set_text(nbb_formatted_code);\n",
       "                        }\n",
       "                        break;\n",
       "                    }\n",
       "                }\n",
       "            }, 500);\n",
       "            "
      ],
      "text/plain": [
       "<IPython.core.display.Javascript object>"
      ]
     },
     "metadata": {},
     "output_type": "display_data"
    }
   ],
   "source": [
    "%%time\n",
    "ct_logistic_regression_lasso = imb_make_pipeline(\n",
    "    preprocesser_ct, RandomUnderSampler(), LogisticRegressionCV(penalty='l1', solver='saga' )\n",
    ")\n",
    "build_model(ct_logistic_regression_lasso, X, y, \"ct_vect\")"
   ]
  },
  {
   "cell_type": "markdown",
   "metadata": {},
   "source": [
    "### Cross Validated TF-IDF Logistic Ridge"
   ]
  },
  {
   "cell_type": "code",
   "execution_count": 12,
   "metadata": {},
   "outputs": [
    {
     "name": "stdout",
     "output_type": "stream",
     "text": [
      "\n",
      "Extrovert vs Introvert\n",
      "Accuracy: 0.6821885913853318 \n",
      "\n",
      "              precision    recall  f1-score   support\n",
      "\n",
      "           0       0.87      0.69      0.77      1322\n",
      "           1       0.39      0.67      0.49       396\n",
      "\n",
      "    accuracy                           0.68      1718\n",
      "   macro avg       0.63      0.68      0.63      1718\n",
      "weighted avg       0.76      0.68      0.71      1718\n",
      "\n",
      "\n",
      "Sensing vs Intuition\n",
      "Accuracy: 0.6926658905704307 \n",
      "\n",
      "              precision    recall  f1-score   support\n",
      "\n",
      "           0       0.94      0.68      0.79      1481\n",
      "           1       0.27      0.75      0.40       237\n",
      "\n",
      "    accuracy                           0.69      1718\n",
      "   macro avg       0.61      0.72      0.60      1718\n",
      "weighted avg       0.85      0.69      0.74      1718\n",
      "\n",
      "\n",
      "Thinking vs Feeling\n",
      "Accuracy: 0.7834691501746216 \n",
      "\n",
      "              precision    recall  f1-score   support\n",
      "\n",
      "           0       0.81      0.78      0.80       929\n",
      "           1       0.76      0.78      0.77       789\n",
      "\n",
      "    accuracy                           0.78      1718\n",
      "   macro avg       0.78      0.78      0.78      1718\n",
      "weighted avg       0.78      0.78      0.78      1718\n",
      "\n",
      "\n",
      "Judging vs Perceiving\n",
      "Accuracy: 0.6228172293364377 \n",
      "\n",
      "              precision    recall  f1-score   support\n",
      "\n",
      "           0       0.72      0.61      0.66      1038\n",
      "           1       0.52      0.64      0.57       680\n",
      "\n",
      "    accuracy                           0.62      1718\n",
      "   macro avg       0.62      0.62      0.62      1718\n",
      "weighted avg       0.64      0.62      0.63      1718\n",
      "\n",
      "Wall time: 4min 40s\n"
     ]
    },
    {
     "data": {
      "application/javascript": [
       "\n",
       "            setTimeout(function() {\n",
       "                var nbb_cell_id = 12;\n",
       "                var nbb_unformatted_code = \"%%time\\ntfidf_logistic_regression_ridge = imb_make_pipeline(\\n    preprocesser_tf, RandomUnderSampler(), LogisticRegressionCV(penalty='l2', solver='saga' )\\n)\\nbuild_model(tfidf_logistic_regression_ridge, X, y, \\\"tfidf\\\")\";\n",
       "                var nbb_formatted_code = \"%%time\\ntfidf_logistic_regression_ridge = imb_make_pipeline(\\n    preprocesser_tf, RandomUnderSampler(), LogisticRegressionCV(penalty='l2', solver='saga' )\\n)\\nbuild_model(tfidf_logistic_regression_ridge, X, y, \\\"tfidf\\\")\";\n",
       "                var nbb_cells = Jupyter.notebook.get_cells();\n",
       "                for (var i = 0; i < nbb_cells.length; ++i) {\n",
       "                    if (nbb_cells[i].input_prompt_number == nbb_cell_id) {\n",
       "                        if (nbb_cells[i].get_text() == nbb_unformatted_code) {\n",
       "                             nbb_cells[i].set_text(nbb_formatted_code);\n",
       "                        }\n",
       "                        break;\n",
       "                    }\n",
       "                }\n",
       "            }, 500);\n",
       "            "
      ],
      "text/plain": [
       "<IPython.core.display.Javascript object>"
      ]
     },
     "metadata": {},
     "output_type": "display_data"
    }
   ],
   "source": [
    "%%time\n",
    "tfidf_logistic_regression_ridge = imb_make_pipeline(\n",
    "    preprocesser_tf, RandomUnderSampler(), LogisticRegressionCV(penalty='l2', solver='saga' )\n",
    ")\n",
    "build_model(tfidf_logistic_regression_ridge, X, y, \"tfidf\")"
   ]
  },
  {
   "cell_type": "markdown",
   "metadata": {},
   "source": [
    "### Cross Validated Count Vectorized Logistic Ridge"
   ]
  },
  {
   "cell_type": "code",
   "execution_count": 13,
   "metadata": {},
   "outputs": [
    {
     "name": "stdout",
     "output_type": "stream",
     "text": [
      "\n",
      "Extrovert vs Introvert\n",
      "Accuracy: 0.6653084982537835 \n",
      "\n",
      "              precision    recall  f1-score   support\n",
      "\n",
      "           0       0.86      0.68      0.76      1322\n",
      "           1       0.37      0.63      0.46       396\n",
      "\n",
      "    accuracy                           0.67      1718\n",
      "   macro avg       0.61      0.65      0.61      1718\n",
      "weighted avg       0.75      0.67      0.69      1718\n",
      "\n",
      "\n",
      "Sensing vs Intuition\n",
      "Accuracy: 0.689755529685681 \n",
      "\n",
      "              precision    recall  f1-score   support\n",
      "\n",
      "           0       0.94      0.69      0.79      1481\n",
      "           1       0.27      0.71      0.39       237\n",
      "\n",
      "    accuracy                           0.69      1718\n",
      "   macro avg       0.60      0.70      0.59      1718\n",
      "weighted avg       0.84      0.69      0.74      1718\n",
      "\n",
      "\n",
      "Thinking vs Feeling\n",
      "Accuracy: 0.7759022118742724 \n",
      "\n",
      "              precision    recall  f1-score   support\n",
      "\n",
      "           0       0.81      0.77      0.79       929\n",
      "           1       0.74      0.78      0.76       789\n",
      "\n",
      "    accuracy                           0.78      1718\n",
      "   macro avg       0.77      0.78      0.78      1718\n",
      "weighted avg       0.78      0.78      0.78      1718\n",
      "\n",
      "\n",
      "Judging vs Perceiving\n",
      "Accuracy: 0.6245634458672875 \n",
      "\n",
      "              precision    recall  f1-score   support\n",
      "\n",
      "           0       0.72      0.63      0.67      1038\n",
      "           1       0.52      0.62      0.57       680\n",
      "\n",
      "    accuracy                           0.62      1718\n",
      "   macro avg       0.62      0.62      0.62      1718\n",
      "weighted avg       0.64      0.62      0.63      1718\n",
      "\n",
      "Wall time: 6min 8s\n"
     ]
    },
    {
     "data": {
      "application/javascript": [
       "\n",
       "            setTimeout(function() {\n",
       "                var nbb_cell_id = 13;\n",
       "                var nbb_unformatted_code = \"%%time\\nct_logistic_regression_ridge = imb_make_pipeline(\\n    preprocesser_ct, RandomUnderSampler(), LogisticRegressionCV(penalty='l2', solver='saga' )\\n)\\nbuild_model(ct_logistic_regression_ridge, X, y, \\\"ct_vect\\\")\";\n",
       "                var nbb_formatted_code = \"%%time\\nct_logistic_regression_ridge = imb_make_pipeline(\\n    preprocesser_ct, RandomUnderSampler(), LogisticRegressionCV(penalty='l2', solver='saga' )\\n)\\nbuild_model(ct_logistic_regression_ridge, X, y, \\\"ct_vect\\\")\";\n",
       "                var nbb_cells = Jupyter.notebook.get_cells();\n",
       "                for (var i = 0; i < nbb_cells.length; ++i) {\n",
       "                    if (nbb_cells[i].input_prompt_number == nbb_cell_id) {\n",
       "                        if (nbb_cells[i].get_text() == nbb_unformatted_code) {\n",
       "                             nbb_cells[i].set_text(nbb_formatted_code);\n",
       "                        }\n",
       "                        break;\n",
       "                    }\n",
       "                }\n",
       "            }, 500);\n",
       "            "
      ],
      "text/plain": [
       "<IPython.core.display.Javascript object>"
      ]
     },
     "metadata": {},
     "output_type": "display_data"
    }
   ],
   "source": [
    "%%time\n",
    "ct_logistic_regression_ridge = imb_make_pipeline(\n",
    "    preprocesser_ct, RandomUnderSampler(), LogisticRegressionCV(penalty='l2', solver='saga' )\n",
    ")\n",
    "build_model(ct_logistic_regression_ridge, X, y, \"ct_vect\")"
   ]
  },
  {
   "cell_type": "markdown",
   "metadata": {},
   "source": [
    "### TF-IDF Logistic Elasticnet"
   ]
  },
  {
   "cell_type": "markdown",
   "metadata": {},
   "source": [
    "* Takes longest to run and the results are almost same as lasso and ridge model. So this code is commented to save time when re-running the entire notebook."
   ]
  },
  {
   "cell_type": "code",
   "execution_count": 14,
   "metadata": {},
   "outputs": [
    {
     "data": {
      "application/javascript": [
       "\n",
       "            setTimeout(function() {\n",
       "                var nbb_cell_id = 14;\n",
       "                var nbb_unformatted_code = \"# %%time\\n\\n# for col in y.columns:\\n\\n#     print(f\\\"\\\\n{mbti_type[col]}\\\")\\n\\n#     target = y[col]\\n\\n#     X_train, X_test, y_train, y_test = train_test_split(\\n#         X, target, test_size=0.2, random_state=42, stratify=target\\n#     )\\n\\n#     tfidf_logistic_regression_elasticnet = imb_make_pipeline(\\n#         preprocesser_tf,\\n#     #     DenseTransformer(),\\n#         RandomUnderSampler(),\\n#         LogisticRegressionCV(\\n#             penalty='elasticnet',\\n#             l1_ratios=[0, .1, .2, .3, .4, .5, .6, .7, .8, .9, 1],\\n#             solver='saga'\\n#         )\\n#     )\\n\\n#     tfidf_logistic_regression_elasticnet.fit(X_train, y_train)\\n\\n#     print(f'Accuracy: {tfidf_logistic_regression_elasticnet.score(X_test, y_test)} \\\\n')\\n#     print(classification_report(y_test, tfidf_logistic_regression_elasticnet.predict(X_test)))\";\n",
       "                var nbb_formatted_code = \"# %%time\\n\\n# for col in y.columns:\\n\\n#     print(f\\\"\\\\n{mbti_type[col]}\\\")\\n\\n#     target = y[col]\\n\\n#     X_train, X_test, y_train, y_test = train_test_split(\\n#         X, target, test_size=0.2, random_state=42, stratify=target\\n#     )\\n\\n#     tfidf_logistic_regression_elasticnet = imb_make_pipeline(\\n#         preprocesser_tf,\\n#     #     DenseTransformer(),\\n#         RandomUnderSampler(),\\n#         LogisticRegressionCV(\\n#             penalty='elasticnet',\\n#             l1_ratios=[0, .1, .2, .3, .4, .5, .6, .7, .8, .9, 1],\\n#             solver='saga'\\n#         )\\n#     )\\n\\n#     tfidf_logistic_regression_elasticnet.fit(X_train, y_train)\\n\\n#     print(f'Accuracy: {tfidf_logistic_regression_elasticnet.score(X_test, y_test)} \\\\n')\\n#     print(classification_report(y_test, tfidf_logistic_regression_elasticnet.predict(X_test)))\";\n",
       "                var nbb_cells = Jupyter.notebook.get_cells();\n",
       "                for (var i = 0; i < nbb_cells.length; ++i) {\n",
       "                    if (nbb_cells[i].input_prompt_number == nbb_cell_id) {\n",
       "                        if (nbb_cells[i].get_text() == nbb_unformatted_code) {\n",
       "                             nbb_cells[i].set_text(nbb_formatted_code);\n",
       "                        }\n",
       "                        break;\n",
       "                    }\n",
       "                }\n",
       "            }, 500);\n",
       "            "
      ],
      "text/plain": [
       "<IPython.core.display.Javascript object>"
      ]
     },
     "metadata": {},
     "output_type": "display_data"
    }
   ],
   "source": [
    "# %%time\n",
    "\n",
    "# for col in y.columns:\n",
    "\n",
    "#     print(f\"\\n{mbti_type[col]}\")\n",
    "\n",
    "#     target = y[col]\n",
    "\n",
    "#     X_train, X_test, y_train, y_test = train_test_split(\n",
    "#         X, target, test_size=0.2, random_state=42, stratify=target\n",
    "#     )\n",
    "\n",
    "#     tfidf_logistic_regression_elasticnet = imb_make_pipeline(\n",
    "#         preprocesser_tf,\n",
    "#     #     DenseTransformer(),\n",
    "#         RandomUnderSampler(),\n",
    "#         LogisticRegressionCV(\n",
    "#             penalty='elasticnet',\n",
    "#             l1_ratios=[0, .1, .2, .3, .4, .5, .6, .7, .8, .9, 1],\n",
    "#             solver='saga'\n",
    "#         )\n",
    "#     )\n",
    "\n",
    "#     tfidf_logistic_regression_elasticnet.fit(X_train, y_train)\n",
    "\n",
    "#     print(f'Accuracy: {tfidf_logistic_regression_elasticnet.score(X_test, y_test)} \\n')\n",
    "#     print(classification_report(y_test, tfidf_logistic_regression_elasticnet.predict(X_test)))"
   ]
  },
  {
   "cell_type": "markdown",
   "metadata": {},
   "source": [
    "### TF-IDF Support Vector Classifier"
   ]
  },
  {
   "cell_type": "code",
   "execution_count": 15,
   "metadata": {},
   "outputs": [
    {
     "name": "stdout",
     "output_type": "stream",
     "text": [
      "\n",
      "Extrovert vs Introvert\n",
      "Accuracy: 0.6688009313154831 \n",
      "\n",
      "              precision    recall  f1-score   support\n",
      "\n",
      "           0       0.88      0.66      0.76      1322\n",
      "           1       0.38      0.68      0.49       396\n",
      "\n",
      "    accuracy                           0.67      1718\n",
      "   macro avg       0.63      0.67      0.62      1718\n",
      "weighted avg       0.76      0.67      0.69      1718\n",
      "\n",
      "\n",
      "Sensing vs Intuition\n",
      "Accuracy: 0.6839348079161816 \n",
      "\n",
      "              precision    recall  f1-score   support\n",
      "\n",
      "           0       0.94      0.68      0.79      1481\n",
      "           1       0.26      0.71      0.38       237\n",
      "\n",
      "    accuracy                           0.68      1718\n",
      "   macro avg       0.60      0.69      0.58      1718\n",
      "weighted avg       0.84      0.68      0.73      1718\n",
      "\n",
      "\n",
      "Thinking vs Feeling\n",
      "Accuracy: 0.779976717112922 \n",
      "\n",
      "              precision    recall  f1-score   support\n",
      "\n",
      "           0       0.80      0.78      0.79       929\n",
      "           1       0.75      0.77      0.76       789\n",
      "\n",
      "    accuracy                           0.78      1718\n",
      "   macro avg       0.78      0.78      0.78      1718\n",
      "weighted avg       0.78      0.78      0.78      1718\n",
      "\n",
      "\n",
      "Judging vs Perceiving\n",
      "Accuracy: 0.6251455180442375 \n",
      "\n",
      "              precision    recall  f1-score   support\n",
      "\n",
      "           0       0.73      0.60      0.66      1038\n",
      "           1       0.52      0.66      0.58       680\n",
      "\n",
      "    accuracy                           0.63      1718\n",
      "   macro avg       0.63      0.63      0.62      1718\n",
      "weighted avg       0.65      0.63      0.63      1718\n",
      "\n",
      "Wall time: 36.7 s\n"
     ]
    },
    {
     "data": {
      "application/javascript": [
       "\n",
       "            setTimeout(function() {\n",
       "                var nbb_cell_id = 15;\n",
       "                var nbb_unformatted_code = \"%%time\\ntfidf_svc = imb_make_pipeline(\\n    preprocesser_tf, RandomUnderSampler(), DenseTransformer(), LinearSVC()\\n)\\nbuild_model(tfidf_svc, X, y, \\\"tfidf\\\")\";\n",
       "                var nbb_formatted_code = \"%%time\\ntfidf_svc = imb_make_pipeline(\\n    preprocesser_tf, RandomUnderSampler(), DenseTransformer(), LinearSVC()\\n)\\nbuild_model(tfidf_svc, X, y, \\\"tfidf\\\")\";\n",
       "                var nbb_cells = Jupyter.notebook.get_cells();\n",
       "                for (var i = 0; i < nbb_cells.length; ++i) {\n",
       "                    if (nbb_cells[i].input_prompt_number == nbb_cell_id) {\n",
       "                        if (nbb_cells[i].get_text() == nbb_unformatted_code) {\n",
       "                             nbb_cells[i].set_text(nbb_formatted_code);\n",
       "                        }\n",
       "                        break;\n",
       "                    }\n",
       "                }\n",
       "            }, 500);\n",
       "            "
      ],
      "text/plain": [
       "<IPython.core.display.Javascript object>"
      ]
     },
     "metadata": {},
     "output_type": "display_data"
    }
   ],
   "source": [
    "%%time\n",
    "tfidf_svc = imb_make_pipeline(\n",
    "    preprocesser_tf, RandomUnderSampler(), DenseTransformer(), LinearSVC()\n",
    ")\n",
    "build_model(tfidf_svc, X, y, \"tfidf\")"
   ]
  },
  {
   "cell_type": "markdown",
   "metadata": {},
   "source": [
    "### Count Vectorized Support Vector Classifier"
   ]
  },
  {
   "cell_type": "code",
   "execution_count": 16,
   "metadata": {},
   "outputs": [
    {
     "name": "stdout",
     "output_type": "stream",
     "text": [
      "\n",
      "Extrovert vs Introvert\n",
      "Accuracy: 0.610011641443539 \n",
      "\n",
      "              precision    recall  f1-score   support\n",
      "\n",
      "           0       0.84      0.61      0.71      1322\n",
      "           1       0.32      0.62      0.42       396\n",
      "\n",
      "    accuracy                           0.61      1718\n",
      "   macro avg       0.58      0.61      0.56      1718\n",
      "weighted avg       0.72      0.61      0.64      1718\n",
      "\n",
      "\n",
      "Sensing vs Intuition\n",
      "Accuracy: 0.6251455180442375 \n",
      "\n",
      "              precision    recall  f1-score   support\n",
      "\n",
      "           0       0.92      0.62      0.74      1481\n",
      "           1       0.22      0.65      0.32       237\n",
      "\n",
      "    accuracy                           0.63      1718\n",
      "   macro avg       0.57      0.64      0.53      1718\n",
      "weighted avg       0.82      0.63      0.68      1718\n",
      "\n",
      "\n",
      "Thinking vs Feeling\n",
      "Accuracy: 0.7281722933643772 \n",
      "\n",
      "              precision    recall  f1-score   support\n",
      "\n",
      "           0       0.76      0.74      0.75       929\n",
      "           1       0.70      0.72      0.71       789\n",
      "\n",
      "    accuracy                           0.73      1718\n",
      "   macro avg       0.73      0.73      0.73      1718\n",
      "weighted avg       0.73      0.73      0.73      1718\n",
      "\n",
      "\n",
      "Judging vs Perceiving\n",
      "Accuracy: 0.5942956926658906 \n",
      "\n",
      "              precision    recall  f1-score   support\n",
      "\n",
      "           0       0.70      0.58      0.64      1038\n",
      "           1       0.49      0.61      0.54       680\n",
      "\n",
      "    accuracy                           0.59      1718\n",
      "   macro avg       0.59      0.60      0.59      1718\n",
      "weighted avg       0.61      0.59      0.60      1718\n",
      "\n",
      "Wall time: 44.8 s\n"
     ]
    },
    {
     "data": {
      "application/javascript": [
       "\n",
       "            setTimeout(function() {\n",
       "                var nbb_cell_id = 16;\n",
       "                var nbb_unformatted_code = \"%%time\\nct_svc = imb_make_pipeline(\\n    preprocesser_ct, DenseTransformer(), RandomUnderSampler(), LinearSVC()\\n)\\nbuild_model(ct_svc, X, y, \\\"ct_vect\\\")\";\n",
       "                var nbb_formatted_code = \"%%time\\nct_svc = imb_make_pipeline(\\n    preprocesser_ct, DenseTransformer(), RandomUnderSampler(), LinearSVC()\\n)\\nbuild_model(ct_svc, X, y, \\\"ct_vect\\\")\";\n",
       "                var nbb_cells = Jupyter.notebook.get_cells();\n",
       "                for (var i = 0; i < nbb_cells.length; ++i) {\n",
       "                    if (nbb_cells[i].input_prompt_number == nbb_cell_id) {\n",
       "                        if (nbb_cells[i].get_text() == nbb_unformatted_code) {\n",
       "                             nbb_cells[i].set_text(nbb_formatted_code);\n",
       "                        }\n",
       "                        break;\n",
       "                    }\n",
       "                }\n",
       "            }, 500);\n",
       "            "
      ],
      "text/plain": [
       "<IPython.core.display.Javascript object>"
      ]
     },
     "metadata": {},
     "output_type": "display_data"
    }
   ],
   "source": [
    "%%time\n",
    "ct_svc = imb_make_pipeline(\n",
    "    preprocesser_ct, DenseTransformer(), RandomUnderSampler(), LinearSVC()\n",
    ")\n",
    "build_model(ct_svc, X, y, \"ct_vect\")"
   ]
  },
  {
   "cell_type": "markdown",
   "metadata": {},
   "source": [
    "### TF-IDF Naive Bayes"
   ]
  },
  {
   "cell_type": "code",
   "execution_count": 17,
   "metadata": {},
   "outputs": [
    {
     "name": "stdout",
     "output_type": "stream",
     "text": [
      "\n",
      "Extrovert vs Introvert\n",
      "Accuracy: 0.669965075669383 \n",
      "\n",
      "              precision    recall  f1-score   support\n",
      "\n",
      "           0       0.90      0.65      0.75      1322\n",
      "           1       0.39      0.75      0.51       396\n",
      "\n",
      "    accuracy                           0.67      1718\n",
      "   macro avg       0.64      0.70      0.63      1718\n",
      "weighted avg       0.78      0.67      0.70      1718\n",
      "\n",
      "\n",
      "Sensing vs Intuition\n",
      "Accuracy: 0.6734575087310827 \n",
      "\n",
      "              precision    recall  f1-score   support\n",
      "\n",
      "           0       0.94      0.66      0.78      1481\n",
      "           1       0.26      0.76      0.39       237\n",
      "\n",
      "    accuracy                           0.67      1718\n",
      "   macro avg       0.60      0.71      0.58      1718\n",
      "weighted avg       0.85      0.67      0.72      1718\n",
      "\n",
      "\n",
      "Thinking vs Feeling\n",
      "Accuracy: 0.7683352735739232 \n",
      "\n",
      "              precision    recall  f1-score   support\n",
      "\n",
      "           0       0.77      0.82      0.79       929\n",
      "           1       0.77      0.71      0.74       789\n",
      "\n",
      "    accuracy                           0.77      1718\n",
      "   macro avg       0.77      0.76      0.77      1718\n",
      "weighted avg       0.77      0.77      0.77      1718\n",
      "\n",
      "\n",
      "Judging vs Perceiving\n",
      "Accuracy: 0.6233993015133876 \n",
      "\n",
      "              precision    recall  f1-score   support\n",
      "\n",
      "           0       0.73      0.59      0.66      1038\n",
      "           1       0.52      0.67      0.58       680\n",
      "\n",
      "    accuracy                           0.62      1718\n",
      "   macro avg       0.63      0.63      0.62      1718\n",
      "weighted avg       0.65      0.62      0.63      1718\n",
      "\n",
      "Wall time: 35.6 s\n"
     ]
    },
    {
     "data": {
      "application/javascript": [
       "\n",
       "            setTimeout(function() {\n",
       "                var nbb_cell_id = 17;\n",
       "                var nbb_unformatted_code = \"%%time\\ntfidf_nb = imb_make_pipeline(\\n    preprocesser_tf, DenseTransformer(), RandomUnderSampler(), MultinomialNB(),\\n)\\nbuild_model(tfidf_nb, X, y, \\\"tfidf\\\")\";\n",
       "                var nbb_formatted_code = \"%%time\\ntfidf_nb = imb_make_pipeline(\\n    preprocesser_tf, DenseTransformer(), RandomUnderSampler(), MultinomialNB(),\\n)\\nbuild_model(tfidf_nb, X, y, \\\"tfidf\\\")\";\n",
       "                var nbb_cells = Jupyter.notebook.get_cells();\n",
       "                for (var i = 0; i < nbb_cells.length; ++i) {\n",
       "                    if (nbb_cells[i].input_prompt_number == nbb_cell_id) {\n",
       "                        if (nbb_cells[i].get_text() == nbb_unformatted_code) {\n",
       "                             nbb_cells[i].set_text(nbb_formatted_code);\n",
       "                        }\n",
       "                        break;\n",
       "                    }\n",
       "                }\n",
       "            }, 500);\n",
       "            "
      ],
      "text/plain": [
       "<IPython.core.display.Javascript object>"
      ]
     },
     "metadata": {},
     "output_type": "display_data"
    }
   ],
   "source": [
    "%%time\n",
    "tfidf_nb = imb_make_pipeline(\n",
    "    preprocesser_tf, DenseTransformer(), RandomUnderSampler(), MultinomialNB(),\n",
    ")\n",
    "build_model(tfidf_nb, X, y, \"tfidf\")"
   ]
  },
  {
   "cell_type": "markdown",
   "metadata": {},
   "source": [
    "### Count Vectorized Naive Bayes"
   ]
  },
  {
   "cell_type": "code",
   "execution_count": 18,
   "metadata": {},
   "outputs": [
    {
     "name": "stdout",
     "output_type": "stream",
     "text": [
      "\n",
      "Extrovert vs Introvert\n",
      "Accuracy: 0.6629802095459837 \n",
      "\n",
      "              precision    recall  f1-score   support\n",
      "\n",
      "           0       0.88      0.65      0.75      1322\n",
      "           1       0.38      0.71      0.49       396\n",
      "\n",
      "    accuracy                           0.66      1718\n",
      "   macro avg       0.63      0.68      0.62      1718\n",
      "weighted avg       0.77      0.66      0.69      1718\n",
      "\n",
      "\n",
      "Sensing vs Intuition\n",
      "Accuracy: 0.7095459837019791 \n",
      "\n",
      "              precision    recall  f1-score   support\n",
      "\n",
      "           0       0.95      0.70      0.81      1481\n",
      "           1       0.29      0.75      0.42       237\n",
      "\n",
      "    accuracy                           0.71      1718\n",
      "   macro avg       0.62      0.73      0.61      1718\n",
      "weighted avg       0.86      0.71      0.75      1718\n",
      "\n",
      "\n",
      "Thinking vs Feeling\n",
      "Accuracy: 0.7735739231664727 \n",
      "\n",
      "              precision    recall  f1-score   support\n",
      "\n",
      "           0       0.79      0.78      0.79       929\n",
      "           1       0.75      0.76      0.76       789\n",
      "\n",
      "    accuracy                           0.77      1718\n",
      "   macro avg       0.77      0.77      0.77      1718\n",
      "weighted avg       0.77      0.77      0.77      1718\n",
      "\n",
      "\n",
      "Judging vs Perceiving\n",
      "Accuracy: 0.6309662398137369 \n",
      "\n",
      "              precision    recall  f1-score   support\n",
      "\n",
      "           0       0.72      0.64      0.68      1038\n",
      "           1       0.53      0.62      0.57       680\n",
      "\n",
      "    accuracy                           0.63      1718\n",
      "   macro avg       0.62      0.63      0.62      1718\n",
      "weighted avg       0.64      0.63      0.63      1718\n",
      "\n",
      "Wall time: 34.8 s\n"
     ]
    },
    {
     "data": {
      "application/javascript": [
       "\n",
       "            setTimeout(function() {\n",
       "                var nbb_cell_id = 18;\n",
       "                var nbb_unformatted_code = \"%%time\\nct_nb = imb_make_pipeline(\\n    preprocesser_ct, DenseTransformer(), RandomUnderSampler(), MultinomialNB(),\\n)\\nbuild_model(ct_nb, X, y, \\\"ct_vect\\\")\";\n",
       "                var nbb_formatted_code = \"%%time\\nct_nb = imb_make_pipeline(\\n    preprocesser_ct, DenseTransformer(), RandomUnderSampler(), MultinomialNB(),\\n)\\nbuild_model(ct_nb, X, y, \\\"ct_vect\\\")\";\n",
       "                var nbb_cells = Jupyter.notebook.get_cells();\n",
       "                for (var i = 0; i < nbb_cells.length; ++i) {\n",
       "                    if (nbb_cells[i].input_prompt_number == nbb_cell_id) {\n",
       "                        if (nbb_cells[i].get_text() == nbb_unformatted_code) {\n",
       "                             nbb_cells[i].set_text(nbb_formatted_code);\n",
       "                        }\n",
       "                        break;\n",
       "                    }\n",
       "                }\n",
       "            }, 500);\n",
       "            "
      ],
      "text/plain": [
       "<IPython.core.display.Javascript object>"
      ]
     },
     "metadata": {},
     "output_type": "display_data"
    }
   ],
   "source": [
    "%%time\n",
    "ct_nb = imb_make_pipeline(\n",
    "    preprocesser_ct, DenseTransformer(), RandomUnderSampler(), MultinomialNB(),\n",
    ")\n",
    "build_model(ct_nb, X, y, \"ct_vect\")"
   ]
  },
  {
   "cell_type": "markdown",
   "metadata": {},
   "source": [
    "### Count Vectorized Random Forest"
   ]
  },
  {
   "cell_type": "code",
   "execution_count": 19,
   "metadata": {},
   "outputs": [
    {
     "name": "stdout",
     "output_type": "stream",
     "text": [
      "\n",
      "Extrovert vs Introvert\n",
      "Accuracy: 0.6431897555296857 \n",
      "\n",
      "              precision    recall  f1-score   support\n",
      "\n",
      "           0       0.86      0.64      0.74      1322\n",
      "           1       0.35      0.64      0.45       396\n",
      "\n",
      "    accuracy                           0.64      1718\n",
      "   macro avg       0.60      0.64      0.59      1718\n",
      "weighted avg       0.74      0.64      0.67      1718\n",
      "\n",
      "\n",
      "Sensing vs Intuition\n",
      "Accuracy: 0.6519208381839348 \n",
      "\n",
      "              precision    recall  f1-score   support\n",
      "\n",
      "           0       0.93      0.65      0.76      1481\n",
      "           1       0.24      0.68      0.35       237\n",
      "\n",
      "    accuracy                           0.65      1718\n",
      "   macro avg       0.58      0.66      0.56      1718\n",
      "weighted avg       0.83      0.65      0.71      1718\n",
      "\n",
      "\n",
      "Thinking vs Feeling\n",
      "Accuracy: 0.7339930151338766 \n",
      "\n",
      "              precision    recall  f1-score   support\n",
      "\n",
      "           0       0.78      0.70      0.74       929\n",
      "           1       0.69      0.77      0.73       789\n",
      "\n",
      "    accuracy                           0.73      1718\n",
      "   macro avg       0.74      0.74      0.73      1718\n",
      "weighted avg       0.74      0.73      0.73      1718\n",
      "\n",
      "\n",
      "Judging vs Perceiving\n",
      "Accuracy: 0.5919674039580908 \n",
      "\n",
      "              precision    recall  f1-score   support\n",
      "\n",
      "           0       0.67      0.63      0.65      1038\n",
      "           1       0.49      0.54      0.51       680\n",
      "\n",
      "    accuracy                           0.59      1718\n",
      "   macro avg       0.58      0.58      0.58      1718\n",
      "weighted avg       0.60      0.59      0.59      1718\n",
      "\n",
      "Wall time: 39.2 s\n"
     ]
    },
    {
     "data": {
      "application/javascript": [
       "\n",
       "            setTimeout(function() {\n",
       "                var nbb_cell_id = 19;\n",
       "                var nbb_unformatted_code = \"%%time\\nct_rf = imb_make_pipeline(\\n    preprocesser_ct, RandomUnderSampler(), RandomForestClassifier(n_estimators=100, max_depth=10),\\n)\\nbuild_model(ct_rf, X, y, \\\"ct_vect\\\")\";\n",
       "                var nbb_formatted_code = \"%%time\\nct_rf = imb_make_pipeline(\\n    preprocesser_ct, RandomUnderSampler(), RandomForestClassifier(n_estimators=100, max_depth=10),\\n)\\nbuild_model(ct_rf, X, y, \\\"ct_vect\\\")\";\n",
       "                var nbb_cells = Jupyter.notebook.get_cells();\n",
       "                for (var i = 0; i < nbb_cells.length; ++i) {\n",
       "                    if (nbb_cells[i].input_prompt_number == nbb_cell_id) {\n",
       "                        if (nbb_cells[i].get_text() == nbb_unformatted_code) {\n",
       "                             nbb_cells[i].set_text(nbb_formatted_code);\n",
       "                        }\n",
       "                        break;\n",
       "                    }\n",
       "                }\n",
       "            }, 500);\n",
       "            "
      ],
      "text/plain": [
       "<IPython.core.display.Javascript object>"
      ]
     },
     "metadata": {},
     "output_type": "display_data"
    }
   ],
   "source": [
    "%%time\n",
    "ct_rf = imb_make_pipeline(\n",
    "    preprocesser_ct, RandomUnderSampler(), RandomForestClassifier(n_estimators=100, max_depth=10),\n",
    ")\n",
    "build_model(ct_rf, X, y, \"ct_vect\")"
   ]
  },
  {
   "cell_type": "markdown",
   "metadata": {},
   "source": [
    "### TF-IDF Random Forest"
   ]
  },
  {
   "cell_type": "code",
   "execution_count": 20,
   "metadata": {},
   "outputs": [
    {
     "name": "stdout",
     "output_type": "stream",
     "text": [
      "\n",
      "Extrovert vs Introvert\n",
      "Accuracy: 0.6501746216530849 \n",
      "\n",
      "              precision    recall  f1-score   support\n",
      "\n",
      "           0       0.86      0.65      0.74      1322\n",
      "           1       0.36      0.65      0.46       396\n",
      "\n",
      "    accuracy                           0.65      1718\n",
      "   macro avg       0.61      0.65      0.60      1718\n",
      "weighted avg       0.74      0.65      0.68      1718\n",
      "\n",
      "\n",
      "Sensing vs Intuition\n",
      "Accuracy: 0.6362048894062864 \n",
      "\n",
      "              precision    recall  f1-score   support\n",
      "\n",
      "           0       0.92      0.64      0.75      1481\n",
      "           1       0.22      0.64      0.33       237\n",
      "\n",
      "    accuracy                           0.64      1718\n",
      "   macro avg       0.57      0.64      0.54      1718\n",
      "weighted avg       0.82      0.64      0.69      1718\n",
      "\n",
      "\n",
      "Thinking vs Feeling\n",
      "Accuracy: 0.7444703143189756 \n",
      "\n",
      "              precision    recall  f1-score   support\n",
      "\n",
      "           0       0.79      0.72      0.75       929\n",
      "           1       0.70      0.77      0.74       789\n",
      "\n",
      "    accuracy                           0.74      1718\n",
      "   macro avg       0.75      0.75      0.74      1718\n",
      "weighted avg       0.75      0.74      0.74      1718\n",
      "\n",
      "\n",
      "Judging vs Perceiving\n",
      "Accuracy: 0.5721769499417928 \n",
      "\n",
      "              precision    recall  f1-score   support\n",
      "\n",
      "           0       0.67      0.57      0.62      1038\n",
      "           1       0.47      0.57      0.51       680\n",
      "\n",
      "    accuracy                           0.57      1718\n",
      "   macro avg       0.57      0.57      0.57      1718\n",
      "weighted avg       0.59      0.57      0.58      1718\n",
      "\n",
      "Wall time: 57.9 s\n"
     ]
    },
    {
     "data": {
      "application/javascript": [
       "\n",
       "            setTimeout(function() {\n",
       "                var nbb_cell_id = 20;\n",
       "                var nbb_unformatted_code = \"%%time\\ntfidf_rf = imb_make_pipeline(\\n    preprocesser_tf, DenseTransformer(),\\n        RandomUnderSampler(),\\n        RandomForestClassifier(n_estimators=100, max_depth=10),\\n)\\nbuild_model(tfidf_rf, X, y, \\\"tfidf\\\")\";\n",
       "                var nbb_formatted_code = \"%%time\\ntfidf_rf = imb_make_pipeline(\\n    preprocesser_tf, DenseTransformer(),\\n        RandomUnderSampler(),\\n        RandomForestClassifier(n_estimators=100, max_depth=10),\\n)\\nbuild_model(tfidf_rf, X, y, \\\"tfidf\\\")\";\n",
       "                var nbb_cells = Jupyter.notebook.get_cells();\n",
       "                for (var i = 0; i < nbb_cells.length; ++i) {\n",
       "                    if (nbb_cells[i].input_prompt_number == nbb_cell_id) {\n",
       "                        if (nbb_cells[i].get_text() == nbb_unformatted_code) {\n",
       "                             nbb_cells[i].set_text(nbb_formatted_code);\n",
       "                        }\n",
       "                        break;\n",
       "                    }\n",
       "                }\n",
       "            }, 500);\n",
       "            "
      ],
      "text/plain": [
       "<IPython.core.display.Javascript object>"
      ]
     },
     "metadata": {},
     "output_type": "display_data"
    }
   ],
   "source": [
    "%%time\n",
    "tfidf_rf = imb_make_pipeline(\n",
    "    preprocesser_tf, DenseTransformer(),\n",
    "        RandomUnderSampler(),\n",
    "        RandomForestClassifier(n_estimators=100, max_depth=10),\n",
    ")\n",
    "build_model(tfidf_rf, X, y, \"tfidf\")"
   ]
  },
  {
   "cell_type": "markdown",
   "metadata": {},
   "source": [
    "### Final Model - Logistic Regression with TF-IDF Vectorization\n",
    "\n",
    "Selecting Logistic Regression as our final model as it returned the highest accuracy, precision and recall values as compared to other models."
   ]
  },
  {
   "cell_type": "code",
   "execution_count": 21,
   "metadata": {},
   "outputs": [
    {
     "name": "stdout",
     "output_type": "stream",
     "text": [
      "\n",
      "Extrovert vs Introvert\n",
      "                 coef\n",
      "word                 \n",
      "fun          3.725748\n",
      "friend       2.860645\n",
      "family      -2.804771\n",
      "debate       2.680547\n",
      "guy          2.608624\n",
      "ego          2.600346\n",
      "business     2.577903\n",
      "bored        2.542068\n",
      "still       -2.471127\n",
      "dated        2.457804\n",
      "challenge    2.450150\n",
      "see          2.387219\n",
      "father      -2.279080\n",
      "mother      -2.237088\n",
      "nature      -2.232370\n",
      "feel        -2.221827\n",
      "cold        -2.141462\n",
      "instinctual  2.136730\n",
      "crazy        2.109644\n",
      "distracted   2.099245\n",
      "awesome      2.094953\n",
      "\n",
      "Sensing vs Intuition\n",
      "              coef\n",
      "word              \n",
      "type      3.668527\n",
      "idea     -2.777214\n",
      "rant      2.746447\n",
      "world    -2.643953\n",
      "human    -2.214944\n",
      "sensor    2.175281\n",
      "dark     -2.152958\n",
      "rave      2.131513\n",
      "fun       2.107908\n",
      "everyone -1.995053\n",
      "thought  -1.980122\n",
      "many     -1.931583\n",
      "study    -1.916934\n",
      "stuff     1.898716\n",
      "need      1.897358\n",
      "dont      1.890488\n",
      "dominant  1.886697\n",
      "book     -1.867729\n",
      "husband   1.856377\n",
      "story     1.790571\n",
      "ill       1.783492\n",
      "\n",
      "Thinking vs Feeling\n",
      "               coef\n",
      "word               \n",
      "feel      -7.013021\n",
      "female     5.034701\n",
      "love      -4.651666\n",
      "feeling   -3.883043\n",
      "emotion    3.846564\n",
      "value     -3.828976\n",
      "beautiful -3.635040\n",
      "idealist  -3.575264\n",
      "boring     3.481413\n",
      "song      -3.466989\n",
      "wish      -3.424026\n",
      "plan       3.411507\n",
      "fucking    3.229228\n",
      "shy       -3.122133\n",
      "life      -3.085727\n",
      "knowledge  3.054073\n",
      "stupid     3.031296\n",
      "world     -3.030422\n",
      "waste      3.016896\n",
      "solve      3.016580\n",
      "dream     -2.999956\n",
      "\n",
      "Judging vs Perceiving\n",
      "               coef\n",
      "word               \n",
      "plan       1.329779\n",
      "others     1.322168\n",
      "fun       -1.168816\n",
      "welcome    1.141006\n",
      "pretty    -1.095957\n",
      "fuck      -1.071432\n",
      "yeah      -1.063828\n",
      "help       1.033733\n",
      "dear       1.033489\n",
      "love      -0.988701\n",
      "lazy      -0.953530\n",
      "shit      -0.945552\n",
      "stuff     -0.926843\n",
      "intuition  0.916873\n",
      "cold       0.874285\n",
      "game      -0.870534\n",
      "tea        0.826653\n",
      "yes        0.796629\n",
      "rant       0.790208\n",
      "gift       0.780553\n",
      "lot       -0.748430\n",
      "Wall time: 2min 16s\n"
     ]
    },
    {
     "data": {
      "image/png": "[encoded data removed]",
      "text/plain": [
       "<Figure size 432x288 with 1 Axes>"
      ]
     },
     "metadata": {
      "needs_background": "light"
     },
     "output_type": "display_data"
    },
    {
     "data": {
      "image/png": "[encoded data removed]",
      "text/plain": [
       "<Figure size 432x288 with 1 Axes>"
      ]
     },
     "metadata": {
      "needs_background": "light"
     },
     "output_type": "display_data"
    },
    {
     "data": {
      "image/png": "[encoded data removed]",
      "text/plain": [
       "<Figure size 432x288 with 1 Axes>"
      ]
     },
     "metadata": {
      "needs_background": "light"
     },
     "output_type": "display_data"
    },
    {
     "data": {
      "image/png": "[encoded data removed]",
      "text/plain": [
       "<Figure size 432x288 with 1 Axes>"
      ]
     },
     "metadata": {
      "needs_background": "light"
     },
     "output_type": "display_data"
    },
    {
     "data": {
      "application/javascript": [
       "\n",
       "            setTimeout(function() {\n",
       "                var nbb_cell_id = 21;\n",
       "                var nbb_unformatted_code = \"%%time\\n\\nfor col in y.columns:\\n    \\n    print(f\\\"\\\\n{mbti_type[col]}\\\")\\n\\n    target = y[col]\\n\\n    tfidf_logistic_regression = imb_make_pipeline(\\n        preprocesser_tf,\\n        RandomUnderSampler(),\\n        LogisticRegressionCV()\\n    )\\n    \\n    # training the data on entire dataset\\n    tfidf_logistic_regression.fit(X, target)\\n    \\n    # feature importance   \\n    coef = tfidf_logistic_regression[-1].coef_[0]  \\n    word = tfidf_logistic_regression[0].named_transformers_['tfidf'].get_feature_names()\\n    word_list = list(zip(word, coef))         \\n    result = pd.DataFrame(word_list, columns=['word', 'coef']).set_index('word')    \\n    result = result.reindex(result.coef.abs().sort_values(ascending=False).index)[0:21]\\n    print(result)\\n    \\n    # plotting feature importance\\n    result[\\\"coef\\\"] = result[\\\"coef\\\"].apply(lambda x: abs(x))\\n    result.sort_values(\\\"coef\\\", inplace=True)\\n    result.plot(kind=\\\"barh\\\", color=\\\"#61BED6\\\", title=mbti_type[col])\\n  \\n    # saving the model\\n    dump(tfidf_logistic_regression, f\\\"clf_{col}.joblib\\\")\";\n",
       "                var nbb_formatted_code = \"%%time\\n\\nfor col in y.columns:\\n    \\n    print(f\\\"\\\\n{mbti_type[col]}\\\")\\n\\n    target = y[col]\\n\\n    tfidf_logistic_regression = imb_make_pipeline(\\n        preprocesser_tf,\\n        RandomUnderSampler(),\\n        LogisticRegressionCV()\\n    )\\n    \\n    # training the data on entire dataset\\n    tfidf_logistic_regression.fit(X, target)\\n    \\n    # feature importance   \\n    coef = tfidf_logistic_regression[-1].coef_[0]  \\n    word = tfidf_logistic_regression[0].named_transformers_['tfidf'].get_feature_names()\\n    word_list = list(zip(word, coef))         \\n    result = pd.DataFrame(word_list, columns=['word', 'coef']).set_index('word')    \\n    result = result.reindex(result.coef.abs().sort_values(ascending=False).index)[0:21]\\n    print(result)\\n    \\n    # plotting feature importance\\n    result[\\\"coef\\\"] = result[\\\"coef\\\"].apply(lambda x: abs(x))\\n    result.sort_values(\\\"coef\\\", inplace=True)\\n    result.plot(kind=\\\"barh\\\", color=\\\"#61BED6\\\", title=mbti_type[col])\\n  \\n    # saving the model\\n    dump(tfidf_logistic_regression, f\\\"clf_{col}.joblib\\\")\";\n",
       "                var nbb_cells = Jupyter.notebook.get_cells();\n",
       "                for (var i = 0; i < nbb_cells.length; ++i) {\n",
       "                    if (nbb_cells[i].input_prompt_number == nbb_cell_id) {\n",
       "                        if (nbb_cells[i].get_text() == nbb_unformatted_code) {\n",
       "                             nbb_cells[i].set_text(nbb_formatted_code);\n",
       "                        }\n",
       "                        break;\n",
       "                    }\n",
       "                }\n",
       "            }, 500);\n",
       "            "
      ],
      "text/plain": [
       "<IPython.core.display.Javascript object>"
      ]
     },
     "metadata": {},
     "output_type": "display_data"
    }
   ],
   "source": [
    "%%time\n",
    "\n",
    "for col in y.columns:\n",
    "    \n",
    "    print(f\"\\n{mbti_type[col]}\")\n",
    "\n",
    "    target = y[col]\n",
    "\n",
    "    tfidf_logistic_regression = imb_make_pipeline(\n",
    "        preprocesser_tf,\n",
    "        RandomUnderSampler(),\n",
    "        LogisticRegressionCV()\n",
    "    )\n",
    "    \n",
    "    # training the data on entire dataset\n",
    "    tfidf_logistic_regression.fit(X, target)\n",
    "    \n",
    "    # feature importance   \n",
    "    coef = tfidf_logistic_regression[-1].coef_[0]  \n",
    "    word = tfidf_logistic_regression[0].named_transformers_['tfidf'].get_feature_names()\n",
    "    word_list = list(zip(word, coef))         \n",
    "    result = pd.DataFrame(word_list, columns=['word', 'coef']).set_index('word')    \n",
    "    result = result.reindex(result.coef.abs().sort_values(ascending=False).index)[0:21]\n",
    "    print(result)\n",
    "    \n",
    "    # plotting feature importance\n",
    "    result[\"coef\"] = result[\"coef\"].apply(lambda x: abs(x))\n",
    "    result.sort_values(\"coef\", inplace=True)\n",
    "    result.plot(kind=\"barh\", color=\"#61BED6\", title=mbti_type[col])\n",
    "  \n",
    "    # saving the model\n",
    "    dump(tfidf_logistic_regression, f\"clf_{col}.joblib\")"
   ]
  },
  {
   "cell_type": "code",
   "execution_count": null,
   "metadata": {},
   "outputs": [],
   "source": []
  }
 ],
 "metadata": {
  "kernelspec": {
   "display_name": "project3",
   "language": "python",
   "name": "project3"
  },
  "language_info": {
   "codemirror_mode": {
    "name": "ipython",
    "version": 3
   },
   "file_extension": ".py",
   "mimetype": "text/x-python",
   "name": "python",
   "nbconvert_exporter": "python",
   "pygments_lexer": "ipython3",
   "version": "3.7.5"
  }
 },
 "nbformat": 4,
 "nbformat_minor": 4
}
