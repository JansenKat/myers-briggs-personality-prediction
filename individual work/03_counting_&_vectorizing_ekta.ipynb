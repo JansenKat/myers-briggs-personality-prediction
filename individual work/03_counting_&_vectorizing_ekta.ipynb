{
 "cells": [
  {
   "cell_type": "markdown",
   "metadata": {},
   "source": [
    "# (MBTI) Myers-Briggs Personality Type Prediction\n",
    "\n",
    "* Extroversion vs. Introversion\n",
    "    * I - 0\n",
    "    * E - 1 \n",
    "    \n",
    "* Sensing vs. Intuition \n",
    "    * N - 0 \n",
    "    * S - 1\n",
    "    \n",
    "* Thinking vs. Feeling\n",
    "    * F - 0\n",
    "    * T - 1\n",
    "    \n",
    "* Judging vs. Perceiving\n",
    "    * P - 0\n",
    "    * J - 1 "
   ]
  },
  {
   "cell_type": "code",
   "execution_count": 1,
   "metadata": {},
   "outputs": [
    {
     "data": {
      "application/javascript": [
       "\n",
       "            setTimeout(function() {\n",
       "                var nbb_cell_id = 1;\n",
       "                var nbb_unformatted_code = \"# importing dependencies here\\nimport numpy as np\\nimport pandas as pd\\n\\n# feature engineering\\nimport re\\nimport nltk\\n\\n# vectorization\\nfrom sklearn.feature_extraction.text import CountVectorizer\\nfrom sklearn.feature_extraction.text import TfidfVectorizer\\n\\n# performance check\\nimport time\\n\\n# code formatter\\n%load_ext nb_black\";\n",
       "                var nbb_formatted_code = \"# importing dependencies here\\nimport numpy as np\\nimport pandas as pd\\n\\n# feature engineering\\nimport re\\nimport nltk\\n\\n# vectorization\\nfrom sklearn.feature_extraction.text import CountVectorizer\\nfrom sklearn.feature_extraction.text import TfidfVectorizer\\n\\n# performance check\\nimport time\\n\\n# code formatter\\n%load_ext nb_black\";\n",
       "                var nbb_cells = Jupyter.notebook.get_cells();\n",
       "                for (var i = 0; i < nbb_cells.length; ++i) {\n",
       "                    if (nbb_cells[i].input_prompt_number == nbb_cell_id) {\n",
       "                        if (nbb_cells[i].get_text() == nbb_unformatted_code) {\n",
       "                             nbb_cells[i].set_text(nbb_formatted_code);\n",
       "                        }\n",
       "                        break;\n",
       "                    }\n",
       "                }\n",
       "            }, 500);\n",
       "            "
      ],
      "text/plain": [
       "<IPython.core.display.Javascript object>"
      ]
     },
     "metadata": {},
     "output_type": "display_data"
    }
   ],
   "source": [
    "# importing dependencies here\n",
    "import numpy as np\n",
    "import pandas as pd\n",
    "\n",
    "# feature engineering\n",
    "import re\n",
    "import nltk\n",
    "\n",
    "# vectorization\n",
    "from sklearn.feature_extraction.text import CountVectorizer\n",
    "from sklearn.feature_extraction.text import TfidfVectorizer\n",
    "\n",
    "# performance check\n",
    "import time\n",
    "\n",
    "# code formatter\n",
    "%load_ext nb_black"
   ]
  },
  {
   "cell_type": "code",
   "execution_count": 2,
   "metadata": {},
   "outputs": [
    {
     "data": {
      "application/javascript": [
       "\n",
       "            setTimeout(function() {\n",
       "                var nbb_cell_id = 2;\n",
       "                var nbb_unformatted_code = \"# reading the clean_data_2 file\\npersonality_data = pd.read_csv(\\\"data_ekta/clean_data_2.csv\\\")\";\n",
       "                var nbb_formatted_code = \"# reading the clean_data_2 file\\npersonality_data = pd.read_csv(\\\"data_ekta/clean_data_2.csv\\\")\";\n",
       "                var nbb_cells = Jupyter.notebook.get_cells();\n",
       "                for (var i = 0; i < nbb_cells.length; ++i) {\n",
       "                    if (nbb_cells[i].input_prompt_number == nbb_cell_id) {\n",
       "                        if (nbb_cells[i].get_text() == nbb_unformatted_code) {\n",
       "                             nbb_cells[i].set_text(nbb_formatted_code);\n",
       "                        }\n",
       "                        break;\n",
       "                    }\n",
       "                }\n",
       "            }, 500);\n",
       "            "
      ],
      "text/plain": [
       "<IPython.core.display.Javascript object>"
      ]
     },
     "metadata": {},
     "output_type": "display_data"
    }
   ],
   "source": [
    "# reading the clean_data_2 file\n",
    "personality_data = pd.read_csv(\"data_ekta/clean_data_2.csv\")"
   ]
  },
  {
   "cell_type": "code",
   "execution_count": 3,
   "metadata": {},
   "outputs": [
    {
     "data": {
      "text/plain": [
       "Index(['type', 'is_Extrovert', 'is_Sensing', 'is_Thinking', 'is_Judging',\n",
       "       'posts', 'clean_posts', 'compound_sentiment', 'pos_sentiment',\n",
       "       'neg_sentiment',\n",
       "       ...\n",
       "       'S_PRT_med', 'S_PRT_std', 'S_PRON_med', 'S_PRON_std', 'S_VERB_med',\n",
       "       'S_VERB_std', 'S_._med', 'S_._std', 'S_X_med', 'S_X_std'],\n",
       "      dtype='object', length=127)"
      ]
     },
     "execution_count": 3,
     "metadata": {},
     "output_type": "execute_result"
    },
    {
     "data": {
      "application/javascript": [
       "\n",
       "            setTimeout(function() {\n",
       "                var nbb_cell_id = 3;\n",
       "                var nbb_unformatted_code = \"personality_data.columns\";\n",
       "                var nbb_formatted_code = \"personality_data.columns\";\n",
       "                var nbb_cells = Jupyter.notebook.get_cells();\n",
       "                for (var i = 0; i < nbb_cells.length; ++i) {\n",
       "                    if (nbb_cells[i].input_prompt_number == nbb_cell_id) {\n",
       "                        if (nbb_cells[i].get_text() == nbb_unformatted_code) {\n",
       "                             nbb_cells[i].set_text(nbb_formatted_code);\n",
       "                        }\n",
       "                        break;\n",
       "                    }\n",
       "                }\n",
       "            }, 500);\n",
       "            "
      ],
      "text/plain": [
       "<IPython.core.display.Javascript object>"
      ]
     },
     "metadata": {},
     "output_type": "display_data"
    }
   ],
   "source": [
    "personality_data.columns"
   ]
  },
  {
   "cell_type": "code",
   "execution_count": 4,
   "metadata": {},
   "outputs": [
    {
     "data": {
      "text/html": [
       "<div>\n",
       "<style scoped>\n",
       "    .dataframe tbody tr th:only-of-type {\n",
       "        vertical-align: middle;\n",
       "    }\n",
       "\n",
       "    .dataframe tbody tr th {\n",
       "        vertical-align: top;\n",
       "    }\n",
       "\n",
       "    .dataframe thead th {\n",
       "        text-align: right;\n",
       "    }\n",
       "</style>\n",
       "<table border=\"1\" class=\"dataframe\">\n",
       "  <thead>\n",
       "    <tr style=\"text-align: right;\">\n",
       "      <th></th>\n",
       "      <th>type</th>\n",
       "      <th>is_Extrovert</th>\n",
       "      <th>is_Sensing</th>\n",
       "      <th>is_Thinking</th>\n",
       "      <th>is_Judging</th>\n",
       "      <th>posts</th>\n",
       "      <th>clean_posts</th>\n",
       "      <th>compound_sentiment</th>\n",
       "      <th>pos_sentiment</th>\n",
       "      <th>neg_sentiment</th>\n",
       "      <th>...</th>\n",
       "      <th>S_PRT_med</th>\n",
       "      <th>S_PRT_std</th>\n",
       "      <th>S_PRON_med</th>\n",
       "      <th>S_PRON_std</th>\n",
       "      <th>S_VERB_med</th>\n",
       "      <th>S_VERB_std</th>\n",
       "      <th>S_._med</th>\n",
       "      <th>S_._std</th>\n",
       "      <th>S_X_med</th>\n",
       "      <th>S_X_std</th>\n",
       "    </tr>\n",
       "  </thead>\n",
       "  <tbody>\n",
       "    <tr>\n",
       "      <th>0</th>\n",
       "      <td>INFJ</td>\n",
       "      <td>0</td>\n",
       "      <td>0</td>\n",
       "      <td>0</td>\n",
       "      <td>1</td>\n",
       "      <td>'http://www.youtube.com/watch?v=qsXHcwe3krw|||...</td>\n",
       "      <td>youtube    moment  youtube  sportscenter top t...</td>\n",
       "      <td>0.997599</td>\n",
       "      <td>0.352861</td>\n",
       "      <td>0.292958</td>\n",
       "      <td>...</td>\n",
       "      <td>0.0</td>\n",
       "      <td>0.235294</td>\n",
       "      <td>1.0</td>\n",
       "      <td>1.719016</td>\n",
       "      <td>2.0</td>\n",
       "      <td>2.904030</td>\n",
       "      <td>2.5</td>\n",
       "      <td>1.911538</td>\n",
       "      <td>0.0</td>\n",
       "      <td>0.000000</td>\n",
       "    </tr>\n",
       "    <tr>\n",
       "      <th>1</th>\n",
       "      <td>ENTP</td>\n",
       "      <td>1</td>\n",
       "      <td>0</td>\n",
       "      <td>1</td>\n",
       "      <td>0</td>\n",
       "      <td>'I'm finding the lack of me in these posts ver...</td>\n",
       "      <td>im finding lack post alarming sex boring posit...</td>\n",
       "      <td>0.999250</td>\n",
       "      <td>0.361035</td>\n",
       "      <td>0.349296</td>\n",
       "      <td>...</td>\n",
       "      <td>0.0</td>\n",
       "      <td>0.362433</td>\n",
       "      <td>4.0</td>\n",
       "      <td>3.036079</td>\n",
       "      <td>6.0</td>\n",
       "      <td>3.768878</td>\n",
       "      <td>4.0</td>\n",
       "      <td>1.995551</td>\n",
       "      <td>0.0</td>\n",
       "      <td>0.147406</td>\n",
       "    </tr>\n",
       "    <tr>\n",
       "      <th>2</th>\n",
       "      <td>INTP</td>\n",
       "      <td>0</td>\n",
       "      <td>0</td>\n",
       "      <td>1</td>\n",
       "      <td>0</td>\n",
       "      <td>'Good one  _____   https://www.youtube.com/wat...</td>\n",
       "      <td>good one     youtube course say know thats ble...</td>\n",
       "      <td>0.999300</td>\n",
       "      <td>0.399183</td>\n",
       "      <td>0.315493</td>\n",
       "      <td>...</td>\n",
       "      <td>0.0</td>\n",
       "      <td>0.206080</td>\n",
       "      <td>2.0</td>\n",
       "      <td>2.091252</td>\n",
       "      <td>4.0</td>\n",
       "      <td>3.347673</td>\n",
       "      <td>3.0</td>\n",
       "      <td>2.468968</td>\n",
       "      <td>0.0</td>\n",
       "      <td>0.284583</td>\n",
       "    </tr>\n",
       "    <tr>\n",
       "      <th>3</th>\n",
       "      <td>INTJ</td>\n",
       "      <td>0</td>\n",
       "      <td>0</td>\n",
       "      <td>1</td>\n",
       "      <td>1</td>\n",
       "      <td>'Dear INTP,   I enjoyed our conversation the o...</td>\n",
       "      <td>dear    enjoyed conversation day  esoteric gab...</td>\n",
       "      <td>0.999100</td>\n",
       "      <td>0.311989</td>\n",
       "      <td>0.259155</td>\n",
       "      <td>...</td>\n",
       "      <td>0.0</td>\n",
       "      <td>0.199826</td>\n",
       "      <td>3.0</td>\n",
       "      <td>2.547381</td>\n",
       "      <td>5.0</td>\n",
       "      <td>3.856587</td>\n",
       "      <td>3.0</td>\n",
       "      <td>2.005093</td>\n",
       "      <td>0.0</td>\n",
       "      <td>0.199826</td>\n",
       "    </tr>\n",
       "    <tr>\n",
       "      <th>4</th>\n",
       "      <td>ENTJ</td>\n",
       "      <td>1</td>\n",
       "      <td>0</td>\n",
       "      <td>1</td>\n",
       "      <td>1</td>\n",
       "      <td>'You're fired.|||That's another silly misconce...</td>\n",
       "      <td>youre fired thats another silly misconception ...</td>\n",
       "      <td>0.974042</td>\n",
       "      <td>0.318801</td>\n",
       "      <td>0.546479</td>\n",
       "      <td>...</td>\n",
       "      <td>0.0</td>\n",
       "      <td>0.284583</td>\n",
       "      <td>3.0</td>\n",
       "      <td>2.122891</td>\n",
       "      <td>5.0</td>\n",
       "      <td>3.964285</td>\n",
       "      <td>3.0</td>\n",
       "      <td>2.339568</td>\n",
       "      <td>0.0</td>\n",
       "      <td>0.206080</td>\n",
       "    </tr>\n",
       "  </tbody>\n",
       "</table>\n",
       "<p>5 rows × 127 columns</p>\n",
       "</div>"
      ],
      "text/plain": [
       "   type  is_Extrovert  is_Sensing  is_Thinking  is_Judging  \\\n",
       "0  INFJ             0           0            0           1   \n",
       "1  ENTP             1           0            1           0   \n",
       "2  INTP             0           0            1           0   \n",
       "3  INTJ             0           0            1           1   \n",
       "4  ENTJ             1           0            1           1   \n",
       "\n",
       "                                               posts  \\\n",
       "0  'http://www.youtube.com/watch?v=qsXHcwe3krw|||...   \n",
       "1  'I'm finding the lack of me in these posts ver...   \n",
       "2  'Good one  _____   https://www.youtube.com/wat...   \n",
       "3  'Dear INTP,   I enjoyed our conversation the o...   \n",
       "4  'You're fired.|||That's another silly misconce...   \n",
       "\n",
       "                                         clean_posts  compound_sentiment  \\\n",
       "0  youtube    moment  youtube  sportscenter top t...            0.997599   \n",
       "1  im finding lack post alarming sex boring posit...            0.999250   \n",
       "2  good one     youtube course say know thats ble...            0.999300   \n",
       "3  dear    enjoyed conversation day  esoteric gab...            0.999100   \n",
       "4  youre fired thats another silly misconception ...            0.974042   \n",
       "\n",
       "   pos_sentiment  neg_sentiment  ...  S_PRT_med S_PRT_std S_PRON_med  \\\n",
       "0       0.352861       0.292958  ...        0.0  0.235294        1.0   \n",
       "1       0.361035       0.349296  ...        0.0  0.362433        4.0   \n",
       "2       0.399183       0.315493  ...        0.0  0.206080        2.0   \n",
       "3       0.311989       0.259155  ...        0.0  0.199826        3.0   \n",
       "4       0.318801       0.546479  ...        0.0  0.284583        3.0   \n",
       "\n",
       "   S_PRON_std  S_VERB_med  S_VERB_std  S_._med   S_._std  S_X_med   S_X_std  \n",
       "0    1.719016         2.0    2.904030      2.5  1.911538      0.0  0.000000  \n",
       "1    3.036079         6.0    3.768878      4.0  1.995551      0.0  0.147406  \n",
       "2    2.091252         4.0    3.347673      3.0  2.468968      0.0  0.284583  \n",
       "3    2.547381         5.0    3.856587      3.0  2.005093      0.0  0.199826  \n",
       "4    2.122891         5.0    3.964285      3.0  2.339568      0.0  0.206080  \n",
       "\n",
       "[5 rows x 127 columns]"
      ]
     },
     "execution_count": 4,
     "metadata": {},
     "output_type": "execute_result"
    },
    {
     "data": {
      "application/javascript": [
       "\n",
       "            setTimeout(function() {\n",
       "                var nbb_cell_id = 4;\n",
       "                var nbb_unformatted_code = \"# lookign at the top 5 rows of the dataset\\npersonality_data.head()\";\n",
       "                var nbb_formatted_code = \"# lookign at the top 5 rows of the dataset\\npersonality_data.head()\";\n",
       "                var nbb_cells = Jupyter.notebook.get_cells();\n",
       "                for (var i = 0; i < nbb_cells.length; ++i) {\n",
       "                    if (nbb_cells[i].input_prompt_number == nbb_cell_id) {\n",
       "                        if (nbb_cells[i].get_text() == nbb_unformatted_code) {\n",
       "                             nbb_cells[i].set_text(nbb_formatted_code);\n",
       "                        }\n",
       "                        break;\n",
       "                    }\n",
       "                }\n",
       "            }, 500);\n",
       "            "
      ],
      "text/plain": [
       "<IPython.core.display.Javascript object>"
      ]
     },
     "metadata": {},
     "output_type": "display_data"
    }
   ],
   "source": [
    "# lookign at the top 5 rows of the dataset\n",
    "personality_data.head()"
   ]
  },
  {
   "cell_type": "code",
   "execution_count": 5,
   "metadata": {},
   "outputs": [
    {
     "data": {
      "text/plain": [
       "(8675, 127)"
      ]
     },
     "execution_count": 5,
     "metadata": {},
     "output_type": "execute_result"
    },
    {
     "data": {
      "application/javascript": [
       "\n",
       "            setTimeout(function() {\n",
       "                var nbb_cell_id = 5;\n",
       "                var nbb_unformatted_code = \"# checking the number of rows and columns\\npersonality_data.shape\";\n",
       "                var nbb_formatted_code = \"# checking the number of rows and columns\\npersonality_data.shape\";\n",
       "                var nbb_cells = Jupyter.notebook.get_cells();\n",
       "                for (var i = 0; i < nbb_cells.length; ++i) {\n",
       "                    if (nbb_cells[i].input_prompt_number == nbb_cell_id) {\n",
       "                        if (nbb_cells[i].get_text() == nbb_unformatted_code) {\n",
       "                             nbb_cells[i].set_text(nbb_formatted_code);\n",
       "                        }\n",
       "                        break;\n",
       "                    }\n",
       "                }\n",
       "            }, 500);\n",
       "            "
      ],
      "text/plain": [
       "<IPython.core.display.Javascript object>"
      ]
     },
     "metadata": {},
     "output_type": "display_data"
    }
   ],
   "source": [
    "# checking the number of rows and columns\n",
    "personality_data.shape"
   ]
  },
  {
   "cell_type": "markdown",
   "metadata": {},
   "source": [
    "### Feature Engineering - III"
   ]
  },
  {
   "cell_type": "markdown",
   "metadata": {},
   "source": [
    "#### COUNTING"
   ]
  },
  {
   "cell_type": "markdown",
   "metadata": {},
   "source": [
    "#### Question/Exclamation/Colon/Emoji Count"
   ]
  },
  {
   "cell_type": "code",
   "execution_count": 6,
   "metadata": {},
   "outputs": [
    {
     "data": {
      "application/javascript": [
       "\n",
       "            setTimeout(function() {\n",
       "                var nbb_cell_id = 6;\n",
       "                var nbb_unformatted_code = \"def unique_words(s):\\n    unique = set(s.split(\\\" \\\"))\\n    return len(unique)\\n\\n\\ndef emojis(post):\\n    # does not include emojis made purely from symbols, only :word:\\n    emoji_count = 0\\n    words = post.split()\\n    for e in words:\\n        if \\\"http\\\" not in e:\\n            if e.count(\\\":\\\") == 2:\\n                emoji_count += 1\\n    return emoji_count\\n\\n\\ndef colons(post):\\n    # Includes colons used in emojis\\n    colon_count = 0\\n    words = post.split()\\n    for e in words:\\n        if \\\"http\\\" not in e:\\n            colon_count += e.count(\\\":\\\")\\n    return colon_count\";\n",
       "                var nbb_formatted_code = \"def unique_words(s):\\n    unique = set(s.split(\\\" \\\"))\\n    return len(unique)\\n\\n\\ndef emojis(post):\\n    # does not include emojis made purely from symbols, only :word:\\n    emoji_count = 0\\n    words = post.split()\\n    for e in words:\\n        if \\\"http\\\" not in e:\\n            if e.count(\\\":\\\") == 2:\\n                emoji_count += 1\\n    return emoji_count\\n\\n\\ndef colons(post):\\n    # Includes colons used in emojis\\n    colon_count = 0\\n    words = post.split()\\n    for e in words:\\n        if \\\"http\\\" not in e:\\n            colon_count += e.count(\\\":\\\")\\n    return colon_count\";\n",
       "                var nbb_cells = Jupyter.notebook.get_cells();\n",
       "                for (var i = 0; i < nbb_cells.length; ++i) {\n",
       "                    if (nbb_cells[i].input_prompt_number == nbb_cell_id) {\n",
       "                        if (nbb_cells[i].get_text() == nbb_unformatted_code) {\n",
       "                             nbb_cells[i].set_text(nbb_formatted_code);\n",
       "                        }\n",
       "                        break;\n",
       "                    }\n",
       "                }\n",
       "            }, 500);\n",
       "            "
      ],
      "text/plain": [
       "<IPython.core.display.Javascript object>"
      ]
     },
     "metadata": {},
     "output_type": "display_data"
    }
   ],
   "source": [
    "def unique_words(s):\n",
    "    unique = set(s.split(\" \"))\n",
    "    return len(unique)\n",
    "\n",
    "\n",
    "def emojis(post):\n",
    "    # does not include emojis made purely from symbols, only :word:\n",
    "    emoji_count = 0\n",
    "    words = post.split()\n",
    "    for e in words:\n",
    "        if \"http\" not in e:\n",
    "            if e.count(\":\") == 2:\n",
    "                emoji_count += 1\n",
    "    return emoji_count\n",
    "\n",
    "\n",
    "def colons(post):\n",
    "    # Includes colons used in emojis\n",
    "    colon_count = 0\n",
    "    words = post.split()\n",
    "    for e in words:\n",
    "        if \"http\" not in e:\n",
    "            colon_count += e.count(\":\")\n",
    "    return colon_count"
   ]
  },
  {
   "cell_type": "code",
   "execution_count": 7,
   "metadata": {},
   "outputs": [
    {
     "data": {
      "application/javascript": [
       "\n",
       "            setTimeout(function() {\n",
       "                var nbb_cell_id = 7;\n",
       "                var nbb_unformatted_code = \"personality_data[\\\"qm\\\"] = personality_data[\\\"posts\\\"].apply(lambda s: s.count(\\\"?\\\"))\\npersonality_data[\\\"em\\\"] = personality_data[\\\"posts\\\"].apply(lambda s: s.count(\\\"!\\\"))\\npersonality_data[\\\"colons\\\"] = personality_data[\\\"posts\\\"].apply(colons)\\npersonality_data[\\\"emojis\\\"] = personality_data[\\\"posts\\\"].apply(emojis)\";\n",
       "                var nbb_formatted_code = \"personality_data[\\\"qm\\\"] = personality_data[\\\"posts\\\"].apply(lambda s: s.count(\\\"?\\\"))\\npersonality_data[\\\"em\\\"] = personality_data[\\\"posts\\\"].apply(lambda s: s.count(\\\"!\\\"))\\npersonality_data[\\\"colons\\\"] = personality_data[\\\"posts\\\"].apply(colons)\\npersonality_data[\\\"emojis\\\"] = personality_data[\\\"posts\\\"].apply(emojis)\";\n",
       "                var nbb_cells = Jupyter.notebook.get_cells();\n",
       "                for (var i = 0; i < nbb_cells.length; ++i) {\n",
       "                    if (nbb_cells[i].input_prompt_number == nbb_cell_id) {\n",
       "                        if (nbb_cells[i].get_text() == nbb_unformatted_code) {\n",
       "                             nbb_cells[i].set_text(nbb_formatted_code);\n",
       "                        }\n",
       "                        break;\n",
       "                    }\n",
       "                }\n",
       "            }, 500);\n",
       "            "
      ],
      "text/plain": [
       "<IPython.core.display.Javascript object>"
      ]
     },
     "metadata": {},
     "output_type": "display_data"
    }
   ],
   "source": [
    "personality_data[\"qm\"] = personality_data[\"posts\"].apply(lambda s: s.count(\"?\"))\n",
    "personality_data[\"em\"] = personality_data[\"posts\"].apply(lambda s: s.count(\"!\"))\n",
    "personality_data[\"colons\"] = personality_data[\"posts\"].apply(colons)\n",
    "personality_data[\"emojis\"] = personality_data[\"posts\"].apply(emojis)"
   ]
  },
  {
   "cell_type": "markdown",
   "metadata": {},
   "source": [
    "#### Word Count"
   ]
  },
  {
   "cell_type": "code",
   "execution_count": 8,
   "metadata": {},
   "outputs": [
    {
     "data": {
      "application/javascript": [
       "\n",
       "            setTimeout(function() {\n",
       "                var nbb_cell_id = 8;\n",
       "                var nbb_unformatted_code = \"personality_data[\\\"word_count\\\"] = personality_data[\\\"posts\\\"].apply(\\n    lambda s: s.count(\\\" \\\") + 1\\n)\\npersonality_data[\\\"unique_words\\\"] = personality_data[\\\"posts\\\"].apply(unique_words)\";\n",
       "                var nbb_formatted_code = \"personality_data[\\\"word_count\\\"] = personality_data[\\\"posts\\\"].apply(\\n    lambda s: s.count(\\\" \\\") + 1\\n)\\npersonality_data[\\\"unique_words\\\"] = personality_data[\\\"posts\\\"].apply(unique_words)\";\n",
       "                var nbb_cells = Jupyter.notebook.get_cells();\n",
       "                for (var i = 0; i < nbb_cells.length; ++i) {\n",
       "                    if (nbb_cells[i].input_prompt_number == nbb_cell_id) {\n",
       "                        if (nbb_cells[i].get_text() == nbb_unformatted_code) {\n",
       "                             nbb_cells[i].set_text(nbb_formatted_code);\n",
       "                        }\n",
       "                        break;\n",
       "                    }\n",
       "                }\n",
       "            }, 500);\n",
       "            "
      ],
      "text/plain": [
       "<IPython.core.display.Javascript object>"
      ]
     },
     "metadata": {},
     "output_type": "display_data"
    }
   ],
   "source": [
    "personality_data[\"word_count\"] = personality_data[\"posts\"].apply(\n",
    "    lambda s: s.count(\" \") + 1\n",
    ")\n",
    "personality_data[\"unique_words\"] = personality_data[\"posts\"].apply(unique_words)"
   ]
  },
  {
   "cell_type": "markdown",
   "metadata": {},
   "source": [
    "#### Word Stats\n",
    "\n",
    "* CAUTION - This will take Long !!"
   ]
  },
  {
   "cell_type": "code",
   "execution_count": 9,
   "metadata": {},
   "outputs": [
    {
     "name": "stdout",
     "output_type": "stream",
     "text": [
      "Time Taken: 112.10022401809692\n"
     ]
    },
    {
     "data": {
      "application/javascript": [
       "\n",
       "            setTimeout(function() {\n",
       "                var nbb_cell_id = 9;\n",
       "                var nbb_unformatted_code = \"# stats\\n\\nt = time.time()\\n\\npersonality_data[\\\"avg_word_ct\\\"] = personality_data[\\\"word_count\\\"].apply(lambda s: s / 50)\\n\\npersonality_data[\\\"post_length_var\\\"] = personality_data[\\\"posts\\\"].apply(\\n    lambda x: np.var([len(post.split()) for post in x.split(\\\"|||\\\")])\\n)\\n\\npersonality_data[\\\"med_char\\\"] = personality_data[\\\"tagged_words\\\"].apply(\\n    lambda x: np.median([len(i) for i in x])\\n)\\n\\npersonality_data[\\\"med_word\\\"] = personality_data[\\\"tagged_words\\\"].apply(\\n    lambda x: np.median([len(i.split()) for i in x])\\n)\\n\\nprint(f\\\"Time Taken: {time.time() - t}\\\")\";\n",
       "                var nbb_formatted_code = \"# stats\\n\\nt = time.time()\\n\\npersonality_data[\\\"avg_word_ct\\\"] = personality_data[\\\"word_count\\\"].apply(lambda s: s / 50)\\n\\npersonality_data[\\\"post_length_var\\\"] = personality_data[\\\"posts\\\"].apply(\\n    lambda x: np.var([len(post.split()) for post in x.split(\\\"|||\\\")])\\n)\\n\\npersonality_data[\\\"med_char\\\"] = personality_data[\\\"tagged_words\\\"].apply(\\n    lambda x: np.median([len(i) for i in x])\\n)\\n\\npersonality_data[\\\"med_word\\\"] = personality_data[\\\"tagged_words\\\"].apply(\\n    lambda x: np.median([len(i.split()) for i in x])\\n)\\n\\nprint(f\\\"Time Taken: {time.time() - t}\\\")\";\n",
       "                var nbb_cells = Jupyter.notebook.get_cells();\n",
       "                for (var i = 0; i < nbb_cells.length; ++i) {\n",
       "                    if (nbb_cells[i].input_prompt_number == nbb_cell_id) {\n",
       "                        if (nbb_cells[i].get_text() == nbb_unformatted_code) {\n",
       "                             nbb_cells[i].set_text(nbb_formatted_code);\n",
       "                        }\n",
       "                        break;\n",
       "                    }\n",
       "                }\n",
       "            }, 500);\n",
       "            "
      ],
      "text/plain": [
       "<IPython.core.display.Javascript object>"
      ]
     },
     "metadata": {},
     "output_type": "display_data"
    }
   ],
   "source": [
    "# stats\n",
    "\n",
    "t = time.time()\n",
    "\n",
    "personality_data[\"avg_word_ct\"] = personality_data[\"word_count\"].apply(lambda s: s / 50)\n",
    "\n",
    "personality_data[\"post_length_var\"] = personality_data[\"posts\"].apply(\n",
    "    lambda x: np.var([len(post.split()) for post in x.split(\"|||\")])\n",
    ")\n",
    "\n",
    "personality_data[\"med_char\"] = personality_data[\"tagged_words\"].apply(\n",
    "    lambda x: np.median([len(i) for i in x])\n",
    ")\n",
    "\n",
    "personality_data[\"med_word\"] = personality_data[\"tagged_words\"].apply(\n",
    "    lambda x: np.median([len(i.split()) for i in x])\n",
    ")\n",
    "\n",
    "print(f\"Time Taken: {time.time() - t}\")"
   ]
  },
  {
   "cell_type": "markdown",
   "metadata": {},
   "source": [
    "#### Upper Case Count"
   ]
  },
  {
   "cell_type": "code",
   "execution_count": 10,
   "metadata": {},
   "outputs": [
    {
     "data": {
      "application/javascript": [
       "\n",
       "            setTimeout(function() {\n",
       "                var nbb_cell_id = 10;\n",
       "                var nbb_unformatted_code = \"personality_data[\\\"upper\\\"] = personality_data[\\\"posts\\\"].apply(\\n    lambda x: len([x for x in x.split() if x.isupper()])\\n)\";\n",
       "                var nbb_formatted_code = \"personality_data[\\\"upper\\\"] = personality_data[\\\"posts\\\"].apply(\\n    lambda x: len([x for x in x.split() if x.isupper()])\\n)\";\n",
       "                var nbb_cells = Jupyter.notebook.get_cells();\n",
       "                for (var i = 0; i < nbb_cells.length; ++i) {\n",
       "                    if (nbb_cells[i].input_prompt_number == nbb_cell_id) {\n",
       "                        if (nbb_cells[i].get_text() == nbb_unformatted_code) {\n",
       "                             nbb_cells[i].set_text(nbb_formatted_code);\n",
       "                        }\n",
       "                        break;\n",
       "                    }\n",
       "                }\n",
       "            }, 500);\n",
       "            "
      ],
      "text/plain": [
       "<IPython.core.display.Javascript object>"
      ]
     },
     "metadata": {},
     "output_type": "display_data"
    }
   ],
   "source": [
    "personality_data[\"upper\"] = personality_data[\"posts\"].apply(\n",
    "    lambda x: len([x for x in x.split() if x.isupper()])\n",
    ")"
   ]
  },
  {
   "cell_type": "markdown",
   "metadata": {},
   "source": [
    "#### Link Count"
   ]
  },
  {
   "cell_type": "code",
   "execution_count": 11,
   "metadata": {},
   "outputs": [
    {
     "data": {
      "application/javascript": [
       "\n",
       "            setTimeout(function() {\n",
       "                var nbb_cell_id = 11;\n",
       "                var nbb_unformatted_code = \"personality_data[\\\"link_count\\\"] = personality_data[\\\"posts\\\"].apply(\\n    lambda s: s.count(\\\"http\\\")\\n)\";\n",
       "                var nbb_formatted_code = \"personality_data[\\\"link_count\\\"] = personality_data[\\\"posts\\\"].apply(\\n    lambda s: s.count(\\\"http\\\")\\n)\";\n",
       "                var nbb_cells = Jupyter.notebook.get_cells();\n",
       "                for (var i = 0; i < nbb_cells.length; ++i) {\n",
       "                    if (nbb_cells[i].input_prompt_number == nbb_cell_id) {\n",
       "                        if (nbb_cells[i].get_text() == nbb_unformatted_code) {\n",
       "                             nbb_cells[i].set_text(nbb_formatted_code);\n",
       "                        }\n",
       "                        break;\n",
       "                    }\n",
       "                }\n",
       "            }, 500);\n",
       "            "
      ],
      "text/plain": [
       "<IPython.core.display.Javascript object>"
      ]
     },
     "metadata": {},
     "output_type": "display_data"
    }
   ],
   "source": [
    "personality_data[\"link_count\"] = personality_data[\"posts\"].apply(\n",
    "    lambda s: s.count(\"http\")\n",
    ")"
   ]
  },
  {
   "cell_type": "markdown",
   "metadata": {},
   "source": [
    "#### Ellipses Count"
   ]
  },
  {
   "cell_type": "code",
   "execution_count": 12,
   "metadata": {},
   "outputs": [
    {
     "data": {
      "application/javascript": [
       "\n",
       "            setTimeout(function() {\n",
       "                var nbb_cell_id = 12;\n",
       "                var nbb_unformatted_code = \"ellipses_count = [\\n    len(re.findall(r\\\"\\\\.\\\\.\\\\.\\\\ \\\", posts)) for posts in personality_data[\\\"posts\\\"]\\n]\\npersonality_data[\\\"ellipses\\\"] = ellipses_count\";\n",
       "                var nbb_formatted_code = \"ellipses_count = [\\n    len(re.findall(r\\\"\\\\.\\\\.\\\\.\\\\ \\\", posts)) for posts in personality_data[\\\"posts\\\"]\\n]\\npersonality_data[\\\"ellipses\\\"] = ellipses_count\";\n",
       "                var nbb_cells = Jupyter.notebook.get_cells();\n",
       "                for (var i = 0; i < nbb_cells.length; ++i) {\n",
       "                    if (nbb_cells[i].input_prompt_number == nbb_cell_id) {\n",
       "                        if (nbb_cells[i].get_text() == nbb_unformatted_code) {\n",
       "                             nbb_cells[i].set_text(nbb_formatted_code);\n",
       "                        }\n",
       "                        break;\n",
       "                    }\n",
       "                }\n",
       "            }, 500);\n",
       "            "
      ],
      "text/plain": [
       "<IPython.core.display.Javascript object>"
      ]
     },
     "metadata": {},
     "output_type": "display_data"
    }
   ],
   "source": [
    "ellipses_count = [\n",
    "    len(re.findall(r\"\\.\\.\\.\\ \", posts)) for posts in personality_data[\"posts\"]\n",
    "]\n",
    "personality_data[\"ellipses\"] = ellipses_count"
   ]
  },
  {
   "cell_type": "markdown",
   "metadata": {},
   "source": [
    "#### Image Count"
   ]
  },
  {
   "cell_type": "code",
   "execution_count": 13,
   "metadata": {},
   "outputs": [
    {
     "data": {
      "application/javascript": [
       "\n",
       "            setTimeout(function() {\n",
       "                var nbb_cell_id = 13;\n",
       "                var nbb_unformatted_code = \"personality_data[\\\"img_count\\\"] = [\\n    len(re.findall(r\\\"(\\\\.jpg)|(\\\\.jpeg)|(\\\\.gif)|(\\\\.png)\\\", post))\\n    for post in personality_data[\\\"posts\\\"]\\n]\";\n",
       "                var nbb_formatted_code = \"personality_data[\\\"img_count\\\"] = [\\n    len(re.findall(r\\\"(\\\\.jpg)|(\\\\.jpeg)|(\\\\.gif)|(\\\\.png)\\\", post))\\n    for post in personality_data[\\\"posts\\\"]\\n]\";\n",
       "                var nbb_cells = Jupyter.notebook.get_cells();\n",
       "                for (var i = 0; i < nbb_cells.length; ++i) {\n",
       "                    if (nbb_cells[i].input_prompt_number == nbb_cell_id) {\n",
       "                        if (nbb_cells[i].get_text() == nbb_unformatted_code) {\n",
       "                             nbb_cells[i].set_text(nbb_formatted_code);\n",
       "                        }\n",
       "                        break;\n",
       "                    }\n",
       "                }\n",
       "            }, 500);\n",
       "            "
      ],
      "text/plain": [
       "<IPython.core.display.Javascript object>"
      ]
     },
     "metadata": {},
     "output_type": "display_data"
    }
   ],
   "source": [
    "personality_data[\"img_count\"] = [\n",
    "    len(re.findall(r\"(\\.jpg)|(\\.jpeg)|(\\.gif)|(\\.png)\", post))\n",
    "    for post in personality_data[\"posts\"]\n",
    "]"
   ]
  },
  {
   "cell_type": "code",
   "execution_count": 14,
   "metadata": {},
   "outputs": [
    {
     "data": {
      "text/html": [
       "<div>\n",
       "<style scoped>\n",
       "    .dataframe tbody tr th:only-of-type {\n",
       "        vertical-align: middle;\n",
       "    }\n",
       "\n",
       "    .dataframe tbody tr th {\n",
       "        vertical-align: top;\n",
       "    }\n",
       "\n",
       "    .dataframe thead th {\n",
       "        text-align: right;\n",
       "    }\n",
       "</style>\n",
       "<table border=\"1\" class=\"dataframe\">\n",
       "  <thead>\n",
       "    <tr style=\"text-align: right;\">\n",
       "      <th></th>\n",
       "      <th>type</th>\n",
       "      <th>is_Extrovert</th>\n",
       "      <th>is_Sensing</th>\n",
       "      <th>is_Thinking</th>\n",
       "      <th>is_Judging</th>\n",
       "      <th>posts</th>\n",
       "      <th>clean_posts</th>\n",
       "      <th>compound_sentiment</th>\n",
       "      <th>pos_sentiment</th>\n",
       "      <th>neg_sentiment</th>\n",
       "      <th>...</th>\n",
       "      <th>word_count</th>\n",
       "      <th>unique_words</th>\n",
       "      <th>avg_word_ct</th>\n",
       "      <th>post_length_var</th>\n",
       "      <th>med_char</th>\n",
       "      <th>med_word</th>\n",
       "      <th>upper</th>\n",
       "      <th>link_count</th>\n",
       "      <th>ellipses</th>\n",
       "      <th>img_count</th>\n",
       "    </tr>\n",
       "  </thead>\n",
       "  <tbody>\n",
       "    <tr>\n",
       "      <th>0</th>\n",
       "      <td>INFJ</td>\n",
       "      <td>0</td>\n",
       "      <td>0</td>\n",
       "      <td>0</td>\n",
       "      <td>1</td>\n",
       "      <td>'http://www.youtube.com/watch?v=qsXHcwe3krw|||...</td>\n",
       "      <td>youtube    moment  youtube  sportscenter top t...</td>\n",
       "      <td>0.997599</td>\n",
       "      <td>0.352861</td>\n",
       "      <td>0.292958</td>\n",
       "      <td>...</td>\n",
       "      <td>578</td>\n",
       "      <td>376</td>\n",
       "      <td>11.56</td>\n",
       "      <td>135.2900</td>\n",
       "      <td>1.0</td>\n",
       "      <td>1.0</td>\n",
       "      <td>13</td>\n",
       "      <td>24</td>\n",
       "      <td>7</td>\n",
       "      <td>7</td>\n",
       "    </tr>\n",
       "    <tr>\n",
       "      <th>1</th>\n",
       "      <td>ENTP</td>\n",
       "      <td>1</td>\n",
       "      <td>0</td>\n",
       "      <td>1</td>\n",
       "      <td>0</td>\n",
       "      <td>'I'm finding the lack of me in these posts ver...</td>\n",
       "      <td>im finding lack post alarming sex boring posit...</td>\n",
       "      <td>0.999250</td>\n",
       "      <td>0.361035</td>\n",
       "      <td>0.349296</td>\n",
       "      <td>...</td>\n",
       "      <td>1194</td>\n",
       "      <td>596</td>\n",
       "      <td>23.88</td>\n",
       "      <td>187.4756</td>\n",
       "      <td>1.0</td>\n",
       "      <td>1.0</td>\n",
       "      <td>82</td>\n",
       "      <td>10</td>\n",
       "      <td>0</td>\n",
       "      <td>8</td>\n",
       "    </tr>\n",
       "  </tbody>\n",
       "</table>\n",
       "<p>2 rows × 141 columns</p>\n",
       "</div>"
      ],
      "text/plain": [
       "   type  is_Extrovert  is_Sensing  is_Thinking  is_Judging  \\\n",
       "0  INFJ             0           0            0           1   \n",
       "1  ENTP             1           0            1           0   \n",
       "\n",
       "                                               posts  \\\n",
       "0  'http://www.youtube.com/watch?v=qsXHcwe3krw|||...   \n",
       "1  'I'm finding the lack of me in these posts ver...   \n",
       "\n",
       "                                         clean_posts  compound_sentiment  \\\n",
       "0  youtube    moment  youtube  sportscenter top t...            0.997599   \n",
       "1  im finding lack post alarming sex boring posit...            0.999250   \n",
       "\n",
       "   pos_sentiment  neg_sentiment  ...  word_count unique_words avg_word_ct  \\\n",
       "0       0.352861       0.292958  ...         578          376       11.56   \n",
       "1       0.361035       0.349296  ...        1194          596       23.88   \n",
       "\n",
       "   post_length_var  med_char  med_word  upper  link_count  ellipses  img_count  \n",
       "0         135.2900       1.0       1.0     13          24         7          7  \n",
       "1         187.4756       1.0       1.0     82          10         0          8  \n",
       "\n",
       "[2 rows x 141 columns]"
      ]
     },
     "execution_count": 14,
     "metadata": {},
     "output_type": "execute_result"
    },
    {
     "data": {
      "application/javascript": [
       "\n",
       "            setTimeout(function() {\n",
       "                var nbb_cell_id = 14;\n",
       "                var nbb_unformatted_code = \"personality_data.head(2)\";\n",
       "                var nbb_formatted_code = \"personality_data.head(2)\";\n",
       "                var nbb_cells = Jupyter.notebook.get_cells();\n",
       "                for (var i = 0; i < nbb_cells.length; ++i) {\n",
       "                    if (nbb_cells[i].input_prompt_number == nbb_cell_id) {\n",
       "                        if (nbb_cells[i].get_text() == nbb_unformatted_code) {\n",
       "                             nbb_cells[i].set_text(nbb_formatted_code);\n",
       "                        }\n",
       "                        break;\n",
       "                    }\n",
       "                }\n",
       "            }, 500);\n",
       "            "
      ],
      "text/plain": [
       "<IPython.core.display.Javascript object>"
      ]
     },
     "metadata": {},
     "output_type": "display_data"
    }
   ],
   "source": [
    "personality_data.head(2)"
   ]
  },
  {
   "cell_type": "code",
   "execution_count": 15,
   "metadata": {},
   "outputs": [
    {
     "data": {
      "text/plain": [
       "type             object\n",
       "is_Extrovert      int64\n",
       "is_Sensing        int64\n",
       "is_Thinking       int64\n",
       "is_Judging        int64\n",
       "                 ...   \n",
       "med_word        float64\n",
       "upper             int64\n",
       "link_count        int64\n",
       "ellipses          int64\n",
       "img_count         int64\n",
       "Length: 141, dtype: object"
      ]
     },
     "execution_count": 15,
     "metadata": {},
     "output_type": "execute_result"
    },
    {
     "data": {
      "application/javascript": [
       "\n",
       "            setTimeout(function() {\n",
       "                var nbb_cell_id = 15;\n",
       "                var nbb_unformatted_code = \"# checking the data types to make sure they still look good\\npersonality_data.dtypes\";\n",
       "                var nbb_formatted_code = \"# checking the data types to make sure they still look good\\npersonality_data.dtypes\";\n",
       "                var nbb_cells = Jupyter.notebook.get_cells();\n",
       "                for (var i = 0; i < nbb_cells.length; ++i) {\n",
       "                    if (nbb_cells[i].input_prompt_number == nbb_cell_id) {\n",
       "                        if (nbb_cells[i].get_text() == nbb_unformatted_code) {\n",
       "                             nbb_cells[i].set_text(nbb_formatted_code);\n",
       "                        }\n",
       "                        break;\n",
       "                    }\n",
       "                }\n",
       "            }, 500);\n",
       "            "
      ],
      "text/plain": [
       "<IPython.core.display.Javascript object>"
      ]
     },
     "metadata": {},
     "output_type": "display_data"
    }
   ],
   "source": [
    "# checking the data types to make sure they still look good\n",
    "personality_data.dtypes"
   ]
  },
  {
   "cell_type": "code",
   "execution_count": 16,
   "metadata": {},
   "outputs": [
    {
     "data": {
      "text/plain": [
       "type            0\n",
       "is_Extrovert    0\n",
       "is_Sensing      0\n",
       "is_Thinking     0\n",
       "is_Judging      0\n",
       "               ..\n",
       "med_word        0\n",
       "upper           0\n",
       "link_count      0\n",
       "ellipses        0\n",
       "img_count       0\n",
       "Length: 141, dtype: int64"
      ]
     },
     "execution_count": 16,
     "metadata": {},
     "output_type": "execute_result"
    },
    {
     "data": {
      "application/javascript": [
       "\n",
       "            setTimeout(function() {\n",
       "                var nbb_cell_id = 16;\n",
       "                var nbb_unformatted_code = \"# checking for null values again\\npersonality_data.isnull().sum()\";\n",
       "                var nbb_formatted_code = \"# checking for null values again\\npersonality_data.isnull().sum()\";\n",
       "                var nbb_cells = Jupyter.notebook.get_cells();\n",
       "                for (var i = 0; i < nbb_cells.length; ++i) {\n",
       "                    if (nbb_cells[i].input_prompt_number == nbb_cell_id) {\n",
       "                        if (nbb_cells[i].get_text() == nbb_unformatted_code) {\n",
       "                             nbb_cells[i].set_text(nbb_formatted_code);\n",
       "                        }\n",
       "                        break;\n",
       "                    }\n",
       "                }\n",
       "            }, 500);\n",
       "            "
      ],
      "text/plain": [
       "<IPython.core.display.Javascript object>"
      ]
     },
     "metadata": {},
     "output_type": "display_data"
    }
   ],
   "source": [
    "# checking for null values again\n",
    "personality_data.isnull().sum()"
   ]
  },
  {
   "cell_type": "markdown",
   "metadata": {},
   "source": [
    "#### Dropping posts with less than 2 words"
   ]
  },
  {
   "cell_type": "code",
   "execution_count": 17,
   "metadata": {},
   "outputs": [
    {
     "data": {
      "application/javascript": [
       "\n",
       "            setTimeout(function() {\n",
       "                var nbb_cell_id = 17;\n",
       "                var nbb_unformatted_code = \"# personality_data.drop(\\n#     personality_data[personality_data[\\\"word_count\\\"] < 2].index, inplace=True\\n# )\";\n",
       "                var nbb_formatted_code = \"# personality_data.drop(\\n#     personality_data[personality_data[\\\"word_count\\\"] < 2].index, inplace=True\\n# )\";\n",
       "                var nbb_cells = Jupyter.notebook.get_cells();\n",
       "                for (var i = 0; i < nbb_cells.length; ++i) {\n",
       "                    if (nbb_cells[i].input_prompt_number == nbb_cell_id) {\n",
       "                        if (nbb_cells[i].get_text() == nbb_unformatted_code) {\n",
       "                             nbb_cells[i].set_text(nbb_formatted_code);\n",
       "                        }\n",
       "                        break;\n",
       "                    }\n",
       "                }\n",
       "            }, 500);\n",
       "            "
      ],
      "text/plain": [
       "<IPython.core.display.Javascript object>"
      ]
     },
     "metadata": {},
     "output_type": "display_data"
    }
   ],
   "source": [
    "# personality_data.drop(\n",
    "#     personality_data[personality_data[\"word_count\"] < 2].index, inplace=True\n",
    "# )"
   ]
  },
  {
   "cell_type": "code",
   "execution_count": 18,
   "metadata": {},
   "outputs": [
    {
     "data": {
      "application/javascript": [
       "\n",
       "            setTimeout(function() {\n",
       "                var nbb_cell_id = 18;\n",
       "                var nbb_unformatted_code = \"# personality_data.reset_index(drop=True, inplace=True)\";\n",
       "                var nbb_formatted_code = \"# personality_data.reset_index(drop=True, inplace=True)\";\n",
       "                var nbb_cells = Jupyter.notebook.get_cells();\n",
       "                for (var i = 0; i < nbb_cells.length; ++i) {\n",
       "                    if (nbb_cells[i].input_prompt_number == nbb_cell_id) {\n",
       "                        if (nbb_cells[i].get_text() == nbb_unformatted_code) {\n",
       "                             nbb_cells[i].set_text(nbb_formatted_code);\n",
       "                        }\n",
       "                        break;\n",
       "                    }\n",
       "                }\n",
       "            }, 500);\n",
       "            "
      ],
      "text/plain": [
       "<IPython.core.display.Javascript object>"
      ]
     },
     "metadata": {},
     "output_type": "display_data"
    }
   ],
   "source": [
    "# personality_data.reset_index(drop=True, inplace=True)"
   ]
  },
  {
   "cell_type": "code",
   "execution_count": 19,
   "metadata": {},
   "outputs": [
    {
     "data": {
      "application/javascript": [
       "\n",
       "            setTimeout(function() {\n",
       "                var nbb_cell_id = 19;\n",
       "                var nbb_unformatted_code = \"# personality_data.head(2)\";\n",
       "                var nbb_formatted_code = \"# personality_data.head(2)\";\n",
       "                var nbb_cells = Jupyter.notebook.get_cells();\n",
       "                for (var i = 0; i < nbb_cells.length; ++i) {\n",
       "                    if (nbb_cells[i].input_prompt_number == nbb_cell_id) {\n",
       "                        if (nbb_cells[i].get_text() == nbb_unformatted_code) {\n",
       "                             nbb_cells[i].set_text(nbb_formatted_code);\n",
       "                        }\n",
       "                        break;\n",
       "                    }\n",
       "                }\n",
       "            }, 500);\n",
       "            "
      ],
      "text/plain": [
       "<IPython.core.display.Javascript object>"
      ]
     },
     "metadata": {},
     "output_type": "display_data"
    }
   ],
   "source": [
    "# personality_data.head(2)"
   ]
  },
  {
   "cell_type": "code",
   "execution_count": 20,
   "metadata": {},
   "outputs": [
    {
     "data": {
      "application/javascript": [
       "\n",
       "            setTimeout(function() {\n",
       "                var nbb_cell_id = 20;\n",
       "                var nbb_unformatted_code = \"# Saving the data with counts\\npersonality_data.to_csv(\\\"data_ekta/clean_data_3.csv\\\", index=False)\";\n",
       "                var nbb_formatted_code = \"# Saving the data with counts\\npersonality_data.to_csv(\\\"data_ekta/clean_data_3.csv\\\", index=False)\";\n",
       "                var nbb_cells = Jupyter.notebook.get_cells();\n",
       "                for (var i = 0; i < nbb_cells.length; ++i) {\n",
       "                    if (nbb_cells[i].input_prompt_number == nbb_cell_id) {\n",
       "                        if (nbb_cells[i].get_text() == nbb_unformatted_code) {\n",
       "                             nbb_cells[i].set_text(nbb_formatted_code);\n",
       "                        }\n",
       "                        break;\n",
       "                    }\n",
       "                }\n",
       "            }, 500);\n",
       "            "
      ],
      "text/plain": [
       "<IPython.core.display.Javascript object>"
      ]
     },
     "metadata": {},
     "output_type": "display_data"
    }
   ],
   "source": [
    "# Saving the data with counts\n",
    "personality_data.to_csv(\"data_ekta/clean_data_3.csv\", index=False)"
   ]
  },
  {
   "cell_type": "markdown",
   "metadata": {},
   "source": [
    "### Vectorize"
   ]
  },
  {
   "cell_type": "code",
   "execution_count": 27,
   "metadata": {
    "scrolled": true
   },
   "outputs": [
    {
     "data": {
      "application/javascript": [
       "\n",
       "            setTimeout(function() {\n",
       "                var nbb_cell_id = 27;\n",
       "                var nbb_unformatted_code = \"# Using TfidfVectorizer\\n\\ntfidf_vectorizer = TfidfVectorizer(\\n    min_df=0.05, max_df=0.85, analyzer=\\\"word\\\", ngram_range=(1, 2), max_features=1500\\n)\\ntfidf_words = tfidf_vectorizer.fit_transform(personality_data[\\\"clean_posts\\\"])\\n\\ntfidf_vectorized_data = pd.DataFrame(\\n    data=tfidf_words.toarray(), columns=tfidf_vectorizer.get_feature_names()\\n)\";\n",
       "                var nbb_formatted_code = \"# Using TfidfVectorizer\\n\\ntfidf_vectorizer = TfidfVectorizer(\\n    min_df=0.05, max_df=0.85, analyzer=\\\"word\\\", ngram_range=(1, 2), max_features=1500\\n)\\ntfidf_words = tfidf_vectorizer.fit_transform(personality_data[\\\"clean_posts\\\"])\\n\\ntfidf_vectorized_data = pd.DataFrame(\\n    data=tfidf_words.toarray(), columns=tfidf_vectorizer.get_feature_names()\\n)\";\n",
       "                var nbb_cells = Jupyter.notebook.get_cells();\n",
       "                for (var i = 0; i < nbb_cells.length; ++i) {\n",
       "                    if (nbb_cells[i].input_prompt_number == nbb_cell_id) {\n",
       "                        if (nbb_cells[i].get_text() == nbb_unformatted_code) {\n",
       "                             nbb_cells[i].set_text(nbb_formatted_code);\n",
       "                        }\n",
       "                        break;\n",
       "                    }\n",
       "                }\n",
       "            }, 500);\n",
       "            "
      ],
      "text/plain": [
       "<IPython.core.display.Javascript object>"
      ]
     },
     "metadata": {},
     "output_type": "display_data"
    }
   ],
   "source": [
    "# Using TfidfVectorizer\n",
    "\n",
    "tfidf_vectorizer = TfidfVectorizer(\n",
    "    min_df=0.05, max_df=0.85, analyzer=\"word\", ngram_range=(1, 2), max_features=1500\n",
    ")\n",
    "tfidf_words = tfidf_vectorizer.fit_transform(personality_data[\"clean_posts\"])\n",
    "\n",
    "tfidf_vectorized_data = pd.DataFrame(\n",
    "    data=tfidf_words.toarray(), columns=tfidf_vectorizer.get_feature_names()\n",
    ")"
   ]
  },
  {
   "cell_type": "code",
   "execution_count": 28,
   "metadata": {},
   "outputs": [
    {
     "data": {
      "text/html": [
       "<div>\n",
       "<style scoped>\n",
       "    .dataframe tbody tr th:only-of-type {\n",
       "        vertical-align: middle;\n",
       "    }\n",
       "\n",
       "    .dataframe tbody tr th {\n",
       "        vertical-align: top;\n",
       "    }\n",
       "\n",
       "    .dataframe thead th {\n",
       "        text-align: right;\n",
       "    }\n",
       "</style>\n",
       "<table border=\"1\" class=\"dataframe\">\n",
       "  <thead>\n",
       "    <tr style=\"text-align: right;\">\n",
       "      <th></th>\n",
       "      <th>ability</th>\n",
       "      <th>able</th>\n",
       "      <th>absolutely</th>\n",
       "      <th>abstract</th>\n",
       "      <th>accept</th>\n",
       "      <th>according</th>\n",
       "      <th>account</th>\n",
       "      <th>accurate</th>\n",
       "      <th>across</th>\n",
       "      <th>act</th>\n",
       "      <th>...</th>\n",
       "      <th>youd</th>\n",
       "      <th>youll</th>\n",
       "      <th>young</th>\n",
       "      <th>younger</th>\n",
       "      <th>youre</th>\n",
       "      <th>youre right</th>\n",
       "      <th>youtube</th>\n",
       "      <th>youtube youtube</th>\n",
       "      <th>youve</th>\n",
       "      <th>yup</th>\n",
       "    </tr>\n",
       "  </thead>\n",
       "  <tbody>\n",
       "    <tr>\n",
       "      <th>0</th>\n",
       "      <td>0.000000</td>\n",
       "      <td>0.000000</td>\n",
       "      <td>0.000000</td>\n",
       "      <td>0.0</td>\n",
       "      <td>0.0</td>\n",
       "      <td>0.0</td>\n",
       "      <td>0.0</td>\n",
       "      <td>0.000000</td>\n",
       "      <td>0.0</td>\n",
       "      <td>0.0</td>\n",
       "      <td>...</td>\n",
       "      <td>0.0</td>\n",
       "      <td>0.000000</td>\n",
       "      <td>0.0</td>\n",
       "      <td>0.0</td>\n",
       "      <td>0.028597</td>\n",
       "      <td>0.000000</td>\n",
       "      <td>0.551125</td>\n",
       "      <td>0.185773</td>\n",
       "      <td>0.048938</td>\n",
       "      <td>0.000000</td>\n",
       "    </tr>\n",
       "    <tr>\n",
       "      <th>1</th>\n",
       "      <td>0.000000</td>\n",
       "      <td>0.038241</td>\n",
       "      <td>0.000000</td>\n",
       "      <td>0.0</td>\n",
       "      <td>0.0</td>\n",
       "      <td>0.0</td>\n",
       "      <td>0.0</td>\n",
       "      <td>0.000000</td>\n",
       "      <td>0.0</td>\n",
       "      <td>0.0</td>\n",
       "      <td>...</td>\n",
       "      <td>0.0</td>\n",
       "      <td>0.000000</td>\n",
       "      <td>0.0</td>\n",
       "      <td>0.0</td>\n",
       "      <td>0.103125</td>\n",
       "      <td>0.000000</td>\n",
       "      <td>0.031054</td>\n",
       "      <td>0.000000</td>\n",
       "      <td>0.000000</td>\n",
       "      <td>0.000000</td>\n",
       "    </tr>\n",
       "    <tr>\n",
       "      <th>2</th>\n",
       "      <td>0.122044</td>\n",
       "      <td>0.044139</td>\n",
       "      <td>0.106094</td>\n",
       "      <td>0.0</td>\n",
       "      <td>0.0</td>\n",
       "      <td>0.0</td>\n",
       "      <td>0.0</td>\n",
       "      <td>0.063832</td>\n",
       "      <td>0.0</td>\n",
       "      <td>0.0</td>\n",
       "      <td>...</td>\n",
       "      <td>0.0</td>\n",
       "      <td>0.000000</td>\n",
       "      <td>0.0</td>\n",
       "      <td>0.0</td>\n",
       "      <td>0.089273</td>\n",
       "      <td>0.075764</td>\n",
       "      <td>0.107532</td>\n",
       "      <td>0.000000</td>\n",
       "      <td>0.000000</td>\n",
       "      <td>0.081498</td>\n",
       "    </tr>\n",
       "    <tr>\n",
       "      <th>3</th>\n",
       "      <td>0.000000</td>\n",
       "      <td>0.070525</td>\n",
       "      <td>0.000000</td>\n",
       "      <td>0.0</td>\n",
       "      <td>0.0</td>\n",
       "      <td>0.0</td>\n",
       "      <td>0.0</td>\n",
       "      <td>0.000000</td>\n",
       "      <td>0.0</td>\n",
       "      <td>0.0</td>\n",
       "      <td>...</td>\n",
       "      <td>0.0</td>\n",
       "      <td>0.045747</td>\n",
       "      <td>0.0</td>\n",
       "      <td>0.0</td>\n",
       "      <td>0.142639</td>\n",
       "      <td>0.000000</td>\n",
       "      <td>0.057271</td>\n",
       "      <td>0.000000</td>\n",
       "      <td>0.081367</td>\n",
       "      <td>0.000000</td>\n",
       "    </tr>\n",
       "    <tr>\n",
       "      <th>4</th>\n",
       "      <td>0.000000</td>\n",
       "      <td>0.000000</td>\n",
       "      <td>0.000000</td>\n",
       "      <td>0.0</td>\n",
       "      <td>0.0</td>\n",
       "      <td>0.0</td>\n",
       "      <td>0.0</td>\n",
       "      <td>0.000000</td>\n",
       "      <td>0.0</td>\n",
       "      <td>0.0</td>\n",
       "      <td>...</td>\n",
       "      <td>0.0</td>\n",
       "      <td>0.000000</td>\n",
       "      <td>0.0</td>\n",
       "      <td>0.0</td>\n",
       "      <td>0.027405</td>\n",
       "      <td>0.000000</td>\n",
       "      <td>0.033010</td>\n",
       "      <td>0.000000</td>\n",
       "      <td>0.000000</td>\n",
       "      <td>0.000000</td>\n",
       "    </tr>\n",
       "  </tbody>\n",
       "</table>\n",
       "<p>5 rows × 1500 columns</p>\n",
       "</div>"
      ],
      "text/plain": [
       "    ability      able  absolutely  abstract  accept  according  account  \\\n",
       "0  0.000000  0.000000    0.000000       0.0     0.0        0.0      0.0   \n",
       "1  0.000000  0.038241    0.000000       0.0     0.0        0.0      0.0   \n",
       "2  0.122044  0.044139    0.106094       0.0     0.0        0.0      0.0   \n",
       "3  0.000000  0.070525    0.000000       0.0     0.0        0.0      0.0   \n",
       "4  0.000000  0.000000    0.000000       0.0     0.0        0.0      0.0   \n",
       "\n",
       "   accurate  across  act  ...  youd     youll  young  younger     youre  \\\n",
       "0  0.000000     0.0  0.0  ...   0.0  0.000000    0.0      0.0  0.028597   \n",
       "1  0.000000     0.0  0.0  ...   0.0  0.000000    0.0      0.0  0.103125   \n",
       "2  0.063832     0.0  0.0  ...   0.0  0.000000    0.0      0.0  0.089273   \n",
       "3  0.000000     0.0  0.0  ...   0.0  0.045747    0.0      0.0  0.142639   \n",
       "4  0.000000     0.0  0.0  ...   0.0  0.000000    0.0      0.0  0.027405   \n",
       "\n",
       "   youre right   youtube  youtube youtube     youve       yup  \n",
       "0     0.000000  0.551125         0.185773  0.048938  0.000000  \n",
       "1     0.000000  0.031054         0.000000  0.000000  0.000000  \n",
       "2     0.075764  0.107532         0.000000  0.000000  0.081498  \n",
       "3     0.000000  0.057271         0.000000  0.081367  0.000000  \n",
       "4     0.000000  0.033010         0.000000  0.000000  0.000000  \n",
       "\n",
       "[5 rows x 1500 columns]"
      ]
     },
     "execution_count": 28,
     "metadata": {},
     "output_type": "execute_result"
    },
    {
     "data": {
      "application/javascript": [
       "\n",
       "            setTimeout(function() {\n",
       "                var nbb_cell_id = 28;\n",
       "                var nbb_unformatted_code = \"tfidf_vectorized_data.head()\";\n",
       "                var nbb_formatted_code = \"tfidf_vectorized_data.head()\";\n",
       "                var nbb_cells = Jupyter.notebook.get_cells();\n",
       "                for (var i = 0; i < nbb_cells.length; ++i) {\n",
       "                    if (nbb_cells[i].input_prompt_number == nbb_cell_id) {\n",
       "                        if (nbb_cells[i].get_text() == nbb_unformatted_code) {\n",
       "                             nbb_cells[i].set_text(nbb_formatted_code);\n",
       "                        }\n",
       "                        break;\n",
       "                    }\n",
       "                }\n",
       "            }, 500);\n",
       "            "
      ],
      "text/plain": [
       "<IPython.core.display.Javascript object>"
      ]
     },
     "metadata": {},
     "output_type": "display_data"
    }
   ],
   "source": [
    "tfidf_vectorized_data.head()"
   ]
  },
  {
   "cell_type": "code",
   "execution_count": 29,
   "metadata": {},
   "outputs": [
    {
     "data": {
      "application/javascript": [
       "\n",
       "            setTimeout(function() {\n",
       "                var nbb_cell_id = 29;\n",
       "                var nbb_unformatted_code = \"# Saving the TF-IDF vectorized data\\ntfidf_vectorized_data.to_csv(\\\"data_ekta/tfidf_vectorized_data.csv\\\", index=False)\";\n",
       "                var nbb_formatted_code = \"# Saving the TF-IDF vectorized data\\ntfidf_vectorized_data.to_csv(\\\"data_ekta/tfidf_vectorized_data.csv\\\", index=False)\";\n",
       "                var nbb_cells = Jupyter.notebook.get_cells();\n",
       "                for (var i = 0; i < nbb_cells.length; ++i) {\n",
       "                    if (nbb_cells[i].input_prompt_number == nbb_cell_id) {\n",
       "                        if (nbb_cells[i].get_text() == nbb_unformatted_code) {\n",
       "                             nbb_cells[i].set_text(nbb_formatted_code);\n",
       "                        }\n",
       "                        break;\n",
       "                    }\n",
       "                }\n",
       "            }, 500);\n",
       "            "
      ],
      "text/plain": [
       "<IPython.core.display.Javascript object>"
      ]
     },
     "metadata": {},
     "output_type": "display_data"
    }
   ],
   "source": [
    "# Saving the TF-IDF vectorized data\n",
    "tfidf_vectorized_data.to_csv(\"data_ekta/tfidf_vectorized_data.csv\", index=False)"
   ]
  },
  {
   "cell_type": "code",
   "execution_count": 24,
   "metadata": {},
   "outputs": [
    {
     "data": {
      "application/javascript": [
       "\n",
       "            setTimeout(function() {\n",
       "                var nbb_cell_id = 24;\n",
       "                var nbb_unformatted_code = \"# Using CountVectorizer\\n\\ncount_vectorizer = CountVectorizer(\\n    analyzer=\\\"word\\\",\\n    stop_words=\\\"english\\\",\\n    input=\\\"content\\\",\\n    decode_error=\\\"ignore\\\",\\n    min_df=0.05,\\n    max_df=0.90,\\n    token_pattern=r\\\"\\\\w{1,}\\\",\\n    max_features=2000,\\n    ngram_range=(1, 2),\\n)\\n\\ncount_words = count_vectorizer.fit_transform(personality_data[\\\"clean_posts\\\"])\\ncount_vectorized_data = pd.DataFrame(\\n    data=count_words.toarray(), columns=count_vectorizer.get_feature_names()\\n)\";\n",
       "                var nbb_formatted_code = \"# Using CountVectorizer\\n\\ncount_vectorizer = CountVectorizer(\\n    analyzer=\\\"word\\\",\\n    stop_words=\\\"english\\\",\\n    input=\\\"content\\\",\\n    decode_error=\\\"ignore\\\",\\n    min_df=0.05,\\n    max_df=0.90,\\n    token_pattern=r\\\"\\\\w{1,}\\\",\\n    max_features=2000,\\n    ngram_range=(1, 2),\\n)\\n\\ncount_words = count_vectorizer.fit_transform(personality_data[\\\"clean_posts\\\"])\\ncount_vectorized_data = pd.DataFrame(\\n    data=count_words.toarray(), columns=count_vectorizer.get_feature_names()\\n)\";\n",
       "                var nbb_cells = Jupyter.notebook.get_cells();\n",
       "                for (var i = 0; i < nbb_cells.length; ++i) {\n",
       "                    if (nbb_cells[i].input_prompt_number == nbb_cell_id) {\n",
       "                        if (nbb_cells[i].get_text() == nbb_unformatted_code) {\n",
       "                             nbb_cells[i].set_text(nbb_formatted_code);\n",
       "                        }\n",
       "                        break;\n",
       "                    }\n",
       "                }\n",
       "            }, 500);\n",
       "            "
      ],
      "text/plain": [
       "<IPython.core.display.Javascript object>"
      ]
     },
     "metadata": {},
     "output_type": "display_data"
    }
   ],
   "source": [
    "# Using CountVectorizer\n",
    "\n",
    "count_vectorizer = CountVectorizer(\n",
    "    analyzer=\"word\",\n",
    "    stop_words=\"english\",\n",
    "    input=\"content\",\n",
    "    decode_error=\"ignore\",\n",
    "    min_df=0.05,\n",
    "    max_df=0.90,\n",
    "    token_pattern=r\"\\w{1,}\",\n",
    "    max_features=2000,\n",
    "    ngram_range=(1, 2),\n",
    ")\n",
    "\n",
    "count_words = count_vectorizer.fit_transform(personality_data[\"clean_posts\"])\n",
    "count_vectorized_data = pd.DataFrame(\n",
    "    data=count_words.toarray(), columns=count_vectorizer.get_feature_names()\n",
    ")"
   ]
  },
  {
   "cell_type": "code",
   "execution_count": 25,
   "metadata": {},
   "outputs": [
    {
     "data": {
      "text/html": [
       "<div>\n",
       "<style scoped>\n",
       "    .dataframe tbody tr th:only-of-type {\n",
       "        vertical-align: middle;\n",
       "    }\n",
       "\n",
       "    .dataframe tbody tr th {\n",
       "        vertical-align: top;\n",
       "    }\n",
       "\n",
       "    .dataframe thead th {\n",
       "        text-align: right;\n",
       "    }\n",
       "</style>\n",
       "<table border=\"1\" class=\"dataframe\">\n",
       "  <thead>\n",
       "    <tr style=\"text-align: right;\">\n",
       "      <th></th>\n",
       "      <th>ability</th>\n",
       "      <th>able</th>\n",
       "      <th>absolute</th>\n",
       "      <th>absolutely</th>\n",
       "      <th>abstract</th>\n",
       "      <th>accept</th>\n",
       "      <th>according</th>\n",
       "      <th>account</th>\n",
       "      <th>accurate</th>\n",
       "      <th>act</th>\n",
       "      <th>...</th>\n",
       "      <th>youll</th>\n",
       "      <th>young</th>\n",
       "      <th>younger</th>\n",
       "      <th>youre</th>\n",
       "      <th>youre going</th>\n",
       "      <th>youre right</th>\n",
       "      <th>youtube</th>\n",
       "      <th>youtube youtube</th>\n",
       "      <th>youve</th>\n",
       "      <th>yup</th>\n",
       "    </tr>\n",
       "  </thead>\n",
       "  <tbody>\n",
       "    <tr>\n",
       "      <th>0</th>\n",
       "      <td>0</td>\n",
       "      <td>0</td>\n",
       "      <td>0</td>\n",
       "      <td>0</td>\n",
       "      <td>0</td>\n",
       "      <td>0</td>\n",
       "      <td>0</td>\n",
       "      <td>0</td>\n",
       "      <td>0</td>\n",
       "      <td>0</td>\n",
       "      <td>...</td>\n",
       "      <td>0</td>\n",
       "      <td>0</td>\n",
       "      <td>0</td>\n",
       "      <td>1</td>\n",
       "      <td>0</td>\n",
       "      <td>0</td>\n",
       "      <td>16</td>\n",
       "      <td>3</td>\n",
       "      <td>1</td>\n",
       "      <td>0</td>\n",
       "    </tr>\n",
       "    <tr>\n",
       "      <th>1</th>\n",
       "      <td>0</td>\n",
       "      <td>1</td>\n",
       "      <td>0</td>\n",
       "      <td>0</td>\n",
       "      <td>0</td>\n",
       "      <td>0</td>\n",
       "      <td>0</td>\n",
       "      <td>0</td>\n",
       "      <td>0</td>\n",
       "      <td>0</td>\n",
       "      <td>...</td>\n",
       "      <td>0</td>\n",
       "      <td>0</td>\n",
       "      <td>0</td>\n",
       "      <td>4</td>\n",
       "      <td>0</td>\n",
       "      <td>0</td>\n",
       "      <td>1</td>\n",
       "      <td>0</td>\n",
       "      <td>0</td>\n",
       "      <td>0</td>\n",
       "    </tr>\n",
       "    <tr>\n",
       "      <th>2</th>\n",
       "      <td>2</td>\n",
       "      <td>1</td>\n",
       "      <td>0</td>\n",
       "      <td>2</td>\n",
       "      <td>0</td>\n",
       "      <td>0</td>\n",
       "      <td>0</td>\n",
       "      <td>0</td>\n",
       "      <td>1</td>\n",
       "      <td>0</td>\n",
       "      <td>...</td>\n",
       "      <td>0</td>\n",
       "      <td>0</td>\n",
       "      <td>0</td>\n",
       "      <td>3</td>\n",
       "      <td>0</td>\n",
       "      <td>1</td>\n",
       "      <td>3</td>\n",
       "      <td>0</td>\n",
       "      <td>0</td>\n",
       "      <td>1</td>\n",
       "    </tr>\n",
       "    <tr>\n",
       "      <th>3</th>\n",
       "      <td>0</td>\n",
       "      <td>2</td>\n",
       "      <td>1</td>\n",
       "      <td>0</td>\n",
       "      <td>0</td>\n",
       "      <td>0</td>\n",
       "      <td>0</td>\n",
       "      <td>0</td>\n",
       "      <td>0</td>\n",
       "      <td>0</td>\n",
       "      <td>...</td>\n",
       "      <td>1</td>\n",
       "      <td>0</td>\n",
       "      <td>0</td>\n",
       "      <td>6</td>\n",
       "      <td>0</td>\n",
       "      <td>0</td>\n",
       "      <td>2</td>\n",
       "      <td>0</td>\n",
       "      <td>2</td>\n",
       "      <td>0</td>\n",
       "    </tr>\n",
       "    <tr>\n",
       "      <th>4</th>\n",
       "      <td>0</td>\n",
       "      <td>0</td>\n",
       "      <td>0</td>\n",
       "      <td>0</td>\n",
       "      <td>0</td>\n",
       "      <td>0</td>\n",
       "      <td>0</td>\n",
       "      <td>0</td>\n",
       "      <td>0</td>\n",
       "      <td>0</td>\n",
       "      <td>...</td>\n",
       "      <td>0</td>\n",
       "      <td>0</td>\n",
       "      <td>0</td>\n",
       "      <td>1</td>\n",
       "      <td>0</td>\n",
       "      <td>0</td>\n",
       "      <td>1</td>\n",
       "      <td>0</td>\n",
       "      <td>0</td>\n",
       "      <td>0</td>\n",
       "    </tr>\n",
       "  </tbody>\n",
       "</table>\n",
       "<p>5 rows × 1506 columns</p>\n",
       "</div>"
      ],
      "text/plain": [
       "   ability  able  absolute  absolutely  abstract  accept  according  account  \\\n",
       "0        0     0         0           0         0       0          0        0   \n",
       "1        0     1         0           0         0       0          0        0   \n",
       "2        2     1         0           2         0       0          0        0   \n",
       "3        0     2         1           0         0       0          0        0   \n",
       "4        0     0         0           0         0       0          0        0   \n",
       "\n",
       "   accurate  act  ...  youll  young  younger  youre  youre going  youre right  \\\n",
       "0         0    0  ...      0      0        0      1            0            0   \n",
       "1         0    0  ...      0      0        0      4            0            0   \n",
       "2         1    0  ...      0      0        0      3            0            1   \n",
       "3         0    0  ...      1      0        0      6            0            0   \n",
       "4         0    0  ...      0      0        0      1            0            0   \n",
       "\n",
       "   youtube  youtube youtube  youve  yup  \n",
       "0       16                3      1    0  \n",
       "1        1                0      0    0  \n",
       "2        3                0      0    1  \n",
       "3        2                0      2    0  \n",
       "4        1                0      0    0  \n",
       "\n",
       "[5 rows x 1506 columns]"
      ]
     },
     "execution_count": 25,
     "metadata": {},
     "output_type": "execute_result"
    },
    {
     "data": {
      "application/javascript": [
       "\n",
       "            setTimeout(function() {\n",
       "                var nbb_cell_id = 25;\n",
       "                var nbb_unformatted_code = \"count_vectorized_data.head()\";\n",
       "                var nbb_formatted_code = \"count_vectorized_data.head()\";\n",
       "                var nbb_cells = Jupyter.notebook.get_cells();\n",
       "                for (var i = 0; i < nbb_cells.length; ++i) {\n",
       "                    if (nbb_cells[i].input_prompt_number == nbb_cell_id) {\n",
       "                        if (nbb_cells[i].get_text() == nbb_unformatted_code) {\n",
       "                             nbb_cells[i].set_text(nbb_formatted_code);\n",
       "                        }\n",
       "                        break;\n",
       "                    }\n",
       "                }\n",
       "            }, 500);\n",
       "            "
      ],
      "text/plain": [
       "<IPython.core.display.Javascript object>"
      ]
     },
     "metadata": {},
     "output_type": "display_data"
    }
   ],
   "source": [
    "count_vectorized_data.head()"
   ]
  },
  {
   "cell_type": "code",
   "execution_count": 26,
   "metadata": {},
   "outputs": [
    {
     "data": {
      "application/javascript": [
       "\n",
       "            setTimeout(function() {\n",
       "                var nbb_cell_id = 26;\n",
       "                var nbb_unformatted_code = \"# Saving the Count vectorized data\\ncount_vectorized_data.to_csv(\\\"data_ekta/count_vectorized_data.csv\\\", index=False)\";\n",
       "                var nbb_formatted_code = \"# Saving the Count vectorized data\\ncount_vectorized_data.to_csv(\\\"data_ekta/count_vectorized_data.csv\\\", index=False)\";\n",
       "                var nbb_cells = Jupyter.notebook.get_cells();\n",
       "                for (var i = 0; i < nbb_cells.length; ++i) {\n",
       "                    if (nbb_cells[i].input_prompt_number == nbb_cell_id) {\n",
       "                        if (nbb_cells[i].get_text() == nbb_unformatted_code) {\n",
       "                             nbb_cells[i].set_text(nbb_formatted_code);\n",
       "                        }\n",
       "                        break;\n",
       "                    }\n",
       "                }\n",
       "            }, 500);\n",
       "            "
      ],
      "text/plain": [
       "<IPython.core.display.Javascript object>"
      ]
     },
     "metadata": {},
     "output_type": "display_data"
    }
   ],
   "source": [
    "# Saving the Count vectorized data\n",
    "count_vectorized_data.to_csv(\"data_ekta/count_vectorized_data.csv\", index=False)"
   ]
  }
 ],
 "metadata": {
  "kernelspec": {
   "display_name": "project3",
   "language": "python",
   "name": "project3"
  },
  "language_info": {
   "codemirror_mode": {
    "name": "ipython",
    "version": 3
   },
   "file_extension": ".py",
   "mimetype": "text/x-python",
   "name": "python",
   "nbconvert_exporter": "python",
   "pygments_lexer": "ipython3",
   "version": "3.7.5"
  }
 },
 "nbformat": 4,
 "nbformat_minor": 4
}
