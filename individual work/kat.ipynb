{
 "cells": [
  {
   "cell_type": "code",
   "execution_count": 1,
   "metadata": {},
   "outputs": [],
   "source": [
    "import pandas as pd\n",
    "import matplotlib.pyplot as plt\n",
    "import re"
   ]
  },
  {
   "cell_type": "code",
   "execution_count": 2,
   "metadata": {},
   "outputs": [],
   "source": [
    "re_link = re.compile(r\"(https?:?\\/\\/)?(www[1-3]?.?)?((([a-zA-Z0-9\\-]*)\\.?)*)\")"
   ]
  },
  {
   "cell_type": "code",
   "execution_count": 3,
   "metadata": {},
   "outputs": [],
   "source": [
    "def unique_words(s):\n",
    "    unique = set(s.split(' ')) \n",
    "    return len(unique)\n",
    "\n",
    "def emojis(post):\n",
    "    # does not include emojis made purely from symbols, only :word:\n",
    "    emoji_count = 0\n",
    "    words = post.split()\n",
    "    for e in words:\n",
    "        if 'http' not in e:\n",
    "            if e.count(':')==2:\n",
    "                emoji_count+=1\n",
    "    return emoji_count\n",
    "\n",
    "def colons(post):\n",
    "    # Includes colons used in emojis\n",
    "    colon_count = 0\n",
    "    words = post.split()\n",
    "    for e in words:\n",
    "        if 'http' not in e:\n",
    "            colon_count+=e.count(':')\n",
    "    return colon_count\n",
    "\n",
    "# def domains(post):\n",
    "#     # Includes colons used in emojis\n",
    "#     domains = []\n",
    "#     words = post.split(' ')\n",
    "#     for s in words:\n",
    "# #         print(s)\n",
    "#         if 'http' in s:\n",
    "#             s1 = s.split('.com')[0].split('//')[-1]\n",
    "#             s2 = s1[s1.rfind('.')+1:]\n",
    "#             if s2 not in domains:\n",
    "#                 domains.append(s2)\n",
    "#     return domains"
   ]
  },
  {
   "cell_type": "code",
   "execution_count": 4,
   "metadata": {},
   "outputs": [],
   "source": [
    "#Pull in csv\n",
    "mbti_user = pd.read_csv('../data/mbti_1.csv')\n",
    "#.reset_index().rename(columns={'index':'id'})"
   ]
  },
  {
   "cell_type": "markdown",
   "metadata": {},
   "source": [
    "Analysis per user"
   ]
  },
  {
   "cell_type": "raw",
   "metadata": {},
   "source": [
    "#Looking at words\n",
    "mbti_user['unique_words'] = mbti_user['posts'].str.replace('|||', ' ').apply(unique_words)\n",
    "mbti_user['word_count'] = mbti_user['posts'].apply(lambda s : s.count(' ')+1)"
   ]
  },
  {
   "cell_type": "raw",
   "metadata": {},
   "source": [
    "#looking at grammer\n",
    "mbti_user['qm'] = mbti_user['posts'].apply(lambda s : s.count('?'))\n",
    "mbti_user['em'] = mbti_user['posts'].apply(lambda s : s.count('!'))\n",
    "mbti_user['colons'] = mbti_user['posts'].apply(colons)\n",
    "mbti_user['emojis'] = mbti_user['posts'].apply(emojis)"
   ]
  },
  {
   "cell_type": "raw",
   "metadata": {},
   "source": [
    "#Looking at links\n",
    "mbti_user['link_count'] = mbti_user['posts'].apply(lambda s : s.count('http'))\n",
    "# mbti_user['unique_domains'] = mbti_user['posts'].replace('|||', ' ').apply(domains)\n",
    "# mbti_user['unique_domains_count'] = mbti_user['unique_domains'].apply(len)\n",
    "mbti_user['youtube_link'] = mbti_user['posts'].apply(lambda s : s.count('youtube') + s.count('youtu.be'))\n"
   ]
  },
  {
   "cell_type": "raw",
   "metadata": {},
   "source": [
    "#splitting out the different personality elements\n",
    "mbti_user['extroverted'] = mbti_user['type'].apply(lambda s : 1 if s[0] == 'E' else 0)\n",
    "mbti_user['sensor'] = mbti_user['type'].apply(lambda s : 1 if s[1] == 'S' else 0)\n",
    "mbti_user['thinker'] = mbti_user['type'].apply(lambda s : 1 if s[2] == 'T' else 0)\n",
    "mbti_user['judger'] = mbti_user['type'].apply(lambda s : 1 if s[3] == 'J' else 0)"
   ]
  },
  {
   "cell_type": "raw",
   "metadata": {},
   "source": [
    "mbti_user.head()"
   ]
  },
  {
   "cell_type": "raw",
   "metadata": {},
   "source": [
    "mbti_user['clean_posts'] = mbti_user['posts'].str.replace(\n",
    "    re.compile(r\"https?:\\/\\/(www)?.?([A-Za-z_0-9-]+).*\"),\n",
    "    lambda match: match.group(2)\n",
    "    )\n",
    "mbti_user.head()"
   ]
  },
  {
   "cell_type": "markdown",
   "metadata": {},
   "source": [
    "Analysis per post"
   ]
  },
  {
   "cell_type": "code",
   "execution_count": 5,
   "metadata": {},
   "outputs": [],
   "source": [
    "posts = mbti_user.apply(lambda x: pd.Series(x['posts'].split('|||')), axis=1).stack().reset_index(level=1, drop=True)\n",
    "posts.name = 'post'\n",
    "mbti_post = mbti_user[['type']].join(posts)\n",
    "mbti_post['post'] = pd.Series(mbti_post['post'], dtype=object)\n",
    "mbti_post = mbti_post.reset_index().rename(columns={'index':'id'})"
   ]
  },
  {
   "cell_type": "code",
   "execution_count": 6,
   "metadata": {},
   "outputs": [],
   "source": [
    "#replace links with domains\n",
    "mbti_post['clean_post'] = mbti_post['post'].str.replace(\n",
    "    re.compile(r\"https?:\\/\\/(www)?.?([A-Za-z_0-9-]+).*\"),\n",
    "    lambda match: match.group(2)\n",
    "    )"
   ]
  },
  {
   "cell_type": "code",
   "execution_count": 7,
   "metadata": {},
   "outputs": [],
   "source": [
    "#looking at words\n",
    "mbti_post['unique_words'] = mbti_post['clean_post'].apply(unique_words)\n",
    "mbti_post['word_count'] = mbti_post['clean_post'].apply(lambda s : s.count(' ')+1)"
   ]
  },
  {
   "cell_type": "code",
   "execution_count": 8,
   "metadata": {},
   "outputs": [],
   "source": [
    "#looking at links\n",
    "mbti_post['link_count'] = mbti_post['post'].apply(lambda s : s.count('http'))\n",
    "mbti_post['youtube_link'] = mbti_post['post'].apply(lambda s : s.count('youtube') + s.count('youtu.be'))"
   ]
  },
  {
   "cell_type": "code",
   "execution_count": 9,
   "metadata": {},
   "outputs": [],
   "source": [
    "#Some grammer counts\n",
    "mbti_post['char_count'] = mbti_post['clean_post'].apply(len)\n",
    "mbti_post['qm'] = mbti_post['clean_post'].apply(lambda s : s.count('?'))\n",
    "mbti_post['em'] = mbti_post['clean_post'].apply(lambda s : s.count('!'))\n",
    "mbti_post['colons'] = mbti_post['clean_post'].apply(colons)\n",
    "mbti_post['emojis'] = mbti_post['clean_post'].apply(emojis)"
   ]
  },
  {
   "cell_type": "code",
   "execution_count": 10,
   "metadata": {},
   "outputs": [],
   "source": [
    "#splitting out the different personality elements\n",
    "mbti_post['extroverted'] = mbti_post['type'].apply(lambda s : 1 if s[0] == 'E' else 0)\n",
    "mbti_post['sensor'] = mbti_post['type'].apply(lambda s : 1 if s[1] == 'S' else 0)\n",
    "mbti_post['thinker'] = mbti_post['type'].apply(lambda s : 1 if s[2] == 'T' else 0)\n",
    "mbti_post['judger'] = mbti_post['type'].apply(lambda s : 1 if s[3] == 'J' else 0)"
   ]
  },
  {
   "cell_type": "code",
   "execution_count": 11,
   "metadata": {},
   "outputs": [
    {
     "data": {
      "text/html": [
       "<div>\n",
       "<style scoped>\n",
       "    .dataframe tbody tr th:only-of-type {\n",
       "        vertical-align: middle;\n",
       "    }\n",
       "\n",
       "    .dataframe tbody tr th {\n",
       "        vertical-align: top;\n",
       "    }\n",
       "\n",
       "    .dataframe thead th {\n",
       "        text-align: right;\n",
       "    }\n",
       "</style>\n",
       "<table border=\"1\" class=\"dataframe\">\n",
       "  <thead>\n",
       "    <tr style=\"text-align: right;\">\n",
       "      <th></th>\n",
       "      <th>id</th>\n",
       "      <th>type</th>\n",
       "      <th>post</th>\n",
       "      <th>clean_post</th>\n",
       "      <th>unique_words</th>\n",
       "      <th>word_count</th>\n",
       "      <th>link_count</th>\n",
       "      <th>youtube_link</th>\n",
       "      <th>char_count</th>\n",
       "      <th>qm</th>\n",
       "      <th>em</th>\n",
       "      <th>colons</th>\n",
       "      <th>emojis</th>\n",
       "      <th>extroverted</th>\n",
       "      <th>sensor</th>\n",
       "      <th>thinker</th>\n",
       "      <th>judger</th>\n",
       "    </tr>\n",
       "  </thead>\n",
       "  <tbody>\n",
       "    <tr>\n",
       "      <th>0</th>\n",
       "      <td>0</td>\n",
       "      <td>INFJ</td>\n",
       "      <td>'http://www.youtube.com/watch?v=qsXHcwe3krw</td>\n",
       "      <td>'youtube</td>\n",
       "      <td>1</td>\n",
       "      <td>1</td>\n",
       "      <td>1</td>\n",
       "      <td>1</td>\n",
       "      <td>8</td>\n",
       "      <td>0</td>\n",
       "      <td>0</td>\n",
       "      <td>0</td>\n",
       "      <td>0</td>\n",
       "      <td>0</td>\n",
       "      <td>0</td>\n",
       "      <td>0</td>\n",
       "      <td>1</td>\n",
       "    </tr>\n",
       "    <tr>\n",
       "      <th>1</th>\n",
       "      <td>0</td>\n",
       "      <td>INFJ</td>\n",
       "      <td>http://41.media.tumblr.com/tumblr_lfouy03PMA1q...</td>\n",
       "      <td>1</td>\n",
       "      <td>1</td>\n",
       "      <td>1</td>\n",
       "      <td>1</td>\n",
       "      <td>0</td>\n",
       "      <td>1</td>\n",
       "      <td>0</td>\n",
       "      <td>0</td>\n",
       "      <td>0</td>\n",
       "      <td>0</td>\n",
       "      <td>0</td>\n",
       "      <td>0</td>\n",
       "      <td>0</td>\n",
       "      <td>1</td>\n",
       "    </tr>\n",
       "    <tr>\n",
       "      <th>2</th>\n",
       "      <td>0</td>\n",
       "      <td>INFJ</td>\n",
       "      <td>enfp and intj moments  https://www.youtube.com...</td>\n",
       "      <td>enfp and intj moments  youtube</td>\n",
       "      <td>6</td>\n",
       "      <td>6</td>\n",
       "      <td>2</td>\n",
       "      <td>2</td>\n",
       "      <td>30</td>\n",
       "      <td>0</td>\n",
       "      <td>0</td>\n",
       "      <td>0</td>\n",
       "      <td>0</td>\n",
       "      <td>0</td>\n",
       "      <td>0</td>\n",
       "      <td>0</td>\n",
       "      <td>1</td>\n",
       "    </tr>\n",
       "    <tr>\n",
       "      <th>3</th>\n",
       "      <td>0</td>\n",
       "      <td>INFJ</td>\n",
       "      <td>What has been the most life-changing experienc...</td>\n",
       "      <td>What has been the most life-changing experienc...</td>\n",
       "      <td>10</td>\n",
       "      <td>10</td>\n",
       "      <td>0</td>\n",
       "      <td>0</td>\n",
       "      <td>61</td>\n",
       "      <td>1</td>\n",
       "      <td>0</td>\n",
       "      <td>0</td>\n",
       "      <td>0</td>\n",
       "      <td>0</td>\n",
       "      <td>0</td>\n",
       "      <td>0</td>\n",
       "      <td>1</td>\n",
       "    </tr>\n",
       "    <tr>\n",
       "      <th>4</th>\n",
       "      <td>0</td>\n",
       "      <td>INFJ</td>\n",
       "      <td>http://www.youtube.com/watch?v=vXZeYwwRDw8   h...</td>\n",
       "      <td>youtube</td>\n",
       "      <td>1</td>\n",
       "      <td>1</td>\n",
       "      <td>2</td>\n",
       "      <td>2</td>\n",
       "      <td>7</td>\n",
       "      <td>0</td>\n",
       "      <td>0</td>\n",
       "      <td>0</td>\n",
       "      <td>0</td>\n",
       "      <td>0</td>\n",
       "      <td>0</td>\n",
       "      <td>0</td>\n",
       "      <td>1</td>\n",
       "    </tr>\n",
       "  </tbody>\n",
       "</table>\n",
       "</div>"
      ],
      "text/plain": [
       "   id  type                                               post  \\\n",
       "0   0  INFJ        'http://www.youtube.com/watch?v=qsXHcwe3krw   \n",
       "1   0  INFJ  http://41.media.tumblr.com/tumblr_lfouy03PMA1q...   \n",
       "2   0  INFJ  enfp and intj moments  https://www.youtube.com...   \n",
       "3   0  INFJ  What has been the most life-changing experienc...   \n",
       "4   0  INFJ  http://www.youtube.com/watch?v=vXZeYwwRDw8   h...   \n",
       "\n",
       "                                          clean_post  unique_words  \\\n",
       "0                                           'youtube             1   \n",
       "1                                                  1             1   \n",
       "2                     enfp and intj moments  youtube             6   \n",
       "3  What has been the most life-changing experienc...            10   \n",
       "4                                            youtube             1   \n",
       "\n",
       "   word_count  link_count  youtube_link  char_count  qm  em  colons  emojis  \\\n",
       "0           1           1             1           8   0   0       0       0   \n",
       "1           1           1             0           1   0   0       0       0   \n",
       "2           6           2             2          30   0   0       0       0   \n",
       "3          10           0             0          61   1   0       0       0   \n",
       "4           1           2             2           7   0   0       0       0   \n",
       "\n",
       "   extroverted  sensor  thinker  judger  \n",
       "0            0       0        0       1  \n",
       "1            0       0        0       1  \n",
       "2            0       0        0       1  \n",
       "3            0       0        0       1  \n",
       "4            0       0        0       1  "
      ]
     },
     "execution_count": 11,
     "metadata": {},
     "output_type": "execute_result"
    }
   ],
   "source": [
    "mbti_post.head()"
   ]
  },
  {
   "cell_type": "markdown",
   "metadata": {},
   "source": [
    "Reducing dataset"
   ]
  },
  {
   "cell_type": "code",
   "execution_count": 12,
   "metadata": {},
   "outputs": [
    {
     "data": {
      "text/plain": [
       "23784"
      ]
     },
     "execution_count": 12,
     "metadata": {},
     "output_type": "execute_result"
    }
   ],
   "source": [
    "len(mbti_post[mbti_post['word_count']<=1])"
   ]
  },
  {
   "cell_type": "code",
   "execution_count": 13,
   "metadata": {},
   "outputs": [
    {
     "data": {
      "text/plain": [
       "<matplotlib.axes._subplots.AxesSubplot at 0x12d77b850>"
      ]
     },
     "execution_count": 13,
     "metadata": {},
     "output_type": "execute_result"
    },
    {
     "data": {
      "image/png": "[encoded data removed]",
      "text/plain": [
       "<Figure size 432x288 with 1 Axes>"
      ]
     },
     "metadata": {
      "needs_background": "light"
     },
     "output_type": "display_data"
    }
   ],
   "source": [
    "mbti_post['word_count'].hist()"
   ]
  },
  {
   "cell_type": "code",
   "execution_count": 14,
   "metadata": {},
   "outputs": [
    {
     "data": {
      "text/plain": [
       "<matplotlib.axes._subplots.AxesSubplot at 0x12d413850>"
      ]
     },
     "execution_count": 14,
     "metadata": {},
     "output_type": "execute_result"
    },
    {
     "data": {
      "image/png": "[encoded data removed]",
      "text/plain": [
       "<Figure size 432x288 with 1 Axes>"
      ]
     },
     "metadata": {
      "needs_background": "light"
     },
     "output_type": "display_data"
    }
   ],
   "source": [
    "mbti_post['char_count'].hist()"
   ]
  },
  {
   "cell_type": "markdown",
   "metadata": {},
   "source": [
    "Exporting final dataset to csv"
   ]
  },
  {
   "cell_type": "code",
   "execution_count": null,
   "metadata": {},
   "outputs": [],
   "source": []
  }
 ],
 "metadata": {
  "kernelspec": {
   "display_name": "mbti",
   "language": "python",
   "name": "python3"
  },
  "language_info": {
   "codemirror_mode": {
    "name": "ipython",
    "version": 3
   },
   "file_extension": ".py",
   "mimetype": "text/x-python",
   "name": "python",
   "nbconvert_exporter": "python",
   "pygments_lexer": "ipython3",
   "version": "3.7.4"
  }
 },
 "nbformat": 4,
 "nbformat_minor": 4
}
