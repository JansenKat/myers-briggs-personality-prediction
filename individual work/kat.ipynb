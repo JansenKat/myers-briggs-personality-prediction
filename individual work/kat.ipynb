{
 "cells": [
  {
   "cell_type": "code",
   "execution_count": 1,
   "metadata": {},
   "outputs": [],
   "source": [
    "import pandas as pd\n",
    "import matplotlib.pyplot as plt"
   ]
  },
  {
   "cell_type": "code",
   "execution_count": 2,
   "metadata": {},
   "outputs": [],
   "source": [
    "def unique_words(s):\n",
    "    unique = set(s.split(' ')) \n",
    "    return len(unique)\n",
    "\n",
    "# def sentences(s):\n",
    "#     sent = s.replace('|||',' ').split()\n",
    "#     count = 0\n",
    "#     for word in sent:\n",
    "#         if len(word)>1:\n",
    "#             if word[-1]=='.|!|?' :\n",
    "#                 count+=1\n",
    "#     return count\n",
    "\n",
    "def emojis(post):\n",
    "    # does not include emojis made purely from symbols, only :word:\n",
    "    emoji_count = 0\n",
    "    words = post.split()\n",
    "    for e in words:\n",
    "        if 'http' not in e:\n",
    "            if e.count(':')==2:\n",
    "                emoji_count+=1\n",
    "    return emoji_count\n",
    "\n",
    "def colons(post):\n",
    "    # Includes colons used in emojis\n",
    "    colon_count = 0\n",
    "    words = post.split()\n",
    "    for e in words:\n",
    "        if 'http' not in e:\n",
    "            colon_count+=e.count(':')\n",
    "    return colon_count\n",
    "\n",
    "def domains(post):\n",
    "    # Includes colons used in emojis\n",
    "    domains = []\n",
    "    words = post.split(' ')\n",
    "    for s in words:\n",
    "#         print(s)\n",
    "        if 'http' in s:\n",
    "            s1 = s.split('.com')[0].split('//')[-1]\n",
    "            s2 = s1[s1.rfind('.')+1:]\n",
    "            if s2 not in domains:\n",
    "                domains.append(s2)\n",
    "    return domains\n",
    "\n",
    "def grouper(df,group):\n",
    "    return df.groupby(group).agg({\n",
    "        'type':'count',\n",
    "        'unique_words':['sum','mean','median'],\n",
    "        'link_count':['sum','mean','median'],\n",
    "        'word_count':['sum','mean','median'],\n",
    "        'qm':['sum','mean','median'],\n",
    "#         'sentences':['sum','mean','median']\n",
    "    })"
   ]
  },
  {
   "cell_type": "code",
   "execution_count": 3,
   "metadata": {},
   "outputs": [],
   "source": [
    "#Pull in csv\n",
    "mbti_user = pd.read_csv('../data/mbti_1.csv')\n",
    "#.reset_index().rename(columns={'index':'id'})"
   ]
  },
  {
   "cell_type": "code",
   "execution_count": 4,
   "metadata": {},
   "outputs": [],
   "source": [
    "#Looking at words\n",
    "mbti_user['unique_words'] = mbti_user['posts'].str.replace('|||', ' ').apply(unique_words)\n",
    "mbti_user['word_count'] = mbti_user['posts'].apply(lambda s : s.count(' ')+1)"
   ]
  },
  {
   "cell_type": "code",
   "execution_count": 5,
   "metadata": {},
   "outputs": [],
   "source": [
    "#looking at grammer\n",
    "mbti_user['qm'] = mbti_user['posts'].apply(lambda s : s.count('?'))\n",
    "mbti_user['em'] = mbti_user['posts'].apply(lambda s : s.count('!'))\n",
    "mbti_user['colons'] = mbti_user['posts'].apply(colons)\n",
    "mbti_user['emojis'] = mbti_user['posts'].apply(emojis)"
   ]
  },
  {
   "cell_type": "code",
   "execution_count": 11,
   "metadata": {},
   "outputs": [],
   "source": [
    "#Looking at links\n",
    "mbti_user['link_count'] = mbti_user['posts'].apply(lambda s : s.count('http'))\n",
    "# mbti_user['unique_domains'] = mbti_user['posts'].replace('|||', ' ').apply(domains)\n",
    "# mbti_user['unique_domains_count'] = mbti_user['unique_domains'].apply(len)\n",
    "mbti_user['youtube_link'] = mbti_user['posts'].apply(lambda s : s.count('youtube') + s.count('youtu.be'))"
   ]
  },
  {
   "cell_type": "code",
   "execution_count": 7,
   "metadata": {},
   "outputs": [],
   "source": [
    "#splitting out the different personality elements\n",
    "mbti_user['extroverted'] = mbti_user['type'].apply(lambda s : 1 if s[0] == 'E' else 0)\n",
    "mbti_user['sensor'] = mbti_user['type'].apply(lambda s : 1 if s[1] == 'S' else 0)\n",
    "mbti_user['thinker'] = mbti_user['type'].apply(lambda s : 1 if s[2] == 'T' else 0)\n",
    "mbti_user['judger'] = mbti_user['type'].apply(lambda s : 1 if s[3] == 'J' else 0)"
   ]
  },
  {
   "cell_type": "code",
   "execution_count": 12,
   "metadata": {},
   "outputs": [
    {
     "data": {
      "text/html": [
       "<div>\n",
       "<style scoped>\n",
       "    .dataframe tbody tr th:only-of-type {\n",
       "        vertical-align: middle;\n",
       "    }\n",
       "\n",
       "    .dataframe tbody tr th {\n",
       "        vertical-align: top;\n",
       "    }\n",
       "\n",
       "    .dataframe thead th {\n",
       "        text-align: right;\n",
       "    }\n",
       "</style>\n",
       "<table border=\"1\" class=\"dataframe\">\n",
       "  <thead>\n",
       "    <tr style=\"text-align: right;\">\n",
       "      <th></th>\n",
       "      <th>type</th>\n",
       "      <th>posts</th>\n",
       "      <th>unique_words</th>\n",
       "      <th>word_count</th>\n",
       "      <th>qm</th>\n",
       "      <th>em</th>\n",
       "      <th>colons</th>\n",
       "      <th>emojis</th>\n",
       "      <th>link_count</th>\n",
       "      <th>youtube_link</th>\n",
       "      <th>extroverted</th>\n",
       "      <th>sensor</th>\n",
       "      <th>thinker</th>\n",
       "      <th>judger</th>\n",
       "    </tr>\n",
       "  </thead>\n",
       "  <tbody>\n",
       "    <tr>\n",
       "      <th>0</th>\n",
       "      <td>INFJ</td>\n",
       "      <td>'http://www.youtube.com/watch?v=qsXHcwe3krw|||...</td>\n",
       "      <td>77</td>\n",
       "      <td>578</td>\n",
       "      <td>18</td>\n",
       "      <td>3</td>\n",
       "      <td>7</td>\n",
       "      <td>2</td>\n",
       "      <td>24</td>\n",
       "      <td>16</td>\n",
       "      <td>0</td>\n",
       "      <td>0</td>\n",
       "      <td>0</td>\n",
       "      <td>1</td>\n",
       "    </tr>\n",
       "    <tr>\n",
       "      <th>1</th>\n",
       "      <td>ENTP</td>\n",
       "      <td>'I'm finding the lack of me in these posts ver...</td>\n",
       "      <td>77</td>\n",
       "      <td>1194</td>\n",
       "      <td>5</td>\n",
       "      <td>0</td>\n",
       "      <td>18</td>\n",
       "      <td>0</td>\n",
       "      <td>10</td>\n",
       "      <td>1</td>\n",
       "      <td>1</td>\n",
       "      <td>0</td>\n",
       "      <td>1</td>\n",
       "      <td>0</td>\n",
       "    </tr>\n",
       "    <tr>\n",
       "      <th>2</th>\n",
       "      <td>INTP</td>\n",
       "      <td>'Good one  _____   https://www.youtube.com/wat...</td>\n",
       "      <td>72</td>\n",
       "      <td>869</td>\n",
       "      <td>12</td>\n",
       "      <td>4</td>\n",
       "      <td>13</td>\n",
       "      <td>0</td>\n",
       "      <td>5</td>\n",
       "      <td>3</td>\n",
       "      <td>0</td>\n",
       "      <td>0</td>\n",
       "      <td>1</td>\n",
       "      <td>0</td>\n",
       "    </tr>\n",
       "    <tr>\n",
       "      <th>3</th>\n",
       "      <td>INTJ</td>\n",
       "      <td>'Dear INTP,   I enjoyed our conversation the o...</td>\n",
       "      <td>74</td>\n",
       "      <td>1101</td>\n",
       "      <td>11</td>\n",
       "      <td>3</td>\n",
       "      <td>3</td>\n",
       "      <td>0</td>\n",
       "      <td>2</td>\n",
       "      <td>2</td>\n",
       "      <td>0</td>\n",
       "      <td>0</td>\n",
       "      <td>1</td>\n",
       "      <td>1</td>\n",
       "    </tr>\n",
       "    <tr>\n",
       "      <th>4</th>\n",
       "      <td>ENTJ</td>\n",
       "      <td>'You're fired.|||That's another silly misconce...</td>\n",
       "      <td>77</td>\n",
       "      <td>987</td>\n",
       "      <td>10</td>\n",
       "      <td>1</td>\n",
       "      <td>7</td>\n",
       "      <td>1</td>\n",
       "      <td>6</td>\n",
       "      <td>3</td>\n",
       "      <td>1</td>\n",
       "      <td>0</td>\n",
       "      <td>1</td>\n",
       "      <td>1</td>\n",
       "    </tr>\n",
       "  </tbody>\n",
       "</table>\n",
       "</div>"
      ],
      "text/plain": [
       "   type                                              posts  unique_words  \\\n",
       "0  INFJ  'http://www.youtube.com/watch?v=qsXHcwe3krw|||...            77   \n",
       "1  ENTP  'I'm finding the lack of me in these posts ver...            77   \n",
       "2  INTP  'Good one  _____   https://www.youtube.com/wat...            72   \n",
       "3  INTJ  'Dear INTP,   I enjoyed our conversation the o...            74   \n",
       "4  ENTJ  'You're fired.|||That's another silly misconce...            77   \n",
       "\n",
       "   word_count  qm  em  colons  emojis  link_count  youtube_link  extroverted  \\\n",
       "0         578  18   3       7       2          24            16            0   \n",
       "1        1194   5   0      18       0          10             1            1   \n",
       "2         869  12   4      13       0           5             3            0   \n",
       "3        1101  11   3       3       0           2             2            0   \n",
       "4         987  10   1       7       1           6             3            1   \n",
       "\n",
       "   sensor  thinker  judger  \n",
       "0       0        0       1  \n",
       "1       0        1       0  \n",
       "2       0        1       0  \n",
       "3       0        1       1  \n",
       "4       0        1       1  "
      ]
     },
     "execution_count": 12,
     "metadata": {},
     "output_type": "execute_result"
    }
   ],
   "source": [
    "mbti_user.head()"
   ]
  },
  {
   "cell_type": "raw",
   "metadata": {},
   "source": [
    "posts = mbti_user.apply(lambda x: pd.Series(x['posts'].split('|||')), axis=1).stack().reset_index(level=1, drop=True)\n",
    "posts.name = 'post'\n",
    "mbti_post = mbti_user[['type']].join(posts)\n",
    "mbti_post['post'] = pd.Series(mbti_post['post'], dtype=object)\n",
    "mbti_post = mbti_post.reset_index().rename(columns={'index':'id'})"
   ]
  },
  {
   "cell_type": "raw",
   "metadata": {},
   "source": [
    "mbti_post['unique_words'] = mbti_post['post'].apply(unique_words)\n",
    "mbti_post['link_count'] = mbti_post['post'].apply(lambda s : s.count('http'))\n",
    "mbti_post['word_count'] = mbti_post['post'].apply(lambda s : s.count(' ')+1)\n",
    "mbti_post['qm'] = mbti_post['post'].apply(lambda s : s.count('?'))\n",
    "mbti_post['em'] = mbti_post['post'].apply(lambda s : s.count('!'))\n",
    "mbti_post['colons'] = mbti_post['post'].apply(colons)\n",
    "mbti_post['emojis'] = mbti_post['post'].apply(emojis)\n",
    "# mbti_post['sentences'] = mbti_post['post'].apply(sentences)"
   ]
  },
  {
   "cell_type": "raw",
   "metadata": {},
   "source": [
    "mbti_post.head()"
   ]
  },
  {
   "cell_type": "raw",
   "metadata": {},
   "source": [
    "mbti_post['unique_domains'] = mbti_post['post'].apply(domains)\n",
    "mbti_post['unique_domains_count'] = mbti_post['unique_domains'].apply(len)"
   ]
  },
  {
   "cell_type": "code",
   "execution_count": 9,
   "metadata": {},
   "outputs": [],
   "source": [
    "unique_domains = {}\n",
    "for post in mbti_user['posts']:\n",
    "    if 'http' in post:\n",
    "        for s in post.split():\n",
    "            if 'http' in s:\n",
    "                s1 = s.split('.com')[0].split('//')[-1]\n",
    "                s2 = s1[s1.rfind('.')+1:]\n",
    "                if s2 not in unique_domains:\n",
    "                    unique_domains[s2] = 1\n",
    "                else:\n",
    "                    unique_domains[s2] += 1"
   ]
  },
  {
   "cell_type": "code",
   "execution_count": 10,
   "metadata": {},
   "outputs": [
    {
     "data": {
      "text/plain": [
       "3218"
      ]
     },
     "execution_count": 10,
     "metadata": {},
     "output_type": "execute_result"
    }
   ],
   "source": [
    "len(pd.DataFrame(unique_domains.items(), columns=['domain', 'count']).sort_values('count', ascending=False))"
   ]
  },
  {
   "cell_type": "code",
   "execution_count": null,
   "metadata": {},
   "outputs": [],
   "source": []
  }
 ],
 "metadata": {
  "kernelspec": {
   "display_name": "mbti",
   "language": "python",
   "name": "python3"
  },
  "language_info": {
   "codemirror_mode": {
    "name": "ipython",
    "version": 3
   },
   "file_extension": ".py",
   "mimetype": "text/x-python",
   "name": "python",
   "nbconvert_exporter": "python",
   "pygments_lexer": "ipython3",
   "version": "3.7.4"
  }
 },
 "nbformat": 4,
 "nbformat_minor": 4
}
