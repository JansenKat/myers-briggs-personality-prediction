{
 "cells": [
  {
   "cell_type": "code",
   "execution_count": 37,
   "metadata": {},
   "outputs": [],
   "source": [
    "#importing dependencies here\n",
    "import numpy as np\n",
    "import pandas as pd\n",
    "import matplotlib.pyplot as plt\n",
    "\n",
    "# feature engineering\n",
    "import re\n",
    "\n",
    "# scikit\n",
    "from sklearn.feature_extraction.text import CountVectorizer\n",
    "from sklearn.naive_bayes import MultinomialNB"
   ]
  },
  {
   "cell_type": "code",
   "execution_count": 38,
   "metadata": {},
   "outputs": [],
   "source": [
    "# reading the dataset\n",
    "personality_data = pd.read_csv(\"../data/mbti_1.csv\")"
   ]
  },
  {
   "cell_type": "code",
   "execution_count": 39,
   "metadata": {},
   "outputs": [
    {
     "data": {
      "text/html": [
       "<div>\n",
       "<style scoped>\n",
       "    .dataframe tbody tr th:only-of-type {\n",
       "        vertical-align: middle;\n",
       "    }\n",
       "\n",
       "    .dataframe tbody tr th {\n",
       "        vertical-align: top;\n",
       "    }\n",
       "\n",
       "    .dataframe thead th {\n",
       "        text-align: right;\n",
       "    }\n",
       "</style>\n",
       "<table border=\"1\" class=\"dataframe\">\n",
       "  <thead>\n",
       "    <tr style=\"text-align: right;\">\n",
       "      <th></th>\n",
       "      <th>type</th>\n",
       "      <th>posts</th>\n",
       "    </tr>\n",
       "  </thead>\n",
       "  <tbody>\n",
       "    <tr>\n",
       "      <th>0</th>\n",
       "      <td>INFJ</td>\n",
       "      <td>'http://www.youtube.com/watch?v=qsXHcwe3krw|||...</td>\n",
       "    </tr>\n",
       "    <tr>\n",
       "      <th>1</th>\n",
       "      <td>ENTP</td>\n",
       "      <td>'I'm finding the lack of me in these posts ver...</td>\n",
       "    </tr>\n",
       "    <tr>\n",
       "      <th>2</th>\n",
       "      <td>INTP</td>\n",
       "      <td>'Good one  _____   https://www.youtube.com/wat...</td>\n",
       "    </tr>\n",
       "    <tr>\n",
       "      <th>3</th>\n",
       "      <td>INTJ</td>\n",
       "      <td>'Dear INTP,   I enjoyed our conversation the o...</td>\n",
       "    </tr>\n",
       "    <tr>\n",
       "      <th>4</th>\n",
       "      <td>ENTJ</td>\n",
       "      <td>'You're fired.|||That's another silly misconce...</td>\n",
       "    </tr>\n",
       "  </tbody>\n",
       "</table>\n",
       "</div>"
      ],
      "text/plain": [
       "   type                                              posts\n",
       "0  INFJ  'http://www.youtube.com/watch?v=qsXHcwe3krw|||...\n",
       "1  ENTP  'I'm finding the lack of me in these posts ver...\n",
       "2  INTP  'Good one  _____   https://www.youtube.com/wat...\n",
       "3  INTJ  'Dear INTP,   I enjoyed our conversation the o...\n",
       "4  ENTJ  'You're fired.|||That's another silly misconce..."
      ]
     },
     "execution_count": 39,
     "metadata": {},
     "output_type": "execute_result"
    }
   ],
   "source": [
    "# lookign at the top 5 rows of the dataset\n",
    "personality_data.head()"
   ]
  },
  {
   "cell_type": "code",
   "execution_count": 40,
   "metadata": {},
   "outputs": [
    {
     "data": {
      "text/plain": [
       "(8675, 2)"
      ]
     },
     "execution_count": 40,
     "metadata": {},
     "output_type": "execute_result"
    }
   ],
   "source": [
    "# checking the number of rows and columns\n",
    "personality_data.shape"
   ]
  },
  {
   "cell_type": "markdown",
   "metadata": {},
   "source": [
    "#### Each row as 50 posts. Splitting these posts into their own row."
   ]
  },
  {
   "cell_type": "code",
   "execution_count": 41,
   "metadata": {},
   "outputs": [],
   "source": [
    "# splitting rows - one row for each post\n",
    "personality_data = pd.concat([pd.Series(row[\"type\"], row[\"posts\"].split(\"|||\"))              \n",
    "                                for _, row in personality_data.iterrows()]).reset_index().rename({\"index\": \"posts\", 0: \"type\"}, axis=1)"
   ]
  },
  {
   "cell_type": "code",
   "execution_count": 42,
   "metadata": {},
   "outputs": [
    {
     "data": {
      "text/plain": [
       "(422845, 2)"
      ]
     },
     "execution_count": 42,
     "metadata": {},
     "output_type": "execute_result"
    }
   ],
   "source": [
    "# checking the number of rows and columns again\n",
    "personality_data.shape"
   ]
  },
  {
   "cell_type": "markdown",
   "metadata": {},
   "source": [
    "Splitting of each row into 50 rows has added a lot more data to our dataset."
   ]
  },
  {
   "cell_type": "code",
   "execution_count": 43,
   "metadata": {},
   "outputs": [
    {
     "data": {
      "text/html": [
       "<div>\n",
       "<style scoped>\n",
       "    .dataframe tbody tr th:only-of-type {\n",
       "        vertical-align: middle;\n",
       "    }\n",
       "\n",
       "    .dataframe tbody tr th {\n",
       "        vertical-align: top;\n",
       "    }\n",
       "\n",
       "    .dataframe thead th {\n",
       "        text-align: right;\n",
       "    }\n",
       "</style>\n",
       "<table border=\"1\" class=\"dataframe\">\n",
       "  <thead>\n",
       "    <tr style=\"text-align: right;\">\n",
       "      <th></th>\n",
       "      <th>posts</th>\n",
       "      <th>type</th>\n",
       "    </tr>\n",
       "  </thead>\n",
       "  <tbody>\n",
       "    <tr>\n",
       "      <th>0</th>\n",
       "      <td>'http://www.youtube.com/watch?v=qsXHcwe3krw</td>\n",
       "      <td>INFJ</td>\n",
       "    </tr>\n",
       "    <tr>\n",
       "      <th>1</th>\n",
       "      <td>http://41.media.tumblr.com/tumblr_lfouy03PMA1q...</td>\n",
       "      <td>INFJ</td>\n",
       "    </tr>\n",
       "    <tr>\n",
       "      <th>2</th>\n",
       "      <td>enfp and intj moments  https://www.youtube.com...</td>\n",
       "      <td>INFJ</td>\n",
       "    </tr>\n",
       "    <tr>\n",
       "      <th>3</th>\n",
       "      <td>What has been the most life-changing experienc...</td>\n",
       "      <td>INFJ</td>\n",
       "    </tr>\n",
       "    <tr>\n",
       "      <th>4</th>\n",
       "      <td>http://www.youtube.com/watch?v=vXZeYwwRDw8   h...</td>\n",
       "      <td>INFJ</td>\n",
       "    </tr>\n",
       "  </tbody>\n",
       "</table>\n",
       "</div>"
      ],
      "text/plain": [
       "                                               posts  type\n",
       "0        'http://www.youtube.com/watch?v=qsXHcwe3krw  INFJ\n",
       "1  http://41.media.tumblr.com/tumblr_lfouy03PMA1q...  INFJ\n",
       "2  enfp and intj moments  https://www.youtube.com...  INFJ\n",
       "3  What has been the most life-changing experienc...  INFJ\n",
       "4  http://www.youtube.com/watch?v=vXZeYwwRDw8   h...  INFJ"
      ]
     },
     "execution_count": 43,
     "metadata": {},
     "output_type": "execute_result"
    }
   ],
   "source": [
    "personality_data.head()"
   ]
  },
  {
   "cell_type": "markdown",
   "metadata": {},
   "source": [
    "#### Checking for Null values"
   ]
  },
  {
   "cell_type": "code",
   "execution_count": 44,
   "metadata": {},
   "outputs": [
    {
     "data": {
      "text/plain": [
       "posts    0\n",
       "type     0\n",
       "dtype: int64"
      ]
     },
     "execution_count": 44,
     "metadata": {},
     "output_type": "execute_result"
    }
   ],
   "source": [
    "# checking for missing values\n",
    "personality_data.isnull().sum()"
   ]
  },
  {
   "cell_type": "markdown",
   "metadata": {},
   "source": [
    "Luckily there are no missing values present in this dataset."
   ]
  },
  {
   "cell_type": "markdown",
   "metadata": {},
   "source": [
    "#### Checking for Class Imbalance"
   ]
  },
  {
   "cell_type": "code",
   "execution_count": 45,
   "metadata": {},
   "outputs": [
    {
     "data": {
      "text/plain": [
       "INFP    89796\n",
       "INFJ    72105\n",
       "INTP    63359\n",
       "INTJ    52471\n",
       "ENTP    33761\n",
       "ENFP    32769\n",
       "ISTP    16498\n",
       "ISFP    13000\n",
       "ENTJ    11273\n",
       "ISTJ     9913\n",
       "ENFJ     9288\n",
       "ISFJ     8121\n",
       "ESTP     4337\n",
       "ESFP     2215\n",
       "ESFJ     2018\n",
       "ESTJ     1921\n",
       "Name: type, dtype: int64"
      ]
     },
     "execution_count": 45,
     "metadata": {},
     "output_type": "execute_result"
    }
   ],
   "source": [
    "# checking number of records for each of the 16 personality types\n",
    "personality_data[\"type\"].value_counts()"
   ]
  },
  {
   "cell_type": "markdown",
   "metadata": {},
   "source": [
    "The dataset seems to be Imbalanced."
   ]
  },
  {
   "cell_type": "code",
   "execution_count": 46,
   "metadata": {},
   "outputs": [
    {
     "data": {
      "text/plain": [
       "<matplotlib.axes._subplots.AxesSubplot at 0x1641f6aff88>"
      ]
     },
     "execution_count": 46,
     "metadata": {},
     "output_type": "execute_result"
    },
    {
     "data": {
      "image/png": "[encoded data removed]",
      "text/plain": [
       "<Figure size 432x288 with 1 Axes>"
      ]
     },
     "metadata": {
      "needs_background": "light"
     },
     "output_type": "display_data"
    }
   ],
   "source": [
    "# visually showing the class imbalance\n",
    "personality_data[\"type\"].value_counts().plot(kind=\"bar\")"
   ]
  },
  {
   "cell_type": "code",
   "execution_count": 47,
   "metadata": {},
   "outputs": [
    {
     "data": {
      "text/html": [
       "<div>\n",
       "<style scoped>\n",
       "    .dataframe tbody tr th:only-of-type {\n",
       "        vertical-align: middle;\n",
       "    }\n",
       "\n",
       "    .dataframe tbody tr th {\n",
       "        vertical-align: top;\n",
       "    }\n",
       "\n",
       "    .dataframe thead th {\n",
       "        text-align: right;\n",
       "    }\n",
       "</style>\n",
       "<table border=\"1\" class=\"dataframe\">\n",
       "  <thead>\n",
       "    <tr style=\"text-align: right;\">\n",
       "      <th></th>\n",
       "      <th>posts</th>\n",
       "      <th>type</th>\n",
       "      <th>is_Extrovert</th>\n",
       "      <th>is_Sensing</th>\n",
       "      <th>is_Thinking</th>\n",
       "      <th>is_Judging</th>\n",
       "    </tr>\n",
       "  </thead>\n",
       "  <tbody>\n",
       "    <tr>\n",
       "      <th>0</th>\n",
       "      <td>'http://www.youtube.com/watch?v=qsXHcwe3krw</td>\n",
       "      <td>INFJ</td>\n",
       "      <td>0</td>\n",
       "      <td>0</td>\n",
       "      <td>0</td>\n",
       "      <td>1</td>\n",
       "    </tr>\n",
       "    <tr>\n",
       "      <th>1</th>\n",
       "      <td>http://41.media.tumblr.com/tumblr_lfouy03PMA1q...</td>\n",
       "      <td>INFJ</td>\n",
       "      <td>0</td>\n",
       "      <td>0</td>\n",
       "      <td>0</td>\n",
       "      <td>1</td>\n",
       "    </tr>\n",
       "    <tr>\n",
       "      <th>2</th>\n",
       "      <td>enfp and intj moments  https://www.youtube.com...</td>\n",
       "      <td>INFJ</td>\n",
       "      <td>0</td>\n",
       "      <td>0</td>\n",
       "      <td>0</td>\n",
       "      <td>1</td>\n",
       "    </tr>\n",
       "    <tr>\n",
       "      <th>3</th>\n",
       "      <td>What has been the most life-changing experienc...</td>\n",
       "      <td>INFJ</td>\n",
       "      <td>0</td>\n",
       "      <td>0</td>\n",
       "      <td>0</td>\n",
       "      <td>1</td>\n",
       "    </tr>\n",
       "    <tr>\n",
       "      <th>4</th>\n",
       "      <td>http://www.youtube.com/watch?v=vXZeYwwRDw8   h...</td>\n",
       "      <td>INFJ</td>\n",
       "      <td>0</td>\n",
       "      <td>0</td>\n",
       "      <td>0</td>\n",
       "      <td>1</td>\n",
       "    </tr>\n",
       "  </tbody>\n",
       "</table>\n",
       "</div>"
      ],
      "text/plain": [
       "                                               posts  type  is_Extrovert  \\\n",
       "0        'http://www.youtube.com/watch?v=qsXHcwe3krw  INFJ             0   \n",
       "1  http://41.media.tumblr.com/tumblr_lfouy03PMA1q...  INFJ             0   \n",
       "2  enfp and intj moments  https://www.youtube.com...  INFJ             0   \n",
       "3  What has been the most life-changing experienc...  INFJ             0   \n",
       "4  http://www.youtube.com/watch?v=vXZeYwwRDw8   h...  INFJ             0   \n",
       "\n",
       "   is_Sensing  is_Thinking  is_Judging  \n",
       "0           0            0           1  \n",
       "1           0            0           1  \n",
       "2           0            0           1  \n",
       "3           0            0           1  \n",
       "4           0            0           1  "
      ]
     },
     "execution_count": 47,
     "metadata": {},
     "output_type": "execute_result"
    }
   ],
   "source": [
    "# fixing the class imbalance but converting 16 classes into 4 more balanced classes\n",
    "personality_data['is_Extrovert'] = personality_data['type'].apply(lambda x: 1 if x[0] == 'E' else 0)\n",
    "personality_data['is_Sensing'] = personality_data['type'].apply(lambda x: 1 if x[1] == 'S' else 0)\n",
    "personality_data['is_Thinking'] = personality_data['type'].apply(lambda x: 1 if x[2] == 'T' else 0)\n",
    "personality_data['is_Judging'] = personality_data['type'].apply(lambda x: 1 if x[3] == 'J' else 0)\n",
    "personality_data.head()"
   ]
  },
  {
   "cell_type": "code",
   "execution_count": 48,
   "metadata": {},
   "outputs": [],
   "source": [
    "# checking individual counts\n",
    "introvert_count = personality_data[\"is_Extrovert\"].value_counts()[0]\n",
    "extrovert_count = personality_data[\"is_Extrovert\"].value_counts()[1]\n",
    "\n",
    "intuition_count = personality_data[\"is_Sensing\"].value_counts()[0]\n",
    "sensing_count = personality_data[\"is_Sensing\"].value_counts()[1]\n",
    "\n",
    "feeling_count = personality_data[\"is_Thinking\"].value_counts()[0]\n",
    "thinking_count = personality_data[\"is_Thinking\"].value_counts()[1]\n",
    "\n",
    "perceiving_count = personality_data[\"is_Judging\"].value_counts()[0]\n",
    "judging_count = personality_data[\"is_Judging\"].value_counts()[1]"
   ]
  },
  {
   "cell_type": "code",
   "execution_count": 49,
   "metadata": {},
   "outputs": [
    {
     "name": "stdout",
     "output_type": "stream",
     "text": [
      "Introvert Count: 325263\n",
      "Extrovert Count: 97582\n",
      "Intuition Count: 364822\n",
      "Sensing Count: 58023\n",
      "Feeling Count: 229312\n",
      "Thinking Count: 193533\n",
      "Perceiving Count: 255735\n",
      "Judging Count: 167110\n"
     ]
    }
   ],
   "source": [
    "# printing all the counts\n",
    "print(f\"Introvert Count: {introvert_count}\")\n",
    "print(f\"Extrovert Count: {extrovert_count}\")\n",
    "print(f\"Intuition Count: {intuition_count}\")\n",
    "print(f\"Sensing Count: {sensing_count}\")\n",
    "print(f\"Feeling Count: {feeling_count}\")\n",
    "print(f\"Thinking Count: {thinking_count}\")\n",
    "print(f\"Perceiving Count: {perceiving_count}\")\n",
    "print(f\"Judging Count: {judging_count}\")"
   ]
  },
  {
   "cell_type": "markdown",
   "metadata": {},
   "source": [
    "The class imbalance issue still seem to exist but the data now looks much better than the minority class counts of previous data."
   ]
  },
  {
   "cell_type": "markdown",
   "metadata": {},
   "source": [
    "#### Checking for presence of correlations"
   ]
  },
  {
   "cell_type": "code",
   "execution_count": 50,
   "metadata": {},
   "outputs": [
    {
     "data": {
      "text/html": [
       "<style  type=\"text/css\" >\n",
       "    #T_9c39644a_8be1_11ea_a8ac_380025f3998frow0_col0 {\n",
       "            background-color:  #003c30;\n",
       "            color:  #f1f1f1;\n",
       "        }    #T_9c39644a_8be1_11ea_a8ac_380025f3998frow0_col1 {\n",
       "            background-color:  #543005;\n",
       "            color:  #f1f1f1;\n",
       "        }    #T_9c39644a_8be1_11ea_a8ac_380025f3998frow0_col2 {\n",
       "            background-color:  #824b09;\n",
       "            color:  #f1f1f1;\n",
       "        }    #T_9c39644a_8be1_11ea_a8ac_380025f3998frow0_col3 {\n",
       "            background-color:  #543005;\n",
       "            color:  #f1f1f1;\n",
       "        }    #T_9c39644a_8be1_11ea_a8ac_380025f3998frow1_col0 {\n",
       "            background-color:  #8b500a;\n",
       "            color:  #f1f1f1;\n",
       "        }    #T_9c39644a_8be1_11ea_a8ac_380025f3998frow1_col1 {\n",
       "            background-color:  #003c30;\n",
       "            color:  #f1f1f1;\n",
       "        }    #T_9c39644a_8be1_11ea_a8ac_380025f3998frow1_col2 {\n",
       "            background-color:  #874e0a;\n",
       "            color:  #f1f1f1;\n",
       "        }    #T_9c39644a_8be1_11ea_a8ac_380025f3998frow1_col3 {\n",
       "            background-color:  #995d13;\n",
       "            color:  #f1f1f1;\n",
       "        }    #T_9c39644a_8be1_11ea_a8ac_380025f3998frow2_col0 {\n",
       "            background-color:  #c08430;\n",
       "            color:  #000000;\n",
       "        }    #T_9c39644a_8be1_11ea_a8ac_380025f3998frow2_col1 {\n",
       "            background-color:  #995d13;\n",
       "            color:  #f1f1f1;\n",
       "        }    #T_9c39644a_8be1_11ea_a8ac_380025f3998frow2_col2 {\n",
       "            background-color:  #003c30;\n",
       "            color:  #f1f1f1;\n",
       "        }    #T_9c39644a_8be1_11ea_a8ac_380025f3998frow2_col3 {\n",
       "            background-color:  #9b5f14;\n",
       "            color:  #f1f1f1;\n",
       "        }    #T_9c39644a_8be1_11ea_a8ac_380025f3998frow3_col0 {\n",
       "            background-color:  #543005;\n",
       "            color:  #f1f1f1;\n",
       "        }    #T_9c39644a_8be1_11ea_a8ac_380025f3998frow3_col1 {\n",
       "            background-color:  #663a07;\n",
       "            color:  #f1f1f1;\n",
       "        }    #T_9c39644a_8be1_11ea_a8ac_380025f3998frow3_col2 {\n",
       "            background-color:  #543005;\n",
       "            color:  #f1f1f1;\n",
       "        }    #T_9c39644a_8be1_11ea_a8ac_380025f3998frow3_col3 {\n",
       "            background-color:  #003c30;\n",
       "            color:  #f1f1f1;\n",
       "        }</style><table id=\"T_9c39644a_8be1_11ea_a8ac_380025f3998f\" ><thead>    <tr>        <th class=\"blank level0\" ></th>        <th class=\"col_heading level0 col0\" >is_Extrovert</th>        <th class=\"col_heading level0 col1\" >is_Sensing</th>        <th class=\"col_heading level0 col2\" >is_Thinking</th>        <th class=\"col_heading level0 col3\" >is_Judging</th>    </tr></thead><tbody>\n",
       "                <tr>\n",
       "                        <th id=\"T_9c39644a_8be1_11ea_a8ac_380025f3998flevel0_row0\" class=\"row_heading level0 row0\" >is_Extrovert</th>\n",
       "                        <td id=\"T_9c39644a_8be1_11ea_a8ac_380025f3998frow0_col0\" class=\"data row0 col0\" >1.0000</td>\n",
       "                        <td id=\"T_9c39644a_8be1_11ea_a8ac_380025f3998frow0_col1\" class=\"data row0 col1\" >-0.0473</td>\n",
       "                        <td id=\"T_9c39644a_8be1_11ea_a8ac_380025f3998frow0_col2\" class=\"data row0 col2\" >0.0747</td>\n",
       "                        <td id=\"T_9c39644a_8be1_11ea_a8ac_380025f3998frow0_col3\" class=\"data row0 col3\" >-0.1615</td>\n",
       "            </tr>\n",
       "            <tr>\n",
       "                        <th id=\"T_9c39644a_8be1_11ea_a8ac_380025f3998flevel0_row1\" class=\"row_heading level0 row1\" >is_Sensing</th>\n",
       "                        <td id=\"T_9c39644a_8be1_11ea_a8ac_380025f3998frow1_col0\" class=\"data row1 col0\" >-0.0473</td>\n",
       "                        <td id=\"T_9c39644a_8be1_11ea_a8ac_380025f3998frow1_col1\" class=\"data row1 col1\" >1.0000</td>\n",
       "                        <td id=\"T_9c39644a_8be1_11ea_a8ac_380025f3998frow1_col2\" class=\"data row1 col2\" >0.0843</td>\n",
       "                        <td id=\"T_9c39644a_8be1_11ea_a8ac_380025f3998frow1_col3\" class=\"data row1 col3\" >-0.0135</td>\n",
       "            </tr>\n",
       "            <tr>\n",
       "                        <th id=\"T_9c39644a_8be1_11ea_a8ac_380025f3998flevel0_row2\" class=\"row_heading level0 row2\" >is_Thinking</th>\n",
       "                        <td id=\"T_9c39644a_8be1_11ea_a8ac_380025f3998frow2_col0\" class=\"data row2 col0\" >0.0747</td>\n",
       "                        <td id=\"T_9c39644a_8be1_11ea_a8ac_380025f3998frow2_col1\" class=\"data row2 col1\" >0.0843</td>\n",
       "                        <td id=\"T_9c39644a_8be1_11ea_a8ac_380025f3998frow2_col2\" class=\"data row2 col2\" >1.0000</td>\n",
       "                        <td id=\"T_9c39644a_8be1_11ea_a8ac_380025f3998frow2_col3\" class=\"data row2 col3\" >-0.0088</td>\n",
       "            </tr>\n",
       "            <tr>\n",
       "                        <th id=\"T_9c39644a_8be1_11ea_a8ac_380025f3998flevel0_row3\" class=\"row_heading level0 row3\" >is_Judging</th>\n",
       "                        <td id=\"T_9c39644a_8be1_11ea_a8ac_380025f3998frow3_col0\" class=\"data row3 col0\" >-0.1615</td>\n",
       "                        <td id=\"T_9c39644a_8be1_11ea_a8ac_380025f3998frow3_col1\" class=\"data row3 col1\" >-0.0135</td>\n",
       "                        <td id=\"T_9c39644a_8be1_11ea_a8ac_380025f3998frow3_col2\" class=\"data row3 col2\" >-0.0088</td>\n",
       "                        <td id=\"T_9c39644a_8be1_11ea_a8ac_380025f3998frow3_col3\" class=\"data row3 col3\" >1.0000</td>\n",
       "            </tr>\n",
       "    </tbody></table>"
      ],
      "text/plain": [
       "<pandas.io.formats.style.Styler at 0x1642247ab48>"
      ]
     },
     "execution_count": 50,
     "metadata": {},
     "output_type": "execute_result"
    }
   ],
   "source": [
    "corr = personality_data[[\"is_Extrovert\", \"is_Sensing\", \"is_Thinking\", \"is_Judging\"]].corr()\n",
    "corr.style.background_gradient(cmap='BrBG').set_precision(4)"
   ]
  },
  {
   "cell_type": "markdown",
   "metadata": {},
   "source": [
    "There does not seem to be any strong correlation between the four personality dimenions."
   ]
  },
  {
   "cell_type": "markdown",
   "metadata": {},
   "source": [
    "#### Feature Engineering"
   ]
  },
  {
   "cell_type": "code",
   "execution_count": null,
   "metadata": {},
   "outputs": [],
   "source": [
    "# substituting urls with domain name\n"
   ]
  }
 ],
 "metadata": {
  "kernelspec": {
   "display_name": "project3",
   "language": "python",
   "name": "project3"
  },
  "language_info": {
   "codemirror_mode": {
    "name": "ipython",
    "version": 3
   },
   "file_extension": ".py",
   "mimetype": "text/x-python",
   "name": "python",
   "nbconvert_exporter": "python",
   "pygments_lexer": "ipython3",
   "version": "3.7.5"
  }
 },
 "nbformat": 4,
 "nbformat_minor": 4
}
