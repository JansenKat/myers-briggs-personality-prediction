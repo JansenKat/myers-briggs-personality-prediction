{
 "cells": [
  {
   "cell_type": "markdown",
   "metadata": {},
   "source": [
    "# (MBTI) Myers-Briggs Personality Type Prediction\n",
    "\n",
    "* Extroversion vs. Introversion\n",
    "    * I - 0\n",
    "    * E - 1 \n",
    "    \n",
    "* Sensing vs. Intuition \n",
    "    * N - 0 \n",
    "    * S - 1\n",
    "    \n",
    "* Thinking vs. Feeling\n",
    "    * F - 0\n",
    "    * T - 1\n",
    "    \n",
    "* Judging vs. Perceiving\n",
    "    * P - 0\n",
    "    * J - 1 \n",
    "    \n",
    "## IMPLEMENTING DIFFERENT MODELS "
   ]
  },
  {
   "cell_type": "code",
   "execution_count": 24,
   "metadata": {},
   "outputs": [
    {
     "name": "stdout",
     "output_type": "stream",
     "text": [
      "The nb_black extension is already loaded. To reload it, use:\n",
      "  %reload_ext nb_black\n"
     ]
    },
    {
     "data": {
      "application/javascript": [
       "\n",
       "            setTimeout(function() {\n",
       "                var nbb_cell_id = 24;\n",
       "                var nbb_unformatted_code = \"# importing dependencies here\\nimport numpy as np\\nimport pandas as pd\\n\\n# visualizations\\nimport seaborn as sns\\nimport matplotlib.pyplot as plt\\n\\n# data stratifying and splitting\\nfrom sklearn.model_selection import StratifiedKFold\\nfrom sklearn.model_selection import train_test_split\\n\\n# preprocessing\\nfrom sklearn.feature_extraction.text import TfidfVectorizer\\nfrom sklearn.feature_extraction.text import CountVectorizer\\nfrom sklearn.preprocessing import MinMaxScaler\\nfrom sklearn.pipeline import make_pipeline\\nfrom sklearn.feature_selection import f_classif\\nfrom sklearn.feature_selection import SelectKBest\\nfrom sklearn.compose import ColumnTransformer\\n\\n# class imbalance\\nfrom imblearn.pipeline import make_pipeline as imb_make_pipeline\\nfrom imblearn.under_sampling import RandomUnderSampler\\n\\n# algorithms/models\\nfrom sklearn.linear_model import LogisticRegression\\nfrom sklearn.linear_model import LogisticRegressionCV\\nfrom sklearn.svm import LinearSVC, SVC\\nfrom sklearn.naive_bayes import MultinomialNB\\nfrom sklearn.ensemble import RandomForestClassifier\\n\\n# model evaluation\\nfrom imblearn.metrics import classification_report_imbalanced\\nfrom imblearn.metrics import geometric_mean_score\\nfrom sklearn.metrics import average_precision_score\\n\\n# from sklearn.metrics import confusion_matrix\\nfrom sklearn.metrics import roc_auc_score\\n\\n# (\\n#     classification_report,\\n#     f1_score,\\n#     accuracy_score,\\n#     roc_auc_score,\\n# )\\n\\n# performance check\\nimport time\\nimport warnings\\n\\nwarnings.filterwarnings(\\\"ignore\\\")\\n\\n# sparse to dense\\nfrom sklearn.base import TransformerMixin\\n\\n\\nclass DenseTransformer(TransformerMixin):\\n    def fit(self, X, y=None, **fit_params):\\n        return self\\n\\n    def transform(self, X, y=None, **fit_params):\\n        return X.todense()\\n\\n\\n# saving the model\\nfrom joblib import dump\\n\\n# code formatter\\n%load_ext nb_black\";\n",
       "                var nbb_formatted_code = \"# importing dependencies here\\nimport numpy as np\\nimport pandas as pd\\n\\n# visualizations\\nimport seaborn as sns\\nimport matplotlib.pyplot as plt\\n\\n# data stratifying and splitting\\nfrom sklearn.model_selection import StratifiedKFold\\nfrom sklearn.model_selection import train_test_split\\n\\n# preprocessing\\nfrom sklearn.feature_extraction.text import TfidfVectorizer\\nfrom sklearn.feature_extraction.text import CountVectorizer\\nfrom sklearn.preprocessing import MinMaxScaler\\nfrom sklearn.pipeline import make_pipeline\\nfrom sklearn.feature_selection import f_classif\\nfrom sklearn.feature_selection import SelectKBest\\nfrom sklearn.compose import ColumnTransformer\\n\\n# class imbalance\\nfrom imblearn.pipeline import make_pipeline as imb_make_pipeline\\nfrom imblearn.under_sampling import RandomUnderSampler\\n\\n# algorithms/models\\nfrom sklearn.linear_model import LogisticRegression\\nfrom sklearn.linear_model import LogisticRegressionCV\\nfrom sklearn.svm import LinearSVC, SVC\\nfrom sklearn.naive_bayes import MultinomialNB\\nfrom sklearn.ensemble import RandomForestClassifier\\n\\n# model evaluation\\nfrom imblearn.metrics import classification_report_imbalanced\\nfrom imblearn.metrics import geometric_mean_score\\nfrom sklearn.metrics import average_precision_score\\n\\n# from sklearn.metrics import confusion_matrix\\nfrom sklearn.metrics import roc_auc_score\\n\\n# (\\n#     classification_report,\\n#     f1_score,\\n#     accuracy_score,\\n#     roc_auc_score,\\n# )\\n\\n# performance check\\nimport time\\nimport warnings\\n\\nwarnings.filterwarnings(\\\"ignore\\\")\\n\\n# sparse to dense\\nfrom sklearn.base import TransformerMixin\\n\\n\\nclass DenseTransformer(TransformerMixin):\\n    def fit(self, X, y=None, **fit_params):\\n        return self\\n\\n    def transform(self, X, y=None, **fit_params):\\n        return X.todense()\\n\\n\\n# saving the model\\nfrom joblib import dump\\n\\n# code formatter\\n%load_ext nb_black\";\n",
       "                var nbb_cells = Jupyter.notebook.get_cells();\n",
       "                for (var i = 0; i < nbb_cells.length; ++i) {\n",
       "                    if (nbb_cells[i].input_prompt_number == nbb_cell_id) {\n",
       "                        if (nbb_cells[i].get_text() == nbb_unformatted_code) {\n",
       "                             nbb_cells[i].set_text(nbb_formatted_code);\n",
       "                        }\n",
       "                        break;\n",
       "                    }\n",
       "                }\n",
       "            }, 500);\n",
       "            "
      ],
      "text/plain": [
       "<IPython.core.display.Javascript object>"
      ]
     },
     "metadata": {},
     "output_type": "display_data"
    }
   ],
   "source": [
    "# importing dependencies here\n",
    "import numpy as np\n",
    "import pandas as pd\n",
    "\n",
    "# visualizations\n",
    "import seaborn as sns\n",
    "import matplotlib.pyplot as plt\n",
    "\n",
    "# data stratifying and splitting\n",
    "from sklearn.model_selection import StratifiedKFold\n",
    "from sklearn.model_selection import train_test_split\n",
    "\n",
    "# preprocessing\n",
    "from sklearn.feature_extraction.text import TfidfVectorizer\n",
    "from sklearn.feature_extraction.text import CountVectorizer\n",
    "from sklearn.preprocessing import MinMaxScaler\n",
    "from sklearn.pipeline import make_pipeline\n",
    "from sklearn.feature_selection import f_classif\n",
    "from sklearn.feature_selection import SelectKBest\n",
    "from sklearn.compose import ColumnTransformer\n",
    "\n",
    "# class imbalance\n",
    "from imblearn.pipeline import make_pipeline as imb_make_pipeline\n",
    "from imblearn.under_sampling import RandomUnderSampler\n",
    "\n",
    "# algorithms/models\n",
    "from sklearn.linear_model import LogisticRegression\n",
    "from sklearn.linear_model import LogisticRegressionCV\n",
    "from sklearn.svm import LinearSVC, SVC\n",
    "from sklearn.naive_bayes import MultinomialNB\n",
    "from sklearn.ensemble import RandomForestClassifier\n",
    "\n",
    "# model evaluation\n",
    "from imblearn.metrics import classification_report_imbalanced\n",
    "from imblearn.metrics import geometric_mean_score\n",
    "from sklearn.metrics import average_precision_score\n",
    "\n",
    "# from sklearn.metrics import confusion_matrix\n",
    "from sklearn.metrics import roc_auc_score\n",
    "\n",
    "# (\n",
    "#     classification_report,\n",
    "#     f1_score,\n",
    "#     accuracy_score,\n",
    "#     roc_auc_score,\n",
    "# )\n",
    "\n",
    "# performance check\n",
    "import time\n",
    "import warnings\n",
    "\n",
    "warnings.filterwarnings(\"ignore\")\n",
    "\n",
    "# sparse to dense\n",
    "from sklearn.base import TransformerMixin\n",
    "\n",
    "\n",
    "class DenseTransformer(TransformerMixin):\n",
    "    def fit(self, X, y=None, **fit_params):\n",
    "        return self\n",
    "\n",
    "    def transform(self, X, y=None, **fit_params):\n",
    "        return X.todense()\n",
    "\n",
    "\n",
    "# saving the model\n",
    "from joblib import dump\n",
    "\n",
    "# code formatter\n",
    "%load_ext nb_black"
   ]
  },
  {
   "cell_type": "code",
   "execution_count": 2,
   "metadata": {},
   "outputs": [
    {
     "data": {
      "application/javascript": [
       "\n",
       "            setTimeout(function() {\n",
       "                var nbb_cell_id = 2;\n",
       "                var nbb_unformatted_code = \"# reading the final datasets\\npersonality_data = pd.read_csv(\\\"data_ekta/clean_data_3.csv\\\")\";\n",
       "                var nbb_formatted_code = \"# reading the final datasets\\npersonality_data = pd.read_csv(\\\"data_ekta/clean_data_3.csv\\\")\";\n",
       "                var nbb_cells = Jupyter.notebook.get_cells();\n",
       "                for (var i = 0; i < nbb_cells.length; ++i) {\n",
       "                    if (nbb_cells[i].input_prompt_number == nbb_cell_id) {\n",
       "                        if (nbb_cells[i].get_text() == nbb_unformatted_code) {\n",
       "                             nbb_cells[i].set_text(nbb_formatted_code);\n",
       "                        }\n",
       "                        break;\n",
       "                    }\n",
       "                }\n",
       "            }, 500);\n",
       "            "
      ],
      "text/plain": [
       "<IPython.core.display.Javascript object>"
      ]
     },
     "metadata": {},
     "output_type": "display_data"
    }
   ],
   "source": [
    "# reading the final datasets\n",
    "personality_data = pd.read_csv(\"data_ekta/clean_data_3.csv\")"
   ]
  },
  {
   "cell_type": "code",
   "execution_count": 3,
   "metadata": {},
   "outputs": [
    {
     "data": {
      "text/html": [
       "<div>\n",
       "<style scoped>\n",
       "    .dataframe tbody tr th:only-of-type {\n",
       "        vertical-align: middle;\n",
       "    }\n",
       "\n",
       "    .dataframe tbody tr th {\n",
       "        vertical-align: top;\n",
       "    }\n",
       "\n",
       "    .dataframe thead th {\n",
       "        text-align: right;\n",
       "    }\n",
       "</style>\n",
       "<table border=\"1\" class=\"dataframe\">\n",
       "  <thead>\n",
       "    <tr style=\"text-align: right;\">\n",
       "      <th></th>\n",
       "      <th>type</th>\n",
       "      <th>is_Extrovert</th>\n",
       "      <th>is_Sensing</th>\n",
       "      <th>is_Thinking</th>\n",
       "      <th>is_Judging</th>\n",
       "      <th>posts</th>\n",
       "      <th>clean_posts</th>\n",
       "      <th>compound_sentiment</th>\n",
       "      <th>pos_sentiment</th>\n",
       "      <th>neg_sentiment</th>\n",
       "      <th>...</th>\n",
       "      <th>em</th>\n",
       "      <th>colons</th>\n",
       "      <th>emojis</th>\n",
       "      <th>word_count</th>\n",
       "      <th>unique_words</th>\n",
       "      <th>post_length_var</th>\n",
       "      <th>upper</th>\n",
       "      <th>link_count</th>\n",
       "      <th>ellipses</th>\n",
       "      <th>img_count</th>\n",
       "    </tr>\n",
       "  </thead>\n",
       "  <tbody>\n",
       "    <tr>\n",
       "      <th>0</th>\n",
       "      <td>INFJ</td>\n",
       "      <td>0</td>\n",
       "      <td>0</td>\n",
       "      <td>0</td>\n",
       "      <td>1</td>\n",
       "      <td>'When asked of the things you wish you did ear...</td>\n",
       "      <td>asked thing wish earlier       find answering...</td>\n",
       "      <td>0.99980</td>\n",
       "      <td>0.414667</td>\n",
       "      <td>0.136150</td>\n",
       "      <td>...</td>\n",
       "      <td>0.22</td>\n",
       "      <td>0.32</td>\n",
       "      <td>0.08</td>\n",
       "      <td>30.98</td>\n",
       "      <td>14.92</td>\n",
       "      <td>78.414931</td>\n",
       "      <td>1.46</td>\n",
       "      <td>0.04</td>\n",
       "      <td>0.62</td>\n",
       "      <td>0.0</td>\n",
       "    </tr>\n",
       "    <tr>\n",
       "      <th>1</th>\n",
       "      <td>INFJ</td>\n",
       "      <td>0</td>\n",
       "      <td>0</td>\n",
       "      <td>0</td>\n",
       "      <td>1</td>\n",
       "      <td>'I love both and they are equally important to...</td>\n",
       "      <td>love equally important  music window soul  in...</td>\n",
       "      <td>0.99995</td>\n",
       "      <td>0.596000</td>\n",
       "      <td>0.134585</td>\n",
       "      <td>...</td>\n",
       "      <td>0.36</td>\n",
       "      <td>0.14</td>\n",
       "      <td>0.00</td>\n",
       "      <td>28.58</td>\n",
       "      <td>12.72</td>\n",
       "      <td>160.744400</td>\n",
       "      <td>1.62</td>\n",
       "      <td>0.02</td>\n",
       "      <td>0.04</td>\n",
       "      <td>0.0</td>\n",
       "    </tr>\n",
       "  </tbody>\n",
       "</table>\n",
       "<p>2 rows × 126 columns</p>\n",
       "</div>"
      ],
      "text/plain": [
       "   type  is_Extrovert  is_Sensing  is_Thinking  is_Judging  \\\n",
       "0  INFJ             0           0            0           1   \n",
       "1  INFJ             0           0            0           1   \n",
       "\n",
       "                                               posts  \\\n",
       "0  'When asked of the things you wish you did ear...   \n",
       "1  'I love both and they are equally important to...   \n",
       "\n",
       "                                         clean_posts  compound_sentiment  \\\n",
       "0   asked thing wish earlier       find answering...             0.99980   \n",
       "1   love equally important  music window soul  in...             0.99995   \n",
       "\n",
       "   pos_sentiment  neg_sentiment  ...    em colons emojis  word_count  \\\n",
       "0       0.414667       0.136150  ...  0.22   0.32   0.08       30.98   \n",
       "1       0.596000       0.134585  ...  0.36   0.14   0.00       28.58   \n",
       "\n",
       "   unique_words  post_length_var  upper  link_count  ellipses  img_count  \n",
       "0         14.92        78.414931   1.46        0.04      0.62        0.0  \n",
       "1         12.72       160.744400   1.62        0.02      0.04        0.0  \n",
       "\n",
       "[2 rows x 126 columns]"
      ]
     },
     "execution_count": 3,
     "metadata": {},
     "output_type": "execute_result"
    },
    {
     "data": {
      "application/javascript": [
       "\n",
       "            setTimeout(function() {\n",
       "                var nbb_cell_id = 3;\n",
       "                var nbb_unformatted_code = \"# checking counts dataset\\npersonality_data.head(2)\";\n",
       "                var nbb_formatted_code = \"# checking counts dataset\\npersonality_data.head(2)\";\n",
       "                var nbb_cells = Jupyter.notebook.get_cells();\n",
       "                for (var i = 0; i < nbb_cells.length; ++i) {\n",
       "                    if (nbb_cells[i].input_prompt_number == nbb_cell_id) {\n",
       "                        if (nbb_cells[i].get_text() == nbb_unformatted_code) {\n",
       "                             nbb_cells[i].set_text(nbb_formatted_code);\n",
       "                        }\n",
       "                        break;\n",
       "                    }\n",
       "                }\n",
       "            }, 500);\n",
       "            "
      ],
      "text/plain": [
       "<IPython.core.display.Javascript object>"
      ]
     },
     "metadata": {},
     "output_type": "display_data"
    }
   ],
   "source": [
    "# checking counts dataset\n",
    "personality_data.head(2)"
   ]
  },
  {
   "cell_type": "markdown",
   "metadata": {},
   "source": [
    "### Setting predictors and target variable\n"
   ]
  },
  {
   "cell_type": "code",
   "execution_count": 4,
   "metadata": {},
   "outputs": [
    {
     "name": "stdout",
     "output_type": "stream",
     "text": [
      "(8588, 22)\n",
      "(8588, 4)\n"
     ]
    },
    {
     "data": {
      "application/javascript": [
       "\n",
       "            setTimeout(function() {\n",
       "                var nbb_cell_id = 4;\n",
       "                var nbb_unformatted_code = \"# setting X to clean_posts, compound sentiment score, pos tags and various other counts\\nX = personality_data[\\n    [\\n        \\\"clean_posts\\\",\\n        \\\"compound_sentiment\\\",\\n        \\\"ADJ_avg\\\",\\n        \\\"ADP_avg\\\",\\n        \\\"ADV_avg\\\",\\n        \\\"CONJ_avg\\\",\\n        \\\"DET_avg\\\",\\n        \\\"NOUN_avg\\\",\\n        \\\"NUM_avg\\\",\\n        \\\"PRT_avg\\\",\\n        \\\"PRON_avg\\\",\\n        \\\"VERB_avg\\\",\\n        \\\"qm\\\",\\n        \\\"em\\\",\\n        \\\"colons\\\",\\n        \\\"emojis\\\",\\n        \\\"word_count\\\",\\n        \\\"unique_words\\\",\\n        \\\"upper\\\",\\n        \\\"link_count\\\",\\n        \\\"ellipses\\\",\\n        \\\"img_count\\\",\\n    ]\\n]\\n\\n# setting y to four targets is_Extrovert, is_Sensing, is_Thinking, is_Judging\\ny = personality_data.iloc[:, 1:5]\\n\\n# ensuring that X and y row count matches\\nprint(X.shape)\\nprint(y.shape)\";\n",
       "                var nbb_formatted_code = \"# setting X to clean_posts, compound sentiment score, pos tags and various other counts\\nX = personality_data[\\n    [\\n        \\\"clean_posts\\\",\\n        \\\"compound_sentiment\\\",\\n        \\\"ADJ_avg\\\",\\n        \\\"ADP_avg\\\",\\n        \\\"ADV_avg\\\",\\n        \\\"CONJ_avg\\\",\\n        \\\"DET_avg\\\",\\n        \\\"NOUN_avg\\\",\\n        \\\"NUM_avg\\\",\\n        \\\"PRT_avg\\\",\\n        \\\"PRON_avg\\\",\\n        \\\"VERB_avg\\\",\\n        \\\"qm\\\",\\n        \\\"em\\\",\\n        \\\"colons\\\",\\n        \\\"emojis\\\",\\n        \\\"word_count\\\",\\n        \\\"unique_words\\\",\\n        \\\"upper\\\",\\n        \\\"link_count\\\",\\n        \\\"ellipses\\\",\\n        \\\"img_count\\\",\\n    ]\\n]\\n\\n# setting y to four targets is_Extrovert, is_Sensing, is_Thinking, is_Judging\\ny = personality_data.iloc[:, 1:5]\\n\\n# ensuring that X and y row count matches\\nprint(X.shape)\\nprint(y.shape)\";\n",
       "                var nbb_cells = Jupyter.notebook.get_cells();\n",
       "                for (var i = 0; i < nbb_cells.length; ++i) {\n",
       "                    if (nbb_cells[i].input_prompt_number == nbb_cell_id) {\n",
       "                        if (nbb_cells[i].get_text() == nbb_unformatted_code) {\n",
       "                             nbb_cells[i].set_text(nbb_formatted_code);\n",
       "                        }\n",
       "                        break;\n",
       "                    }\n",
       "                }\n",
       "            }, 500);\n",
       "            "
      ],
      "text/plain": [
       "<IPython.core.display.Javascript object>"
      ]
     },
     "metadata": {},
     "output_type": "display_data"
    }
   ],
   "source": [
    "# setting X to clean_posts, compound sentiment score, pos tags and various other counts\n",
    "X = personality_data[\n",
    "    [\n",
    "        \"clean_posts\",\n",
    "        \"compound_sentiment\",\n",
    "        \"ADJ_avg\",\n",
    "        \"ADP_avg\",\n",
    "        \"ADV_avg\",\n",
    "        \"CONJ_avg\",\n",
    "        \"DET_avg\",\n",
    "        \"NOUN_avg\",\n",
    "        \"NUM_avg\",\n",
    "        \"PRT_avg\",\n",
    "        \"PRON_avg\",\n",
    "        \"VERB_avg\",\n",
    "        \"qm\",\n",
    "        \"em\",\n",
    "        \"colons\",\n",
    "        \"emojis\",\n",
    "        \"word_count\",\n",
    "        \"unique_words\",\n",
    "        \"upper\",\n",
    "        \"link_count\",\n",
    "        \"ellipses\",\n",
    "        \"img_count\",\n",
    "    ]\n",
    "]\n",
    "\n",
    "# setting y to four targets is_Extrovert, is_Sensing, is_Thinking, is_Judging\n",
    "y = personality_data.iloc[:, 1:5]\n",
    "\n",
    "# ensuring that X and y row count matches\n",
    "print(X.shape)\n",
    "print(y.shape)"
   ]
  },
  {
   "cell_type": "markdown",
   "metadata": {},
   "source": [
    "### Creating a list of words (other than the stop words) to be dropped to improve model performanace"
   ]
  },
  {
   "cell_type": "code",
   "execution_count": 5,
   "metadata": {},
   "outputs": [
    {
     "data": {
      "application/javascript": [
       "\n",
       "            setTimeout(function() {\n",
       "                var nbb_cell_id = 5;\n",
       "                var nbb_unformatted_code = \"additional_stopwords = [\\n    \\\"hey\\\",\\n    \\\"hello\\\",\\n    \\\"briggs\\\",\\n    \\\"cat\\\",\\n    \\\"car\\\",\\n    \\\"mbti\\\",\\n    \\\"soup\\\",\\n    \\\"tea\\\",\\n    \\\"stuff\\\",\\n    \\\"gift\\\",\\n    \\\"song\\\",\\n    \\\"world\\\",\\n    \\\"type\\\",\\n]\";\n",
       "                var nbb_formatted_code = \"additional_stopwords = [\\n    \\\"hey\\\",\\n    \\\"hello\\\",\\n    \\\"briggs\\\",\\n    \\\"cat\\\",\\n    \\\"car\\\",\\n    \\\"mbti\\\",\\n    \\\"soup\\\",\\n    \\\"tea\\\",\\n    \\\"stuff\\\",\\n    \\\"gift\\\",\\n    \\\"song\\\",\\n    \\\"world\\\",\\n    \\\"type\\\",\\n]\";\n",
       "                var nbb_cells = Jupyter.notebook.get_cells();\n",
       "                for (var i = 0; i < nbb_cells.length; ++i) {\n",
       "                    if (nbb_cells[i].input_prompt_number == nbb_cell_id) {\n",
       "                        if (nbb_cells[i].get_text() == nbb_unformatted_code) {\n",
       "                             nbb_cells[i].set_text(nbb_formatted_code);\n",
       "                        }\n",
       "                        break;\n",
       "                    }\n",
       "                }\n",
       "            }, 500);\n",
       "            "
      ],
      "text/plain": [
       "<IPython.core.display.Javascript object>"
      ]
     },
     "metadata": {},
     "output_type": "display_data"
    }
   ],
   "source": [
    "additional_stopwords = [\n",
    "    \"hey\",\n",
    "    \"hello\",\n",
    "    \"briggs\",\n",
    "    \"cat\",\n",
    "    \"car\",\n",
    "    \"mbti\",\n",
    "    \"soup\",\n",
    "    \"tea\",\n",
    "    \"stuff\",\n",
    "    \"gift\",\n",
    "    \"song\",\n",
    "    \"world\",\n",
    "    \"type\",\n",
    "]"
   ]
  },
  {
   "cell_type": "markdown",
   "metadata": {},
   "source": [
    "### Setting up preprocessor for vectorization and selecting best counts and scores"
   ]
  },
  {
   "cell_type": "code",
   "execution_count": 6,
   "metadata": {},
   "outputs": [
    {
     "data": {
      "application/javascript": [
       "\n",
       "            setTimeout(function() {\n",
       "                var nbb_cell_id = 6;\n",
       "                var nbb_unformatted_code = \"# preprocessing steps for selecting best k columns/features from counts & scores and for vectorizing words\\n\\ncounts_n_scores = [\\n    \\\"compound_sentiment\\\",\\n    \\\"ADJ_avg\\\",\\n    \\\"ADP_avg\\\",\\n    \\\"ADV_avg\\\",\\n    \\\"CONJ_avg\\\",\\n    \\\"DET_avg\\\",\\n    \\\"NOUN_avg\\\",\\n    \\\"NUM_avg\\\",\\n    \\\"PRT_avg\\\",\\n    \\\"PRON_avg\\\",\\n    \\\"VERB_avg\\\",\\n    \\\"qm\\\",\\n    \\\"em\\\",\\n    \\\"colons\\\",\\n    \\\"emojis\\\",\\n    \\\"word_count\\\",\\n    \\\"unique_words\\\",\\n    \\\"upper\\\",\\n    \\\"link_count\\\",\\n    \\\"ellipses\\\",\\n    \\\"img_count\\\",\\n]\\n\\n# for selecting k best features from features other than words\\nbest_k_features = make_pipeline(MinMaxScaler(), SelectKBest(f_classif, k=10))\\n\\n# setting up preprocessing for TF-IDF vectorizer\\npreprocesser_tf = ColumnTransformer(\\n    transformers=[\\n        (\\n            \\\"tfidf\\\",\\n            TfidfVectorizer(min_df=25, max_df=0.85, stop_words=additional_stopwords),\\n            \\\"clean_posts\\\",\\n        ),\\n        (\\\"selectbest\\\", best_k_features, counts_n_scores),\\n    ],\\n    remainder=\\\"passthrough\\\",\\n)\\n\\n# setting up preprocessing for COUNT vectorizer\\npreprocesser_ct = ColumnTransformer(\\n    transformers=[\\n        (\\n            \\\"ct_vect\\\",\\n            CountVectorizer(min_df=25, max_df=0.85, stop_words=additional_stopwords),\\n            \\\"clean_posts\\\",\\n        ),\\n        (\\\"selectbest\\\", best_k_features, counts_n_scores),\\n    ],\\n    remainder=\\\"passthrough\\\",\\n)\";\n",
       "                var nbb_formatted_code = \"# preprocessing steps for selecting best k columns/features from counts & scores and for vectorizing words\\n\\ncounts_n_scores = [\\n    \\\"compound_sentiment\\\",\\n    \\\"ADJ_avg\\\",\\n    \\\"ADP_avg\\\",\\n    \\\"ADV_avg\\\",\\n    \\\"CONJ_avg\\\",\\n    \\\"DET_avg\\\",\\n    \\\"NOUN_avg\\\",\\n    \\\"NUM_avg\\\",\\n    \\\"PRT_avg\\\",\\n    \\\"PRON_avg\\\",\\n    \\\"VERB_avg\\\",\\n    \\\"qm\\\",\\n    \\\"em\\\",\\n    \\\"colons\\\",\\n    \\\"emojis\\\",\\n    \\\"word_count\\\",\\n    \\\"unique_words\\\",\\n    \\\"upper\\\",\\n    \\\"link_count\\\",\\n    \\\"ellipses\\\",\\n    \\\"img_count\\\",\\n]\\n\\n# for selecting k best features from features other than words\\nbest_k_features = make_pipeline(MinMaxScaler(), SelectKBest(f_classif, k=10))\\n\\n# setting up preprocessing for TF-IDF vectorizer\\npreprocesser_tf = ColumnTransformer(\\n    transformers=[\\n        (\\n            \\\"tfidf\\\",\\n            TfidfVectorizer(min_df=25, max_df=0.85, stop_words=additional_stopwords),\\n            \\\"clean_posts\\\",\\n        ),\\n        (\\\"selectbest\\\", best_k_features, counts_n_scores),\\n    ],\\n    remainder=\\\"passthrough\\\",\\n)\\n\\n# setting up preprocessing for COUNT vectorizer\\npreprocesser_ct = ColumnTransformer(\\n    transformers=[\\n        (\\n            \\\"ct_vect\\\",\\n            CountVectorizer(min_df=25, max_df=0.85, stop_words=additional_stopwords),\\n            \\\"clean_posts\\\",\\n        ),\\n        (\\\"selectbest\\\", best_k_features, counts_n_scores),\\n    ],\\n    remainder=\\\"passthrough\\\",\\n)\";\n",
       "                var nbb_cells = Jupyter.notebook.get_cells();\n",
       "                for (var i = 0; i < nbb_cells.length; ++i) {\n",
       "                    if (nbb_cells[i].input_prompt_number == nbb_cell_id) {\n",
       "                        if (nbb_cells[i].get_text() == nbb_unformatted_code) {\n",
       "                             nbb_cells[i].set_text(nbb_formatted_code);\n",
       "                        }\n",
       "                        break;\n",
       "                    }\n",
       "                }\n",
       "            }, 500);\n",
       "            "
      ],
      "text/plain": [
       "<IPython.core.display.Javascript object>"
      ]
     },
     "metadata": {},
     "output_type": "display_data"
    }
   ],
   "source": [
    "# preprocessing steps for selecting best k columns/features from counts & scores and for vectorizing words\n",
    "\n",
    "counts_n_scores = [\n",
    "    \"compound_sentiment\",\n",
    "    \"ADJ_avg\",\n",
    "    \"ADP_avg\",\n",
    "    \"ADV_avg\",\n",
    "    \"CONJ_avg\",\n",
    "    \"DET_avg\",\n",
    "    \"NOUN_avg\",\n",
    "    \"NUM_avg\",\n",
    "    \"PRT_avg\",\n",
    "    \"PRON_avg\",\n",
    "    \"VERB_avg\",\n",
    "    \"qm\",\n",
    "    \"em\",\n",
    "    \"colons\",\n",
    "    \"emojis\",\n",
    "    \"word_count\",\n",
    "    \"unique_words\",\n",
    "    \"upper\",\n",
    "    \"link_count\",\n",
    "    \"ellipses\",\n",
    "    \"img_count\",\n",
    "]\n",
    "\n",
    "# for selecting k best features from features other than words\n",
    "best_k_features = make_pipeline(MinMaxScaler(), SelectKBest(f_classif, k=10))\n",
    "\n",
    "# setting up preprocessing for TF-IDF vectorizer\n",
    "preprocesser_tf = ColumnTransformer(\n",
    "    transformers=[\n",
    "        (\n",
    "            \"tfidf\",\n",
    "            TfidfVectorizer(min_df=25, max_df=0.85, stop_words=additional_stopwords),\n",
    "            \"clean_posts\",\n",
    "        ),\n",
    "        (\"selectbest\", best_k_features, counts_n_scores),\n",
    "    ],\n",
    "    remainder=\"passthrough\",\n",
    ")\n",
    "\n",
    "# setting up preprocessing for COUNT vectorizer\n",
    "preprocesser_ct = ColumnTransformer(\n",
    "    transformers=[\n",
    "        (\n",
    "            \"ct_vect\",\n",
    "            CountVectorizer(min_df=25, max_df=0.85, stop_words=additional_stopwords),\n",
    "            \"clean_posts\",\n",
    "        ),\n",
    "        (\"selectbest\", best_k_features, counts_n_scores),\n",
    "    ],\n",
    "    remainder=\"passthrough\",\n",
    ")"
   ]
  },
  {
   "cell_type": "markdown",
   "metadata": {},
   "source": [
    "### Modelling"
   ]
  },
  {
   "cell_type": "code",
   "execution_count": 7,
   "metadata": {},
   "outputs": [
    {
     "data": {
      "application/javascript": [
       "\n",
       "            setTimeout(function() {\n",
       "                var nbb_cell_id = 7;\n",
       "                var nbb_unformatted_code = \"# setting up the personality dictionary for printing scores\\nmbti_type = {\\n    \\\"is_Extrovert\\\": \\\"Extrovert vs Introvert\\\",\\n    \\\"is_Sensing\\\": \\\"Sensing vs Intuition\\\",\\n    \\\"is_Thinking\\\": \\\"Thinking vs Feeling\\\",\\n    \\\"is_Judging\\\": \\\"Judging vs Perceiving\\\",\\n}\\n\\n# function to build the model for predicting each of 4 target features\\ndef build_model(model, X, y, vectorizer_name):\\n\\n    for col in y.columns:\\n\\n        print(f\\\"\\\\n{mbti_type[col]}\\\")\\n        target = y[col]\\n\\n        X_train, X_test, y_train, y_test = train_test_split(\\n            X, target, test_size=0.2, random_state=42, stratify=target\\n        )\\n\\n        # model training\\n        model.fit(X_train, y_train)\\n        \\n        # y_hat\\n        y_pred = model.predict(X_test)\\n        \\n        # y_probability\\n        y_proba = model.predict_proba(X_test)[:, 1]\\n        \\n        # precision recall score\\n        average_precision = average_precision_score(y_test, y_proba)\\n\\n        # model evaluation\\n        print(f\\\"Geometric Mean Score: {geometric_mean_score(y_test, y_pred, average='weighted'):.2f}\\\")\\n        print(f\\\"ROC-AUC Score: {roc_auc_score(y_test, y_proba):.2f}\\\")\\n        print(f\\\"Average Precision-Recall Score: {average_precision:.2f}\\\") \\n        print(classification_report_imbalanced(y_test, y_pred))\";\n",
       "                var nbb_formatted_code = \"# setting up the personality dictionary for printing scores\\nmbti_type = {\\n    \\\"is_Extrovert\\\": \\\"Extrovert vs Introvert\\\",\\n    \\\"is_Sensing\\\": \\\"Sensing vs Intuition\\\",\\n    \\\"is_Thinking\\\": \\\"Thinking vs Feeling\\\",\\n    \\\"is_Judging\\\": \\\"Judging vs Perceiving\\\",\\n}\\n\\n# function to build the model for predicting each of 4 target features\\ndef build_model(model, X, y, vectorizer_name):\\n\\n    for col in y.columns:\\n\\n        print(f\\\"\\\\n{mbti_type[col]}\\\")\\n        target = y[col]\\n\\n        X_train, X_test, y_train, y_test = train_test_split(\\n            X, target, test_size=0.2, random_state=42, stratify=target\\n        )\\n\\n        # model training\\n        model.fit(X_train, y_train)\\n\\n        # y_hat\\n        y_pred = model.predict(X_test)\\n\\n        # y_probability\\n        y_proba = model.predict_proba(X_test)[:, 1]\\n\\n        # precision recall score\\n        average_precision = average_precision_score(y_test, y_proba)\\n\\n        # model evaluation\\n        print(\\n            f\\\"Geometric Mean Score: {geometric_mean_score(y_test, y_pred, average='weighted'):.2f}\\\"\\n        )\\n        print(f\\\"ROC-AUC Score: {roc_auc_score(y_test, y_proba):.2f}\\\")\\n        print(f\\\"Average Precision-Recall Score: {average_precision:.2f}\\\")\\n        print(classification_report_imbalanced(y_test, y_pred))\";\n",
       "                var nbb_cells = Jupyter.notebook.get_cells();\n",
       "                for (var i = 0; i < nbb_cells.length; ++i) {\n",
       "                    if (nbb_cells[i].input_prompt_number == nbb_cell_id) {\n",
       "                        if (nbb_cells[i].get_text() == nbb_unformatted_code) {\n",
       "                             nbb_cells[i].set_text(nbb_formatted_code);\n",
       "                        }\n",
       "                        break;\n",
       "                    }\n",
       "                }\n",
       "            }, 500);\n",
       "            "
      ],
      "text/plain": [
       "<IPython.core.display.Javascript object>"
      ]
     },
     "metadata": {},
     "output_type": "display_data"
    }
   ],
   "source": [
    "# setting up the personality dictionary for printing scores\n",
    "mbti_type = {\n",
    "    \"is_Extrovert\": \"Extrovert vs Introvert\",\n",
    "    \"is_Sensing\": \"Sensing vs Intuition\",\n",
    "    \"is_Thinking\": \"Thinking vs Feeling\",\n",
    "    \"is_Judging\": \"Judging vs Perceiving\",\n",
    "}\n",
    "\n",
    "# function to build the model for predicting each of 4 target features\n",
    "def build_model(model, X, y, vectorizer_name):\n",
    "\n",
    "    for col in y.columns:\n",
    "\n",
    "        print(f\"\\n{mbti_type[col]}\")\n",
    "        target = y[col]\n",
    "\n",
    "        X_train, X_test, y_train, y_test = train_test_split(\n",
    "            X, target, test_size=0.2, random_state=42, stratify=target\n",
    "        )\n",
    "\n",
    "        # model training\n",
    "        model.fit(X_train, y_train)\n",
    "        \n",
    "        # y_hat\n",
    "        y_pred = model.predict(X_test)\n",
    "        \n",
    "        # y_probability\n",
    "        y_proba = model.predict_proba(X_test)[:, 1]\n",
    "        \n",
    "        # precision recall score\n",
    "        average_precision = average_precision_score(y_test, y_proba)\n",
    "\n",
    "        # model evaluation\n",
    "        print(f\"Geometric Mean Score: {geometric_mean_score(y_test, y_pred, average='weighted'):.2f}\")\n",
    "        print(f\"ROC-AUC Score: {roc_auc_score(y_test, y_proba):.2f}\")\n",
    "        print(f\"Average Precision-Recall Score: {average_precision:.2f}\") \n",
    "        print(classification_report_imbalanced(y_test, y_pred))\n"
   ]
  },
  {
   "cell_type": "markdown",
   "metadata": {},
   "source": [
    "### TF-IDF Logistic Regression"
   ]
  },
  {
   "cell_type": "code",
   "execution_count": 8,
   "metadata": {},
   "outputs": [
    {
     "name": "stdout",
     "output_type": "stream",
     "text": [
      "\n",
      "Extrovert vs Introvert\n",
      "Geometric Mean Score: 0.68\n",
      "ROC-AUC Score: 0.75\n",
      "Average Precision-Recall Score: 0.46\n",
      "                   pre       rec       spe        f1       geo       iba       sup\n",
      "\n",
      "          0       0.87      0.69      0.66      0.77      0.68      0.46      1322\n",
      "          1       0.39      0.66      0.69      0.49      0.68      0.45       396\n",
      "\n",
      "avg / total       0.76      0.68      0.67      0.71      0.68      0.46      1718\n",
      "\n",
      "\n",
      "Sensing vs Intuition\n",
      "Geometric Mean Score: 0.70\n",
      "ROC-AUC Score: 0.78\n",
      "Average Precision-Recall Score: 0.38\n",
      "                   pre       rec       spe        f1       geo       iba       sup\n",
      "\n",
      "          0       0.94      0.68      0.73      0.79      0.70      0.49      1481\n",
      "          1       0.27      0.73      0.68      0.39      0.70      0.50       237\n",
      "\n",
      "avg / total       0.85      0.69      0.72      0.73      0.70      0.49      1718\n",
      "\n",
      "\n",
      "Thinking vs Feeling\n",
      "Geometric Mean Score: 0.78\n",
      "ROC-AUC Score: 0.87\n",
      "Average Precision-Recall Score: 0.84\n",
      "                   pre       rec       spe        f1       geo       iba       sup\n",
      "\n",
      "          0       0.81      0.78      0.79      0.80      0.78      0.62       929\n",
      "          1       0.75      0.79      0.78      0.77      0.78      0.62       789\n",
      "\n",
      "avg / total       0.79      0.78      0.79      0.78      0.78      0.62      1718\n",
      "\n",
      "\n",
      "Judging vs Perceiving\n",
      "Geometric Mean Score: 0.64\n",
      "ROC-AUC Score: 0.68\n",
      "Average Precision-Recall Score: 0.57\n",
      "                   pre       rec       spe        f1       geo       iba       sup\n",
      "\n",
      "          0       0.74      0.62      0.66      0.67      0.64      0.41      1038\n",
      "          1       0.53      0.66      0.62      0.59      0.64      0.41       680\n",
      "\n",
      "avg / total       0.66      0.64      0.65      0.64      0.64      0.41      1718\n",
      "\n",
      "Wall time: 2min 4s\n"
     ]
    },
    {
     "data": {
      "application/javascript": [
       "\n",
       "            setTimeout(function() {\n",
       "                var nbb_cell_id = 8;\n",
       "                var nbb_unformatted_code = \"%%time\\n\\ntfidf_logistic_regression = imb_make_pipeline(\\n    preprocesser_tf, RandomUnderSampler(), LogisticRegressionCV(cv=10)\\n)\\nbuild_model(tfidf_logistic_regression, X, y, \\\"tfidf\\\")\";\n",
       "                var nbb_formatted_code = \"%%time\\n\\ntfidf_logistic_regression = imb_make_pipeline(\\n    preprocesser_tf, RandomUnderSampler(), LogisticRegressionCV(cv=10)\\n)\\nbuild_model(tfidf_logistic_regression, X, y, \\\"tfidf\\\")\";\n",
       "                var nbb_cells = Jupyter.notebook.get_cells();\n",
       "                for (var i = 0; i < nbb_cells.length; ++i) {\n",
       "                    if (nbb_cells[i].input_prompt_number == nbb_cell_id) {\n",
       "                        if (nbb_cells[i].get_text() == nbb_unformatted_code) {\n",
       "                             nbb_cells[i].set_text(nbb_formatted_code);\n",
       "                        }\n",
       "                        break;\n",
       "                    }\n",
       "                }\n",
       "            }, 500);\n",
       "            "
      ],
      "text/plain": [
       "<IPython.core.display.Javascript object>"
      ]
     },
     "metadata": {},
     "output_type": "display_data"
    }
   ],
   "source": [
    "%%time\n",
    "\n",
    "tfidf_logistic_regression = imb_make_pipeline(\n",
    "    preprocesser_tf, RandomUnderSampler(), LogisticRegressionCV(cv=10)\n",
    ")\n",
    "build_model(tfidf_logistic_regression, X, y, \"tfidf\")"
   ]
  },
  {
   "cell_type": "markdown",
   "metadata": {},
   "source": [
    "### Count Vectorized Logistic Regression"
   ]
  },
  {
   "cell_type": "code",
   "execution_count": 9,
   "metadata": {},
   "outputs": [
    {
     "name": "stdout",
     "output_type": "stream",
     "text": [
      "\n",
      "Extrovert vs Introvert\n",
      "Geometric Mean Score: 0.65\n",
      "ROC-AUC Score: 0.71\n",
      "Average Precision-Recall Score: 0.40\n",
      "                   pre       rec       spe        f1       geo       iba       sup\n",
      "\n",
      "          0       0.86      0.68      0.62      0.76      0.65      0.42      1322\n",
      "          1       0.36      0.62      0.68      0.46      0.65      0.42       396\n",
      "\n",
      "avg / total       0.74      0.66      0.63      0.69      0.65      0.42      1718\n",
      "\n",
      "\n",
      "Sensing vs Intuition\n",
      "Geometric Mean Score: 0.67\n",
      "ROC-AUC Score: 0.73\n",
      "Average Precision-Recall Score: 0.33\n",
      "                   pre       rec       spe        f1       geo       iba       sup\n",
      "\n",
      "          0       0.93      0.63      0.71      0.75      0.67      0.44      1481\n",
      "          1       0.23      0.71      0.63      0.35      0.67      0.45       237\n",
      "\n",
      "avg / total       0.84      0.64      0.70      0.70      0.67      0.44      1718\n",
      "\n",
      "\n",
      "Thinking vs Feeling\n",
      "Geometric Mean Score: 0.77\n",
      "ROC-AUC Score: 0.85\n",
      "Average Precision-Recall Score: 0.82\n",
      "                   pre       rec       spe        f1       geo       iba       sup\n",
      "\n",
      "          0       0.81      0.76      0.79      0.78      0.77      0.60       929\n",
      "          1       0.74      0.79      0.76      0.76      0.77      0.60       789\n",
      "\n",
      "avg / total       0.77      0.77      0.77      0.77      0.77      0.60      1718\n",
      "\n",
      "\n",
      "Judging vs Perceiving\n",
      "Geometric Mean Score: 0.62\n",
      "ROC-AUC Score: 0.66\n",
      "Average Precision-Recall Score: 0.53\n",
      "                   pre       rec       spe        f1       geo       iba       sup\n",
      "\n",
      "          0       0.71      0.62      0.61      0.66      0.62      0.38      1038\n",
      "          1       0.51      0.61      0.62      0.56      0.62      0.38       680\n",
      "\n",
      "avg / total       0.63      0.62      0.62      0.62      0.62      0.38      1718\n",
      "\n",
      "Wall time: 2min 44s\n"
     ]
    },
    {
     "data": {
      "application/javascript": [
       "\n",
       "            setTimeout(function() {\n",
       "                var nbb_cell_id = 9;\n",
       "                var nbb_unformatted_code = \"%%time\\nct_logistic_regression = imb_make_pipeline(\\n    preprocesser_ct, RandomUnderSampler(), LogisticRegressionCV(cv=10)\\n)\\nbuild_model(ct_logistic_regression, X, y, \\\"ct_vect\\\")\";\n",
       "                var nbb_formatted_code = \"%%time\\nct_logistic_regression = imb_make_pipeline(\\n    preprocesser_ct, RandomUnderSampler(), LogisticRegressionCV(cv=10)\\n)\\nbuild_model(ct_logistic_regression, X, y, \\\"ct_vect\\\")\";\n",
       "                var nbb_cells = Jupyter.notebook.get_cells();\n",
       "                for (var i = 0; i < nbb_cells.length; ++i) {\n",
       "                    if (nbb_cells[i].input_prompt_number == nbb_cell_id) {\n",
       "                        if (nbb_cells[i].get_text() == nbb_unformatted_code) {\n",
       "                             nbb_cells[i].set_text(nbb_formatted_code);\n",
       "                        }\n",
       "                        break;\n",
       "                    }\n",
       "                }\n",
       "            }, 500);\n",
       "            "
      ],
      "text/plain": [
       "<IPython.core.display.Javascript object>"
      ]
     },
     "metadata": {},
     "output_type": "display_data"
    }
   ],
   "source": [
    "%%time\n",
    "ct_logistic_regression = imb_make_pipeline(\n",
    "    preprocesser_ct, RandomUnderSampler(), LogisticRegressionCV(cv=10)\n",
    ")\n",
    "build_model(ct_logistic_regression, X, y, \"ct_vect\")"
   ]
  },
  {
   "cell_type": "markdown",
   "metadata": {},
   "source": [
    "### Cross Validated TF-IDF Logistic Lasso"
   ]
  },
  {
   "cell_type": "code",
   "execution_count": 10,
   "metadata": {},
   "outputs": [
    {
     "name": "stdout",
     "output_type": "stream",
     "text": [
      "\n",
      "Extrovert vs Introvert\n",
      "Geometric Mean Score: 0.64\n",
      "ROC-AUC Score: 0.71\n",
      "Average Precision-Recall Score: 0.43\n",
      "                   pre       rec       spe        f1       geo       iba       sup\n",
      "\n",
      "          0       0.85      0.67      0.61      0.75      0.64      0.41      1322\n",
      "          1       0.36      0.61      0.67      0.45      0.64      0.41       396\n",
      "\n",
      "avg / total       0.74      0.66      0.63      0.68      0.64      0.41      1718\n",
      "\n",
      "\n",
      "Sensing vs Intuition\n",
      "Geometric Mean Score: 0.69\n",
      "ROC-AUC Score: 0.73\n",
      "Average Precision-Recall Score: 0.32\n",
      "                   pre       rec       spe        f1       geo       iba       sup\n",
      "\n",
      "          0       0.93      0.67      0.70      0.78      0.69      0.47      1481\n",
      "          1       0.25      0.70      0.67      0.37      0.69      0.47       237\n",
      "\n",
      "avg / total       0.84      0.68      0.70      0.72      0.69      0.47      1718\n",
      "\n",
      "\n",
      "Thinking vs Feeling\n",
      "Geometric Mean Score: 0.77\n",
      "ROC-AUC Score: 0.85\n",
      "Average Precision-Recall Score: 0.81\n",
      "                   pre       rec       spe        f1       geo       iba       sup\n",
      "\n",
      "          0       0.81      0.77      0.78      0.79      0.77      0.60       929\n",
      "          1       0.74      0.78      0.77      0.76      0.77      0.60       789\n",
      "\n",
      "avg / total       0.78      0.77      0.78      0.77      0.77      0.60      1718\n",
      "\n",
      "\n",
      "Judging vs Perceiving\n",
      "Geometric Mean Score: 0.62\n",
      "ROC-AUC Score: 0.66\n",
      "Average Precision-Recall Score: 0.55\n",
      "                   pre       rec       spe        f1       geo       iba       sup\n",
      "\n",
      "          0       0.71      0.62      0.62      0.66      0.62      0.38      1038\n",
      "          1       0.51      0.62      0.62      0.56      0.62      0.38       680\n",
      "\n",
      "avg / total       0.63      0.62      0.62      0.62      0.62      0.38      1718\n",
      "\n",
      "Wall time: 30min 21s\n"
     ]
    },
    {
     "data": {
      "application/javascript": [
       "\n",
       "            setTimeout(function() {\n",
       "                var nbb_cell_id = 10;\n",
       "                var nbb_unformatted_code = \"%%time\\ntfidf_logistic_regression_lasso = imb_make_pipeline(\\n    preprocesser_tf, RandomUnderSampler(), LogisticRegressionCV(penalty='l1', solver='saga' )\\n)\\nbuild_model(tfidf_logistic_regression_lasso, X, y, \\\"tfidf\\\")\";\n",
       "                var nbb_formatted_code = \"%%time\\ntfidf_logistic_regression_lasso = imb_make_pipeline(\\n    preprocesser_tf, RandomUnderSampler(), LogisticRegressionCV(penalty='l1', solver='saga' )\\n)\\nbuild_model(tfidf_logistic_regression_lasso, X, y, \\\"tfidf\\\")\";\n",
       "                var nbb_cells = Jupyter.notebook.get_cells();\n",
       "                for (var i = 0; i < nbb_cells.length; ++i) {\n",
       "                    if (nbb_cells[i].input_prompt_number == nbb_cell_id) {\n",
       "                        if (nbb_cells[i].get_text() == nbb_unformatted_code) {\n",
       "                             nbb_cells[i].set_text(nbb_formatted_code);\n",
       "                        }\n",
       "                        break;\n",
       "                    }\n",
       "                }\n",
       "            }, 500);\n",
       "            "
      ],
      "text/plain": [
       "<IPython.core.display.Javascript object>"
      ]
     },
     "metadata": {},
     "output_type": "display_data"
    }
   ],
   "source": [
    "%%time\n",
    "tfidf_logistic_regression_lasso = imb_make_pipeline(\n",
    "    preprocesser_tf, RandomUnderSampler(), LogisticRegressionCV(penalty='l1', solver='saga' )\n",
    ")\n",
    "build_model(tfidf_logistic_regression_lasso, X, y, \"tfidf\")"
   ]
  },
  {
   "cell_type": "markdown",
   "metadata": {},
   "source": [
    "### Cross Validated Count Vectorized Logistic Lasso"
   ]
  },
  {
   "cell_type": "code",
   "execution_count": 11,
   "metadata": {},
   "outputs": [
    {
     "name": "stdout",
     "output_type": "stream",
     "text": [
      "\n",
      "Extrovert vs Introvert\n",
      "Geometric Mean Score: 0.65\n",
      "ROC-AUC Score: 0.70\n",
      "Average Precision-Recall Score: 0.38\n",
      "                   pre       rec       spe        f1       geo       iba       sup\n",
      "\n",
      "          0       0.86      0.65      0.64      0.74      0.65      0.42      1322\n",
      "          1       0.36      0.64      0.65      0.46      0.65      0.42       396\n",
      "\n",
      "avg / total       0.74      0.65      0.64      0.68      0.65      0.42      1718\n",
      "\n",
      "\n",
      "Sensing vs Intuition\n",
      "Geometric Mean Score: 0.63\n",
      "ROC-AUC Score: 0.70\n",
      "Average Precision-Recall Score: 0.28\n",
      "                   pre       rec       spe        f1       geo       iba       sup\n",
      "\n",
      "          0       0.91      0.62      0.63      0.74      0.63      0.39      1481\n",
      "          1       0.21      0.63      0.62      0.32      0.63      0.39       237\n",
      "\n",
      "avg / total       0.82      0.62      0.63      0.68      0.63      0.39      1718\n",
      "\n",
      "\n",
      "Thinking vs Feeling\n",
      "Geometric Mean Score: 0.75\n",
      "ROC-AUC Score: 0.84\n",
      "Average Precision-Recall Score: 0.80\n",
      "                   pre       rec       spe        f1       geo       iba       sup\n",
      "\n",
      "          0       0.78      0.75      0.76      0.77      0.75      0.57       929\n",
      "          1       0.72      0.76      0.75      0.74      0.75      0.57       789\n",
      "\n",
      "avg / total       0.75      0.75      0.75      0.75      0.75      0.57      1718\n",
      "\n",
      "\n",
      "Judging vs Perceiving\n",
      "Geometric Mean Score: 0.59\n",
      "ROC-AUC Score: 0.63\n",
      "Average Precision-Recall Score: 0.52\n",
      "                   pre       rec       spe        f1       geo       iba       sup\n",
      "\n",
      "          0       0.68      0.59      0.58      0.63      0.59      0.34      1038\n",
      "          1       0.48      0.58      0.59      0.53      0.59      0.34       680\n",
      "\n",
      "avg / total       0.60      0.59      0.59      0.59      0.59      0.34      1718\n",
      "\n",
      "Wall time: 54min 25s\n"
     ]
    },
    {
     "data": {
      "application/javascript": [
       "\n",
       "            setTimeout(function() {\n",
       "                var nbb_cell_id = 11;\n",
       "                var nbb_unformatted_code = \"%%time\\nct_logistic_regression_lasso = imb_make_pipeline(\\n    preprocesser_ct, RandomUnderSampler(), LogisticRegressionCV(penalty='l1', solver='saga' )\\n)\\nbuild_model(ct_logistic_regression_lasso, X, y, \\\"ct_vect\\\")\";\n",
       "                var nbb_formatted_code = \"%%time\\nct_logistic_regression_lasso = imb_make_pipeline(\\n    preprocesser_ct, RandomUnderSampler(), LogisticRegressionCV(penalty='l1', solver='saga' )\\n)\\nbuild_model(ct_logistic_regression_lasso, X, y, \\\"ct_vect\\\")\";\n",
       "                var nbb_cells = Jupyter.notebook.get_cells();\n",
       "                for (var i = 0; i < nbb_cells.length; ++i) {\n",
       "                    if (nbb_cells[i].input_prompt_number == nbb_cell_id) {\n",
       "                        if (nbb_cells[i].get_text() == nbb_unformatted_code) {\n",
       "                             nbb_cells[i].set_text(nbb_formatted_code);\n",
       "                        }\n",
       "                        break;\n",
       "                    }\n",
       "                }\n",
       "            }, 500);\n",
       "            "
      ],
      "text/plain": [
       "<IPython.core.display.Javascript object>"
      ]
     },
     "metadata": {},
     "output_type": "display_data"
    }
   ],
   "source": [
    "%%time\n",
    "ct_logistic_regression_lasso = imb_make_pipeline(\n",
    "    preprocesser_ct, RandomUnderSampler(), LogisticRegressionCV(penalty='l1', solver='saga' )\n",
    ")\n",
    "build_model(ct_logistic_regression_lasso, X, y, \"ct_vect\")"
   ]
  },
  {
   "cell_type": "markdown",
   "metadata": {},
   "source": [
    "### Cross Validated TF-IDF Logistic Ridge"
   ]
  },
  {
   "cell_type": "code",
   "execution_count": 12,
   "metadata": {},
   "outputs": [
    {
     "name": "stdout",
     "output_type": "stream",
     "text": [
      "\n",
      "Extrovert vs Introvert\n",
      "Geometric Mean Score: 0.69\n",
      "ROC-AUC Score: 0.75\n",
      "Average Precision-Recall Score: 0.46\n",
      "                   pre       rec       spe        f1       geo       iba       sup\n",
      "\n",
      "          0       0.88      0.68      0.69      0.77      0.69      0.47      1322\n",
      "          1       0.39      0.69      0.68      0.50      0.69      0.47       396\n",
      "\n",
      "avg / total       0.77      0.68      0.69      0.71      0.69      0.47      1718\n",
      "\n",
      "\n",
      "Sensing vs Intuition\n",
      "Geometric Mean Score: 0.71\n",
      "ROC-AUC Score: 0.78\n",
      "Average Precision-Recall Score: 0.39\n",
      "                   pre       rec       spe        f1       geo       iba       sup\n",
      "\n",
      "          0       0.94      0.67      0.75      0.78      0.71      0.50      1481\n",
      "          1       0.26      0.75      0.67      0.39      0.71      0.50       237\n",
      "\n",
      "avg / total       0.85      0.68      0.74      0.73      0.71      0.50      1718\n",
      "\n",
      "\n",
      "Thinking vs Feeling\n",
      "Geometric Mean Score: 0.79\n",
      "ROC-AUC Score: 0.87\n",
      "Average Precision-Recall Score: 0.84\n",
      "                   pre       rec       spe        f1       geo       iba       sup\n",
      "\n",
      "          0       0.82      0.78      0.80      0.80      0.79      0.62       929\n",
      "          1       0.75      0.80      0.78      0.77      0.79      0.62       789\n",
      "\n",
      "avg / total       0.79      0.79      0.79      0.79      0.79      0.62      1718\n",
      "\n",
      "\n",
      "Judging vs Perceiving\n",
      "Geometric Mean Score: 0.64\n",
      "ROC-AUC Score: 0.68\n",
      "Average Precision-Recall Score: 0.55\n",
      "                   pre       rec       spe        f1       geo       iba       sup\n",
      "\n",
      "          0       0.73      0.64      0.64      0.68      0.64      0.41      1038\n",
      "          1       0.54      0.64      0.64      0.59      0.64      0.41       680\n",
      "\n",
      "avg / total       0.66      0.64      0.64      0.65      0.64      0.41      1718\n",
      "\n",
      "Wall time: 6min 33s\n"
     ]
    },
    {
     "data": {
      "application/javascript": [
       "\n",
       "            setTimeout(function() {\n",
       "                var nbb_cell_id = 12;\n",
       "                var nbb_unformatted_code = \"%%time\\ntfidf_logistic_regression_ridge = imb_make_pipeline(\\n    preprocesser_tf, RandomUnderSampler(), LogisticRegressionCV(penalty='l2', solver='saga' )\\n)\\nbuild_model(tfidf_logistic_regression_ridge, X, y, \\\"tfidf\\\")\";\n",
       "                var nbb_formatted_code = \"%%time\\ntfidf_logistic_regression_ridge = imb_make_pipeline(\\n    preprocesser_tf, RandomUnderSampler(), LogisticRegressionCV(penalty='l2', solver='saga' )\\n)\\nbuild_model(tfidf_logistic_regression_ridge, X, y, \\\"tfidf\\\")\";\n",
       "                var nbb_cells = Jupyter.notebook.get_cells();\n",
       "                for (var i = 0; i < nbb_cells.length; ++i) {\n",
       "                    if (nbb_cells[i].input_prompt_number == nbb_cell_id) {\n",
       "                        if (nbb_cells[i].get_text() == nbb_unformatted_code) {\n",
       "                             nbb_cells[i].set_text(nbb_formatted_code);\n",
       "                        }\n",
       "                        break;\n",
       "                    }\n",
       "                }\n",
       "            }, 500);\n",
       "            "
      ],
      "text/plain": [
       "<IPython.core.display.Javascript object>"
      ]
     },
     "metadata": {},
     "output_type": "display_data"
    }
   ],
   "source": [
    "%%time\n",
    "tfidf_logistic_regression_ridge = imb_make_pipeline(\n",
    "    preprocesser_tf, RandomUnderSampler(), LogisticRegressionCV(penalty='l2', solver='saga' )\n",
    ")\n",
    "build_model(tfidf_logistic_regression_ridge, X, y, \"tfidf\")"
   ]
  },
  {
   "cell_type": "markdown",
   "metadata": {},
   "source": [
    "### Cross Validated Count Vectorized Logistic Ridge"
   ]
  },
  {
   "cell_type": "code",
   "execution_count": 13,
   "metadata": {},
   "outputs": [
    {
     "name": "stdout",
     "output_type": "stream",
     "text": [
      "\n",
      "Extrovert vs Introvert\n",
      "Geometric Mean Score: 0.64\n",
      "ROC-AUC Score: 0.70\n",
      "Average Precision-Recall Score: 0.39\n",
      "                   pre       rec       spe        f1       geo       iba       sup\n",
      "\n",
      "          0       0.85      0.66      0.62      0.75      0.64      0.41      1322\n",
      "          1       0.36      0.62      0.66      0.45      0.64      0.41       396\n",
      "\n",
      "avg / total       0.74      0.65      0.63      0.68      0.64      0.41      1718\n",
      "\n",
      "\n",
      "Sensing vs Intuition\n",
      "Geometric Mean Score: 0.66\n",
      "ROC-AUC Score: 0.72\n",
      "Average Precision-Recall Score: 0.32\n",
      "                   pre       rec       spe        f1       geo       iba       sup\n",
      "\n",
      "          0       0.92      0.65      0.66      0.76      0.66      0.43      1481\n",
      "          1       0.23      0.66      0.65      0.34      0.66      0.43       237\n",
      "\n",
      "avg / total       0.83      0.65      0.66      0.71      0.66      0.43      1718\n",
      "\n",
      "\n",
      "Thinking vs Feeling\n",
      "Geometric Mean Score: 0.77\n",
      "ROC-AUC Score: 0.85\n",
      "Average Precision-Recall Score: 0.82\n",
      "                   pre       rec       spe        f1       geo       iba       sup\n",
      "\n",
      "          0       0.80      0.77      0.77      0.79      0.77      0.60       929\n",
      "          1       0.74      0.77      0.77      0.76      0.77      0.60       789\n",
      "\n",
      "avg / total       0.77      0.77      0.77      0.77      0.77      0.60      1718\n",
      "\n",
      "\n",
      "Judging vs Perceiving\n",
      "Geometric Mean Score: 0.60\n",
      "ROC-AUC Score: 0.65\n",
      "Average Precision-Recall Score: 0.52\n",
      "                   pre       rec       spe        f1       geo       iba       sup\n",
      "\n",
      "          0       0.70      0.60      0.61      0.65      0.60      0.36      1038\n",
      "          1       0.50      0.61      0.60      0.55      0.60      0.36       680\n",
      "\n",
      "avg / total       0.62      0.60      0.60      0.61      0.60      0.36      1718\n",
      "\n",
      "Wall time: 7min 59s\n"
     ]
    },
    {
     "data": {
      "application/javascript": [
       "\n",
       "            setTimeout(function() {\n",
       "                var nbb_cell_id = 13;\n",
       "                var nbb_unformatted_code = \"%%time\\nct_logistic_regression_ridge = imb_make_pipeline(\\n    preprocesser_ct, RandomUnderSampler(), LogisticRegressionCV(penalty='l2', solver='saga' )\\n)\\nbuild_model(ct_logistic_regression_ridge, X, y, \\\"ct_vect\\\")\";\n",
       "                var nbb_formatted_code = \"%%time\\nct_logistic_regression_ridge = imb_make_pipeline(\\n    preprocesser_ct, RandomUnderSampler(), LogisticRegressionCV(penalty='l2', solver='saga' )\\n)\\nbuild_model(ct_logistic_regression_ridge, X, y, \\\"ct_vect\\\")\";\n",
       "                var nbb_cells = Jupyter.notebook.get_cells();\n",
       "                for (var i = 0; i < nbb_cells.length; ++i) {\n",
       "                    if (nbb_cells[i].input_prompt_number == nbb_cell_id) {\n",
       "                        if (nbb_cells[i].get_text() == nbb_unformatted_code) {\n",
       "                             nbb_cells[i].set_text(nbb_formatted_code);\n",
       "                        }\n",
       "                        break;\n",
       "                    }\n",
       "                }\n",
       "            }, 500);\n",
       "            "
      ],
      "text/plain": [
       "<IPython.core.display.Javascript object>"
      ]
     },
     "metadata": {},
     "output_type": "display_data"
    }
   ],
   "source": [
    "%%time\n",
    "ct_logistic_regression_ridge = imb_make_pipeline(\n",
    "    preprocesser_ct, RandomUnderSampler(), LogisticRegressionCV(penalty='l2', solver='saga' )\n",
    ")\n",
    "build_model(ct_logistic_regression_ridge, X, y, \"ct_vect\")"
   ]
  },
  {
   "cell_type": "markdown",
   "metadata": {},
   "source": [
    "### TF-IDF Logistic Elasticnet"
   ]
  },
  {
   "cell_type": "markdown",
   "metadata": {},
   "source": [
    "* Takes longest to run and the results are almost same as lasso and ridge model. So this code is commented to save time when re-running the entire notebook."
   ]
  },
  {
   "cell_type": "code",
   "execution_count": 14,
   "metadata": {},
   "outputs": [
    {
     "data": {
      "application/javascript": [
       "\n",
       "            setTimeout(function() {\n",
       "                var nbb_cell_id = 14;\n",
       "                var nbb_unformatted_code = \"# %%time\\n\\n# for col in y.columns:\\n\\n#     print(f\\\"\\\\n{mbti_type[col]}\\\")\\n\\n#     target = y[col]\\n\\n#     X_train, X_test, y_train, y_test = train_test_split(\\n#         X, target, test_size=0.2, random_state=42, stratify=target\\n#     )\\n\\n#     tfidf_logistic_regression_elasticnet = imb_make_pipeline(\\n#         preprocesser_tf,\\n#     #     DenseTransformer(),\\n#         RandomUnderSampler(),\\n#         LogisticRegressionCV(\\n#             penalty='elasticnet',\\n#             l1_ratios=[0, .1, .2, .3, .4, .5, .6, .7, .8, .9, 1],\\n#             solver='saga'\\n#         )\\n#     )\\n\\n#     tfidf_logistic_regression_elasticnet.fit(X_train, y_train)\\n\\n#     print(f'Accuracy: {tfidf_logistic_regression_elasticnet.score(X_test, y_test)} \\\\n')\\n#     print(classification_report(y_test, tfidf_logistic_regression_elasticnet.predict(X_test)))\";\n",
       "                var nbb_formatted_code = \"# %%time\\n\\n# for col in y.columns:\\n\\n#     print(f\\\"\\\\n{mbti_type[col]}\\\")\\n\\n#     target = y[col]\\n\\n#     X_train, X_test, y_train, y_test = train_test_split(\\n#         X, target, test_size=0.2, random_state=42, stratify=target\\n#     )\\n\\n#     tfidf_logistic_regression_elasticnet = imb_make_pipeline(\\n#         preprocesser_tf,\\n#     #     DenseTransformer(),\\n#         RandomUnderSampler(),\\n#         LogisticRegressionCV(\\n#             penalty='elasticnet',\\n#             l1_ratios=[0, .1, .2, .3, .4, .5, .6, .7, .8, .9, 1],\\n#             solver='saga'\\n#         )\\n#     )\\n\\n#     tfidf_logistic_regression_elasticnet.fit(X_train, y_train)\\n\\n#     print(f'Accuracy: {tfidf_logistic_regression_elasticnet.score(X_test, y_test)} \\\\n')\\n#     print(classification_report(y_test, tfidf_logistic_regression_elasticnet.predict(X_test)))\";\n",
       "                var nbb_cells = Jupyter.notebook.get_cells();\n",
       "                for (var i = 0; i < nbb_cells.length; ++i) {\n",
       "                    if (nbb_cells[i].input_prompt_number == nbb_cell_id) {\n",
       "                        if (nbb_cells[i].get_text() == nbb_unformatted_code) {\n",
       "                             nbb_cells[i].set_text(nbb_formatted_code);\n",
       "                        }\n",
       "                        break;\n",
       "                    }\n",
       "                }\n",
       "            }, 500);\n",
       "            "
      ],
      "text/plain": [
       "<IPython.core.display.Javascript object>"
      ]
     },
     "metadata": {},
     "output_type": "display_data"
    }
   ],
   "source": [
    "# %%time\n",
    "\n",
    "# for col in y.columns:\n",
    "\n",
    "#     print(f\"\\n{mbti_type[col]}\")\n",
    "\n",
    "#     target = y[col]\n",
    "\n",
    "#     X_train, X_test, y_train, y_test = train_test_split(\n",
    "#         X, target, test_size=0.2, random_state=42, stratify=target\n",
    "#     )\n",
    "\n",
    "#     tfidf_logistic_regression_elasticnet = imb_make_pipeline(\n",
    "#         preprocesser_tf,\n",
    "#     #     DenseTransformer(),\n",
    "#         RandomUnderSampler(),\n",
    "#         LogisticRegressionCV(\n",
    "#             penalty='elasticnet',\n",
    "#             l1_ratios=[0, .1, .2, .3, .4, .5, .6, .7, .8, .9, 1],\n",
    "#             solver='saga'\n",
    "#         )\n",
    "#     )\n",
    "\n",
    "#     tfidf_logistic_regression_elasticnet.fit(X_train, y_train)\n",
    "\n",
    "#     print(f'Accuracy: {tfidf_logistic_regression_elasticnet.score(X_test, y_test)} \\n')\n",
    "#     print(classification_report(y_test, tfidf_logistic_regression_elasticnet.predict(X_test)))"
   ]
  },
  {
   "cell_type": "markdown",
   "metadata": {},
   "source": [
    "### TF-IDF Support Vector Classifier"
   ]
  },
  {
   "cell_type": "code",
   "execution_count": 25,
   "metadata": {},
   "outputs": [
    {
     "name": "stdout",
     "output_type": "stream",
     "text": [
      "\n",
      "Extrovert vs Introvert\n",
      "Geometric Mean Score: 0.68\n",
      "ROC-AUC Score: 0.75\n",
      "Average Precision-Recall Score: 0.45\n",
      "                   pre       rec       spe        f1       geo       iba       sup\n",
      "\n",
      "          0       0.88      0.67      0.69      0.76      0.68      0.47      1322\n",
      "          1       0.39      0.69      0.67      0.50      0.68      0.47       396\n",
      "\n",
      "avg / total       0.77      0.68      0.69      0.70      0.68      0.47      1718\n",
      "\n",
      "\n",
      "Sensing vs Intuition\n",
      "Geometric Mean Score: 0.71\n",
      "ROC-AUC Score: 0.77\n",
      "Average Precision-Recall Score: 0.38\n",
      "                   pre       rec       spe        f1       geo       iba       sup\n",
      "\n",
      "          0       0.94      0.68      0.73      0.79      0.71      0.49      1481\n",
      "          1       0.27      0.73      0.68      0.39      0.71      0.50       237\n",
      "\n",
      "avg / total       0.85      0.69      0.73      0.73      0.71      0.50      1718\n",
      "\n",
      "\n",
      "Thinking vs Feeling\n",
      "Geometric Mean Score: 0.78\n",
      "ROC-AUC Score: 0.86\n",
      "Average Precision-Recall Score: 0.83\n",
      "                   pre       rec       spe        f1       geo       iba       sup\n",
      "\n",
      "          0       0.81      0.77      0.79      0.79      0.78      0.61       929\n",
      "          1       0.74      0.79      0.77      0.77      0.78      0.61       789\n",
      "\n",
      "avg / total       0.78      0.78      0.78      0.78      0.78      0.61      1718\n",
      "\n",
      "\n",
      "Judging vs Perceiving\n",
      "Geometric Mean Score: 0.62\n",
      "ROC-AUC Score: 0.67\n",
      "Average Precision-Recall Score: 0.56\n",
      "                   pre       rec       spe        f1       geo       iba       sup\n",
      "\n",
      "          0       0.72      0.61      0.63      0.66      0.62      0.38      1038\n",
      "          1       0.51      0.63      0.61      0.57      0.62      0.38       680\n",
      "\n",
      "avg / total       0.63      0.62      0.62      0.62      0.62      0.38      1718\n",
      "\n",
      "Wall time: 9h 25min 46s\n"
     ]
    },
    {
     "data": {
      "application/javascript": [
       "\n",
       "            setTimeout(function() {\n",
       "                var nbb_cell_id = 25;\n",
       "                var nbb_unformatted_code = \"%%time\\ntfidf_svc = imb_make_pipeline(\\n    preprocesser_tf, RandomUnderSampler(), DenseTransformer(), SVC(kernel='linear',probability=True)\\n)\\nbuild_model(tfidf_svc, X, y, \\\"tfidf\\\")\";\n",
       "                var nbb_formatted_code = \"%%time\\ntfidf_svc = imb_make_pipeline(\\n    preprocesser_tf, RandomUnderSampler(), DenseTransformer(), SVC(kernel='linear',probability=True)\\n)\\nbuild_model(tfidf_svc, X, y, \\\"tfidf\\\")\";\n",
       "                var nbb_cells = Jupyter.notebook.get_cells();\n",
       "                for (var i = 0; i < nbb_cells.length; ++i) {\n",
       "                    if (nbb_cells[i].input_prompt_number == nbb_cell_id) {\n",
       "                        if (nbb_cells[i].get_text() == nbb_unformatted_code) {\n",
       "                             nbb_cells[i].set_text(nbb_formatted_code);\n",
       "                        }\n",
       "                        break;\n",
       "                    }\n",
       "                }\n",
       "            }, 500);\n",
       "            "
      ],
      "text/plain": [
       "<IPython.core.display.Javascript object>"
      ]
     },
     "metadata": {},
     "output_type": "display_data"
    }
   ],
   "source": [
    "%%time\n",
    "tfidf_svc = imb_make_pipeline(\n",
    "    preprocesser_tf, RandomUnderSampler(), DenseTransformer(), SVC(kernel='linear',probability=True)\n",
    ")\n",
    "build_model(tfidf_svc, X, y, \"tfidf\")"
   ]
  },
  {
   "cell_type": "markdown",
   "metadata": {},
   "source": [
    "### Count Vectorized Support Vector Classifier"
   ]
  },
  {
   "cell_type": "code",
   "execution_count": 26,
   "metadata": {},
   "outputs": [
    {
     "name": "stdout",
     "output_type": "stream",
     "text": [
      "\n",
      "Extrovert vs Introvert\n",
      "Geometric Mean Score: 0.63\n",
      "ROC-AUC Score: 0.67\n",
      "Average Precision-Recall Score: 0.36\n",
      "                   pre       rec       spe        f1       geo       iba       sup\n",
      "\n",
      "          0       0.85      0.62      0.64      0.72      0.63      0.39      1322\n",
      "          1       0.33      0.64      0.62      0.44      0.63      0.39       396\n",
      "\n",
      "avg / total       0.73      0.62      0.63      0.65      0.63      0.39      1718\n",
      "\n",
      "\n",
      "Sensing vs Intuition\n",
      "Geometric Mean Score: 0.63\n",
      "ROC-AUC Score: 0.67\n",
      "Average Precision-Recall Score: 0.27\n",
      "                   pre       rec       spe        f1       geo       iba       sup\n",
      "\n",
      "          0       0.92      0.61      0.66      0.73      0.63      0.40      1481\n",
      "          1       0.21      0.66      0.61      0.32      0.63      0.40       237\n",
      "\n",
      "avg / total       0.82      0.61      0.65      0.67      0.63      0.40      1718\n",
      "\n",
      "\n",
      "Thinking vs Feeling\n",
      "Geometric Mean Score: 0.72\n",
      "ROC-AUC Score: 0.80\n",
      "Average Precision-Recall Score: 0.75\n",
      "                   pre       rec       spe        f1       geo       iba       sup\n",
      "\n",
      "          0       0.74      0.74      0.70      0.74      0.72      0.52       929\n",
      "          1       0.69      0.70      0.74      0.70      0.72      0.51       789\n",
      "\n",
      "avg / total       0.72      0.72      0.72      0.72      0.72      0.52      1718\n",
      "\n",
      "\n",
      "Judging vs Perceiving\n",
      "Geometric Mean Score: 0.59\n",
      "ROC-AUC Score: 0.62\n",
      "Average Precision-Recall Score: 0.53\n",
      "                   pre       rec       spe        f1       geo       iba       sup\n",
      "\n",
      "          0       0.69      0.56      0.62      0.62      0.59      0.34      1038\n",
      "          1       0.48      0.62      0.56      0.54      0.59      0.35       680\n",
      "\n",
      "avg / total       0.61      0.58      0.59      0.59      0.59      0.34      1718\n",
      "\n",
      "Wall time: 1h 5min 51s\n"
     ]
    },
    {
     "data": {
      "application/javascript": [
       "\n",
       "            setTimeout(function() {\n",
       "                var nbb_cell_id = 26;\n",
       "                var nbb_unformatted_code = \"%%time\\nct_svc = imb_make_pipeline(\\n    preprocesser_ct, DenseTransformer(), RandomUnderSampler(), SVC(kernel='linear',probability=True)\\n)\\nbuild_model(ct_svc, X, y, \\\"ct_vect\\\")\";\n",
       "                var nbb_formatted_code = \"%%time\\nct_svc = imb_make_pipeline(\\n    preprocesser_ct, DenseTransformer(), RandomUnderSampler(), SVC(kernel='linear',probability=True)\\n)\\nbuild_model(ct_svc, X, y, \\\"ct_vect\\\")\";\n",
       "                var nbb_cells = Jupyter.notebook.get_cells();\n",
       "                for (var i = 0; i < nbb_cells.length; ++i) {\n",
       "                    if (nbb_cells[i].input_prompt_number == nbb_cell_id) {\n",
       "                        if (nbb_cells[i].get_text() == nbb_unformatted_code) {\n",
       "                             nbb_cells[i].set_text(nbb_formatted_code);\n",
       "                        }\n",
       "                        break;\n",
       "                    }\n",
       "                }\n",
       "            }, 500);\n",
       "            "
      ],
      "text/plain": [
       "<IPython.core.display.Javascript object>"
      ]
     },
     "metadata": {},
     "output_type": "display_data"
    }
   ],
   "source": [
    "%%time\n",
    "ct_svc = imb_make_pipeline(\n",
    "    preprocesser_ct, DenseTransformer(), RandomUnderSampler(), SVC(kernel='linear',probability=True)\n",
    ")\n",
    "build_model(ct_svc, X, y, \"ct_vect\")"
   ]
  },
  {
   "cell_type": "markdown",
   "metadata": {},
   "source": [
    "### TF-IDF Naive Bayes"
   ]
  },
  {
   "cell_type": "code",
   "execution_count": 17,
   "metadata": {},
   "outputs": [
    {
     "name": "stdout",
     "output_type": "stream",
     "text": [
      "\n",
      "Extrovert vs Introvert\n",
      "Geometric Mean Score: 0.70\n",
      "ROC-AUC Score: 0.76\n",
      "Average Precision-Recall Score: 0.46\n",
      "                   pre       rec       spe        f1       geo       iba       sup\n",
      "\n",
      "          0       0.90      0.64      0.75      0.75      0.69      0.48      1322\n",
      "          1       0.39      0.75      0.64      0.51      0.69      0.49       396\n",
      "\n",
      "avg / total       0.78      0.67      0.73      0.69      0.69      0.48      1718\n",
      "\n",
      "\n",
      "Sensing vs Intuition\n",
      "Geometric Mean Score: 0.70\n",
      "ROC-AUC Score: 0.78\n",
      "Average Precision-Recall Score: 0.41\n",
      "                   pre       rec       spe        f1       geo       iba       sup\n",
      "\n",
      "          0       0.94      0.67      0.73      0.78      0.70      0.48      1481\n",
      "          1       0.26      0.73      0.67      0.38      0.70      0.49       237\n",
      "\n",
      "avg / total       0.84      0.68      0.72      0.72      0.70      0.48      1718\n",
      "\n",
      "\n",
      "Thinking vs Feeling\n",
      "Geometric Mean Score: 0.76\n",
      "ROC-AUC Score: 0.85\n",
      "Average Precision-Recall Score: 0.81\n",
      "                   pre       rec       spe        f1       geo       iba       sup\n",
      "\n",
      "          0       0.76      0.82      0.70      0.79      0.76      0.58       929\n",
      "          1       0.77      0.70      0.82      0.73      0.76      0.57       789\n",
      "\n",
      "avg / total       0.77      0.77      0.76      0.76      0.76      0.58      1718\n",
      "\n",
      "\n",
      "Judging vs Perceiving\n",
      "Geometric Mean Score: 0.63\n",
      "ROC-AUC Score: 0.67\n",
      "Average Precision-Recall Score: 0.55\n",
      "                   pre       rec       spe        f1       geo       iba       sup\n",
      "\n",
      "          0       0.73      0.60      0.66      0.65      0.63      0.39      1038\n",
      "          1       0.52      0.66      0.60      0.58      0.63      0.39       680\n",
      "\n",
      "avg / total       0.64      0.62      0.63      0.62      0.63      0.39      1718\n",
      "\n",
      "Wall time: 51.2 s\n"
     ]
    },
    {
     "data": {
      "application/javascript": [
       "\n",
       "            setTimeout(function() {\n",
       "                var nbb_cell_id = 17;\n",
       "                var nbb_unformatted_code = \"%%time\\ntfidf_nb = imb_make_pipeline(\\n    preprocesser_tf, DenseTransformer(), RandomUnderSampler(), MultinomialNB(),\\n)\\nbuild_model(tfidf_nb, X, y, \\\"tfidf\\\")\";\n",
       "                var nbb_formatted_code = \"%%time\\ntfidf_nb = imb_make_pipeline(\\n    preprocesser_tf, DenseTransformer(), RandomUnderSampler(), MultinomialNB(),\\n)\\nbuild_model(tfidf_nb, X, y, \\\"tfidf\\\")\";\n",
       "                var nbb_cells = Jupyter.notebook.get_cells();\n",
       "                for (var i = 0; i < nbb_cells.length; ++i) {\n",
       "                    if (nbb_cells[i].input_prompt_number == nbb_cell_id) {\n",
       "                        if (nbb_cells[i].get_text() == nbb_unformatted_code) {\n",
       "                             nbb_cells[i].set_text(nbb_formatted_code);\n",
       "                        }\n",
       "                        break;\n",
       "                    }\n",
       "                }\n",
       "            }, 500);\n",
       "            "
      ],
      "text/plain": [
       "<IPython.core.display.Javascript object>"
      ]
     },
     "metadata": {},
     "output_type": "display_data"
    }
   ],
   "source": [
    "%%time\n",
    "tfidf_nb = imb_make_pipeline(\n",
    "    preprocesser_tf, DenseTransformer(), RandomUnderSampler(), MultinomialNB(),\n",
    ")\n",
    "build_model(tfidf_nb, X, y, \"tfidf\")"
   ]
  },
  {
   "cell_type": "markdown",
   "metadata": {},
   "source": [
    "### Count Vectorized Naive Bayes"
   ]
  },
  {
   "cell_type": "code",
   "execution_count": 18,
   "metadata": {},
   "outputs": [
    {
     "name": "stdout",
     "output_type": "stream",
     "text": [
      "\n",
      "Extrovert vs Introvert\n",
      "Geometric Mean Score: 0.69\n",
      "ROC-AUC Score: 0.76\n",
      "Average Precision-Recall Score: 0.44\n",
      "                   pre       rec       spe        f1       geo       iba       sup\n",
      "\n",
      "          0       0.89      0.66      0.72      0.76      0.69      0.48      1322\n",
      "          1       0.39      0.72      0.66      0.51      0.69      0.48       396\n",
      "\n",
      "avg / total       0.77      0.68      0.71      0.70      0.69      0.48      1718\n",
      "\n",
      "\n",
      "Sensing vs Intuition\n",
      "Geometric Mean Score: 0.71\n",
      "ROC-AUC Score: 0.78\n",
      "Average Precision-Recall Score: 0.37\n",
      "                   pre       rec       spe        f1       geo       iba       sup\n",
      "\n",
      "          0       0.94      0.68      0.74      0.79      0.71      0.50      1481\n",
      "          1       0.27      0.74      0.68      0.40      0.71      0.51       237\n",
      "\n",
      "avg / total       0.85      0.69      0.73      0.74      0.71      0.50      1718\n",
      "\n",
      "\n",
      "Thinking vs Feeling\n",
      "Geometric Mean Score: 0.77\n",
      "ROC-AUC Score: 0.85\n",
      "Average Precision-Recall Score: 0.79\n",
      "                   pre       rec       spe        f1       geo       iba       sup\n",
      "\n",
      "          0       0.79      0.78      0.76      0.78      0.77      0.59       929\n",
      "          1       0.74      0.76      0.78      0.75      0.77      0.58       789\n",
      "\n",
      "avg / total       0.77      0.77      0.76      0.77      0.77      0.59      1718\n",
      "\n",
      "\n",
      "Judging vs Perceiving\n",
      "Geometric Mean Score: 0.62\n",
      "ROC-AUC Score: 0.67\n",
      "Average Precision-Recall Score: 0.54\n",
      "                   pre       rec       spe        f1       geo       iba       sup\n",
      "\n",
      "          0       0.71      0.64      0.61      0.67      0.62      0.39      1038\n",
      "          1       0.53      0.61      0.64      0.56      0.62      0.39       680\n",
      "\n",
      "avg / total       0.64      0.63      0.62      0.63      0.62      0.39      1718\n",
      "\n",
      "Wall time: 48.4 s\n"
     ]
    },
    {
     "data": {
      "application/javascript": [
       "\n",
       "            setTimeout(function() {\n",
       "                var nbb_cell_id = 18;\n",
       "                var nbb_unformatted_code = \"%%time\\nct_nb = imb_make_pipeline(\\n    preprocesser_ct, DenseTransformer(), RandomUnderSampler(), MultinomialNB(),\\n)\\nbuild_model(ct_nb, X, y, \\\"ct_vect\\\")\";\n",
       "                var nbb_formatted_code = \"%%time\\nct_nb = imb_make_pipeline(\\n    preprocesser_ct, DenseTransformer(), RandomUnderSampler(), MultinomialNB(),\\n)\\nbuild_model(ct_nb, X, y, \\\"ct_vect\\\")\";\n",
       "                var nbb_cells = Jupyter.notebook.get_cells();\n",
       "                for (var i = 0; i < nbb_cells.length; ++i) {\n",
       "                    if (nbb_cells[i].input_prompt_number == nbb_cell_id) {\n",
       "                        if (nbb_cells[i].get_text() == nbb_unformatted_code) {\n",
       "                             nbb_cells[i].set_text(nbb_formatted_code);\n",
       "                        }\n",
       "                        break;\n",
       "                    }\n",
       "                }\n",
       "            }, 500);\n",
       "            "
      ],
      "text/plain": [
       "<IPython.core.display.Javascript object>"
      ]
     },
     "metadata": {},
     "output_type": "display_data"
    }
   ],
   "source": [
    "%%time\n",
    "ct_nb = imb_make_pipeline(\n",
    "    preprocesser_ct, DenseTransformer(), RandomUnderSampler(), MultinomialNB(),\n",
    ")\n",
    "build_model(ct_nb, X, y, \"ct_vect\")"
   ]
  },
  {
   "cell_type": "markdown",
   "metadata": {},
   "source": [
    "### Count Vectorized Random Forest"
   ]
  },
  {
   "cell_type": "code",
   "execution_count": 19,
   "metadata": {},
   "outputs": [
    {
     "name": "stdout",
     "output_type": "stream",
     "text": [
      "\n",
      "Extrovert vs Introvert\n",
      "Geometric Mean Score: 0.64\n",
      "ROC-AUC Score: 0.71\n",
      "Average Precision-Recall Score: 0.43\n",
      "                   pre       rec       spe        f1       geo       iba       sup\n",
      "\n",
      "          0       0.86      0.66      0.63      0.74      0.64      0.41      1322\n",
      "          1       0.35      0.63      0.66      0.45      0.64      0.41       396\n",
      "\n",
      "avg / total       0.74      0.65      0.64      0.68      0.64      0.41      1718\n",
      "\n",
      "\n",
      "Sensing vs Intuition\n",
      "Geometric Mean Score: 0.64\n",
      "ROC-AUC Score: 0.69\n",
      "Average Precision-Recall Score: 0.26\n",
      "                   pre       rec       spe        f1       geo       iba       sup\n",
      "\n",
      "          0       0.92      0.62      0.66      0.74      0.64      0.41      1481\n",
      "          1       0.22      0.66      0.62      0.33      0.64      0.41       237\n",
      "\n",
      "avg / total       0.82      0.62      0.66      0.68      0.64      0.41      1718\n",
      "\n",
      "\n",
      "Thinking vs Feeling\n",
      "Geometric Mean Score: 0.73\n",
      "ROC-AUC Score: 0.81\n",
      "Average Precision-Recall Score: 0.76\n",
      "                   pre       rec       spe        f1       geo       iba       sup\n",
      "\n",
      "          0       0.78      0.71      0.76      0.74      0.73      0.54       929\n",
      "          1       0.69      0.76      0.71      0.72      0.73      0.54       789\n",
      "\n",
      "avg / total       0.74      0.73      0.74      0.73      0.73      0.54      1718\n",
      "\n",
      "\n",
      "Judging vs Perceiving\n",
      "Geometric Mean Score: 0.59\n",
      "ROC-AUC Score: 0.63\n",
      "Average Precision-Recall Score: 0.50\n",
      "                   pre       rec       spe        f1       geo       iba       sup\n",
      "\n",
      "          0       0.68      0.62      0.56      0.65      0.59      0.35      1038\n",
      "          1       0.49      0.56      0.62      0.52      0.59      0.34       680\n",
      "\n",
      "avg / total       0.60      0.59      0.58      0.60      0.59      0.34      1718\n",
      "\n",
      "Wall time: 54.8 s\n"
     ]
    },
    {
     "data": {
      "application/javascript": [
       "\n",
       "            setTimeout(function() {\n",
       "                var nbb_cell_id = 19;\n",
       "                var nbb_unformatted_code = \"%%time\\nct_rf = imb_make_pipeline(\\n    preprocesser_ct, RandomUnderSampler(), RandomForestClassifier(n_estimators=100, max_depth=10),\\n)\\nbuild_model(ct_rf, X, y, \\\"ct_vect\\\")\";\n",
       "                var nbb_formatted_code = \"%%time\\nct_rf = imb_make_pipeline(\\n    preprocesser_ct, RandomUnderSampler(), RandomForestClassifier(n_estimators=100, max_depth=10),\\n)\\nbuild_model(ct_rf, X, y, \\\"ct_vect\\\")\";\n",
       "                var nbb_cells = Jupyter.notebook.get_cells();\n",
       "                for (var i = 0; i < nbb_cells.length; ++i) {\n",
       "                    if (nbb_cells[i].input_prompt_number == nbb_cell_id) {\n",
       "                        if (nbb_cells[i].get_text() == nbb_unformatted_code) {\n",
       "                             nbb_cells[i].set_text(nbb_formatted_code);\n",
       "                        }\n",
       "                        break;\n",
       "                    }\n",
       "                }\n",
       "            }, 500);\n",
       "            "
      ],
      "text/plain": [
       "<IPython.core.display.Javascript object>"
      ]
     },
     "metadata": {},
     "output_type": "display_data"
    }
   ],
   "source": [
    "%%time\n",
    "ct_rf = imb_make_pipeline(\n",
    "    preprocesser_ct, RandomUnderSampler(), RandomForestClassifier(n_estimators=100, max_depth=10),\n",
    ")\n",
    "build_model(ct_rf, X, y, \"ct_vect\")"
   ]
  },
  {
   "cell_type": "markdown",
   "metadata": {},
   "source": [
    "### TF-IDF Random Forest"
   ]
  },
  {
   "cell_type": "code",
   "execution_count": 20,
   "metadata": {},
   "outputs": [
    {
     "name": "stdout",
     "output_type": "stream",
     "text": [
      "\n",
      "Extrovert vs Introvert\n",
      "Geometric Mean Score: 0.64\n",
      "ROC-AUC Score: 0.69\n",
      "Average Precision-Recall Score: 0.39\n",
      "                   pre       rec       spe        f1       geo       iba       sup\n",
      "\n",
      "          0       0.85      0.65      0.63      0.74      0.64      0.41      1322\n",
      "          1       0.35      0.63      0.65      0.45      0.64      0.41       396\n",
      "\n",
      "avg / total       0.74      0.64      0.63      0.67      0.64      0.41      1718\n",
      "\n",
      "\n",
      "Sensing vs Intuition\n",
      "Geometric Mean Score: 0.62\n",
      "ROC-AUC Score: 0.67\n",
      "Average Precision-Recall Score: 0.27\n",
      "                   pre       rec       spe        f1       geo       iba       sup\n",
      "\n",
      "          0       0.91      0.61      0.64      0.73      0.62      0.39      1481\n",
      "          1       0.21      0.64      0.61      0.31      0.62      0.39       237\n",
      "\n",
      "avg / total       0.82      0.61      0.63      0.67      0.62      0.39      1718\n",
      "\n",
      "\n",
      "Thinking vs Feeling\n",
      "Geometric Mean Score: 0.75\n",
      "ROC-AUC Score: 0.81\n",
      "Average Precision-Recall Score: 0.76\n",
      "                   pre       rec       spe        f1       geo       iba       sup\n",
      "\n",
      "          0       0.79      0.72      0.78      0.75      0.75      0.55       929\n",
      "          1       0.70      0.78      0.72      0.74      0.75      0.56       789\n",
      "\n",
      "avg / total       0.75      0.74      0.75      0.74      0.75      0.55      1718\n",
      "\n",
      "\n",
      "Judging vs Perceiving\n",
      "Geometric Mean Score: 0.60\n",
      "ROC-AUC Score: 0.64\n",
      "Average Precision-Recall Score: 0.51\n",
      "                   pre       rec       spe        f1       geo       iba       sup\n",
      "\n",
      "          0       0.69      0.61      0.59      0.65      0.60      0.36      1038\n",
      "          1       0.50      0.59      0.61      0.54      0.60      0.36       680\n",
      "\n",
      "avg / total       0.62      0.60      0.60      0.61      0.60      0.36      1718\n",
      "\n",
      "Wall time: 1min 22s\n"
     ]
    },
    {
     "data": {
      "application/javascript": [
       "\n",
       "            setTimeout(function() {\n",
       "                var nbb_cell_id = 20;\n",
       "                var nbb_unformatted_code = \"%%time\\ntfidf_rf = imb_make_pipeline(\\n    preprocesser_tf, DenseTransformer(),\\n        RandomUnderSampler(),\\n        RandomForestClassifier(n_estimators=100, max_depth=10),\\n)\\nbuild_model(tfidf_rf, X, y, \\\"tfidf\\\")\";\n",
       "                var nbb_formatted_code = \"%%time\\ntfidf_rf = imb_make_pipeline(\\n    preprocesser_tf, DenseTransformer(),\\n        RandomUnderSampler(),\\n        RandomForestClassifier(n_estimators=100, max_depth=10),\\n)\\nbuild_model(tfidf_rf, X, y, \\\"tfidf\\\")\";\n",
       "                var nbb_cells = Jupyter.notebook.get_cells();\n",
       "                for (var i = 0; i < nbb_cells.length; ++i) {\n",
       "                    if (nbb_cells[i].input_prompt_number == nbb_cell_id) {\n",
       "                        if (nbb_cells[i].get_text() == nbb_unformatted_code) {\n",
       "                             nbb_cells[i].set_text(nbb_formatted_code);\n",
       "                        }\n",
       "                        break;\n",
       "                    }\n",
       "                }\n",
       "            }, 500);\n",
       "            "
      ],
      "text/plain": [
       "<IPython.core.display.Javascript object>"
      ]
     },
     "metadata": {},
     "output_type": "display_data"
    }
   ],
   "source": [
    "%%time\n",
    "tfidf_rf = imb_make_pipeline(\n",
    "    preprocesser_tf, DenseTransformer(),\n",
    "        RandomUnderSampler(),\n",
    "        RandomForestClassifier(n_estimators=100, max_depth=10),\n",
    ")\n",
    "build_model(tfidf_rf, X, y, \"tfidf\")"
   ]
  },
  {
   "cell_type": "markdown",
   "metadata": {},
   "source": [
    "### TF-IDF KNN Classifier"
   ]
  },
  {
   "cell_type": "code",
   "execution_count": null,
   "metadata": {},
   "outputs": [],
   "source": [
    "%%time\n",
    "from sklearn.neighbors import KNeighborsClassifier\n",
    "tfidf_knn = imb_make_pipeline(\n",
    "        preprocesser_tf, \n",
    "#         DenseTransformer(),\n",
    "        RandomUnderSampler(),\n",
    "        KNeighborsClassifier(n_neighbors=3),\n",
    ")\n",
    "build_model(tfidf_knn, X, y, \"tfidf\")"
   ]
  },
  {
   "cell_type": "code",
   "execution_count": null,
   "metadata": {},
   "outputs": [],
   "source": []
  },
  {
   "cell_type": "markdown",
   "metadata": {},
   "source": [
    "### Final Model - Logistic Regression with TF-IDF Vectorization\n",
    "\n",
    "Selecting Logistic Regression as our final model as it returned the highest accuracy, precision and recall values as compared to other models."
   ]
  },
  {
   "cell_type": "code",
   "execution_count": 21,
   "metadata": {},
   "outputs": [
    {
     "name": "stdout",
     "output_type": "stream",
     "text": [
      "\n",
      "Extrovert vs Introvert\n",
      "                 coef\n",
      "word                 \n",
      "fun          3.702213\n",
      "bored        3.366860\n",
      "guy          3.146178\n",
      "awesome      2.541361\n",
      "ego          2.464928\n",
      "family      -2.376884\n",
      "inferior    -2.337102\n",
      "instinctual  2.304210\n",
      "dream       -2.303701\n",
      "government  -2.265620\n",
      "cold        -2.260137\n",
      "developed    2.206144\n",
      "debate       2.133905\n",
      "game        -2.118911\n",
      "friend       2.108427\n",
      "charming     2.075628\n",
      "feel        -2.042298\n",
      "business     2.038443\n",
      "dated        2.029189\n",
      "earth       -2.015034\n",
      "wish        -2.009695\n",
      "\n",
      "Sensing vs Intuition\n",
      "               coef\n",
      "word               \n",
      "rant       2.957881\n",
      "human     -2.631082\n",
      "idea      -2.556673\n",
      "writing   -2.143060\n",
      "shall     -2.099717\n",
      "sound      2.019031\n",
      "action     1.994066\n",
      "inferior   1.989839\n",
      "rave       1.950706\n",
      "thanks     1.939405\n",
      "woman     -1.927995\n",
      "dark      -1.915258\n",
      "anything   1.895240\n",
      "teddy      1.893220\n",
      "fun        1.886054\n",
      "history   -1.849248\n",
      "proud     -1.833090\n",
      "thought   -1.823275\n",
      "romance   -1.767409\n",
      "running    1.758110\n",
      "something  1.742196\n",
      "\n",
      "Thinking vs Feeling\n",
      "               coef\n",
      "word               \n",
      "feel      -6.915610\n",
      "love      -4.918600\n",
      "female     4.876753\n",
      "emotion    4.026243\n",
      "value     -3.914600\n",
      "feeling   -3.823393\n",
      "plan       3.747838\n",
      "beautiful -3.681702\n",
      "life      -3.546436\n",
      "boring     3.386420\n",
      "idealist  -3.314585\n",
      "dream     -3.298260\n",
      "shy       -3.204510\n",
      "wish      -3.174188\n",
      "others    -3.102517\n",
      "efficient  3.097220\n",
      "stupid     3.042956\n",
      "knowledge  2.987348\n",
      "waste      2.948222\n",
      "heart     -2.940389\n",
      "debate     2.935913\n",
      "\n",
      "Judging vs Perceiving\n",
      "               coef\n",
      "word               \n",
      "others     1.395225\n",
      "plan       1.352312\n",
      "dear       1.231095\n",
      "fuck      -1.122631\n",
      "love      -1.119247\n",
      "welcome    1.033313\n",
      "help       1.025597\n",
      "yeah      -1.005973\n",
      "intuition  0.979285\n",
      "shit      -0.975707\n",
      "pretty    -0.973690\n",
      "fun       -0.932257\n",
      "lazy      -0.886294\n",
      "live      -0.879803\n",
      "post       0.872847\n",
      "cold       0.872464\n",
      "rant       0.845159\n",
      "got       -0.843279\n",
      "yes        0.813977\n",
      "rave       0.784884\n",
      "music     -0.781586\n",
      "Wall time: 2min 46s\n"
     ]
    },
    {
     "data": {
      "image/png": "[encoded data removed]",
      "text/plain": [
       "<Figure size 432x288 with 1 Axes>"
      ]
     },
     "metadata": {
      "needs_background": "light"
     },
     "output_type": "display_data"
    },
    {
     "data": {
      "image/png": "[encoded data removed]",
      "text/plain": [
       "<Figure size 432x288 with 1 Axes>"
      ]
     },
     "metadata": {
      "needs_background": "light"
     },
     "output_type": "display_data"
    },
    {
     "data": {
      "image/png": "[encoded data removed]",
      "text/plain": [
       "<Figure size 432x288 with 1 Axes>"
      ]
     },
     "metadata": {
      "needs_background": "light"
     },
     "output_type": "display_data"
    },
    {
     "data": {
      "image/png": "[encoded data removed]",
      "text/plain": [
       "<Figure size 432x288 with 1 Axes>"
      ]
     },
     "metadata": {
      "needs_background": "light"
     },
     "output_type": "display_data"
    },
    {
     "data": {
      "application/javascript": [
       "\n",
       "            setTimeout(function() {\n",
       "                var nbb_cell_id = 21;\n",
       "                var nbb_unformatted_code = \"%%time\\n\\nfor col in y.columns:\\n    \\n    print(f\\\"\\\\n{mbti_type[col]}\\\")\\n\\n    target = y[col]\\n\\n    tfidf_logistic_regression = imb_make_pipeline(\\n        preprocesser_tf,\\n        RandomUnderSampler(),\\n        LogisticRegressionCV()\\n    )\\n    \\n    # training the data on entire dataset\\n    tfidf_logistic_regression.fit(X, target)\\n    \\n    # feature importance   \\n    coef = tfidf_logistic_regression[-1].coef_[0]  \\n    word = tfidf_logistic_regression[0].named_transformers_['tfidf'].get_feature_names()\\n    word_list = list(zip(word, coef))         \\n    result = pd.DataFrame(word_list, columns=['word', 'coef']).set_index('word')    \\n    result = result.reindex(result.coef.abs().sort_values(ascending=False).index)[0:21]\\n    print(result)\\n    \\n    # plotting feature importance\\n    result[\\\"coef\\\"] = result[\\\"coef\\\"].apply(lambda x: abs(x))\\n    result.sort_values(\\\"coef\\\", inplace=True)\\n    result.plot(kind=\\\"barh\\\", color=\\\"#61BED6\\\", title=mbti_type[col])\\n  \\n    # saving the model\\n    dump(tfidf_logistic_regression, f\\\"clf_{col}.joblib\\\")\";\n",
       "                var nbb_formatted_code = \"%%time\\n\\nfor col in y.columns:\\n    \\n    print(f\\\"\\\\n{mbti_type[col]}\\\")\\n\\n    target = y[col]\\n\\n    tfidf_logistic_regression = imb_make_pipeline(\\n        preprocesser_tf,\\n        RandomUnderSampler(),\\n        LogisticRegressionCV()\\n    )\\n    \\n    # training the data on entire dataset\\n    tfidf_logistic_regression.fit(X, target)\\n    \\n    # feature importance   \\n    coef = tfidf_logistic_regression[-1].coef_[0]  \\n    word = tfidf_logistic_regression[0].named_transformers_['tfidf'].get_feature_names()\\n    word_list = list(zip(word, coef))         \\n    result = pd.DataFrame(word_list, columns=['word', 'coef']).set_index('word')    \\n    result = result.reindex(result.coef.abs().sort_values(ascending=False).index)[0:21]\\n    print(result)\\n    \\n    # plotting feature importance\\n    result[\\\"coef\\\"] = result[\\\"coef\\\"].apply(lambda x: abs(x))\\n    result.sort_values(\\\"coef\\\", inplace=True)\\n    result.plot(kind=\\\"barh\\\", color=\\\"#61BED6\\\", title=mbti_type[col])\\n  \\n    # saving the model\\n    dump(tfidf_logistic_regression, f\\\"clf_{col}.joblib\\\")\";\n",
       "                var nbb_cells = Jupyter.notebook.get_cells();\n",
       "                for (var i = 0; i < nbb_cells.length; ++i) {\n",
       "                    if (nbb_cells[i].input_prompt_number == nbb_cell_id) {\n",
       "                        if (nbb_cells[i].get_text() == nbb_unformatted_code) {\n",
       "                             nbb_cells[i].set_text(nbb_formatted_code);\n",
       "                        }\n",
       "                        break;\n",
       "                    }\n",
       "                }\n",
       "            }, 500);\n",
       "            "
      ],
      "text/plain": [
       "<IPython.core.display.Javascript object>"
      ]
     },
     "metadata": {},
     "output_type": "display_data"
    }
   ],
   "source": [
    "%%time\n",
    "\n",
    "for col in y.columns:\n",
    "    \n",
    "    print(f\"\\n{mbti_type[col]}\")\n",
    "\n",
    "    target = y[col]\n",
    "\n",
    "    tfidf_logistic_regression = imb_make_pipeline(\n",
    "        preprocesser_tf,\n",
    "        RandomUnderSampler(),\n",
    "        LogisticRegressionCV()\n",
    "    )\n",
    "    \n",
    "    # training the data on entire dataset\n",
    "    tfidf_logistic_regression.fit(X, target)\n",
    "    \n",
    "    # feature importance   \n",
    "    coef = tfidf_logistic_regression[-1].coef_[0]  \n",
    "    word = tfidf_logistic_regression[0].named_transformers_[\"tfidf\"].get_feature_names()\n",
    "    word_list = list(zip(word, coef))         \n",
    "    result = pd.DataFrame(word_list, columns=[\"word\", \"coef\"]).set_index(\"word\")    \n",
    "    result = result.reindex(result.coef.abs().sort_values(ascending=False).index)[0:21]\n",
    "    print(result)\n",
    "    \n",
    "    # plotting feature importance\n",
    "    result[\"coef\"] = result[\"coef\"].apply(lambda x: abs(x))\n",
    "    result.sort_values(\"coef\", inplace=True)\n",
    "    result.plot(kind=\"barh\", color=\"#61BED6\", title=mbti_type[col])\n",
    "  \n",
    "    # saving the model\n",
    "    dump(tfidf_logistic_regression, f\"clf_{col}.joblib\")"
   ]
  },
  {
   "cell_type": "code",
   "execution_count": null,
   "metadata": {},
   "outputs": [],
   "source": []
  }
 ],
 "metadata": {
  "kernelspec": {
   "display_name": "project3",
   "language": "python",
   "name": "project3"
  },
  "language_info": {
   "codemirror_mode": {
    "name": "ipython",
    "version": 3
   },
   "file_extension": ".py",
   "mimetype": "text/x-python",
   "name": "python",
   "nbconvert_exporter": "python",
   "pygments_lexer": "ipython3",
   "version": "3.7.5"
  }
 },
 "nbformat": 4,
 "nbformat_minor": 4
}
