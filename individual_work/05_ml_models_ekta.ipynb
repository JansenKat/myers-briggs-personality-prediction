{
 "cells": [
  {
   "cell_type": "markdown",
   "metadata": {},
   "source": [
    "# (MBTI) Myers-Briggs Personality Type Prediction\n",
    "\n",
    "* Extroversion vs. Introversion\n",
    "    * I - 0\n",
    "    * E - 1 \n",
    "    \n",
    "* Sensing vs. Intuition \n",
    "    * N - 0 \n",
    "    * S - 1\n",
    "    \n",
    "* Thinking vs. Feeling\n",
    "    * F - 0\n",
    "    * T - 1\n",
    "    \n",
    "* Judging vs. Perceiving\n",
    "    * P - 0\n",
    "    * J - 1 \n",
    "    \n",
    "## IMPLEMENTING DIFFERENT MODELS "
   ]
  },
  {
   "cell_type": "code",
   "execution_count": 31,
   "metadata": {},
   "outputs": [
    {
     "name": "stdout",
     "output_type": "stream",
     "text": [
      "The nb_black extension is already loaded. To reload it, use:\n",
      "  %reload_ext nb_black\n"
     ]
    },
    {
     "data": {
      "application/javascript": [
       "\n",
       "            setTimeout(function() {\n",
       "                var nbb_cell_id = 31;\n",
       "                var nbb_unformatted_code = \"# importing dependencies here\\nimport numpy as np\\nimport pandas as pd\\n\\n# visualizations\\nimport seaborn as sns\\nimport matplotlib.pyplot as plt\\n\\n# data stratifying and splitting\\nfrom sklearn.model_selection import StratifiedKFold\\nfrom sklearn.model_selection import train_test_split\\n\\n# preprocessing\\nfrom sklearn.feature_extraction.text import TfidfVectorizer\\nfrom sklearn.feature_extraction.text import CountVectorizer\\nfrom sklearn.preprocessing import MinMaxScaler\\nfrom sklearn.pipeline import make_pipeline\\nfrom sklearn.feature_selection import f_classif\\nfrom sklearn.feature_selection import SelectKBest\\nfrom sklearn.compose import ColumnTransformer\\n\\n# class imbalance\\nfrom imblearn.pipeline import make_pipeline as imb_make_pipeline\\nfrom imblearn.under_sampling import RandomUnderSampler\\n\\n# algorithms/models\\nfrom sklearn.linear_model import LogisticRegression\\nfrom sklearn.linear_model import LogisticRegressionCV\\nfrom sklearn.svm import LinearSVC\\nfrom sklearn.naive_bayes import MultinomialNB\\nfrom sklearn.ensemble import RandomForestClassifier\\n\\n# model evaluation\\nfrom sklearn.model_selection import cross_val_score\\nfrom sklearn.metrics import confusion_matrix\\nfrom sklearn.metrics import (\\n    classification_report,\\n    f1_score,\\n    accuracy_score,\\n    roc_auc_score,\\n)\\n\\n# performance check\\nimport time\\nimport warnings\\n\\nwarnings.filterwarnings(\\\"ignore\\\")\\n\\n# sparse to dense\\nfrom sklearn.base import TransformerMixin\\n\\n\\nclass DenseTransformer(TransformerMixin):\\n    def fit(self, X, y=None, **fit_params):\\n        return self\\n\\n    def transform(self, X, y=None, **fit_params):\\n        return X.todense()\\n\\n\\n# saving the model\\nfrom joblib import dump\\n\\n# code formatter\\n%load_ext nb_black\";\n",
       "                var nbb_formatted_code = \"# importing dependencies here\\nimport numpy as np\\nimport pandas as pd\\n\\n# visualizations\\nimport seaborn as sns\\nimport matplotlib.pyplot as plt\\n\\n# data stratifying and splitting\\nfrom sklearn.model_selection import StratifiedKFold\\nfrom sklearn.model_selection import train_test_split\\n\\n# preprocessing\\nfrom sklearn.feature_extraction.text import TfidfVectorizer\\nfrom sklearn.feature_extraction.text import CountVectorizer\\nfrom sklearn.preprocessing import MinMaxScaler\\nfrom sklearn.pipeline import make_pipeline\\nfrom sklearn.feature_selection import f_classif\\nfrom sklearn.feature_selection import SelectKBest\\nfrom sklearn.compose import ColumnTransformer\\n\\n# class imbalance\\nfrom imblearn.pipeline import make_pipeline as imb_make_pipeline\\nfrom imblearn.under_sampling import RandomUnderSampler\\n\\n# algorithms/models\\nfrom sklearn.linear_model import LogisticRegression\\nfrom sklearn.linear_model import LogisticRegressionCV\\nfrom sklearn.svm import LinearSVC\\nfrom sklearn.naive_bayes import MultinomialNB\\nfrom sklearn.ensemble import RandomForestClassifier\\n\\n# model evaluation\\nfrom sklearn.model_selection import cross_val_score\\nfrom sklearn.metrics import confusion_matrix\\nfrom sklearn.metrics import (\\n    classification_report,\\n    f1_score,\\n    accuracy_score,\\n    roc_auc_score,\\n)\\n\\n# performance check\\nimport time\\nimport warnings\\n\\nwarnings.filterwarnings(\\\"ignore\\\")\\n\\n# sparse to dense\\nfrom sklearn.base import TransformerMixin\\n\\n\\nclass DenseTransformer(TransformerMixin):\\n    def fit(self, X, y=None, **fit_params):\\n        return self\\n\\n    def transform(self, X, y=None, **fit_params):\\n        return X.todense()\\n\\n\\n# saving the model\\nfrom joblib import dump\\n\\n# code formatter\\n%load_ext nb_black\";\n",
       "                var nbb_cells = Jupyter.notebook.get_cells();\n",
       "                for (var i = 0; i < nbb_cells.length; ++i) {\n",
       "                    if (nbb_cells[i].input_prompt_number == nbb_cell_id) {\n",
       "                        if (nbb_cells[i].get_text() == nbb_unformatted_code) {\n",
       "                             nbb_cells[i].set_text(nbb_formatted_code);\n",
       "                        }\n",
       "                        break;\n",
       "                    }\n",
       "                }\n",
       "            }, 500);\n",
       "            "
      ],
      "text/plain": [
       "<IPython.core.display.Javascript object>"
      ]
     },
     "metadata": {},
     "output_type": "display_data"
    }
   ],
   "source": [
    "# importing dependencies here\n",
    "import numpy as np\n",
    "import pandas as pd\n",
    "\n",
    "# visualizations\n",
    "import seaborn as sns\n",
    "import matplotlib.pyplot as plt\n",
    "\n",
    "# data stratifying and splitting\n",
    "from sklearn.model_selection import StratifiedKFold\n",
    "from sklearn.model_selection import train_test_split\n",
    "\n",
    "# preprocessing\n",
    "from sklearn.feature_extraction.text import TfidfVectorizer\n",
    "from sklearn.feature_extraction.text import CountVectorizer\n",
    "from sklearn.preprocessing import MinMaxScaler\n",
    "from sklearn.pipeline import make_pipeline\n",
    "from sklearn.feature_selection import f_classif\n",
    "from sklearn.feature_selection import SelectKBest\n",
    "from sklearn.compose import ColumnTransformer\n",
    "\n",
    "# class imbalance\n",
    "from imblearn.pipeline import make_pipeline as imb_make_pipeline\n",
    "from imblearn.under_sampling import RandomUnderSampler\n",
    "\n",
    "# algorithms/models\n",
    "from sklearn.linear_model import LogisticRegression\n",
    "from sklearn.linear_model import LogisticRegressionCV\n",
    "from sklearn.svm import LinearSVC\n",
    "from sklearn.naive_bayes import MultinomialNB\n",
    "from sklearn.ensemble import RandomForestClassifier\n",
    "\n",
    "# model evaluation\n",
    "from sklearn.model_selection import cross_val_score\n",
    "from sklearn.metrics import confusion_matrix\n",
    "from sklearn.metrics import (\n",
    "    classification_report,\n",
    "    f1_score,\n",
    "    accuracy_score,\n",
    "    roc_auc_score,\n",
    ")\n",
    "\n",
    "# performance check\n",
    "import time\n",
    "import warnings\n",
    "\n",
    "warnings.filterwarnings(\"ignore\")\n",
    "\n",
    "# sparse to dense\n",
    "from sklearn.base import TransformerMixin\n",
    "\n",
    "\n",
    "class DenseTransformer(TransformerMixin):\n",
    "    def fit(self, X, y=None, **fit_params):\n",
    "        return self\n",
    "\n",
    "    def transform(self, X, y=None, **fit_params):\n",
    "        return X.todense()\n",
    "\n",
    "\n",
    "# saving the model\n",
    "from joblib import dump\n",
    "\n",
    "# code formatter\n",
    "%load_ext nb_black"
   ]
  },
  {
   "cell_type": "code",
   "execution_count": 32,
   "metadata": {},
   "outputs": [
    {
     "data": {
      "application/javascript": [
       "\n",
       "            setTimeout(function() {\n",
       "                var nbb_cell_id = 32;\n",
       "                var nbb_unformatted_code = \"# reading the final datasets\\npersonality_data = pd.read_csv(\\\"data_ekta/clean_data_3.csv\\\")\";\n",
       "                var nbb_formatted_code = \"# reading the final datasets\\npersonality_data = pd.read_csv(\\\"data_ekta/clean_data_3.csv\\\")\";\n",
       "                var nbb_cells = Jupyter.notebook.get_cells();\n",
       "                for (var i = 0; i < nbb_cells.length; ++i) {\n",
       "                    if (nbb_cells[i].input_prompt_number == nbb_cell_id) {\n",
       "                        if (nbb_cells[i].get_text() == nbb_unformatted_code) {\n",
       "                             nbb_cells[i].set_text(nbb_formatted_code);\n",
       "                        }\n",
       "                        break;\n",
       "                    }\n",
       "                }\n",
       "            }, 500);\n",
       "            "
      ],
      "text/plain": [
       "<IPython.core.display.Javascript object>"
      ]
     },
     "metadata": {},
     "output_type": "display_data"
    }
   ],
   "source": [
    "# reading the final datasets\n",
    "personality_data = pd.read_csv(\"data_ekta/clean_data_3.csv\")"
   ]
  },
  {
   "cell_type": "code",
   "execution_count": 33,
   "metadata": {},
   "outputs": [
    {
     "data": {
      "text/html": [
       "<div>\n",
       "<style scoped>\n",
       "    .dataframe tbody tr th:only-of-type {\n",
       "        vertical-align: middle;\n",
       "    }\n",
       "\n",
       "    .dataframe tbody tr th {\n",
       "        vertical-align: top;\n",
       "    }\n",
       "\n",
       "    .dataframe thead th {\n",
       "        text-align: right;\n",
       "    }\n",
       "</style>\n",
       "<table border=\"1\" class=\"dataframe\">\n",
       "  <thead>\n",
       "    <tr style=\"text-align: right;\">\n",
       "      <th></th>\n",
       "      <th>type</th>\n",
       "      <th>is_Extrovert</th>\n",
       "      <th>is_Sensing</th>\n",
       "      <th>is_Thinking</th>\n",
       "      <th>is_Judging</th>\n",
       "      <th>posts</th>\n",
       "      <th>clean_posts</th>\n",
       "      <th>compound_sentiment</th>\n",
       "      <th>pos_sentiment</th>\n",
       "      <th>neg_sentiment</th>\n",
       "      <th>...</th>\n",
       "      <th>em</th>\n",
       "      <th>colons</th>\n",
       "      <th>emojis</th>\n",
       "      <th>word_count</th>\n",
       "      <th>unique_words</th>\n",
       "      <th>post_length_var</th>\n",
       "      <th>upper</th>\n",
       "      <th>link_count</th>\n",
       "      <th>ellipses</th>\n",
       "      <th>img_count</th>\n",
       "    </tr>\n",
       "  </thead>\n",
       "  <tbody>\n",
       "    <tr>\n",
       "      <th>0</th>\n",
       "      <td>INFJ</td>\n",
       "      <td>0</td>\n",
       "      <td>0</td>\n",
       "      <td>0</td>\n",
       "      <td>1</td>\n",
       "      <td>'When asked of the things you wish you did ear...</td>\n",
       "      <td>asked thing wish earlier       find answering...</td>\n",
       "      <td>0.99980</td>\n",
       "      <td>0.414667</td>\n",
       "      <td>0.136150</td>\n",
       "      <td>...</td>\n",
       "      <td>0.22</td>\n",
       "      <td>0.32</td>\n",
       "      <td>0.08</td>\n",
       "      <td>30.98</td>\n",
       "      <td>14.92</td>\n",
       "      <td>78.414931</td>\n",
       "      <td>1.46</td>\n",
       "      <td>0.04</td>\n",
       "      <td>0.62</td>\n",
       "      <td>0.0</td>\n",
       "    </tr>\n",
       "    <tr>\n",
       "      <th>1</th>\n",
       "      <td>INFJ</td>\n",
       "      <td>0</td>\n",
       "      <td>0</td>\n",
       "      <td>0</td>\n",
       "      <td>1</td>\n",
       "      <td>'I love both and they are equally important to...</td>\n",
       "      <td>love equally important  music window soul  in...</td>\n",
       "      <td>0.99995</td>\n",
       "      <td>0.596000</td>\n",
       "      <td>0.134585</td>\n",
       "      <td>...</td>\n",
       "      <td>0.36</td>\n",
       "      <td>0.14</td>\n",
       "      <td>0.00</td>\n",
       "      <td>28.58</td>\n",
       "      <td>12.72</td>\n",
       "      <td>160.744400</td>\n",
       "      <td>1.62</td>\n",
       "      <td>0.02</td>\n",
       "      <td>0.04</td>\n",
       "      <td>0.0</td>\n",
       "    </tr>\n",
       "  </tbody>\n",
       "</table>\n",
       "<p>2 rows × 126 columns</p>\n",
       "</div>"
      ],
      "text/plain": [
       "   type  is_Extrovert  is_Sensing  is_Thinking  is_Judging  \\\n",
       "0  INFJ             0           0            0           1   \n",
       "1  INFJ             0           0            0           1   \n",
       "\n",
       "                                               posts  \\\n",
       "0  'When asked of the things you wish you did ear...   \n",
       "1  'I love both and they are equally important to...   \n",
       "\n",
       "                                         clean_posts  compound_sentiment  \\\n",
       "0   asked thing wish earlier       find answering...             0.99980   \n",
       "1   love equally important  music window soul  in...             0.99995   \n",
       "\n",
       "   pos_sentiment  neg_sentiment  ...    em colons emojis  word_count  \\\n",
       "0       0.414667       0.136150  ...  0.22   0.32   0.08       30.98   \n",
       "1       0.596000       0.134585  ...  0.36   0.14   0.00       28.58   \n",
       "\n",
       "   unique_words  post_length_var  upper  link_count  ellipses  img_count  \n",
       "0         14.92        78.414931   1.46        0.04      0.62        0.0  \n",
       "1         12.72       160.744400   1.62        0.02      0.04        0.0  \n",
       "\n",
       "[2 rows x 126 columns]"
      ]
     },
     "execution_count": 33,
     "metadata": {},
     "output_type": "execute_result"
    },
    {
     "data": {
      "application/javascript": [
       "\n",
       "            setTimeout(function() {\n",
       "                var nbb_cell_id = 33;\n",
       "                var nbb_unformatted_code = \"# checking counts dataset\\npersonality_data.head(2)\";\n",
       "                var nbb_formatted_code = \"# checking counts dataset\\npersonality_data.head(2)\";\n",
       "                var nbb_cells = Jupyter.notebook.get_cells();\n",
       "                for (var i = 0; i < nbb_cells.length; ++i) {\n",
       "                    if (nbb_cells[i].input_prompt_number == nbb_cell_id) {\n",
       "                        if (nbb_cells[i].get_text() == nbb_unformatted_code) {\n",
       "                             nbb_cells[i].set_text(nbb_formatted_code);\n",
       "                        }\n",
       "                        break;\n",
       "                    }\n",
       "                }\n",
       "            }, 500);\n",
       "            "
      ],
      "text/plain": [
       "<IPython.core.display.Javascript object>"
      ]
     },
     "metadata": {},
     "output_type": "display_data"
    }
   ],
   "source": [
    "# checking counts dataset\n",
    "personality_data.head(2)"
   ]
  },
  {
   "cell_type": "markdown",
   "metadata": {},
   "source": [
    "### Setting predictors and target variable\n"
   ]
  },
  {
   "cell_type": "code",
   "execution_count": 34,
   "metadata": {},
   "outputs": [
    {
     "name": "stdout",
     "output_type": "stream",
     "text": [
      "(8588, 22)\n",
      "(8588, 4)\n"
     ]
    },
    {
     "data": {
      "application/javascript": [
       "\n",
       "            setTimeout(function() {\n",
       "                var nbb_cell_id = 34;\n",
       "                var nbb_unformatted_code = \"# setting X to clean_posts, compound sentiment score, pos tags and various other counts\\nX = personality_data[\\n    [\\n        \\\"clean_posts\\\",\\n        \\\"compound_sentiment\\\",\\n        \\\"ADJ_avg\\\",\\n        \\\"ADP_avg\\\",\\n        \\\"ADV_avg\\\",\\n        \\\"CONJ_avg\\\",\\n        \\\"DET_avg\\\",\\n        \\\"NOUN_avg\\\",\\n        \\\"NUM_avg\\\",\\n        \\\"PRT_avg\\\",\\n        \\\"PRON_avg\\\",\\n        \\\"VERB_avg\\\",\\n        \\\"qm\\\",\\n        \\\"em\\\",\\n        \\\"colons\\\",\\n        \\\"emojis\\\",\\n        \\\"word_count\\\",\\n        \\\"unique_words\\\",\\n        \\\"upper\\\",\\n        \\\"link_count\\\",\\n        \\\"ellipses\\\",\\n        \\\"img_count\\\",\\n    ]\\n]\\n\\n# setting y to four targets is_Extrovert, is_Sensing, is_Thinking, is_Judging\\ny = personality_data.iloc[:, 1:5]\\n\\n# ensuring that X and y row count matches\\nprint(X.shape)\\nprint(y.shape)\";\n",
       "                var nbb_formatted_code = \"# setting X to clean_posts, compound sentiment score, pos tags and various other counts\\nX = personality_data[\\n    [\\n        \\\"clean_posts\\\",\\n        \\\"compound_sentiment\\\",\\n        \\\"ADJ_avg\\\",\\n        \\\"ADP_avg\\\",\\n        \\\"ADV_avg\\\",\\n        \\\"CONJ_avg\\\",\\n        \\\"DET_avg\\\",\\n        \\\"NOUN_avg\\\",\\n        \\\"NUM_avg\\\",\\n        \\\"PRT_avg\\\",\\n        \\\"PRON_avg\\\",\\n        \\\"VERB_avg\\\",\\n        \\\"qm\\\",\\n        \\\"em\\\",\\n        \\\"colons\\\",\\n        \\\"emojis\\\",\\n        \\\"word_count\\\",\\n        \\\"unique_words\\\",\\n        \\\"upper\\\",\\n        \\\"link_count\\\",\\n        \\\"ellipses\\\",\\n        \\\"img_count\\\",\\n    ]\\n]\\n\\n# setting y to four targets is_Extrovert, is_Sensing, is_Thinking, is_Judging\\ny = personality_data.iloc[:, 1:5]\\n\\n# ensuring that X and y row count matches\\nprint(X.shape)\\nprint(y.shape)\";\n",
       "                var nbb_cells = Jupyter.notebook.get_cells();\n",
       "                for (var i = 0; i < nbb_cells.length; ++i) {\n",
       "                    if (nbb_cells[i].input_prompt_number == nbb_cell_id) {\n",
       "                        if (nbb_cells[i].get_text() == nbb_unformatted_code) {\n",
       "                             nbb_cells[i].set_text(nbb_formatted_code);\n",
       "                        }\n",
       "                        break;\n",
       "                    }\n",
       "                }\n",
       "            }, 500);\n",
       "            "
      ],
      "text/plain": [
       "<IPython.core.display.Javascript object>"
      ]
     },
     "metadata": {},
     "output_type": "display_data"
    }
   ],
   "source": [
    "# setting X to clean_posts, compound sentiment score, pos tags and various other counts\n",
    "X = personality_data[\n",
    "    [\n",
    "        \"clean_posts\",\n",
    "        \"compound_sentiment\",\n",
    "        \"ADJ_avg\",\n",
    "        \"ADP_avg\",\n",
    "        \"ADV_avg\",\n",
    "        \"CONJ_avg\",\n",
    "        \"DET_avg\",\n",
    "        \"NOUN_avg\",\n",
    "        \"NUM_avg\",\n",
    "        \"PRT_avg\",\n",
    "        \"PRON_avg\",\n",
    "        \"VERB_avg\",\n",
    "        \"qm\",\n",
    "        \"em\",\n",
    "        \"colons\",\n",
    "        \"emojis\",\n",
    "        \"word_count\",\n",
    "        \"unique_words\",\n",
    "        \"upper\",\n",
    "        \"link_count\",\n",
    "        \"ellipses\",\n",
    "        \"img_count\",\n",
    "    ]\n",
    "]\n",
    "\n",
    "# setting y to four targets is_Extrovert, is_Sensing, is_Thinking, is_Judging\n",
    "y = personality_data.iloc[:, 1:5]\n",
    "\n",
    "# ensuring that X and y row count matches\n",
    "print(X.shape)\n",
    "print(y.shape)"
   ]
  },
  {
   "cell_type": "markdown",
   "metadata": {},
   "source": [
    "### Creating a list of words (other than the stop words) to be dropped to improve model performanace"
   ]
  },
  {
   "cell_type": "code",
   "execution_count": 35,
   "metadata": {},
   "outputs": [
    {
     "data": {
      "application/javascript": [
       "\n",
       "            setTimeout(function() {\n",
       "                var nbb_cell_id = 35;\n",
       "                var nbb_unformatted_code = \"additional_stopwords = [\\n    \\\"hey\\\",\\n    \\\"hello\\\",\\n    \\\"briggs\\\",\\n    \\\"cat\\\",\\n    \\\"car\\\",\\n    \\\"mbti\\\",\\n    \\\"soup\\\",\\n    \\\"tea\\\",\\n    \\\"stuff\\\",\\n    \\\"gift\\\",\\n    \\\"song\\\",\\n    \\\"world\\\",\\n    \\\"type\\\",\\n]\";\n",
       "                var nbb_formatted_code = \"additional_stopwords = [\\n    \\\"hey\\\",\\n    \\\"hello\\\",\\n    \\\"briggs\\\",\\n    \\\"cat\\\",\\n    \\\"car\\\",\\n    \\\"mbti\\\",\\n    \\\"soup\\\",\\n    \\\"tea\\\",\\n    \\\"stuff\\\",\\n    \\\"gift\\\",\\n    \\\"song\\\",\\n    \\\"world\\\",\\n    \\\"type\\\",\\n]\";\n",
       "                var nbb_cells = Jupyter.notebook.get_cells();\n",
       "                for (var i = 0; i < nbb_cells.length; ++i) {\n",
       "                    if (nbb_cells[i].input_prompt_number == nbb_cell_id) {\n",
       "                        if (nbb_cells[i].get_text() == nbb_unformatted_code) {\n",
       "                             nbb_cells[i].set_text(nbb_formatted_code);\n",
       "                        }\n",
       "                        break;\n",
       "                    }\n",
       "                }\n",
       "            }, 500);\n",
       "            "
      ],
      "text/plain": [
       "<IPython.core.display.Javascript object>"
      ]
     },
     "metadata": {},
     "output_type": "display_data"
    }
   ],
   "source": [
    "additional_stopwords = [\n",
    "    \"hey\",\n",
    "    \"hello\",\n",
    "    \"briggs\",\n",
    "    \"cat\",\n",
    "    \"car\",\n",
    "    \"mbti\",\n",
    "    \"soup\",\n",
    "    \"tea\",\n",
    "    \"stuff\",\n",
    "    \"gift\",\n",
    "    \"song\",\n",
    "    \"world\",\n",
    "    \"type\",\n",
    "]"
   ]
  },
  {
   "cell_type": "markdown",
   "metadata": {},
   "source": [
    "### Setting up preprocessor for vectorization and selecting best counts and scores"
   ]
  },
  {
   "cell_type": "code",
   "execution_count": 36,
   "metadata": {},
   "outputs": [
    {
     "data": {
      "application/javascript": [
       "\n",
       "            setTimeout(function() {\n",
       "                var nbb_cell_id = 36;\n",
       "                var nbb_unformatted_code = \"# preprocessing steps for selecting best k columns/features from counts & scores and for vectorizing words\\n\\ncounts_n_scores = [\\n    \\\"compound_sentiment\\\",\\n    \\\"ADJ_avg\\\",\\n    \\\"ADP_avg\\\",\\n    \\\"ADV_avg\\\",\\n    \\\"CONJ_avg\\\",\\n    \\\"DET_avg\\\",\\n    \\\"NOUN_avg\\\",\\n    \\\"NUM_avg\\\",\\n    \\\"PRT_avg\\\",\\n    \\\"PRON_avg\\\",\\n    \\\"VERB_avg\\\",\\n    \\\"qm\\\",\\n    \\\"em\\\",\\n    \\\"colons\\\",\\n    \\\"emojis\\\",\\n    \\\"word_count\\\",\\n    \\\"unique_words\\\",\\n    \\\"upper\\\",\\n    \\\"link_count\\\",\\n    \\\"ellipses\\\",\\n    \\\"img_count\\\",\\n]\\n\\n# for selecting k best features from features other than words\\nbest_k_features = make_pipeline(MinMaxScaler(), SelectKBest(f_classif, k=10))\\n\\n# setting up preprocessing for TF-IDF vectorizer\\npreprocesser_tf = ColumnTransformer(\\n    transformers=[\\n        (\\n            \\\"tfidf\\\",\\n            TfidfVectorizer(min_df=25, max_df=0.85, stop_words=additional_stopwords),\\n            \\\"clean_posts\\\",\\n        ),\\n        (\\\"selectbest\\\", best_k_features, counts_n_scores),\\n    ],\\n    remainder=\\\"passthrough\\\",\\n)\\n\\n# setting up preprocessing for COUNT vectorizer\\npreprocesser_ct = ColumnTransformer(\\n    transformers=[\\n        (\\n            \\\"ct_vect\\\",\\n            CountVectorizer(min_df=25, max_df=0.85, stop_words=additional_stopwords),\\n            \\\"clean_posts\\\",\\n        ),\\n        (\\\"selectbest\\\", best_k_features, counts_n_scores),\\n    ],\\n    remainder=\\\"passthrough\\\",\\n)\";\n",
       "                var nbb_formatted_code = \"# preprocessing steps for selecting best k columns/features from counts & scores and for vectorizing words\\n\\ncounts_n_scores = [\\n    \\\"compound_sentiment\\\",\\n    \\\"ADJ_avg\\\",\\n    \\\"ADP_avg\\\",\\n    \\\"ADV_avg\\\",\\n    \\\"CONJ_avg\\\",\\n    \\\"DET_avg\\\",\\n    \\\"NOUN_avg\\\",\\n    \\\"NUM_avg\\\",\\n    \\\"PRT_avg\\\",\\n    \\\"PRON_avg\\\",\\n    \\\"VERB_avg\\\",\\n    \\\"qm\\\",\\n    \\\"em\\\",\\n    \\\"colons\\\",\\n    \\\"emojis\\\",\\n    \\\"word_count\\\",\\n    \\\"unique_words\\\",\\n    \\\"upper\\\",\\n    \\\"link_count\\\",\\n    \\\"ellipses\\\",\\n    \\\"img_count\\\",\\n]\\n\\n# for selecting k best features from features other than words\\nbest_k_features = make_pipeline(MinMaxScaler(), SelectKBest(f_classif, k=10))\\n\\n# setting up preprocessing for TF-IDF vectorizer\\npreprocesser_tf = ColumnTransformer(\\n    transformers=[\\n        (\\n            \\\"tfidf\\\",\\n            TfidfVectorizer(min_df=25, max_df=0.85, stop_words=additional_stopwords),\\n            \\\"clean_posts\\\",\\n        ),\\n        (\\\"selectbest\\\", best_k_features, counts_n_scores),\\n    ],\\n    remainder=\\\"passthrough\\\",\\n)\\n\\n# setting up preprocessing for COUNT vectorizer\\npreprocesser_ct = ColumnTransformer(\\n    transformers=[\\n        (\\n            \\\"ct_vect\\\",\\n            CountVectorizer(min_df=25, max_df=0.85, stop_words=additional_stopwords),\\n            \\\"clean_posts\\\",\\n        ),\\n        (\\\"selectbest\\\", best_k_features, counts_n_scores),\\n    ],\\n    remainder=\\\"passthrough\\\",\\n)\";\n",
       "                var nbb_cells = Jupyter.notebook.get_cells();\n",
       "                for (var i = 0; i < nbb_cells.length; ++i) {\n",
       "                    if (nbb_cells[i].input_prompt_number == nbb_cell_id) {\n",
       "                        if (nbb_cells[i].get_text() == nbb_unformatted_code) {\n",
       "                             nbb_cells[i].set_text(nbb_formatted_code);\n",
       "                        }\n",
       "                        break;\n",
       "                    }\n",
       "                }\n",
       "            }, 500);\n",
       "            "
      ],
      "text/plain": [
       "<IPython.core.display.Javascript object>"
      ]
     },
     "metadata": {},
     "output_type": "display_data"
    }
   ],
   "source": [
    "# preprocessing steps for selecting best k columns/features from counts & scores and for vectorizing words\n",
    "\n",
    "counts_n_scores = [\n",
    "    \"compound_sentiment\",\n",
    "    \"ADJ_avg\",\n",
    "    \"ADP_avg\",\n",
    "    \"ADV_avg\",\n",
    "    \"CONJ_avg\",\n",
    "    \"DET_avg\",\n",
    "    \"NOUN_avg\",\n",
    "    \"NUM_avg\",\n",
    "    \"PRT_avg\",\n",
    "    \"PRON_avg\",\n",
    "    \"VERB_avg\",\n",
    "    \"qm\",\n",
    "    \"em\",\n",
    "    \"colons\",\n",
    "    \"emojis\",\n",
    "    \"word_count\",\n",
    "    \"unique_words\",\n",
    "    \"upper\",\n",
    "    \"link_count\",\n",
    "    \"ellipses\",\n",
    "    \"img_count\",\n",
    "]\n",
    "\n",
    "# for selecting k best features from features other than words\n",
    "best_k_features = make_pipeline(MinMaxScaler(), SelectKBest(f_classif, k=10))\n",
    "\n",
    "# setting up preprocessing for TF-IDF vectorizer\n",
    "preprocesser_tf = ColumnTransformer(\n",
    "    transformers=[\n",
    "        (\n",
    "            \"tfidf\",\n",
    "            TfidfVectorizer(min_df=25, max_df=0.85, stop_words=additional_stopwords),\n",
    "            \"clean_posts\",\n",
    "        ),\n",
    "        (\"selectbest\", best_k_features, counts_n_scores),\n",
    "    ],\n",
    "    remainder=\"passthrough\",\n",
    ")\n",
    "\n",
    "# setting up preprocessing for COUNT vectorizer\n",
    "preprocesser_ct = ColumnTransformer(\n",
    "    transformers=[\n",
    "        (\n",
    "            \"ct_vect\",\n",
    "            CountVectorizer(min_df=25, max_df=0.85, stop_words=additional_stopwords),\n",
    "            \"clean_posts\",\n",
    "        ),\n",
    "        (\"selectbest\", best_k_features, counts_n_scores),\n",
    "    ],\n",
    "    remainder=\"passthrough\",\n",
    ")"
   ]
  },
  {
   "cell_type": "markdown",
   "metadata": {},
   "source": [
    "### Modelling"
   ]
  },
  {
   "cell_type": "code",
   "execution_count": 121,
   "metadata": {},
   "outputs": [
    {
     "data": {
      "application/javascript": [
       "\n",
       "            setTimeout(function() {\n",
       "                var nbb_cell_id = 121;\n",
       "                var nbb_unformatted_code = \"# setting up the personality dictionary for printing scores\\nmbti_type = {\\n    \\\"is_Extrovert\\\": \\\"Extrovert vs Introvert\\\",\\n    \\\"is_Sensing\\\": \\\"Sensing vs Intuition\\\",\\n    \\\"is_Thinking\\\": \\\"Thinking vs Feeling\\\",\\n    \\\"is_Judging\\\": \\\"Judging vs Perceiving\\\",\\n}\\n\\n\\nfrom imblearn.metrics import classification_report_imbalanced\\nfrom imblearn.metrics import geometric_mean_score\\nfrom imblearn.metrics import make_index_balanced_accuracy\\nfrom imblearn.metrics import sensitivity_specificity_support\\n\\nfrom sklearn.metrics import average_precision_score\\nfrom sklearn.metrics import precision_recall_curve\\nfrom sklearn.metrics import plot_precision_recall_curve\\nimport matplotlib.pyplot as plt\\n\\n\\n# function to build the model for predicting each of 4 target features\\ndef build_model(model, X, y, vectorizer_name):\\n\\n    for col in y.columns:\\n\\n        print(f\\\"\\\\n{mbti_type[col]}\\\")\\n        target = y[col]\\n\\n        X_train, X_test, y_train, y_test = train_test_split(\\n            X, target, test_size=0.2, random_state=42, stratify=target\\n        )\\n\\n        # model training\\n        model.fit(X_train, y_train)\\n\\n        y_pred = model.predict(X_test)\\n\\n        y_proba = model.predict_proba(X_test)[:, 0]\\n\\n        average_precision = average_precision_score(y_test, y_proba)\\n\\n#         print(\\\"Average precision-recall score: {0:0.2f}\\\".format(average_precision))\\n\\n        # model evaluation\\n        #         print(\\n        #             f\\\"Accuracy: {model.geometric_mean_score(y_test, y_pred, average=None)} \\\\n\\\"\\n        #         )\\n        #         print(f\\\"Accuracy: {model.score(y_test, y_pred)} \\\\n\\\")\\n        print(classification_report_imbalanced(y_test, y_pred))\\n\\n\\n#         disp = plot_precision_recall_curve(model, X_test, y_test)\\n#         disp.ax_.set_title(\\n#             \\\"2-class Precision-Recall curve: \\\" \\\"AP={0:0.2f}\\\".format(average_precision)\\n#         )\";\n",
       "                var nbb_formatted_code = \"# setting up the personality dictionary for printing scores\\nmbti_type = {\\n    \\\"is_Extrovert\\\": \\\"Extrovert vs Introvert\\\",\\n    \\\"is_Sensing\\\": \\\"Sensing vs Intuition\\\",\\n    \\\"is_Thinking\\\": \\\"Thinking vs Feeling\\\",\\n    \\\"is_Judging\\\": \\\"Judging vs Perceiving\\\",\\n}\\n\\n\\nfrom imblearn.metrics import classification_report_imbalanced\\nfrom imblearn.metrics import geometric_mean_score\\nfrom imblearn.metrics import make_index_balanced_accuracy\\nfrom imblearn.metrics import sensitivity_specificity_support\\n\\nfrom sklearn.metrics import average_precision_score\\nfrom sklearn.metrics import precision_recall_curve\\nfrom sklearn.metrics import plot_precision_recall_curve\\nimport matplotlib.pyplot as plt\\n\\n\\n# function to build the model for predicting each of 4 target features\\ndef build_model(model, X, y, vectorizer_name):\\n\\n    for col in y.columns:\\n\\n        print(f\\\"\\\\n{mbti_type[col]}\\\")\\n        target = y[col]\\n\\n        X_train, X_test, y_train, y_test = train_test_split(\\n            X, target, test_size=0.2, random_state=42, stratify=target\\n        )\\n\\n        # model training\\n        model.fit(X_train, y_train)\\n\\n        y_pred = model.predict(X_test)\\n\\n        y_proba = model.predict_proba(X_test)[:, 0]\\n\\n        average_precision = average_precision_score(y_test, y_proba)\\n\\n        #         print(\\\"Average precision-recall score: {0:0.2f}\\\".format(average_precision))\\n\\n        # model evaluation\\n        #         print(\\n        #             f\\\"Accuracy: {model.geometric_mean_score(y_test, y_pred, average=None)} \\\\n\\\"\\n        #         )\\n        #         print(f\\\"Accuracy: {model.score(y_test, y_pred)} \\\\n\\\")\\n        print(classification_report_imbalanced(y_test, y_pred))\\n\\n\\n#         disp = plot_precision_recall_curve(model, X_test, y_test)\\n#         disp.ax_.set_title(\\n#             \\\"2-class Precision-Recall curve: \\\" \\\"AP={0:0.2f}\\\".format(average_precision)\\n#         )\";\n",
       "                var nbb_cells = Jupyter.notebook.get_cells();\n",
       "                for (var i = 0; i < nbb_cells.length; ++i) {\n",
       "                    if (nbb_cells[i].input_prompt_number == nbb_cell_id) {\n",
       "                        if (nbb_cells[i].get_text() == nbb_unformatted_code) {\n",
       "                             nbb_cells[i].set_text(nbb_formatted_code);\n",
       "                        }\n",
       "                        break;\n",
       "                    }\n",
       "                }\n",
       "            }, 500);\n",
       "            "
      ],
      "text/plain": [
       "<IPython.core.display.Javascript object>"
      ]
     },
     "metadata": {},
     "output_type": "display_data"
    }
   ],
   "source": [
    "# setting up the personality dictionary for printing scores\n",
    "mbti_type = {\n",
    "    \"is_Extrovert\": \"Extrovert vs Introvert\",\n",
    "    \"is_Sensing\": \"Sensing vs Intuition\",\n",
    "    \"is_Thinking\": \"Thinking vs Feeling\",\n",
    "    \"is_Judging\": \"Judging vs Perceiving\",\n",
    "}\n",
    "\n",
    "\n",
    "from imblearn.metrics import classification_report_imbalanced\n",
    "from imblearn.metrics import geometric_mean_score\n",
    "from imblearn.metrics import make_index_balanced_accuracy\n",
    "from imblearn.metrics import sensitivity_specificity_support\n",
    "\n",
    "from sklearn.metrics import average_precision_score\n",
    "from sklearn.metrics import precision_recall_curve\n",
    "from sklearn.metrics import plot_precision_recall_curve\n",
    "import matplotlib.pyplot as plt\n",
    "\n",
    "\n",
    "# function to build the model for predicting each of 4 target features\n",
    "def build_model(model, X, y, vectorizer_name):\n",
    "\n",
    "    for col in y.columns:\n",
    "\n",
    "        print(f\"\\n{mbti_type[col]}\")\n",
    "        target = y[col]\n",
    "\n",
    "        X_train, X_test, y_train, y_test = train_test_split(\n",
    "            X, target, test_size=0.2, random_state=42, stratify=target\n",
    "        )\n",
    "\n",
    "        # model training\n",
    "        model.fit(X_train, y_train)\n",
    "\n",
    "        y_pred = model.predict(X_test)\n",
    "\n",
    "        y_proba = model.predict_proba(X_test)[:, 0]\n",
    "\n",
    "        average_precision = average_precision_score(y_test, y_proba)\n",
    "\n",
    "        #         print(\"Average precision-recall score: {0:0.2f}\".format(average_precision))\n",
    "\n",
    "        # model evaluation\n",
    "        #         print(\n",
    "        #             f\"Accuracy: {model.geometric_mean_score(y_test, y_pred, average=None)} \\n\"\n",
    "        #         )\n",
    "        #         print(f\"Accuracy: {model.score(y_test, y_pred)} \\n\")\n",
    "        print(classification_report_imbalanced(y_test, y_pred))\n",
    "\n",
    "\n",
    "#         disp = plot_precision_recall_curve(model, X_test, y_test)\n",
    "#         disp.ax_.set_title(\n",
    "#             \"2-class Precision-Recall curve: \" \"AP={0:0.2f}\".format(average_precision)\n",
    "#         )"
   ]
  },
  {
   "cell_type": "markdown",
   "metadata": {},
   "source": [
    "### TF-IDF Logistic Regression"
   ]
  },
  {
   "cell_type": "code",
   "execution_count": 122,
   "metadata": {},
   "outputs": [
    {
     "name": "stdout",
     "output_type": "stream",
     "text": [
      "\n",
      "Extrovert vs Introvert\n",
      "                   pre       rec       spe        f1       geo       iba       sup\n",
      "\n",
      "          0       0.87      0.70      0.65      0.77      0.67      0.45      1322\n",
      "          1       0.39      0.65      0.70      0.49      0.67      0.45       396\n",
      "\n",
      "avg / total       0.76      0.69      0.66      0.71      0.67      0.45      1718\n",
      "\n",
      "\n",
      "Sensing vs Intuition\n",
      "                   pre       rec       spe        f1       geo       iba       sup\n",
      "\n",
      "          0       0.94      0.69      0.72      0.80      0.71      0.50      1481\n",
      "          1       0.27      0.72      0.69      0.39      0.71      0.50       237\n",
      "\n",
      "avg / total       0.85      0.69      0.72      0.74      0.71      0.50      1718\n",
      "\n",
      "\n",
      "Thinking vs Feeling\n",
      "                   pre       rec       spe        f1       geo       iba       sup\n",
      "\n",
      "          0       0.81      0.78      0.79      0.80      0.78      0.61       929\n",
      "          1       0.75      0.79      0.78      0.77      0.78      0.62       789\n",
      "\n",
      "avg / total       0.79      0.78      0.78      0.78      0.78      0.61      1718\n",
      "\n",
      "\n",
      "Judging vs Perceiving\n",
      "                   pre       rec       spe        f1       geo       iba       sup\n",
      "\n",
      "          0       0.73      0.63      0.65      0.68      0.64      0.41      1038\n",
      "          1       0.54      0.65      0.63      0.59      0.64      0.41       680\n",
      "\n",
      "avg / total       0.66      0.64      0.64      0.64      0.64      0.41      1718\n",
      "\n",
      "Wall time: 1min 18s\n"
     ]
    },
    {
     "data": {
      "application/javascript": [
       "\n",
       "            setTimeout(function() {\n",
       "                var nbb_cell_id = 122;\n",
       "                var nbb_unformatted_code = \"%%time\\n\\ntfidf_logistic_regression = imb_make_pipeline(\\n    preprocesser_tf, RandomUnderSampler(), LogisticRegressionCV(cv=5)\\n)\\nbuild_model(tfidf_logistic_regression, X, y, \\\"tfidf\\\")\";\n",
       "                var nbb_formatted_code = \"%%time\\n\\ntfidf_logistic_regression = imb_make_pipeline(\\n    preprocesser_tf, RandomUnderSampler(), LogisticRegressionCV(cv=5)\\n)\\nbuild_model(tfidf_logistic_regression, X, y, \\\"tfidf\\\")\";\n",
       "                var nbb_cells = Jupyter.notebook.get_cells();\n",
       "                for (var i = 0; i < nbb_cells.length; ++i) {\n",
       "                    if (nbb_cells[i].input_prompt_number == nbb_cell_id) {\n",
       "                        if (nbb_cells[i].get_text() == nbb_unformatted_code) {\n",
       "                             nbb_cells[i].set_text(nbb_formatted_code);\n",
       "                        }\n",
       "                        break;\n",
       "                    }\n",
       "                }\n",
       "            }, 500);\n",
       "            "
      ],
      "text/plain": [
       "<IPython.core.display.Javascript object>"
      ]
     },
     "metadata": {},
     "output_type": "display_data"
    }
   ],
   "source": [
    "%%time\n",
    "\n",
    "tfidf_logistic_regression = imb_make_pipeline(\n",
    "    preprocesser_tf, RandomUnderSampler(), LogisticRegressionCV(cv=5)\n",
    ")\n",
    "build_model(tfidf_logistic_regression, X, y, \"tfidf\")"
   ]
  },
  {
   "cell_type": "markdown",
   "metadata": {},
   "source": [
    "### Count Vectorized Logistic Regression"
   ]
  },
  {
   "cell_type": "code",
   "execution_count": 87,
   "metadata": {},
   "outputs": [
    {
     "name": "stdout",
     "output_type": "stream",
     "text": [
      "\n",
      "Extrovert vs Introvert\n",
      "                   pre       rec       spe        f1       geo       iba       sup\n",
      "\n",
      "          0       0.87      0.69      0.65      0.77      0.67      0.45      1322\n",
      "          1       0.38      0.65      0.69      0.48      0.67      0.44       396\n",
      "\n",
      "avg / total       0.76      0.68      0.66      0.70      0.67      0.45      1718\n",
      "\n",
      "The geometric mean is 0.6676458677716186\n",
      "[0.44743809 0.44406392]\n",
      "(0.667914011522181, 0.667914011522181, None)\n",
      "\n",
      "Sensing vs Intuition\n",
      "                   pre       rec       spe        f1       geo       iba       sup\n",
      "\n",
      "          0       0.94      0.64      0.73      0.76      0.68      0.46      1481\n",
      "          1       0.24      0.73      0.64      0.36      0.68      0.47       237\n",
      "\n",
      "avg / total       0.84      0.65      0.72      0.70      0.68      0.46      1718\n",
      "\n",
      "The geometric mean is 0.6810298707947294\n",
      "[0.45941522 0.46818815]\n",
      "(0.6826696524471718, 0.6826696524471718, None)\n",
      "\n",
      "Thinking vs Feeling\n",
      "                   pre       rec       spe        f1       geo       iba       sup\n",
      "\n",
      "          0       0.80      0.76      0.78      0.78      0.77      0.59       929\n",
      "          1       0.74      0.78      0.76      0.76      0.77      0.60       789\n",
      "\n",
      "avg / total       0.77      0.77      0.77      0.77      0.77      0.59      1718\n",
      "\n",
      "The geometric mean is 0.7711999652552788\n",
      "[0.59392045 0.59557832]\n",
      "(0.7712314507470179, 0.7712314507470179, None)\n",
      "\n",
      "Judging vs Perceiving\n",
      "                   pre       rec       spe        f1       geo       iba       sup\n",
      "\n",
      "          0       0.72      0.60      0.64      0.65      0.62      0.38      1038\n",
      "          1       0.51      0.64      0.60      0.57      0.62      0.39       680\n",
      "\n",
      "avg / total       0.64      0.62      0.62      0.62      0.62      0.38      1718\n",
      "\n",
      "The geometric mean is 0.6199144222929415\n",
      "[0.38290598 0.3856818 ]\n",
      "(0.6201773773093052, 0.6201773773093052, None)\n",
      "Wall time: 1min 29s\n"
     ]
    },
    {
     "data": {
      "application/javascript": [
       "\n",
       "            setTimeout(function() {\n",
       "                var nbb_cell_id = 87;\n",
       "                var nbb_unformatted_code = \"%%time\\nct_logistic_regression = imb_make_pipeline(\\n    preprocesser_ct, RandomUnderSampler(), LogisticRegressionCV()\\n)\\nbuild_model(ct_logistic_regression, X, y, \\\"ct_vect\\\")\";\n",
       "                var nbb_formatted_code = \"%%time\\nct_logistic_regression = imb_make_pipeline(\\n    preprocesser_ct, RandomUnderSampler(), LogisticRegressionCV()\\n)\\nbuild_model(ct_logistic_regression, X, y, \\\"ct_vect\\\")\";\n",
       "                var nbb_cells = Jupyter.notebook.get_cells();\n",
       "                for (var i = 0; i < nbb_cells.length; ++i) {\n",
       "                    if (nbb_cells[i].input_prompt_number == nbb_cell_id) {\n",
       "                        if (nbb_cells[i].get_text() == nbb_unformatted_code) {\n",
       "                             nbb_cells[i].set_text(nbb_formatted_code);\n",
       "                        }\n",
       "                        break;\n",
       "                    }\n",
       "                }\n",
       "            }, 500);\n",
       "            "
      ],
      "text/plain": [
       "<IPython.core.display.Javascript object>"
      ]
     },
     "metadata": {},
     "output_type": "display_data"
    }
   ],
   "source": [
    "%%time\n",
    "ct_logistic_regression = imb_make_pipeline(\n",
    "    preprocesser_ct, RandomUnderSampler(), LogisticRegressionCV()\n",
    ")\n",
    "build_model(ct_logistic_regression, X, y, \"ct_vect\")"
   ]
  },
  {
   "cell_type": "markdown",
   "metadata": {},
   "source": [
    "### Cross Validated TF-IDF Logistic Lasso"
   ]
  },
  {
   "cell_type": "code",
   "execution_count": 10,
   "metadata": {},
   "outputs": [
    {
     "name": "stdout",
     "output_type": "stream",
     "text": [
      "\n",
      "Extrovert vs Introvert\n",
      "Accuracy: 0.6507566938300349 \n",
      "\n",
      "              precision    recall  f1-score   support\n",
      "\n",
      "           0       0.85      0.66      0.74      1322\n",
      "           1       0.35      0.61      0.45       396\n",
      "\n",
      "    accuracy                           0.65      1718\n",
      "   macro avg       0.60      0.64      0.60      1718\n",
      "weighted avg       0.74      0.65      0.68      1718\n",
      "\n",
      "\n",
      "Sensing vs Intuition\n",
      "Accuracy: 0.6536670547147846 \n",
      "\n",
      "              precision    recall  f1-score   support\n",
      "\n",
      "           0       0.93      0.64      0.76      1481\n",
      "           1       0.24      0.72      0.36       237\n",
      "\n",
      "    accuracy                           0.65      1718\n",
      "   macro avg       0.59      0.68      0.56      1718\n",
      "weighted avg       0.84      0.65      0.71      1718\n",
      "\n",
      "\n",
      "Thinking vs Feeling\n",
      "Accuracy: 0.7683352735739232 \n",
      "\n",
      "              precision    recall  f1-score   support\n",
      "\n",
      "           0       0.80      0.77      0.78       929\n",
      "           1       0.74      0.77      0.75       789\n",
      "\n",
      "    accuracy                           0.77      1718\n",
      "   macro avg       0.77      0.77      0.77      1718\n",
      "weighted avg       0.77      0.77      0.77      1718\n",
      "\n",
      "\n",
      "Judging vs Perceiving\n",
      "Accuracy: 0.6233993015133876 \n",
      "\n",
      "              precision    recall  f1-score   support\n",
      "\n",
      "           0       0.72      0.62      0.67      1038\n",
      "           1       0.52      0.63      0.57       680\n",
      "\n",
      "    accuracy                           0.62      1718\n",
      "   macro avg       0.62      0.62      0.62      1718\n",
      "weighted avg       0.64      0.62      0.63      1718\n",
      "\n",
      "Wall time: 32min 15s\n"
     ]
    },
    {
     "data": {
      "application/javascript": [
       "\n",
       "            setTimeout(function() {\n",
       "                var nbb_cell_id = 10;\n",
       "                var nbb_unformatted_code = \"%%time\\ntfidf_logistic_regression_lasso = imb_make_pipeline(\\n    preprocesser_tf, RandomUnderSampler(), LogisticRegressionCV(penalty='l1', solver='saga' )\\n)\\nbuild_model(tfidf_logistic_regression_lasso, X, y, \\\"tfidf\\\")\";\n",
       "                var nbb_formatted_code = \"%%time\\ntfidf_logistic_regression_lasso = imb_make_pipeline(\\n    preprocesser_tf, RandomUnderSampler(), LogisticRegressionCV(penalty='l1', solver='saga' )\\n)\\nbuild_model(tfidf_logistic_regression_lasso, X, y, \\\"tfidf\\\")\";\n",
       "                var nbb_cells = Jupyter.notebook.get_cells();\n",
       "                for (var i = 0; i < nbb_cells.length; ++i) {\n",
       "                    if (nbb_cells[i].input_prompt_number == nbb_cell_id) {\n",
       "                        if (nbb_cells[i].get_text() == nbb_unformatted_code) {\n",
       "                             nbb_cells[i].set_text(nbb_formatted_code);\n",
       "                        }\n",
       "                        break;\n",
       "                    }\n",
       "                }\n",
       "            }, 500);\n",
       "            "
      ],
      "text/plain": [
       "<IPython.core.display.Javascript object>"
      ]
     },
     "metadata": {},
     "output_type": "display_data"
    }
   ],
   "source": [
    "%%time\n",
    "tfidf_logistic_regression_lasso = imb_make_pipeline(\n",
    "    preprocesser_tf, RandomUnderSampler(), LogisticRegressionCV(penalty='l1', solver='saga' )\n",
    ")\n",
    "build_model(tfidf_logistic_regression_lasso, X, y, \"tfidf\")"
   ]
  },
  {
   "cell_type": "markdown",
   "metadata": {},
   "source": [
    "### Cross Validated Count Vectorized Logistic Lasso"
   ]
  },
  {
   "cell_type": "code",
   "execution_count": 11,
   "metadata": {},
   "outputs": [
    {
     "name": "stdout",
     "output_type": "stream",
     "text": [
      "\n",
      "Extrovert vs Introvert\n",
      "Accuracy: 0.6589057043073341 \n",
      "\n",
      "              precision    recall  f1-score   support\n",
      "\n",
      "           0       0.86      0.66      0.75      1322\n",
      "           1       0.36      0.64      0.46       396\n",
      "\n",
      "    accuracy                           0.66      1718\n",
      "   macro avg       0.61      0.65      0.61      1718\n",
      "weighted avg       0.75      0.66      0.68      1718\n",
      "\n",
      "\n",
      "Sensing vs Intuition\n",
      "Accuracy: 0.6338766006984866 \n",
      "\n",
      "              precision    recall  f1-score   support\n",
      "\n",
      "           0       0.92      0.63      0.75      1481\n",
      "           1       0.22      0.65      0.33       237\n",
      "\n",
      "    accuracy                           0.63      1718\n",
      "   macro avg       0.57      0.64      0.54      1718\n",
      "weighted avg       0.82      0.63      0.69      1718\n",
      "\n",
      "\n",
      "Thinking vs Feeling\n",
      "Accuracy: 0.7497089639115251 \n",
      "\n",
      "              precision    recall  f1-score   support\n",
      "\n",
      "           0       0.78      0.75      0.76       929\n",
      "           1       0.72      0.75      0.73       789\n",
      "\n",
      "    accuracy                           0.75      1718\n",
      "   macro avg       0.75      0.75      0.75      1718\n",
      "weighted avg       0.75      0.75      0.75      1718\n",
      "\n",
      "\n",
      "Judging vs Perceiving\n",
      "Accuracy: 0.6012805587892899 \n",
      "\n",
      "              precision    recall  f1-score   support\n",
      "\n",
      "           0       0.69      0.61      0.65      1038\n",
      "           1       0.50      0.59      0.54       680\n",
      "\n",
      "    accuracy                           0.60      1718\n",
      "   macro avg       0.60      0.60      0.59      1718\n",
      "weighted avg       0.62      0.60      0.61      1718\n",
      "\n",
      "Wall time: 1h 55min 23s\n"
     ]
    },
    {
     "data": {
      "application/javascript": [
       "\n",
       "            setTimeout(function() {\n",
       "                var nbb_cell_id = 11;\n",
       "                var nbb_unformatted_code = \"%%time\\nct_logistic_regression_lasso = imb_make_pipeline(\\n    preprocesser_ct, RandomUnderSampler(), LogisticRegressionCV(penalty='l1', solver='saga' )\\n)\\nbuild_model(ct_logistic_regression_lasso, X, y, \\\"ct_vect\\\")\";\n",
       "                var nbb_formatted_code = \"%%time\\nct_logistic_regression_lasso = imb_make_pipeline(\\n    preprocesser_ct, RandomUnderSampler(), LogisticRegressionCV(penalty='l1', solver='saga' )\\n)\\nbuild_model(ct_logistic_regression_lasso, X, y, \\\"ct_vect\\\")\";\n",
       "                var nbb_cells = Jupyter.notebook.get_cells();\n",
       "                for (var i = 0; i < nbb_cells.length; ++i) {\n",
       "                    if (nbb_cells[i].input_prompt_number == nbb_cell_id) {\n",
       "                        if (nbb_cells[i].get_text() == nbb_unformatted_code) {\n",
       "                             nbb_cells[i].set_text(nbb_formatted_code);\n",
       "                        }\n",
       "                        break;\n",
       "                    }\n",
       "                }\n",
       "            }, 500);\n",
       "            "
      ],
      "text/plain": [
       "<IPython.core.display.Javascript object>"
      ]
     },
     "metadata": {},
     "output_type": "display_data"
    }
   ],
   "source": [
    "%%time\n",
    "ct_logistic_regression_lasso = imb_make_pipeline(\n",
    "    preprocesser_ct, RandomUnderSampler(), LogisticRegressionCV(penalty='l1', solver='saga' )\n",
    ")\n",
    "build_model(ct_logistic_regression_lasso, X, y, \"ct_vect\")"
   ]
  },
  {
   "cell_type": "markdown",
   "metadata": {},
   "source": [
    "### Cross Validated TF-IDF Logistic Ridge"
   ]
  },
  {
   "cell_type": "code",
   "execution_count": 12,
   "metadata": {},
   "outputs": [
    {
     "name": "stdout",
     "output_type": "stream",
     "text": [
      "\n",
      "Extrovert vs Introvert\n",
      "Accuracy: 0.6763678696158324 \n",
      "\n",
      "              precision    recall  f1-score   support\n",
      "\n",
      "           0       0.87      0.68      0.76      1322\n",
      "           1       0.39      0.68      0.49       396\n",
      "\n",
      "    accuracy                           0.68      1718\n",
      "   macro avg       0.63      0.68      0.63      1718\n",
      "weighted avg       0.76      0.68      0.70      1718\n",
      "\n",
      "\n",
      "Sensing vs Intuition\n",
      "Accuracy: 0.6926658905704307 \n",
      "\n",
      "              precision    recall  f1-score   support\n",
      "\n",
      "           0       0.94      0.69      0.79      1481\n",
      "           1       0.27      0.73      0.39       237\n",
      "\n",
      "    accuracy                           0.69      1718\n",
      "   macro avg       0.61      0.71      0.59      1718\n",
      "weighted avg       0.85      0.69      0.74      1718\n",
      "\n",
      "\n",
      "Thinking vs Feeling\n",
      "Accuracy: 0.7863795110593713 \n",
      "\n",
      "              precision    recall  f1-score   support\n",
      "\n",
      "           0       0.82      0.78      0.80       929\n",
      "           1       0.75      0.79      0.77       789\n",
      "\n",
      "    accuracy                           0.79      1718\n",
      "   macro avg       0.79      0.79      0.79      1718\n",
      "weighted avg       0.79      0.79      0.79      1718\n",
      "\n",
      "\n",
      "Judging vs Perceiving\n",
      "Accuracy: 0.6507566938300349 \n",
      "\n",
      "              precision    recall  f1-score   support\n",
      "\n",
      "           0       0.74      0.66      0.69      1038\n",
      "           1       0.55      0.64      0.59       680\n",
      "\n",
      "    accuracy                           0.65      1718\n",
      "   macro avg       0.64      0.65      0.64      1718\n",
      "weighted avg       0.66      0.65      0.65      1718\n",
      "\n",
      "Wall time: 2h 12min 51s\n"
     ]
    },
    {
     "data": {
      "application/javascript": [
       "\n",
       "            setTimeout(function() {\n",
       "                var nbb_cell_id = 12;\n",
       "                var nbb_unformatted_code = \"%%time\\ntfidf_logistic_regression_ridge = imb_make_pipeline(\\n    preprocesser_tf, RandomUnderSampler(), LogisticRegressionCV(penalty='l2', solver='saga' )\\n)\\nbuild_model(tfidf_logistic_regression_ridge, X, y, \\\"tfidf\\\")\";\n",
       "                var nbb_formatted_code = \"%%time\\ntfidf_logistic_regression_ridge = imb_make_pipeline(\\n    preprocesser_tf, RandomUnderSampler(), LogisticRegressionCV(penalty='l2', solver='saga' )\\n)\\nbuild_model(tfidf_logistic_regression_ridge, X, y, \\\"tfidf\\\")\";\n",
       "                var nbb_cells = Jupyter.notebook.get_cells();\n",
       "                for (var i = 0; i < nbb_cells.length; ++i) {\n",
       "                    if (nbb_cells[i].input_prompt_number == nbb_cell_id) {\n",
       "                        if (nbb_cells[i].get_text() == nbb_unformatted_code) {\n",
       "                             nbb_cells[i].set_text(nbb_formatted_code);\n",
       "                        }\n",
       "                        break;\n",
       "                    }\n",
       "                }\n",
       "            }, 500);\n",
       "            "
      ],
      "text/plain": [
       "<IPython.core.display.Javascript object>"
      ]
     },
     "metadata": {},
     "output_type": "display_data"
    }
   ],
   "source": [
    "%%time\n",
    "tfidf_logistic_regression_ridge = imb_make_pipeline(\n",
    "    preprocesser_tf, RandomUnderSampler(), LogisticRegressionCV(penalty='l2', solver='saga' )\n",
    ")\n",
    "build_model(tfidf_logistic_regression_ridge, X, y, \"tfidf\")"
   ]
  },
  {
   "cell_type": "markdown",
   "metadata": {},
   "source": [
    "### Cross Validated Count Vectorized Logistic Ridge"
   ]
  },
  {
   "cell_type": "code",
   "execution_count": 13,
   "metadata": {},
   "outputs": [
    {
     "name": "stdout",
     "output_type": "stream",
     "text": [
      "\n",
      "Extrovert vs Introvert\n",
      "Accuracy: 0.6542491268917345 \n",
      "\n",
      "              precision    recall  f1-score   support\n",
      "\n",
      "           0       0.85      0.66      0.75      1322\n",
      "           1       0.36      0.62      0.45       396\n",
      "\n",
      "    accuracy                           0.65      1718\n",
      "   macro avg       0.61      0.64      0.60      1718\n",
      "weighted avg       0.74      0.65      0.68      1718\n",
      "\n",
      "\n",
      "Sensing vs Intuition\n",
      "Accuracy: 0.6629802095459837 \n",
      "\n",
      "              precision    recall  f1-score   support\n",
      "\n",
      "           0       0.93      0.66      0.77      1481\n",
      "           1       0.25      0.71      0.37       237\n",
      "\n",
      "    accuracy                           0.66      1718\n",
      "   macro avg       0.59      0.68      0.57      1718\n",
      "weighted avg       0.84      0.66      0.71      1718\n",
      "\n",
      "\n",
      "Thinking vs Feeling\n",
      "Accuracy: 0.7747380675203726 \n",
      "\n",
      "              precision    recall  f1-score   support\n",
      "\n",
      "           0       0.80      0.77      0.79       929\n",
      "           1       0.74      0.78      0.76       789\n",
      "\n",
      "    accuracy                           0.77      1718\n",
      "   macro avg       0.77      0.77      0.77      1718\n",
      "weighted avg       0.78      0.77      0.78      1718\n",
      "\n",
      "\n",
      "Judging vs Perceiving\n",
      "Accuracy: 0.6181606519208381 \n",
      "\n",
      "              precision    recall  f1-score   support\n",
      "\n",
      "           0       0.71      0.62      0.66      1038\n",
      "           1       0.51      0.62      0.56       680\n",
      "\n",
      "    accuracy                           0.62      1718\n",
      "   macro avg       0.61      0.62      0.61      1718\n",
      "weighted avg       0.63      0.62      0.62      1718\n",
      "\n",
      "Wall time: 2h 41min 37s\n"
     ]
    },
    {
     "data": {
      "application/javascript": [
       "\n",
       "            setTimeout(function() {\n",
       "                var nbb_cell_id = 13;\n",
       "                var nbb_unformatted_code = \"%%time\\nct_logistic_regression_ridge = imb_make_pipeline(\\n    preprocesser_ct, RandomUnderSampler(), LogisticRegressionCV(penalty='l2', solver='saga' )\\n)\\nbuild_model(ct_logistic_regression_ridge, X, y, \\\"ct_vect\\\")\";\n",
       "                var nbb_formatted_code = \"%%time\\nct_logistic_regression_ridge = imb_make_pipeline(\\n    preprocesser_ct, RandomUnderSampler(), LogisticRegressionCV(penalty='l2', solver='saga' )\\n)\\nbuild_model(ct_logistic_regression_ridge, X, y, \\\"ct_vect\\\")\";\n",
       "                var nbb_cells = Jupyter.notebook.get_cells();\n",
       "                for (var i = 0; i < nbb_cells.length; ++i) {\n",
       "                    if (nbb_cells[i].input_prompt_number == nbb_cell_id) {\n",
       "                        if (nbb_cells[i].get_text() == nbb_unformatted_code) {\n",
       "                             nbb_cells[i].set_text(nbb_formatted_code);\n",
       "                        }\n",
       "                        break;\n",
       "                    }\n",
       "                }\n",
       "            }, 500);\n",
       "            "
      ],
      "text/plain": [
       "<IPython.core.display.Javascript object>"
      ]
     },
     "metadata": {},
     "output_type": "display_data"
    }
   ],
   "source": [
    "%%time\n",
    "ct_logistic_regression_ridge = imb_make_pipeline(\n",
    "    preprocesser_ct, RandomUnderSampler(), LogisticRegressionCV(penalty='l2', solver='saga' )\n",
    ")\n",
    "build_model(ct_logistic_regression_ridge, X, y, \"ct_vect\")"
   ]
  },
  {
   "cell_type": "markdown",
   "metadata": {},
   "source": [
    "### TF-IDF Logistic Elasticnet"
   ]
  },
  {
   "cell_type": "markdown",
   "metadata": {},
   "source": [
    "* Takes longest to run and the results are almost same as lasso and ridge model. So this code is commented to save time when re-running the entire notebook."
   ]
  },
  {
   "cell_type": "code",
   "execution_count": 14,
   "metadata": {},
   "outputs": [
    {
     "data": {
      "application/javascript": [
       "\n",
       "            setTimeout(function() {\n",
       "                var nbb_cell_id = 14;\n",
       "                var nbb_unformatted_code = \"# %%time\\n\\n# for col in y.columns:\\n\\n#     print(f\\\"\\\\n{mbti_type[col]}\\\")\\n\\n#     target = y[col]\\n\\n#     X_train, X_test, y_train, y_test = train_test_split(\\n#         X, target, test_size=0.2, random_state=42, stratify=target\\n#     )\\n\\n#     tfidf_logistic_regression_elasticnet = imb_make_pipeline(\\n#         preprocesser_tf,\\n#     #     DenseTransformer(),\\n#         RandomUnderSampler(),\\n#         LogisticRegressionCV(\\n#             penalty='elasticnet',\\n#             l1_ratios=[0, .1, .2, .3, .4, .5, .6, .7, .8, .9, 1],\\n#             solver='saga'\\n#         )\\n#     )\\n\\n#     tfidf_logistic_regression_elasticnet.fit(X_train, y_train)\\n\\n#     print(f'Accuracy: {tfidf_logistic_regression_elasticnet.score(X_test, y_test)} \\\\n')\\n#     print(classification_report(y_test, tfidf_logistic_regression_elasticnet.predict(X_test)))\";\n",
       "                var nbb_formatted_code = \"# %%time\\n\\n# for col in y.columns:\\n\\n#     print(f\\\"\\\\n{mbti_type[col]}\\\")\\n\\n#     target = y[col]\\n\\n#     X_train, X_test, y_train, y_test = train_test_split(\\n#         X, target, test_size=0.2, random_state=42, stratify=target\\n#     )\\n\\n#     tfidf_logistic_regression_elasticnet = imb_make_pipeline(\\n#         preprocesser_tf,\\n#     #     DenseTransformer(),\\n#         RandomUnderSampler(),\\n#         LogisticRegressionCV(\\n#             penalty='elasticnet',\\n#             l1_ratios=[0, .1, .2, .3, .4, .5, .6, .7, .8, .9, 1],\\n#             solver='saga'\\n#         )\\n#     )\\n\\n#     tfidf_logistic_regression_elasticnet.fit(X_train, y_train)\\n\\n#     print(f'Accuracy: {tfidf_logistic_regression_elasticnet.score(X_test, y_test)} \\\\n')\\n#     print(classification_report(y_test, tfidf_logistic_regression_elasticnet.predict(X_test)))\";\n",
       "                var nbb_cells = Jupyter.notebook.get_cells();\n",
       "                for (var i = 0; i < nbb_cells.length; ++i) {\n",
       "                    if (nbb_cells[i].input_prompt_number == nbb_cell_id) {\n",
       "                        if (nbb_cells[i].get_text() == nbb_unformatted_code) {\n",
       "                             nbb_cells[i].set_text(nbb_formatted_code);\n",
       "                        }\n",
       "                        break;\n",
       "                    }\n",
       "                }\n",
       "            }, 500);\n",
       "            "
      ],
      "text/plain": [
       "<IPython.core.display.Javascript object>"
      ]
     },
     "metadata": {},
     "output_type": "display_data"
    }
   ],
   "source": [
    "# %%time\n",
    "\n",
    "# for col in y.columns:\n",
    "\n",
    "#     print(f\"\\n{mbti_type[col]}\")\n",
    "\n",
    "#     target = y[col]\n",
    "\n",
    "#     X_train, X_test, y_train, y_test = train_test_split(\n",
    "#         X, target, test_size=0.2, random_state=42, stratify=target\n",
    "#     )\n",
    "\n",
    "#     tfidf_logistic_regression_elasticnet = imb_make_pipeline(\n",
    "#         preprocesser_tf,\n",
    "#     #     DenseTransformer(),\n",
    "#         RandomUnderSampler(),\n",
    "#         LogisticRegressionCV(\n",
    "#             penalty='elasticnet',\n",
    "#             l1_ratios=[0, .1, .2, .3, .4, .5, .6, .7, .8, .9, 1],\n",
    "#             solver='saga'\n",
    "#         )\n",
    "#     )\n",
    "\n",
    "#     tfidf_logistic_regression_elasticnet.fit(X_train, y_train)\n",
    "\n",
    "#     print(f'Accuracy: {tfidf_logistic_regression_elasticnet.score(X_test, y_test)} \\n')\n",
    "#     print(classification_report(y_test, tfidf_logistic_regression_elasticnet.predict(X_test)))"
   ]
  },
  {
   "cell_type": "markdown",
   "metadata": {},
   "source": [
    "### TF-IDF Support Vector Classifier"
   ]
  },
  {
   "cell_type": "code",
   "execution_count": 15,
   "metadata": {},
   "outputs": [
    {
     "name": "stdout",
     "output_type": "stream",
     "text": [
      "\n",
      "Extrovert vs Introvert\n",
      "Accuracy: 0.6647264260768335 \n",
      "\n",
      "              precision    recall  f1-score   support\n",
      "\n",
      "           0       0.87      0.66      0.75      1322\n",
      "           1       0.37      0.67      0.48       396\n",
      "\n",
      "    accuracy                           0.66      1718\n",
      "   macro avg       0.62      0.67      0.62      1718\n",
      "weighted avg       0.76      0.66      0.69      1718\n",
      "\n",
      "\n",
      "Sensing vs Intuition\n",
      "Accuracy: 0.6664726426076834 \n",
      "\n",
      "              precision    recall  f1-score   support\n",
      "\n",
      "           0       0.93      0.66      0.77      1481\n",
      "           1       0.25      0.70      0.37       237\n",
      "\n",
      "    accuracy                           0.67      1718\n",
      "   macro avg       0.59      0.68      0.57      1718\n",
      "weighted avg       0.84      0.67      0.72      1718\n",
      "\n",
      "\n",
      "Thinking vs Feeling\n",
      "Accuracy: 0.7718277066356228 \n",
      "\n",
      "              precision    recall  f1-score   support\n",
      "\n",
      "           0       0.80      0.77      0.79       929\n",
      "           1       0.74      0.77      0.76       789\n",
      "\n",
      "    accuracy                           0.77      1718\n",
      "   macro avg       0.77      0.77      0.77      1718\n",
      "weighted avg       0.77      0.77      0.77      1718\n",
      "\n",
      "\n",
      "Judging vs Perceiving\n",
      "Accuracy: 0.6210710128055879 \n",
      "\n",
      "              precision    recall  f1-score   support\n",
      "\n",
      "           0       0.72      0.61      0.66      1038\n",
      "           1       0.52      0.64      0.57       680\n",
      "\n",
      "    accuracy                           0.62      1718\n",
      "   macro avg       0.62      0.62      0.62      1718\n",
      "weighted avg       0.64      0.62      0.63      1718\n",
      "\n",
      "Wall time: 37min 20s\n"
     ]
    },
    {
     "data": {
      "application/javascript": [
       "\n",
       "            setTimeout(function() {\n",
       "                var nbb_cell_id = 15;\n",
       "                var nbb_unformatted_code = \"%%time\\ntfidf_svc = imb_make_pipeline(\\n    preprocesser_tf, RandomUnderSampler(), DenseTransformer(), LinearSVC()\\n)\\nbuild_model(tfidf_svc, X, y, \\\"tfidf\\\")\";\n",
       "                var nbb_formatted_code = \"%%time\\ntfidf_svc = imb_make_pipeline(\\n    preprocesser_tf, RandomUnderSampler(), DenseTransformer(), LinearSVC()\\n)\\nbuild_model(tfidf_svc, X, y, \\\"tfidf\\\")\";\n",
       "                var nbb_cells = Jupyter.notebook.get_cells();\n",
       "                for (var i = 0; i < nbb_cells.length; ++i) {\n",
       "                    if (nbb_cells[i].input_prompt_number == nbb_cell_id) {\n",
       "                        if (nbb_cells[i].get_text() == nbb_unformatted_code) {\n",
       "                             nbb_cells[i].set_text(nbb_formatted_code);\n",
       "                        }\n",
       "                        break;\n",
       "                    }\n",
       "                }\n",
       "            }, 500);\n",
       "            "
      ],
      "text/plain": [
       "<IPython.core.display.Javascript object>"
      ]
     },
     "metadata": {},
     "output_type": "display_data"
    }
   ],
   "source": [
    "%%time\n",
    "tfidf_svc = imb_make_pipeline(\n",
    "    preprocesser_tf, RandomUnderSampler(), DenseTransformer(), LinearSVC()\n",
    ")\n",
    "build_model(tfidf_svc, X, y, \"tfidf\")"
   ]
  },
  {
   "cell_type": "markdown",
   "metadata": {},
   "source": [
    "### Count Vectorized Support Vector Classifier"
   ]
  },
  {
   "cell_type": "code",
   "execution_count": 16,
   "metadata": {},
   "outputs": [
    {
     "name": "stdout",
     "output_type": "stream",
     "text": [
      "\n",
      "Extrovert vs Introvert\n",
      "Accuracy: 0.6088474970896391 \n",
      "\n",
      "              precision    recall  f1-score   support\n",
      "\n",
      "           0       0.84      0.61      0.71      1322\n",
      "           1       0.32      0.60      0.42       396\n",
      "\n",
      "    accuracy                           0.61      1718\n",
      "   macro avg       0.58      0.61      0.56      1718\n",
      "weighted avg       0.72      0.61      0.64      1718\n",
      "\n",
      "\n",
      "Sensing vs Intuition\n",
      "Accuracy: 0.6123399301513388 \n",
      "\n",
      "              precision    recall  f1-score   support\n",
      "\n",
      "           0       0.91      0.61      0.73      1481\n",
      "           1       0.20      0.62      0.31       237\n",
      "\n",
      "    accuracy                           0.61      1718\n",
      "   macro avg       0.56      0.62      0.52      1718\n",
      "weighted avg       0.81      0.61      0.67      1718\n",
      "\n",
      "\n",
      "Thinking vs Feeling\n",
      "Accuracy: 0.7223515715948777 \n",
      "\n",
      "              precision    recall  f1-score   support\n",
      "\n",
      "           0       0.75      0.73      0.74       929\n",
      "           1       0.69      0.71      0.70       789\n",
      "\n",
      "    accuracy                           0.72      1718\n",
      "   macro avg       0.72      0.72      0.72      1718\n",
      "weighted avg       0.72      0.72      0.72      1718\n",
      "\n",
      "\n",
      "Judging vs Perceiving\n",
      "Accuracy: 0.5942956926658906 \n",
      "\n",
      "              precision    recall  f1-score   support\n",
      "\n",
      "           0       0.70      0.58      0.64      1038\n",
      "           1       0.49      0.61      0.54       680\n",
      "\n",
      "    accuracy                           0.59      1718\n",
      "   macro avg       0.59      0.60      0.59      1718\n",
      "weighted avg       0.61      0.59      0.60      1718\n",
      "\n",
      "Wall time: 28.1 s\n"
     ]
    },
    {
     "data": {
      "application/javascript": [
       "\n",
       "            setTimeout(function() {\n",
       "                var nbb_cell_id = 16;\n",
       "                var nbb_unformatted_code = \"%%time\\nct_svc = imb_make_pipeline(\\n    preprocesser_ct, DenseTransformer(), RandomUnderSampler(), LinearSVC()\\n)\\nbuild_model(ct_svc, X, y, \\\"ct_vect\\\")\";\n",
       "                var nbb_formatted_code = \"%%time\\nct_svc = imb_make_pipeline(\\n    preprocesser_ct, DenseTransformer(), RandomUnderSampler(), LinearSVC()\\n)\\nbuild_model(ct_svc, X, y, \\\"ct_vect\\\")\";\n",
       "                var nbb_cells = Jupyter.notebook.get_cells();\n",
       "                for (var i = 0; i < nbb_cells.length; ++i) {\n",
       "                    if (nbb_cells[i].input_prompt_number == nbb_cell_id) {\n",
       "                        if (nbb_cells[i].get_text() == nbb_unformatted_code) {\n",
       "                             nbb_cells[i].set_text(nbb_formatted_code);\n",
       "                        }\n",
       "                        break;\n",
       "                    }\n",
       "                }\n",
       "            }, 500);\n",
       "            "
      ],
      "text/plain": [
       "<IPython.core.display.Javascript object>"
      ]
     },
     "metadata": {},
     "output_type": "display_data"
    }
   ],
   "source": [
    "%%time\n",
    "ct_svc = imb_make_pipeline(\n",
    "    preprocesser_ct, DenseTransformer(), RandomUnderSampler(), LinearSVC()\n",
    ")\n",
    "build_model(ct_svc, X, y, \"ct_vect\")"
   ]
  },
  {
   "cell_type": "markdown",
   "metadata": {},
   "source": [
    "### TF-IDF Naive Bayes"
   ]
  },
  {
   "cell_type": "code",
   "execution_count": 17,
   "metadata": {},
   "outputs": [
    {
     "name": "stdout",
     "output_type": "stream",
     "text": [
      "\n",
      "Extrovert vs Introvert\n",
      "Accuracy: 0.6670547147846333 \n",
      "\n",
      "              precision    recall  f1-score   support\n",
      "\n",
      "           0       0.89      0.65      0.75      1322\n",
      "           1       0.38      0.74      0.51       396\n",
      "\n",
      "    accuracy                           0.67      1718\n",
      "   macro avg       0.64      0.69      0.63      1718\n",
      "weighted avg       0.78      0.67      0.69      1718\n",
      "\n",
      "\n",
      "Sensing vs Intuition\n",
      "Accuracy: 0.640279394644936 \n",
      "\n",
      "              precision    recall  f1-score   support\n",
      "\n",
      "           0       0.95      0.62      0.75      1481\n",
      "           1       0.25      0.78      0.37       237\n",
      "\n",
      "    accuracy                           0.64      1718\n",
      "   macro avg       0.60      0.70      0.56      1718\n",
      "weighted avg       0.85      0.64      0.70      1718\n",
      "\n",
      "\n",
      "Thinking vs Feeling\n",
      "Accuracy: 0.7660069848661234 \n",
      "\n",
      "              precision    recall  f1-score   support\n",
      "\n",
      "           0       0.77      0.81      0.79       929\n",
      "           1       0.76      0.71      0.74       789\n",
      "\n",
      "    accuracy                           0.77      1718\n",
      "   macro avg       0.77      0.76      0.76      1718\n",
      "weighted avg       0.77      0.77      0.77      1718\n",
      "\n",
      "\n",
      "Judging vs Perceiving\n",
      "Accuracy: 0.6181606519208381 \n",
      "\n",
      "              precision    recall  f1-score   support\n",
      "\n",
      "           0       0.72      0.60      0.65      1038\n",
      "           1       0.51      0.65      0.57       680\n",
      "\n",
      "    accuracy                           0.62      1718\n",
      "   macro avg       0.62      0.62      0.61      1718\n",
      "weighted avg       0.64      0.62      0.62      1718\n",
      "\n",
      "Wall time: 45min 26s\n"
     ]
    },
    {
     "data": {
      "application/javascript": [
       "\n",
       "            setTimeout(function() {\n",
       "                var nbb_cell_id = 17;\n",
       "                var nbb_unformatted_code = \"%%time\\ntfidf_nb = imb_make_pipeline(\\n    preprocesser_tf, DenseTransformer(), RandomUnderSampler(), MultinomialNB(),\\n)\\nbuild_model(tfidf_nb, X, y, \\\"tfidf\\\")\";\n",
       "                var nbb_formatted_code = \"%%time\\ntfidf_nb = imb_make_pipeline(\\n    preprocesser_tf, DenseTransformer(), RandomUnderSampler(), MultinomialNB(),\\n)\\nbuild_model(tfidf_nb, X, y, \\\"tfidf\\\")\";\n",
       "                var nbb_cells = Jupyter.notebook.get_cells();\n",
       "                for (var i = 0; i < nbb_cells.length; ++i) {\n",
       "                    if (nbb_cells[i].input_prompt_number == nbb_cell_id) {\n",
       "                        if (nbb_cells[i].get_text() == nbb_unformatted_code) {\n",
       "                             nbb_cells[i].set_text(nbb_formatted_code);\n",
       "                        }\n",
       "                        break;\n",
       "                    }\n",
       "                }\n",
       "            }, 500);\n",
       "            "
      ],
      "text/plain": [
       "<IPython.core.display.Javascript object>"
      ]
     },
     "metadata": {},
     "output_type": "display_data"
    }
   ],
   "source": [
    "%%time\n",
    "tfidf_nb = imb_make_pipeline(\n",
    "    preprocesser_tf, DenseTransformer(), RandomUnderSampler(), MultinomialNB(),\n",
    ")\n",
    "build_model(tfidf_nb, X, y, \"tfidf\")"
   ]
  },
  {
   "cell_type": "markdown",
   "metadata": {},
   "source": [
    "### Count Vectorized Naive Bayes"
   ]
  },
  {
   "cell_type": "code",
   "execution_count": 18,
   "metadata": {},
   "outputs": [
    {
     "name": "stdout",
     "output_type": "stream",
     "text": [
      "\n",
      "Extrovert vs Introvert\n",
      "Accuracy: 0.6816065192083819 \n",
      "\n",
      "              precision    recall  f1-score   support\n",
      "\n",
      "           0       0.89      0.67      0.76      1322\n",
      "           1       0.40      0.72      0.51       396\n",
      "\n",
      "    accuracy                           0.68      1718\n",
      "   macro avg       0.64      0.69      0.64      1718\n",
      "weighted avg       0.77      0.68      0.71      1718\n",
      "\n",
      "\n",
      "Sensing vs Intuition\n",
      "Accuracy: 0.6862630966239813 \n",
      "\n",
      "              precision    recall  f1-score   support\n",
      "\n",
      "           0       0.95      0.68      0.79      1481\n",
      "           1       0.27      0.76      0.40       237\n",
      "\n",
      "    accuracy                           0.69      1718\n",
      "   macro avg       0.61      0.72      0.59      1718\n",
      "weighted avg       0.85      0.69      0.73      1718\n",
      "\n",
      "\n",
      "Thinking vs Feeling\n",
      "Accuracy: 0.7712456344586729 \n",
      "\n",
      "              precision    recall  f1-score   support\n",
      "\n",
      "           0       0.79      0.78      0.79       929\n",
      "           1       0.75      0.76      0.75       789\n",
      "\n",
      "    accuracy                           0.77      1718\n",
      "   macro avg       0.77      0.77      0.77      1718\n",
      "weighted avg       0.77      0.77      0.77      1718\n",
      "\n",
      "\n",
      "Judging vs Perceiving\n",
      "Accuracy: 0.6309662398137369 \n",
      "\n",
      "              precision    recall  f1-score   support\n",
      "\n",
      "           0       0.72      0.63      0.67      1038\n",
      "           1       0.53      0.63      0.57       680\n",
      "\n",
      "    accuracy                           0.63      1718\n",
      "   macro avg       0.63      0.63      0.62      1718\n",
      "weighted avg       0.65      0.63      0.63      1718\n",
      "\n",
      "Wall time: 21 s\n"
     ]
    },
    {
     "data": {
      "application/javascript": [
       "\n",
       "            setTimeout(function() {\n",
       "                var nbb_cell_id = 18;\n",
       "                var nbb_unformatted_code = \"%%time\\nct_nb = imb_make_pipeline(\\n    preprocesser_ct, DenseTransformer(), RandomUnderSampler(), MultinomialNB(),\\n)\\nbuild_model(ct_nb, X, y, \\\"ct_vect\\\")\";\n",
       "                var nbb_formatted_code = \"%%time\\nct_nb = imb_make_pipeline(\\n    preprocesser_ct, DenseTransformer(), RandomUnderSampler(), MultinomialNB(),\\n)\\nbuild_model(ct_nb, X, y, \\\"ct_vect\\\")\";\n",
       "                var nbb_cells = Jupyter.notebook.get_cells();\n",
       "                for (var i = 0; i < nbb_cells.length; ++i) {\n",
       "                    if (nbb_cells[i].input_prompt_number == nbb_cell_id) {\n",
       "                        if (nbb_cells[i].get_text() == nbb_unformatted_code) {\n",
       "                             nbb_cells[i].set_text(nbb_formatted_code);\n",
       "                        }\n",
       "                        break;\n",
       "                    }\n",
       "                }\n",
       "            }, 500);\n",
       "            "
      ],
      "text/plain": [
       "<IPython.core.display.Javascript object>"
      ]
     },
     "metadata": {},
     "output_type": "display_data"
    }
   ],
   "source": [
    "%%time\n",
    "ct_nb = imb_make_pipeline(\n",
    "    preprocesser_ct, DenseTransformer(), RandomUnderSampler(), MultinomialNB(),\n",
    ")\n",
    "build_model(ct_nb, X, y, \"ct_vect\")"
   ]
  },
  {
   "cell_type": "markdown",
   "metadata": {},
   "source": [
    "### Count Vectorized Random Forest"
   ]
  },
  {
   "cell_type": "code",
   "execution_count": 19,
   "metadata": {},
   "outputs": [
    {
     "name": "stdout",
     "output_type": "stream",
     "text": [
      "\n",
      "Extrovert vs Introvert\n",
      "Accuracy: 0.6495925494761351 \n",
      "\n",
      "              precision    recall  f1-score   support\n",
      "\n",
      "           0       0.86      0.65      0.74      1322\n",
      "           1       0.36      0.64      0.46       396\n",
      "\n",
      "    accuracy                           0.65      1718\n",
      "   macro avg       0.61      0.65      0.60      1718\n",
      "weighted avg       0.74      0.65      0.68      1718\n",
      "\n",
      "\n",
      "Sensing vs Intuition\n",
      "Accuracy: 0.6164144353899884 \n",
      "\n",
      "              precision    recall  f1-score   support\n",
      "\n",
      "           0       0.92      0.61      0.73      1481\n",
      "           1       0.21      0.65      0.32       237\n",
      "\n",
      "    accuracy                           0.62      1718\n",
      "   macro avg       0.56      0.63      0.53      1718\n",
      "weighted avg       0.82      0.62      0.68      1718\n",
      "\n",
      "\n",
      "Thinking vs Feeling\n",
      "Accuracy: 0.7374854481955763 \n",
      "\n",
      "              precision    recall  f1-score   support\n",
      "\n",
      "           0       0.78      0.71      0.75       929\n",
      "           1       0.69      0.77      0.73       789\n",
      "\n",
      "    accuracy                           0.74      1718\n",
      "   macro avg       0.74      0.74      0.74      1718\n",
      "weighted avg       0.74      0.74      0.74      1718\n",
      "\n",
      "\n",
      "Judging vs Perceiving\n",
      "Accuracy: 0.6129220023282888 \n",
      "\n",
      "              precision    recall  f1-score   support\n",
      "\n",
      "           0       0.70      0.64      0.66      1038\n",
      "           1       0.51      0.58      0.54       680\n",
      "\n",
      "    accuracy                           0.61      1718\n",
      "   macro avg       0.60      0.61      0.60      1718\n",
      "weighted avg       0.62      0.61      0.62      1718\n",
      "\n",
      "Wall time: 26 s\n"
     ]
    },
    {
     "data": {
      "application/javascript": [
       "\n",
       "            setTimeout(function() {\n",
       "                var nbb_cell_id = 19;\n",
       "                var nbb_unformatted_code = \"%%time\\nct_rf = imb_make_pipeline(\\n    preprocesser_ct, RandomUnderSampler(), RandomForestClassifier(n_estimators=100, max_depth=10),\\n)\\nbuild_model(ct_rf, X, y, \\\"ct_vect\\\")\";\n",
       "                var nbb_formatted_code = \"%%time\\nct_rf = imb_make_pipeline(\\n    preprocesser_ct, RandomUnderSampler(), RandomForestClassifier(n_estimators=100, max_depth=10),\\n)\\nbuild_model(ct_rf, X, y, \\\"ct_vect\\\")\";\n",
       "                var nbb_cells = Jupyter.notebook.get_cells();\n",
       "                for (var i = 0; i < nbb_cells.length; ++i) {\n",
       "                    if (nbb_cells[i].input_prompt_number == nbb_cell_id) {\n",
       "                        if (nbb_cells[i].get_text() == nbb_unformatted_code) {\n",
       "                             nbb_cells[i].set_text(nbb_formatted_code);\n",
       "                        }\n",
       "                        break;\n",
       "                    }\n",
       "                }\n",
       "            }, 500);\n",
       "            "
      ],
      "text/plain": [
       "<IPython.core.display.Javascript object>"
      ]
     },
     "metadata": {},
     "output_type": "display_data"
    }
   ],
   "source": [
    "%%time\n",
    "ct_rf = imb_make_pipeline(\n",
    "    preprocesser_ct, RandomUnderSampler(), RandomForestClassifier(n_estimators=100, max_depth=10),\n",
    ")\n",
    "build_model(ct_rf, X, y, \"ct_vect\")"
   ]
  },
  {
   "cell_type": "markdown",
   "metadata": {},
   "source": [
    "### TF-IDF Random Forest"
   ]
  },
  {
   "cell_type": "code",
   "execution_count": 20,
   "metadata": {},
   "outputs": [
    {
     "name": "stdout",
     "output_type": "stream",
     "text": [
      "\n",
      "Extrovert vs Introvert\n",
      "Accuracy: 0.6332945285215367 \n",
      "\n",
      "              precision    recall  f1-score   support\n",
      "\n",
      "           0       0.84      0.65      0.73      1322\n",
      "           1       0.33      0.59      0.43       396\n",
      "\n",
      "    accuracy                           0.63      1718\n",
      "   macro avg       0.59      0.62      0.58      1718\n",
      "weighted avg       0.72      0.63      0.66      1718\n",
      "\n",
      "\n",
      "Sensing vs Intuition\n",
      "Accuracy: 0.6030267753201397 \n",
      "\n",
      "              precision    recall  f1-score   support\n",
      "\n",
      "           0       0.91      0.60      0.72      1481\n",
      "           1       0.20      0.64      0.31       237\n",
      "\n",
      "    accuracy                           0.60      1718\n",
      "   macro avg       0.56      0.62      0.51      1718\n",
      "weighted avg       0.81      0.60      0.66      1718\n",
      "\n",
      "\n",
      "Thinking vs Feeling\n",
      "Accuracy: 0.7369033760186263 \n",
      "\n",
      "              precision    recall  f1-score   support\n",
      "\n",
      "           0       0.78      0.72      0.75       929\n",
      "           1       0.70      0.76      0.73       789\n",
      "\n",
      "    accuracy                           0.74      1718\n",
      "   macro avg       0.74      0.74      0.74      1718\n",
      "weighted avg       0.74      0.74      0.74      1718\n",
      "\n",
      "\n",
      "Judging vs Perceiving\n",
      "Accuracy: 0.5844004656577415 \n",
      "\n",
      "              precision    recall  f1-score   support\n",
      "\n",
      "           0       0.68      0.58      0.63      1038\n",
      "           1       0.48      0.59      0.53       680\n",
      "\n",
      "    accuracy                           0.58      1718\n",
      "   macro avg       0.58      0.59      0.58      1718\n",
      "weighted avg       0.60      0.58      0.59      1718\n",
      "\n",
      "Wall time: 55min 37s\n"
     ]
    },
    {
     "data": {
      "application/javascript": [
       "\n",
       "            setTimeout(function() {\n",
       "                var nbb_cell_id = 20;\n",
       "                var nbb_unformatted_code = \"%%time\\ntfidf_rf = imb_make_pipeline(\\n    preprocesser_tf, DenseTransformer(),\\n        RandomUnderSampler(),\\n        RandomForestClassifier(n_estimators=100, max_depth=10),\\n)\\nbuild_model(tfidf_rf, X, y, \\\"tfidf\\\")\";\n",
       "                var nbb_formatted_code = \"%%time\\ntfidf_rf = imb_make_pipeline(\\n    preprocesser_tf, DenseTransformer(),\\n        RandomUnderSampler(),\\n        RandomForestClassifier(n_estimators=100, max_depth=10),\\n)\\nbuild_model(tfidf_rf, X, y, \\\"tfidf\\\")\";\n",
       "                var nbb_cells = Jupyter.notebook.get_cells();\n",
       "                for (var i = 0; i < nbb_cells.length; ++i) {\n",
       "                    if (nbb_cells[i].input_prompt_number == nbb_cell_id) {\n",
       "                        if (nbb_cells[i].get_text() == nbb_unformatted_code) {\n",
       "                             nbb_cells[i].set_text(nbb_formatted_code);\n",
       "                        }\n",
       "                        break;\n",
       "                    }\n",
       "                }\n",
       "            }, 500);\n",
       "            "
      ],
      "text/plain": [
       "<IPython.core.display.Javascript object>"
      ]
     },
     "metadata": {},
     "output_type": "display_data"
    }
   ],
   "source": [
    "%%time\n",
    "tfidf_rf = imb_make_pipeline(\n",
    "    preprocesser_tf, DenseTransformer(),\n",
    "        RandomUnderSampler(),\n",
    "        RandomForestClassifier(n_estimators=100, max_depth=10),\n",
    ")\n",
    "build_model(tfidf_rf, X, y, \"tfidf\")"
   ]
  },
  {
   "cell_type": "markdown",
   "metadata": {},
   "source": [
    "### Final Model - Logistic Regression with TF-IDF Vectorization\n",
    "\n",
    "Selecting Logistic Regression as our final model as it returned the highest accuracy, precision and recall values as compared to other models."
   ]
  },
  {
   "cell_type": "code",
   "execution_count": 21,
   "metadata": {},
   "outputs": [
    {
     "name": "stdout",
     "output_type": "stream",
     "text": [
      "\n",
      "Extrovert vs Introvert\n",
      "                 coef\n",
      "word                 \n",
      "fun          3.889903\n",
      "challenge    2.956400\n",
      "mind        -2.743550\n",
      "dream       -2.737475\n",
      "guy          2.713099\n",
      "business     2.623424\n",
      "bored        2.588717\n",
      "let          2.574890\n",
      "afraid      -2.409387\n",
      "instinctual  2.398216\n",
      "lol          2.317554\n",
      "feel        -2.289807\n",
      "family      -2.286703\n",
      "every       -2.259804\n",
      "adhd         2.239768\n",
      "super        2.202419\n",
      "dated        2.160443\n",
      "awesome      2.158488\n",
      "ego          2.115290\n",
      "whether     -2.102483\n",
      "excited      2.082127\n",
      "\n",
      "Sensing vs Intuition\n",
      "               coef\n",
      "word               \n",
      "rant       2.665819\n",
      "many      -2.612259\n",
      "usually    2.309507\n",
      "feel      -2.251257\n",
      "dark      -2.181819\n",
      "human     -2.170489\n",
      "inferior   2.084684\n",
      "enneagram  2.054450\n",
      "idea      -2.040612\n",
      "need       2.013330\n",
      "sensor     2.005373\n",
      "hmm       -1.996828\n",
      "fun        1.973302\n",
      "everyone  -1.898741\n",
      "rave       1.894881\n",
      "class      1.841746\n",
      "brain     -1.831733\n",
      "writing   -1.827711\n",
      "new        1.772779\n",
      "universe  -1.772470\n",
      "dunno      1.729945\n",
      "\n",
      "Thinking vs Feeling\n",
      "               coef\n",
      "word               \n",
      "feel      -6.716192\n",
      "female     5.063769\n",
      "love      -4.732561\n",
      "beautiful -4.167563\n",
      "emotion    4.062142\n",
      "feeling   -3.867569\n",
      "plan       3.770468\n",
      "boring     3.671009\n",
      "idealist  -3.578662\n",
      "knowledge  3.281038\n",
      "dream     -3.226219\n",
      "value     -3.204630\n",
      "shy       -3.196285\n",
      "life      -3.164863\n",
      "answer     3.084596\n",
      "stupid     3.043562\n",
      "others    -3.028219\n",
      "heart     -3.008202\n",
      "wish      -2.981210\n",
      "debate     2.965538\n",
      "sad       -2.925448\n",
      "\n",
      "Judging vs Perceiving\n",
      "                 coef\n",
      "word                 \n",
      "plan         4.257947\n",
      "cold         3.633848\n",
      "help         3.390692\n",
      "fuck        -3.325125\n",
      "intuition    3.214486\n",
      "others       3.186800\n",
      "lazy        -3.070710\n",
      "idea        -2.834764\n",
      "possibility -2.658684\n",
      "emotion     -2.556683\n",
      "thinker     -2.545071\n",
      "rant         2.530148\n",
      "control      2.515156\n",
      "parent      -2.504510\n",
      "jawz         2.499355\n",
      "drink        2.478535\n",
      "theory      -2.473707\n",
      "rave         2.456194\n",
      "ideal       -2.446736\n",
      "chaotic     -2.433705\n",
      "hitler       2.425245\n",
      "Wall time: 44min 3s\n"
     ]
    },
    {
     "data": {
      "image/png": "[encoded data removed]",
      "text/plain": [
       "<Figure size 432x288 with 1 Axes>"
      ]
     },
     "metadata": {
      "needs_background": "light"
     },
     "output_type": "display_data"
    },
    {
     "data": {
      "image/png": "[encoded data removed]",
      "text/plain": [
       "<Figure size 432x288 with 1 Axes>"
      ]
     },
     "metadata": {
      "needs_background": "light"
     },
     "output_type": "display_data"
    },
    {
     "data": {
      "image/png": "[encoded data removed]",
      "text/plain": [
       "<Figure size 432x288 with 1 Axes>"
      ]
     },
     "metadata": {
      "needs_background": "light"
     },
     "output_type": "display_data"
    },
    {
     "data": {
      "image/png": "[encoded data removed]",
      "text/plain": [
       "<Figure size 432x288 with 1 Axes>"
      ]
     },
     "metadata": {
      "needs_background": "light"
     },
     "output_type": "display_data"
    },
    {
     "data": {
      "application/javascript": [
       "\n",
       "            setTimeout(function() {\n",
       "                var nbb_cell_id = 21;\n",
       "                var nbb_unformatted_code = \"%%time\\n\\nfor col in y.columns:\\n    \\n    print(f\\\"\\\\n{mbti_type[col]}\\\")\\n\\n    target = y[col]\\n\\n    tfidf_logistic_regression = imb_make_pipeline(\\n        preprocesser_tf,\\n        RandomUnderSampler(),\\n        LogisticRegressionCV()\\n    )\\n    \\n    # training the data on entire dataset\\n    tfidf_logistic_regression.fit(X, target)\\n    \\n    # feature importance   \\n    coef = tfidf_logistic_regression[-1].coef_[0]  \\n    word = tfidf_logistic_regression[0].named_transformers_['tfidf'].get_feature_names()\\n    word_list = list(zip(word, coef))         \\n    result = pd.DataFrame(word_list, columns=['word', 'coef']).set_index('word')    \\n    result = result.reindex(result.coef.abs().sort_values(ascending=False).index)[0:21]\\n    print(result)\\n    \\n    # plotting feature importance\\n    result[\\\"coef\\\"] = result[\\\"coef\\\"].apply(lambda x: abs(x))\\n    result.sort_values(\\\"coef\\\", inplace=True)\\n    result.plot(kind=\\\"barh\\\", color=\\\"#61BED6\\\", title=mbti_type[col])\\n  \\n    # saving the model\\n    dump(tfidf_logistic_regression, f\\\"clf_{col}.joblib\\\")\";\n",
       "                var nbb_formatted_code = \"%%time\\n\\nfor col in y.columns:\\n    \\n    print(f\\\"\\\\n{mbti_type[col]}\\\")\\n\\n    target = y[col]\\n\\n    tfidf_logistic_regression = imb_make_pipeline(\\n        preprocesser_tf,\\n        RandomUnderSampler(),\\n        LogisticRegressionCV()\\n    )\\n    \\n    # training the data on entire dataset\\n    tfidf_logistic_regression.fit(X, target)\\n    \\n    # feature importance   \\n    coef = tfidf_logistic_regression[-1].coef_[0]  \\n    word = tfidf_logistic_regression[0].named_transformers_['tfidf'].get_feature_names()\\n    word_list = list(zip(word, coef))         \\n    result = pd.DataFrame(word_list, columns=['word', 'coef']).set_index('word')    \\n    result = result.reindex(result.coef.abs().sort_values(ascending=False).index)[0:21]\\n    print(result)\\n    \\n    # plotting feature importance\\n    result[\\\"coef\\\"] = result[\\\"coef\\\"].apply(lambda x: abs(x))\\n    result.sort_values(\\\"coef\\\", inplace=True)\\n    result.plot(kind=\\\"barh\\\", color=\\\"#61BED6\\\", title=mbti_type[col])\\n  \\n    # saving the model\\n    dump(tfidf_logistic_regression, f\\\"clf_{col}.joblib\\\")\";\n",
       "                var nbb_cells = Jupyter.notebook.get_cells();\n",
       "                for (var i = 0; i < nbb_cells.length; ++i) {\n",
       "                    if (nbb_cells[i].input_prompt_number == nbb_cell_id) {\n",
       "                        if (nbb_cells[i].get_text() == nbb_unformatted_code) {\n",
       "                             nbb_cells[i].set_text(nbb_formatted_code);\n",
       "                        }\n",
       "                        break;\n",
       "                    }\n",
       "                }\n",
       "            }, 500);\n",
       "            "
      ],
      "text/plain": [
       "<IPython.core.display.Javascript object>"
      ]
     },
     "metadata": {},
     "output_type": "display_data"
    }
   ],
   "source": [
    "%%time\n",
    "\n",
    "for col in y.columns:\n",
    "    \n",
    "    print(f\"\\n{mbti_type[col]}\")\n",
    "\n",
    "    target = y[col]\n",
    "\n",
    "    tfidf_logistic_regression = imb_make_pipeline(\n",
    "        preprocesser_tf,\n",
    "        RandomUnderSampler(),\n",
    "        LogisticRegressionCV()\n",
    "    )\n",
    "    \n",
    "    # training the data on entire dataset\n",
    "    tfidf_logistic_regression.fit(X, target)\n",
    "    \n",
    "    # feature importance   \n",
    "    coef = tfidf_logistic_regression[-1].coef_[0]  \n",
    "    word = tfidf_logistic_regression[0].named_transformers_['tfidf'].get_feature_names()\n",
    "    word_list = list(zip(word, coef))         \n",
    "    result = pd.DataFrame(word_list, columns=['word', 'coef']).set_index('word')    \n",
    "    result = result.reindex(result.coef.abs().sort_values(ascending=False).index)[0:21]\n",
    "    print(result)\n",
    "    \n",
    "    # plotting feature importance\n",
    "    result[\"coef\"] = result[\"coef\"].apply(lambda x: abs(x))\n",
    "    result.sort_values(\"coef\", inplace=True)\n",
    "    result.plot(kind=\"barh\", color=\"#61BED6\", title=mbti_type[col])\n",
    "  \n",
    "    # saving the model\n",
    "    dump(tfidf_logistic_regression, f\"clf_{col}.joblib\")"
   ]
  },
  {
   "cell_type": "code",
   "execution_count": null,
   "metadata": {},
   "outputs": [],
   "source": []
  }
 ],
 "metadata": {
  "kernelspec": {
   "display_name": "project3",
   "language": "python",
   "name": "project3"
  },
  "language_info": {
   "codemirror_mode": {
    "name": "ipython",
    "version": 3
   },
   "file_extension": ".py",
   "mimetype": "text/x-python",
   "name": "python",
   "nbconvert_exporter": "python",
   "pygments_lexer": "ipython3",
   "version": "3.7.5"
  }
 },
 "nbformat": 4,
 "nbformat_minor": 4
}
