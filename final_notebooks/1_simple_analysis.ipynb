{
 "cells": [
  {
   "cell_type": "code",
   "execution_count": 1,
   "metadata": {},
   "outputs": [],
   "source": [
    "import pandas as pd\n",
    "import re\n",
    "import os"
   ]
  },
  {
   "cell_type": "code",
   "execution_count": 2,
   "metadata": {},
   "outputs": [],
   "source": [
    "#Variables\n",
    "data_path = os.path.join('data')\n",
    "img_path = os.path.join('static','images')\n",
    "re_link = re.compile(r\"(https?:?\\/\\/)?(www[1-3]?.?)?((([a-zA-Z0-9\\-]*)\\.?)*)\")"
   ]
  },
  {
   "cell_type": "code",
   "execution_count": 3,
   "metadata": {},
   "outputs": [],
   "source": [
    "def unique_words(s):\n",
    "    unique = set(s.split(' ')) \n",
    "    return len(unique)\n",
    "\n",
    "def emojis(post):\n",
    "    # does not include emojis made purely from symbols, only :word:\n",
    "    emoji_count = 0\n",
    "    words = post.split()\n",
    "    for e in words:\n",
    "        if 'http' not in e:\n",
    "            if e.count(':')==2:\n",
    "                emoji_count+=1\n",
    "    return emoji_count\n",
    "\n",
    "def colons(post):\n",
    "    # Includes colons used in emojis\n",
    "    colon_count = 0\n",
    "    words = post.split()\n",
    "    for e in words:\n",
    "        if 'http' not in e:\n",
    "            colon_count+=e.count(':')\n",
    "    return colon_count"
   ]
  },
  {
   "cell_type": "code",
   "execution_count": 4,
   "metadata": {},
   "outputs": [],
   "source": [
    "#Pull in csv\n",
    "mbti_user = pd.read_csv(os.path.join(data_path,'mbti_1.csv'))"
   ]
  },
  {
   "cell_type": "markdown",
   "metadata": {},
   "source": [
    "## Split posts into individual rows"
   ]
  },
  {
   "cell_type": "code",
   "execution_count": 5,
   "metadata": {},
   "outputs": [],
   "source": [
    "posts = mbti_user.apply(lambda x: pd.Series(x['posts'].split('|||')), axis=1).stack().reset_index(level=1, drop=True)\n",
    "posts.name = 'post'\n",
    "mbti_post = mbti_user[['type']].join(posts)\n",
    "mbti_post['post'] = pd.Series(mbti_post['post'], dtype=object)\n",
    "mbti_post = mbti_post.reset_index().rename(columns={'index':'id'})"
   ]
  },
  {
   "cell_type": "markdown",
   "metadata": {},
   "source": [
    "## Cleaning Posts"
   ]
  },
  {
   "cell_type": "code",
   "execution_count": 6,
   "metadata": {},
   "outputs": [],
   "source": [
    "#Replace links with domains\n",
    "mbti_post['clean_post'] = mbti_post['post'].str.replace(\n",
    "    re.compile(r\"https?:\\/\\/(www)?.?([A-Za-z_0-9-]+).*\"),\n",
    "    lambda match: match.group(2)\n",
    "    )"
   ]
  },
  {
   "cell_type": "code",
   "execution_count": 7,
   "metadata": {},
   "outputs": [],
   "source": [
    "# replacing emails with space\n",
    "mbti_post[\"clean_post\"] = mbti_post[\"clean_post\"].str.replace(\n",
    "    re.compile(r\"\\S+@\\S+\"), \" \"\n",
    "    )"
   ]
  },
  {
   "cell_type": "code",
   "execution_count": 8,
   "metadata": {},
   "outputs": [],
   "source": [
    "# converting posts into lower case\n",
    "mbti_post[\"clean_post\"] = mbti_post[\"clean_post\"].str.lower()"
   ]
  },
  {
   "cell_type": "code",
   "execution_count": 9,
   "metadata": {},
   "outputs": [],
   "source": [
    "# replacing MBTIs with space\n",
    "mbti = [\"INFP\", \"INFJ\", \"INTP\", \"INTJ\", \"ENTP\", \"enfp\", \"ISTP\", \"ISFP\", \"ENTJ\", \"ISTJ\", \"ENFJ\", \"ISFJ\", \"ESTP\", \"ESFP\", \"ESFJ\", \"ESTJ\"]\n",
    "\n",
    "for type_word in mbti:\n",
    "    mbti_post[\"clean_post\"] = mbti_post[\"clean_post\"].str.replace(\n",
    "        type_word.lower(), \" \")\n",
    "#     personality_data[\"clean_posts\"] = personality_data[\"clean_posts\"].str.replace(\n",
    "#         type_word, \" \")"
   ]
  },
  {
   "cell_type": "markdown",
   "metadata": {},
   "source": [
    "## Some counts"
   ]
  },
  {
   "cell_type": "code",
   "execution_count": 10,
   "metadata": {},
   "outputs": [],
   "source": [
    "#Splitting out the different personality elements\n",
    "mbti_post['is_extrovert'] = mbti_post['type'].apply(lambda s : 1 if s[0] == 'E' else 0)\n",
    "mbti_post['is_sensor'] = mbti_post['type'].apply(lambda s : 1 if s[1] == 'S' else 0)\n",
    "mbti_post['is_thinker'] = mbti_post['type'].apply(lambda s : 1 if s[2] == 'T' else 0)\n",
    "mbti_post['is_judger'] = mbti_post['type'].apply(lambda s : 1 if s[3] == 'J' else 0)"
   ]
  },
  {
   "cell_type": "code",
   "execution_count": 11,
   "metadata": {},
   "outputs": [],
   "source": [
    "#Counting grammer\n",
    "mbti_post[\"upper\"] = mbti_post[\"post\"].apply(lambda x: len(\n",
    "                        [x for x in x.split() if x.isupper()]))\n",
    "mbti_post['char_count'] = mbti_post['clean_post'].apply(len)\n",
    "mbti_post['qm'] = mbti_post['clean_post'].apply(lambda s : s.count('?'))\n",
    "mbti_post['em'] = mbti_post['clean_post'].apply(lambda s : s.count('!'))\n",
    "mbti_post['colons'] = mbti_post['clean_post'].apply(colons)\n",
    "mbti_post['emojis'] = mbti_post['clean_post'].apply(emojis)\n",
    "# counting ellipses per post \n",
    "mbti_post['ellipses'] = [len(re.findall(r'\\.\\.\\.\\ ', post)) for post in mbti_post['clean_post']]"
   ]
  },
  {
   "cell_type": "code",
   "execution_count": 12,
   "metadata": {},
   "outputs": [],
   "source": [
    "#Counting words\n",
    "mbti_post['unique_words'] = mbti_post['clean_post'].apply(unique_words)\n",
    "mbti_post['word_count'] = mbti_post['clean_post'].apply(lambda s : s.count(' ')+1)"
   ]
  },
  {
   "cell_type": "code",
   "execution_count": 13,
   "metadata": {},
   "outputs": [],
   "source": [
    "#Counting links\n",
    "mbti_post['link_count'] = mbti_post['post'].apply(lambda s : s.count('http'))\n",
    "mbti_post['youtube_link'] = mbti_post['post'].apply(lambda s : s.count('youtube') + s.count('youtu.be'))\n",
    "\n",
    "# counting images per post \n",
    "mbti_post[\"img_count\"] = [len(re.findall(r\"(\\.jpg)|(\\.jpeg)|(\\.gif)|(\\.png)\", post))\n",
    "                  for post in mbti_post[\"post\"]]"
   ]
  },
  {
   "cell_type": "markdown",
   "metadata": {},
   "source": [
    "## Remove some rows"
   ]
  },
  {
   "cell_type": "code",
   "execution_count": 14,
   "metadata": {},
   "outputs": [
    {
     "data": {
      "text/html": [
       "<div>\n",
       "<style scoped>\n",
       "    .dataframe tbody tr th:only-of-type {\n",
       "        vertical-align: middle;\n",
       "    }\n",
       "\n",
       "    .dataframe tbody tr th {\n",
       "        vertical-align: top;\n",
       "    }\n",
       "\n",
       "    .dataframe thead th {\n",
       "        text-align: right;\n",
       "    }\n",
       "</style>\n",
       "<table border=\"1\" class=\"dataframe\">\n",
       "  <thead>\n",
       "    <tr style=\"text-align: right;\">\n",
       "      <th></th>\n",
       "      <th>id</th>\n",
       "      <th>type</th>\n",
       "      <th>post</th>\n",
       "      <th>clean_post</th>\n",
       "      <th>is_extrovert</th>\n",
       "      <th>is_sensor</th>\n",
       "      <th>is_thinker</th>\n",
       "      <th>is_judger</th>\n",
       "      <th>upper</th>\n",
       "      <th>char_count</th>\n",
       "      <th>qm</th>\n",
       "      <th>em</th>\n",
       "      <th>colons</th>\n",
       "      <th>emojis</th>\n",
       "      <th>ellipses</th>\n",
       "      <th>unique_words</th>\n",
       "      <th>word_count</th>\n",
       "      <th>link_count</th>\n",
       "      <th>youtube_link</th>\n",
       "      <th>img_count</th>\n",
       "    </tr>\n",
       "  </thead>\n",
       "  <tbody>\n",
       "    <tr>\n",
       "      <th>0</th>\n",
       "      <td>0</td>\n",
       "      <td>INFJ</td>\n",
       "      <td>enfp and intj moments  https://www.youtube.com...</td>\n",
       "      <td>and   moments  youtube</td>\n",
       "      <td>0</td>\n",
       "      <td>0</td>\n",
       "      <td>0</td>\n",
       "      <td>1</td>\n",
       "      <td>0</td>\n",
       "      <td>24</td>\n",
       "      <td>0</td>\n",
       "      <td>0</td>\n",
       "      <td>0</td>\n",
       "      <td>0</td>\n",
       "      <td>0</td>\n",
       "      <td>4</td>\n",
       "      <td>8</td>\n",
       "      <td>2</td>\n",
       "      <td>2</td>\n",
       "      <td>0</td>\n",
       "    </tr>\n",
       "    <tr>\n",
       "      <th>1</th>\n",
       "      <td>0</td>\n",
       "      <td>INFJ</td>\n",
       "      <td>What has been the most life-changing experienc...</td>\n",
       "      <td>what has been the most life-changing experienc...</td>\n",
       "      <td>0</td>\n",
       "      <td>0</td>\n",
       "      <td>0</td>\n",
       "      <td>1</td>\n",
       "      <td>0</td>\n",
       "      <td>61</td>\n",
       "      <td>1</td>\n",
       "      <td>0</td>\n",
       "      <td>0</td>\n",
       "      <td>0</td>\n",
       "      <td>0</td>\n",
       "      <td>10</td>\n",
       "      <td>10</td>\n",
       "      <td>0</td>\n",
       "      <td>0</td>\n",
       "      <td>0</td>\n",
       "    </tr>\n",
       "  </tbody>\n",
       "</table>\n",
       "</div>"
      ],
      "text/plain": [
       "   id  type                                               post  \\\n",
       "0   0  INFJ  enfp and intj moments  https://www.youtube.com...   \n",
       "1   0  INFJ  What has been the most life-changing experienc...   \n",
       "\n",
       "                                          clean_post  is_extrovert  is_sensor  \\\n",
       "0                             and   moments  youtube             0          0   \n",
       "1  what has been the most life-changing experienc...             0          0   \n",
       "\n",
       "   is_thinker  is_judger  upper  char_count  qm  em  colons  emojis  ellipses  \\\n",
       "0           0          1      0          24   0   0       0       0         0   \n",
       "1           0          1      0          61   1   0       0       0         0   \n",
       "\n",
       "   unique_words  word_count  link_count  youtube_link  img_count  \n",
       "0             4           8           2             2          0  \n",
       "1            10          10           0             0          0  "
      ]
     },
     "execution_count": 14,
     "metadata": {},
     "output_type": "execute_result"
    }
   ],
   "source": [
    "mbti_post.drop(mbti_post[mbti_post[\"word_count\"] < 3].index, inplace=True)\n",
    "mbti_post.reset_index(drop=True, inplace=True)\n",
    "mbti_post.head(2)"
   ]
  },
  {
   "cell_type": "markdown",
   "metadata": {},
   "source": [
    "## Export data to csv"
   ]
  },
  {
   "cell_type": "code",
   "execution_count": 15,
   "metadata": {},
   "outputs": [],
   "source": [
    "mbti_post.to_csv(os.path.join(data_path,'mbti_phase1.csv'))"
   ]
  },
  {
   "cell_type": "code",
   "execution_count": null,
   "metadata": {},
   "outputs": [],
   "source": []
  }
 ],
 "metadata": {
  "kernelspec": {
   "display_name": "mbti",
   "language": "python",
   "name": "python3"
  },
  "language_info": {
   "codemirror_mode": {
    "name": "ipython",
    "version": 3
   },
   "file_extension": ".py",
   "mimetype": "text/x-python",
   "name": "python",
   "nbconvert_exporter": "python",
   "pygments_lexer": "ipython3",
   "version": "3.7.4"
  }
 },
 "nbformat": 4,
 "nbformat_minor": 4
}
